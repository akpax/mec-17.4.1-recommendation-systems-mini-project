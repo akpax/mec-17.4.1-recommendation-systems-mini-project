{
 "cells": [
  {
   "cell_type": "markdown",
   "metadata": {
    "colab_type": "text",
    "id": "KkqlbEEvsHuw"
   },
   "source": [
    "# Recommendation Systems"
   ]
  },
  {
   "cell_type": "markdown",
   "metadata": {
    "colab_type": "text",
    "id": "JXCjew2ItepU"
   },
   "source": [
    "Companies like Amazon(books, items), Netflix(movies), Google(News,Search), and Pandora/Spotify(music) leverage recommendation systems to help users discover new and relevant items (products, videos, jobs, music), creating a delightful user experience while driving incremental revenue. \n",
    "\n",
    "The need to build robust recommendation systems is extremely important given the huge demand for personalized content of modern consumers.\n"
   ]
  },
  {
   "cell_type": "markdown",
   "metadata": {
    "colab_type": "text",
    "id": "_lc420j2uhwZ"
   },
   "source": [
    "In this assignment, you will be applying your learning of recommendation systems in this Unit towards building the following four different types of recommendation systems:\n",
    "\n",
    "1.   Global Recommendation Systems (Statistical)   \n",
    "2.   Content-based Recommendation Systems\n",
    "3.   Collaborative Filtering (User-Item) Recommendation Systems\n",
    "4.   Hybrid Recommendation Systems\n",
    "\n",
    "The focus of the mini-project here would be to build a movie recommendation system.\n"
   ]
  },
  {
   "cell_type": "markdown",
   "metadata": {
    "colab_type": "text",
    "id": "CL3nuM_Kv17_"
   },
   "source": [
    "## 1. Dataset Acquisition\n",
    "\n",
    "Following are the key descriptions of the datasets you will be using. The data used here has been compiled from various movie datasets like Netflix and IMDb.\n",
    "\n",
    "1. __Filename: `movie_titles.csv`:__\n",
    "\n",
    "  - __`MovieID`__: MovieID does not correspond to actual Netflix movie ids or IMDB movie ids\n",
    "  - __`YearOfRelease`__: YearOfRelease can range from 1890 to 2005 and may correspond to the release of corresponding DVD, not necessarily its theaterical release\n",
    "  - __`Title`__: Title is the Netflix movie title and may not correspond to titles used on other sites. Titles are in English\n",
    "\n",
    "\n",
    "2. __Combined User-Ratings Dataset Description - `combined_data.csv`:__\n",
    "\n",
    "  - The first line of the contains the movie id followed by a colon.    \n",
    "  - Each subsequent line in the file corresponds to a rating from a customer and its date in the following format:\n",
    "\n",
    "    - MovieIDs range from 1 to 17770 sequentially.\n",
    "    - CustomerIDs range from 1 to 2649429, with gaps. There are 480189 users. \n",
    "    - Ratings are on a five star (integral) scale from 1 to 5.\n",
    "    - Dates have the format YYYY-MM-DD.\n",
    "\n",
    "\n",
    "3. __Filename: `movies_metadata.csv`__\n",
    "\n",
    "The main Movies Metadata file. Contains information on 45,000 movies featured in the Full MovieLens dataset. Features include posters, backdrops, budget, revenue, release dates, languages, production countries and companies.\n"
   ]
  },
  {
   "cell_type": "markdown",
   "metadata": {
    "colab_type": "text",
    "id": "aaic3a2Cw0T5"
   },
   "source": [
    "## 2: Import Necessary Dependencies\n",
    "\n",
    "We will be leveraging __`keras`__ on top of __`tensorflow`__ for building some of the collaborative filtering and hybrid models. There are compatibility issues with handling sparse layers with dense layers till now in TensorFlow 2 hence we are leveraging native Keras but in the long run once this issue is resolved we can leverage __`tf.keras`__ with minimal code updates."
   ]
  },
  {
   "cell_type": "code",
   "execution_count": 1,
   "metadata": {
    "colab": {},
    "colab_type": "code",
    "id": "iX9t8rYaxVGh"
   },
   "outputs": [],
   "source": [
    "# filter out unncessary warnings\n",
    "import warnings\n",
    "warnings.filterwarnings('ignore')"
   ]
  },
  {
   "cell_type": "code",
   "execution_count": 2,
   "metadata": {
    "colab": {
     "base_uri": "https://localhost:8080/",
     "height": 79
    },
    "colab_type": "code",
    "id": "JGWCPwAiP7vv",
    "outputId": "a0320c9e-dfa3-49e3-bf35-2095bce263d8"
   },
   "outputs": [],
   "source": [
    "%matplotlib inline\n",
    "# To store\\load the data\n",
    "import pandas as pd\n",
    "\n",
    "# To do linear algebra\n",
    "import numpy as np\n",
    "\n",
    "# To create plots\n",
    "import matplotlib.pyplot as plt\n",
    "import seaborn as sns\n",
    "\n",
    "\n",
    "# To compute similarities between vectors\n",
    "from sklearn.metrics import mean_squared_error\n",
    "from sklearn.metrics.pairwise import cosine_similarity\n",
    "from sklearn.feature_extraction.text import TfidfVectorizer\n",
    "\n",
    "# data load progress bars\n",
    "from tqdm import tqdm\n",
    "\n",
    "from collections import deque\n",
    "\n",
    "# To create deep learning models\n",
    "import tensorflow as tf\n",
    "import keras\n",
    "from keras.layers import Input, Embedding, Reshape, Dot, Concatenate, Dense, Dropout\n",
    "from keras.models import Model\n",
    "\n",
    "# To stack sparse matrices\n",
    "from scipy.sparse import vstack"
   ]
  },
  {
   "cell_type": "code",
   "execution_count": 3,
   "metadata": {
    "colab": {},
    "colab_type": "code",
    "id": "whZc1FgzyPyY"
   },
   "outputs": [],
   "source": [
    "# remove unnecessary TF logs\n",
    "import logging\n",
    "tf.get_logger().setLevel(logging.ERROR)"
   ]
  },
  {
   "cell_type": "code",
   "execution_count": 4,
   "metadata": {
    "colab": {
     "base_uri": "https://localhost:8080/",
     "height": 50
    },
    "colab_type": "code",
    "id": "Ce2tjPHPzWFd",
    "outputId": "f69dceec-26bc-44a3-b47c-5615a02ded51"
   },
   "outputs": [
    {
     "name": "stdout",
     "output_type": "stream",
     "text": [
      "TF Version: 2.11.0\n",
      "Keras Version: 2.11.0\n"
     ]
    }
   ],
   "source": [
    "# check keras and TF version used\n",
    "print('TF Version:', tf.__version__)\n",
    "print('Keras Version:', keras.__version__)\n",
    "# TF Version: 1.15.0\n",
    "# Keras Version: 2.2.5"
   ]
  },
  {
   "cell_type": "markdown",
   "metadata": {
    "colab_type": "text",
    "id": "lXXYudDD0Coy"
   },
   "source": [
    "Let's start loading data that will be used for building the recommendation systems"
   ]
  },
  {
   "cell_type": "markdown",
   "metadata": {
    "colab_type": "text",
    "id": "6FJZmUvExOYt"
   },
   "source": [
    "# 3. Load Datasets"
   ]
  },
  {
   "cell_type": "markdown",
   "metadata": {
    "colab_type": "text",
    "id": "AnAU78S7xz-H"
   },
   "source": [
    "## 3.1: Load Movie Metadata Datasets\n",
    "\n",
    "First, we will load the movie_titles.csv data from the Netflix prize data source"
   ]
  },
  {
   "cell_type": "code",
   "execution_count": 5,
   "metadata": {
    "colab": {
     "base_uri": "https://localhost:8080/",
     "height": 242
    },
    "colab_type": "code",
    "id": "tgD9whbBfcWW",
    "outputId": "4b9b02d5-13bf-4d4b-a684-2bf9420fa4da"
   },
   "outputs": [],
   "source": [
    "# This read csv does not work due to items containing commas\n",
    "\n",
    "\n",
    "# # Load data for all movies\n",
    "# movie_titles = pd.read_csv('./data/movie_titles.csv', \n",
    "#                            encoding = 'ISO-8859-1', \n",
    "#                            header = None, \n",
    "#                            names = ['Id', 'Year', 'Name']).set_index('Id')\n",
    "\n",
    "# print('Shape Movie-Titles:\\t{}'.format(movie_titles.shape))\n",
    "# movie_titles.sample(5)"
   ]
  },
  {
   "cell_type": "code",
   "execution_count": 6,
   "metadata": {},
   "outputs": [
    {
     "data": {
      "text/html": [
       "<div>\n",
       "<style scoped>\n",
       "    .dataframe tbody tr th:only-of-type {\n",
       "        vertical-align: middle;\n",
       "    }\n",
       "\n",
       "    .dataframe tbody tr th {\n",
       "        vertical-align: top;\n",
       "    }\n",
       "\n",
       "    .dataframe thead th {\n",
       "        text-align: right;\n",
       "    }\n",
       "</style>\n",
       "<table border=\"1\" class=\"dataframe\">\n",
       "  <thead>\n",
       "    <tr style=\"text-align: right;\">\n",
       "      <th></th>\n",
       "      <th>Year</th>\n",
       "      <th>Name</th>\n",
       "    </tr>\n",
       "    <tr>\n",
       "      <th>Id</th>\n",
       "      <th></th>\n",
       "      <th></th>\n",
       "    </tr>\n",
       "  </thead>\n",
       "  <tbody>\n",
       "    <tr>\n",
       "      <th>1</th>\n",
       "      <td>2003</td>\n",
       "      <td>Dinosaur Planet</td>\n",
       "    </tr>\n",
       "    <tr>\n",
       "      <th>2</th>\n",
       "      <td>2004</td>\n",
       "      <td>Isle of Man TT 2004 Review</td>\n",
       "    </tr>\n",
       "    <tr>\n",
       "      <th>3</th>\n",
       "      <td>1997</td>\n",
       "      <td>Character</td>\n",
       "    </tr>\n",
       "    <tr>\n",
       "      <th>4</th>\n",
       "      <td>1994</td>\n",
       "      <td>Paula Abdul's Get Up &amp; Dance</td>\n",
       "    </tr>\n",
       "    <tr>\n",
       "      <th>5</th>\n",
       "      <td>2004</td>\n",
       "      <td>The Rise and Fall of ECW</td>\n",
       "    </tr>\n",
       "  </tbody>\n",
       "</table>\n",
       "</div>"
      ],
      "text/plain": [
       "    Year                          Name\n",
       "Id                                    \n",
       "1   2003               Dinosaur Planet\n",
       "2   2004    Isle of Man TT 2004 Review\n",
       "3   1997                     Character\n",
       "4   1994  Paula Abdul's Get Up & Dance\n",
       "5   2004      The Rise and Fall of ECW"
      ]
     },
     "metadata": {},
     "output_type": "display_data"
    },
    {
     "name": "stdout",
     "output_type": "stream",
     "text": [
      "<class 'pandas.core.frame.DataFrame'>\n",
      "Index: 17763 entries, 1 to 17770\n",
      "Data columns (total 2 columns):\n",
      " #   Column  Non-Null Count  Dtype \n",
      "---  ------  --------------  ----- \n",
      " 0   Year    17763 non-null  object\n",
      " 1   Name    17763 non-null  object\n",
      "dtypes: object(2)\n",
      "memory usage: 416.3+ KB\n"
     ]
    }
   ],
   "source": [
    "# There are commas in our csv file movie fields which gives pandas issues\n",
    "#manually read line by line\n",
    "import csv\n",
    "\n",
    "data = []\n",
    "with open(\"./data/movie_titles.csv\",encoding = 'ISO-8859-1') as f:\n",
    "    reader = csv.reader(f)\n",
    "    for line in enumerate(reader):\n",
    "        name = line[1][2:]\n",
    "        if len(name)>1:\n",
    "            name = \",\".join(name)\n",
    "        else:\n",
    "            name = name[0]            \n",
    "        data.append({\"Id\": line[1][0],\n",
    "                   \"Year\": line[1][1],\n",
    "                   \"Name\": name})\n",
    "        \n",
    "movie_titles = pd.DataFrame.from_dict(data)\n",
    "movie_titles.set_index(\"Id\",inplace=True)\n",
    "\n",
    "movie_titles.drop(movie_titles[movie_titles[\"Year\"]==\"NULL\"].index,inplace=True)  #drop YEARs w \"NULL\" value\n",
    "display(movie_titles.head())\n",
    "movie_titles.info()"
   ]
  },
  {
   "cell_type": "markdown",
   "metadata": {
    "colab_type": "text",
    "id": "SYafEzcYxa09"
   },
   "source": [
    "There are approximately 18000 movies in the ratings dataset and the metadata information includes the year of release and movie title"
   ]
  },
  {
   "cell_type": "markdown",
   "metadata": {
    "colab_type": "text",
    "id": "aE4QaObcyAup"
   },
   "source": [
    "Next, we will load the movie_metadata.csv from The movies dataset source. This is to get the metadata information like description etc. related to each movie."
   ]
  },
  {
   "cell_type": "code",
   "execution_count": 7,
   "metadata": {
    "colab": {
     "base_uri": "https://localhost:8080/",
     "height": 242
    },
    "colab_type": "code",
    "id": "WWig4ePBqGSD",
    "outputId": "3dff280d-bb3e-4701-b0fb-ced2eecbee1b"
   },
   "outputs": [
    {
     "name": "stdout",
     "output_type": "stream",
     "text": [
      "Shape Movie-Metadata:\t(21604, 1)\n"
     ]
    },
    {
     "data": {
      "text/html": [
       "<div>\n",
       "<style scoped>\n",
       "    .dataframe tbody tr th:only-of-type {\n",
       "        vertical-align: middle;\n",
       "    }\n",
       "\n",
       "    .dataframe tbody tr th {\n",
       "        vertical-align: top;\n",
       "    }\n",
       "\n",
       "    .dataframe thead th {\n",
       "        text-align: right;\n",
       "    }\n",
       "</style>\n",
       "<table border=\"1\" class=\"dataframe\">\n",
       "  <thead>\n",
       "    <tr style=\"text-align: right;\">\n",
       "      <th></th>\n",
       "      <th>overview</th>\n",
       "    </tr>\n",
       "    <tr>\n",
       "      <th>original_title</th>\n",
       "      <th></th>\n",
       "    </tr>\n",
       "  </thead>\n",
       "  <tbody>\n",
       "    <tr>\n",
       "      <th>À bout portant</th>\n",
       "      <td>Samuel Pierret is a nurse who saves the wrong ...</td>\n",
       "    </tr>\n",
       "    <tr>\n",
       "      <th>Make It Happen</th>\n",
       "      <td>Embarking on a journey to fulfill her dreams a...</td>\n",
       "    </tr>\n",
       "    <tr>\n",
       "      <th>Waste Land</th>\n",
       "      <td>An uplifting feature documentary highlighting ...</td>\n",
       "    </tr>\n",
       "    <tr>\n",
       "      <th>24 Hour Party People</th>\n",
       "      <td>In 1976, Tony Wilson sets up Factory Records a...</td>\n",
       "    </tr>\n",
       "    <tr>\n",
       "      <th>Anne Of Green Gables: The Continuing Story</th>\n",
       "      <td>The continuing adventures of Anne Shirley in N...</td>\n",
       "    </tr>\n",
       "  </tbody>\n",
       "</table>\n",
       "</div>"
      ],
      "text/plain": [
       "                                                                                     overview\n",
       "original_title                                                                               \n",
       "À bout portant                              Samuel Pierret is a nurse who saves the wrong ...\n",
       "Make It Happen                              Embarking on a journey to fulfill her dreams a...\n",
       "Waste Land                                  An uplifting feature documentary highlighting ...\n",
       "24 Hour Party People                        In 1976, Tony Wilson sets up Factory Records a...\n",
       "Anne Of Green Gables: The Continuing Story  The continuing adventures of Anne Shirley in N..."
      ]
     },
     "execution_count": 7,
     "metadata": {},
     "output_type": "execute_result"
    }
   ],
   "source": [
    "# Load a movie metadata dataset\n",
    "movie_metadata = (pd.read_csv('./data/movies_metadata.csv', \n",
    "                              low_memory=False)[['original_title', 'overview', 'vote_count']]\n",
    "                    .set_index('original_title')\n",
    "                    .dropna())\n",
    "\n",
    "# Remove the long tail of rarely rated moves\n",
    "movie_metadata = movie_metadata[movie_metadata['vote_count']>10].drop('vote_count', axis=1)\n",
    "\n",
    "print('Shape Movie-Metadata:\\t{}'.format(movie_metadata.shape))\n",
    "movie_metadata.sample(5)"
   ]
  },
  {
   "cell_type": "markdown",
   "metadata": {
    "colab_type": "text",
    "id": "dElmRUSWyYoh"
   },
   "source": [
    "Around 21,000 entries in the movies metadata dataset"
   ]
  },
  {
   "cell_type": "markdown",
   "metadata": {
    "colab_type": "text",
    "id": "XJ3cHW1eyhwR"
   },
   "source": [
    "## 3.2: Load User-Movie-Rating Dataset"
   ]
  },
  {
   "cell_type": "code",
   "execution_count": 8,
   "metadata": {},
   "outputs": [],
   "source": [
    "# # Dowload large file from the shared GDrive folder\n",
    "# !pip install gdown\n",
    "# !gdown \"https://drive.google.com/uc?export=download&id=1z0O0fXuofdsbpL8fkCVgjeIwFP_LxGX2\" -O data/\n"
   ]
  },
  {
   "cell_type": "code",
   "execution_count": 9,
   "metadata": {},
   "outputs": [
    {
     "data": {
      "image/png": "[encoded data removed]",
      "text/plain": [
       "<IPython.core.display.Image object>"
      ]
     },
     "metadata": {},
     "output_type": "display_data"
    }
   ],
   "source": [
    "from IPython.display import Image, display\n",
    "display(Image(filename=\"images/raw_data_img.png\"))\n",
    "#below is df raw (4 has empty columns and indicates that entries below are for movie # 4)"
   ]
  },
  {
   "cell_type": "code",
   "execution_count": 10,
   "metadata": {},
   "outputs": [
    {
     "data": {
      "text/plain": [
       "[1, 2, 3, 4, 5]"
      ]
     },
     "execution_count": 10,
     "metadata": {},
     "output_type": "execute_result"
    }
   ],
   "source": [
    "test = [1,2,3,4,5,6]\n",
    "test[:-1]"
   ]
  },
  {
   "cell_type": "code",
   "execution_count": 11,
   "metadata": {
    "colab": {
     "base_uri": "https://localhost:8080/",
     "height": 360
    },
    "colab_type": "code",
    "id": "4s_qbrIhqW31",
    "outputId": "b9505c13-e21e-4cf2-837d-5410394b7655"
   },
   "outputs": [
    {
     "data": {
      "text/html": [
       "<div>\n",
       "<style scoped>\n",
       "    .dataframe tbody tr th:only-of-type {\n",
       "        vertical-align: middle;\n",
       "    }\n",
       "\n",
       "    .dataframe tbody tr th {\n",
       "        vertical-align: top;\n",
       "    }\n",
       "\n",
       "    .dataframe thead th {\n",
       "        text-align: right;\n",
       "    }\n",
       "</style>\n",
       "<table border=\"1\" class=\"dataframe\">\n",
       "  <thead>\n",
       "    <tr style=\"text-align: right;\">\n",
       "      <th></th>\n",
       "      <th>index</th>\n",
       "      <th>User</th>\n",
       "    </tr>\n",
       "  </thead>\n",
       "  <tbody>\n",
       "    <tr>\n",
       "      <th>0</th>\n",
       "      <td>0</td>\n",
       "      <td>1:</td>\n",
       "    </tr>\n",
       "    <tr>\n",
       "      <th>1</th>\n",
       "      <td>548</td>\n",
       "      <td>2:</td>\n",
       "    </tr>\n",
       "    <tr>\n",
       "      <th>2</th>\n",
       "      <td>694</td>\n",
       "      <td>3:</td>\n",
       "    </tr>\n",
       "    <tr>\n",
       "      <th>3</th>\n",
       "      <td>2707</td>\n",
       "      <td>4:</td>\n",
       "    </tr>\n",
       "    <tr>\n",
       "      <th>4</th>\n",
       "      <td>2850</td>\n",
       "      <td>5:</td>\n",
       "    </tr>\n",
       "  </tbody>\n",
       "</table>\n",
       "</div>"
      ],
      "text/plain": [
       "   index User\n",
       "0      0   1:\n",
       "1    548   2:\n",
       "2    694   3:\n",
       "3   2707   4:\n",
       "4   2850   5:"
      ]
     },
     "metadata": {},
     "output_type": "display_data"
    },
    {
     "name": "stdout",
     "output_type": "stream",
     "text": [
      "Shape User-Ratings:\t(24053764, 4)\n"
     ]
    },
    {
     "data": {
      "text/html": [
       "<div>\n",
       "<style scoped>\n",
       "    .dataframe tbody tr th:only-of-type {\n",
       "        vertical-align: middle;\n",
       "    }\n",
       "\n",
       "    .dataframe tbody tr th {\n",
       "        vertical-align: top;\n",
       "    }\n",
       "\n",
       "    .dataframe thead th {\n",
       "        text-align: right;\n",
       "    }\n",
       "</style>\n",
       "<table border=\"1\" class=\"dataframe\">\n",
       "  <thead>\n",
       "    <tr style=\"text-align: right;\">\n",
       "      <th></th>\n",
       "      <th>User</th>\n",
       "      <th>Rating</th>\n",
       "      <th>Date</th>\n",
       "      <th>Movie</th>\n",
       "    </tr>\n",
       "  </thead>\n",
       "  <tbody>\n",
       "    <tr>\n",
       "      <th>21603068</th>\n",
       "      <td>265351</td>\n",
       "      <td>2.0</td>\n",
       "      <td>2003-09-06</td>\n",
       "      <td>4056</td>\n",
       "    </tr>\n",
       "    <tr>\n",
       "      <th>20352930</th>\n",
       "      <td>1533537</td>\n",
       "      <td>4.0</td>\n",
       "      <td>2005-12-12</td>\n",
       "      <td>3864</td>\n",
       "    </tr>\n",
       "    <tr>\n",
       "      <th>7307165</th>\n",
       "      <td>1859136</td>\n",
       "      <td>4.0</td>\n",
       "      <td>2003-11-07</td>\n",
       "      <td>1467</td>\n",
       "    </tr>\n",
       "    <tr>\n",
       "      <th>13764241</th>\n",
       "      <td>1109416</td>\n",
       "      <td>2.0</td>\n",
       "      <td>2005-07-21</td>\n",
       "      <td>2617</td>\n",
       "    </tr>\n",
       "    <tr>\n",
       "      <th>6304548</th>\n",
       "      <td>1426633</td>\n",
       "      <td>4.0</td>\n",
       "      <td>2004-11-07</td>\n",
       "      <td>1220</td>\n",
       "    </tr>\n",
       "    <tr>\n",
       "      <th>3291355</th>\n",
       "      <td>2530297</td>\n",
       "      <td>3.0</td>\n",
       "      <td>2004-01-07</td>\n",
       "      <td>607</td>\n",
       "    </tr>\n",
       "    <tr>\n",
       "      <th>6204361</th>\n",
       "      <td>582829</td>\n",
       "      <td>1.0</td>\n",
       "      <td>2005-12-30</td>\n",
       "      <td>1218</td>\n",
       "    </tr>\n",
       "    <tr>\n",
       "      <th>969412</th>\n",
       "      <td>841091</td>\n",
       "      <td>3.0</td>\n",
       "      <td>2004-06-09</td>\n",
       "      <td>223</td>\n",
       "    </tr>\n",
       "    <tr>\n",
       "      <th>10648039</th>\n",
       "      <td>1731029</td>\n",
       "      <td>3.0</td>\n",
       "      <td>2005-10-28</td>\n",
       "      <td>2095</td>\n",
       "    </tr>\n",
       "    <tr>\n",
       "      <th>8007978</th>\n",
       "      <td>1795511</td>\n",
       "      <td>5.0</td>\n",
       "      <td>2005-10-17</td>\n",
       "      <td>1604</td>\n",
       "    </tr>\n",
       "  </tbody>\n",
       "</table>\n",
       "</div>"
      ],
      "text/plain": [
       "             User  Rating        Date  Movie\n",
       "21603068   265351     2.0  2003-09-06   4056\n",
       "20352930  1533537     4.0  2005-12-12   3864\n",
       "7307165   1859136     4.0  2003-11-07   1467\n",
       "13764241  1109416     2.0  2005-07-21   2617\n",
       "6304548   1426633     4.0  2004-11-07   1220\n",
       "3291355   2530297     3.0  2004-01-07    607\n",
       "6204361    582829     1.0  2005-12-30   1218\n",
       "969412     841091     3.0  2004-06-09    223\n",
       "10648039  1731029     3.0  2005-10-28   2095\n",
       "8007978   1795511     5.0  2005-10-17   1604"
      ]
     },
     "execution_count": 11,
     "metadata": {},
     "output_type": "execute_result"
    }
   ],
   "source": [
    "# Load single data-file\n",
    "df_raw = pd.read_csv('./data/combined_data.csv.zip', \n",
    "                     header=None, \n",
    "                     names=['User', 'Rating', 'Date'], \n",
    "                     usecols=[0, 1, 2])\n",
    "\n",
    "# display(df_raw.head()) #AKP\n",
    "# display(df_raw.info())\n",
    "# display(df_raw.shape)\n",
    "# Find empty rows to slice dataframe for each movie\n",
    "tmp_movies = df_raw[df_raw['Rating'].isna()]['User'].reset_index()\n",
    "\n",
    "display(tmp_movies.head()) #AKP\n",
    "\n",
    "movie_indices = [[index, int(movie[:-1])] for index, movie in tmp_movies.values]\n",
    "# print(tmp_movies.values)\n",
    "# print(movie_indices)\n",
    "# Shift the movie_indices by one to get start and endpoints of all movies\n",
    "shifted_movie_indices = deque(movie_indices)\n",
    "shifted_movie_indices.rotate(-1)\n",
    "\n",
    "# Gather all dataframes\n",
    "user_data = []\n",
    "\n",
    "# Iterate over all movies\n",
    "for [df_id_1, movie_id], [df_id_2, next_movie_id] in zip(movie_indices, shifted_movie_indices):\n",
    "    #print([df_id_1, movie_id], [df_id_2, next_movie_id])\n",
    "    # Check if it is the last movie in the file\n",
    "    if df_id_1<df_id_2:\n",
    "        tmp_df = df_raw.loc[df_id_1+1:df_id_2-1].copy()\n",
    "    else:\n",
    "        tmp_df = df_raw.loc[df_id_1+1:].copy()\n",
    "        \n",
    "    # Create movie_id column\n",
    "    tmp_df['Movie'] = movie_id\n",
    "    \n",
    "    # Append dataframe to list\n",
    "    user_data.append(tmp_df)\n",
    "\n",
    "# Combine all dataframes\n",
    "df = pd.concat(user_data)\n",
    "del user_data, df_raw, tmp_movies, tmp_df, shifted_movie_indices, movie_indices, df_id_1, movie_id, df_id_2, next_movie_id\n",
    "print('Shape User-Ratings:\\t{}'.format(df.shape))\n",
    "df.sample(10)"
   ]
  },
  {
   "cell_type": "markdown",
   "metadata": {
    "colab_type": "text",
    "id": "sg90OAW_zUwL"
   },
   "source": [
    "There are about 24 Million+ different rating records!"
   ]
  },
  {
   "cell_type": "markdown",
   "metadata": {
    "colab_type": "text",
    "id": "xKIrEduYz6gh"
   },
   "source": [
    "We have taken the data required for building the system and now let's do some EDA on the dataset to better understand our data"
   ]
  },
  {
   "cell_type": "markdown",
   "metadata": {
    "colab_type": "text",
    "id": "4wQzTRdm0tYg"
   },
   "source": [
    "# 4. Exploratory Data Analysis"
   ]
  },
  {
   "cell_type": "markdown",
   "metadata": {
    "colab_type": "text",
    "id": "KVaYGLc94aGm"
   },
   "source": [
    "## 4.1: When were the movies released?\n"
   ]
  },
  {
   "cell_type": "code",
   "execution_count": 12,
   "metadata": {
    "colab": {
     "base_uri": "https://localhost:8080/",
     "height": 374
    },
    "colab_type": "code",
    "id": "-iwB_2Cm24FL",
    "outputId": "b94a5226-9278-4579-e190-c8b20f2903c5"
   },
   "outputs": [
    {
     "name": "stdout",
     "output_type": "stream",
     "text": [
      "1896       1\n",
      "1909       1\n",
      "1914       2\n",
      "1915       5\n",
      "1916       4\n",
      "        ... \n",
      "2001    1184\n",
      "2002    1310\n",
      "2003    1271\n",
      "2004    1436\n",
      "2005     512\n",
      "Name: Year, Length: 94, dtype: int64\n"
     ]
    },
    {
     "data": {
      "image/png": "[encoded data removed]",
      "text/plain": [
       "<Figure size 1400x600 with 1 Axes>"
      ]
     },
     "metadata": {},
     "output_type": "display_data"
    }
   ],
   "source": [
    "fig, ax = plt.subplots(1, 1, figsize=(14, 6))\n",
    "\n",
    "data = movie_titles['Year'].value_counts().sort_index()\n",
    "print(data)\n",
    "x = data.index\n",
    "y = data.values\n",
    "\n",
    "sns.barplot(x=x,y=y)\n",
    "xmin, xmax = plt.xlim()\n",
    "xtick_labels = [x[0]] + list(x[10:-10:10]) + [x[-1]]\n",
    "plt.xticks(ticks=np.linspace(xmin, xmax, 10), labels=xtick_labels);"
   ]
  },
  {
   "cell_type": "markdown",
   "metadata": {
    "colab_type": "text",
    "id": "lJ2mWAym5rBL"
   },
   "source": [
    "Many movies on Netflix have been released in this millennial. Whether Netflix prefers young movies or there are no old movies left can not be deduced from this plot.\n",
    "The decline for the rightmost point is probably caused by an incomplete last year."
   ]
  },
  {
   "cell_type": "markdown",
   "metadata": {
    "colab_type": "text",
    "id": "QACzcP3w4z6j"
   },
   "source": [
    "## Q 4.2: How are The Ratings Distributed?\n",
    "\n",
    "__Your Turn:__ Build the visualization for rating distributions similar to the previous plot.\n"
   ]
  },
  {
   "cell_type": "code",
   "execution_count": 13,
   "metadata": {
    "colab": {
     "base_uri": "https://localhost:8080/",
     "height": 385
    },
    "colab_type": "code",
    "id": "16Mvv0w124FP",
    "outputId": "b9643de6-3b43-4826-ef57-744fde784404"
   },
   "outputs": [
    {
     "name": "stdout",
     "output_type": "stream",
     "text": [
      "1.0    1118186\n",
      "2.0    2439073\n",
      "3.0    6904181\n",
      "4.0    8085741\n",
      "5.0    5506583\n",
      "Name: Rating, dtype: int64\n",
      "-0.5 4.5\n"
     ]
    },
    {
     "data": {
      "image/png": "[encoded data removed]",
      "text/plain": [
       "<Figure size 1400x600 with 1 Axes>"
      ]
     },
     "metadata": {},
     "output_type": "display_data"
    }
   ],
   "source": [
    "fig, ax = plt.subplots(1, 1, figsize=(14, 6))\n",
    "\n",
    "data = df['Rating'].value_counts().sort_index()\n",
    "print(data)\n",
    "x = data.index\n",
    "y = data.values\n",
    "\n",
    "sns.barplot(x=x,y=y)\n",
    "xmin, xmax = plt.xlim()\n",
    "print(xmin,xmax)\n",
    "xtick_labels = x\n",
    "tick_location = x-1\n",
    "plt.xticks(ticks=tick_location, labels=xtick_labels);"
   ]
  },
  {
   "cell_type": "markdown",
   "metadata": {
    "colab_type": "text",
    "id": "Pn5uhmcu5xCE"
   },
   "source": [
    "Netflix movies rarely have a rating lower than three. Most ratings have between three and four stars.\n",
    "The distribution is probably biased, since only people liking the movies proceed to be customers and others presumably will leave the platform."
   ]
  },
  {
   "cell_type": "markdown",
   "metadata": {
    "colab_type": "text",
    "id": "PQwkKk935eRl"
   },
   "source": [
    "## 4.3: Visualize the Distribution of Number of Movie Ratings \n",
    "\n",
    "This is to understand how many movies (y-axis) are receiving specific number of movie ratings (x-axis)"
   ]
  },
  {
   "cell_type": "code",
   "execution_count": 14,
   "metadata": {
    "colab": {
     "base_uri": "https://localhost:8080/",
     "height": 388
    },
    "colab_type": "code",
    "id": "yatEt4eE24FS",
    "outputId": "ca1767f5-2bf8-407a-e232-26e44bac8d2d"
   },
   "outputs": [
    {
     "name": "stdout",
     "output_type": "stream",
     "text": [
      "Movie\n",
      "1        547\n",
      "2        145\n",
      "3       2012\n",
      "4        142\n",
      "5       1140\n",
      "        ... \n",
      "4495     614\n",
      "4496    9519\n",
      "4497     714\n",
      "4498     269\n",
      "4499     428\n",
      "Name: Rating, Length: 4008, dtype: int64\n"
     ]
    },
    {
     "data": {
      "image/png": "[encoded data removed]",
      "text/plain": [
       "<Figure size 1400x600 with 2 Axes>"
      ]
     },
     "metadata": {},
     "output_type": "display_data"
    }
   ],
   "source": [
    "fig, ax = plt.subplots(1, 2, figsize=(14, 6))\n",
    "\n",
    "data = df.groupby('Movie')['Rating'].count()\n",
    "print(data[data <10000])\n",
    "sns.distplot(data[data  < 10000], kde=False, ax=ax[0]);\n",
    "sns.distplot(data[data  > 10000], kde=False, ax=ax[1]);\n",
    "for axis in ax:\n",
    "    axis.set_xlabel(\"Movie\")\n",
    "    axis.set_ylabel(\"Rating Count\")"
   ]
  },
  {
   "cell_type": "markdown",
   "metadata": {
    "colab_type": "text",
    "id": "lS5we5r4-nyV"
   },
   "source": [
    "## Q 4.4: Visualize the Distribution of Number of User Ratings \n",
    "\n",
    "This is to understand how many users (y-axis) are giving specific number of movie ratings (x-axis)\n",
    "\n",
    "__Your Turn:__ Try to find out an optimal threshold as in the previous example to split the data to form two understandable subplots!"
   ]
  },
  {
   "cell_type": "code",
   "execution_count": 15,
   "metadata": {},
   "outputs": [
    {
     "data": {
      "text/html": [
       "<div>\n",
       "<style scoped>\n",
       "    .dataframe tbody tr th:only-of-type {\n",
       "        vertical-align: middle;\n",
       "    }\n",
       "\n",
       "    .dataframe tbody tr th {\n",
       "        vertical-align: top;\n",
       "    }\n",
       "\n",
       "    .dataframe thead th {\n",
       "        text-align: right;\n",
       "    }\n",
       "</style>\n",
       "<table border=\"1\" class=\"dataframe\">\n",
       "  <thead>\n",
       "    <tr style=\"text-align: right;\">\n",
       "      <th></th>\n",
       "      <th>Number_Users</th>\n",
       "    </tr>\n",
       "    <tr>\n",
       "      <th>Number_ratings</th>\n",
       "      <th></th>\n",
       "    </tr>\n",
       "  </thead>\n",
       "  <tbody>\n",
       "    <tr>\n",
       "      <th>1</th>\n",
       "      <td>15225</td>\n",
       "    </tr>\n",
       "    <tr>\n",
       "      <th>2</th>\n",
       "      <td>17261</td>\n",
       "    </tr>\n",
       "    <tr>\n",
       "      <th>3</th>\n",
       "      <td>16908</td>\n",
       "    </tr>\n",
       "    <tr>\n",
       "      <th>4</th>\n",
       "      <td>15824</td>\n",
       "    </tr>\n",
       "    <tr>\n",
       "      <th>5</th>\n",
       "      <td>14813</td>\n",
       "    </tr>\n",
       "    <tr>\n",
       "      <th>...</th>\n",
       "      <td>...</td>\n",
       "    </tr>\n",
       "    <tr>\n",
       "      <th>3769</th>\n",
       "      <td>1</td>\n",
       "    </tr>\n",
       "    <tr>\n",
       "      <th>4019</th>\n",
       "      <td>1</td>\n",
       "    </tr>\n",
       "    <tr>\n",
       "      <th>4195</th>\n",
       "      <td>1</td>\n",
       "    </tr>\n",
       "    <tr>\n",
       "      <th>4422</th>\n",
       "      <td>1</td>\n",
       "    </tr>\n",
       "    <tr>\n",
       "      <th>4467</th>\n",
       "      <td>1</td>\n",
       "    </tr>\n",
       "  </tbody>\n",
       "</table>\n",
       "<p>916 rows × 1 columns</p>\n",
       "</div>"
      ],
      "text/plain": [
       "                Number_Users\n",
       "Number_ratings              \n",
       "1                      15225\n",
       "2                      17261\n",
       "3                      16908\n",
       "4                      15824\n",
       "5                      14813\n",
       "...                      ...\n",
       "3769                       1\n",
       "4019                       1\n",
       "4195                       1\n",
       "4422                       1\n",
       "4467                       1\n",
       "\n",
       "[916 rows x 1 columns]"
      ]
     },
     "metadata": {},
     "output_type": "display_data"
    }
   ],
   "source": [
    "data = df.groupby('User')['Rating'].count()\n",
    "#display(data.head())\n",
    "data = data.reset_index().rename(columns={\"Rating\": \"Number_ratings\"})\n",
    "#display(data)\n",
    "data = data.groupby(\"Number_ratings\").count().rename(columns={\"User\": \"Number_Users\"})\n",
    "display(data)\n",
    "# data_rev = data.reset_index()\n",
    "# data_rev = data_rev.set_index(\"Number_Users\")\n",
    "# display(data_rev)"
   ]
  },
  {
   "cell_type": "code",
   "execution_count": 16,
   "metadata": {},
   "outputs": [
    {
     "data": {
      "text/html": [
       "<div>\n",
       "<style scoped>\n",
       "    .dataframe tbody tr th:only-of-type {\n",
       "        vertical-align: middle;\n",
       "    }\n",
       "\n",
       "    .dataframe tbody tr th {\n",
       "        vertical-align: top;\n",
       "    }\n",
       "\n",
       "    .dataframe thead th {\n",
       "        text-align: right;\n",
       "    }\n",
       "</style>\n",
       "<table border=\"1\" class=\"dataframe\">\n",
       "  <thead>\n",
       "    <tr style=\"text-align: right;\">\n",
       "      <th></th>\n",
       "      <th>Number_Users</th>\n",
       "    </tr>\n",
       "    <tr>\n",
       "      <th>Number_ratings</th>\n",
       "      <th></th>\n",
       "    </tr>\n",
       "  </thead>\n",
       "  <tbody>\n",
       "    <tr>\n",
       "      <th>1</th>\n",
       "      <td>15225</td>\n",
       "    </tr>\n",
       "    <tr>\n",
       "      <th>2</th>\n",
       "      <td>17261</td>\n",
       "    </tr>\n",
       "    <tr>\n",
       "      <th>3</th>\n",
       "      <td>16908</td>\n",
       "    </tr>\n",
       "    <tr>\n",
       "      <th>4</th>\n",
       "      <td>15824</td>\n",
       "    </tr>\n",
       "    <tr>\n",
       "      <th>5</th>\n",
       "      <td>14813</td>\n",
       "    </tr>\n",
       "    <tr>\n",
       "      <th>...</th>\n",
       "      <td>...</td>\n",
       "    </tr>\n",
       "    <tr>\n",
       "      <th>492</th>\n",
       "      <td>12</td>\n",
       "    </tr>\n",
       "    <tr>\n",
       "      <th>493</th>\n",
       "      <td>13</td>\n",
       "    </tr>\n",
       "    <tr>\n",
       "      <th>494</th>\n",
       "      <td>11</td>\n",
       "    </tr>\n",
       "    <tr>\n",
       "      <th>511</th>\n",
       "      <td>13</td>\n",
       "    </tr>\n",
       "    <tr>\n",
       "      <th>536</th>\n",
       "      <td>12</td>\n",
       "    </tr>\n",
       "  </tbody>\n",
       "</table>\n",
       "<p>483 rows × 1 columns</p>\n",
       "</div>"
      ],
      "text/plain": [
       "                Number_Users\n",
       "Number_ratings              \n",
       "1                      15225\n",
       "2                      17261\n",
       "3                      16908\n",
       "4                      15824\n",
       "5                      14813\n",
       "...                      ...\n",
       "492                       12\n",
       "493                       13\n",
       "494                       11\n",
       "511                       13\n",
       "536                       12\n",
       "\n",
       "[483 rows x 1 columns]"
      ]
     },
     "metadata": {},
     "output_type": "display_data"
    }
   ],
   "source": [
    "data_test = data[data[\"Number_Users\"] > 10]\n",
    "display(data_test)"
   ]
  },
  {
   "cell_type": "code",
   "execution_count": 17,
   "metadata": {},
   "outputs": [],
   "source": [
    "data1 = data[data[\"Number_Users\"] <100]\n",
    "data2 = data[data[\"Number_Users\"] > 100]\n",
    "#display(data2)"
   ]
  },
  {
   "cell_type": "code",
   "execution_count": 18,
   "metadata": {},
   "outputs": [
    {
     "data": {
      "image/png": "[encoded data removed]",
      "text/plain": [
       "<Figure size 1400x600 with 2 Axes>"
      ]
     },
     "metadata": {},
     "output_type": "display_data"
    }
   ],
   "source": [
    "fig, ax = plt.subplots(1, 2, figsize=(14, 6))\n",
    "\n",
    "# data = df.groupby('User')['Rating'].count()\n",
    "\n",
    "\n",
    "#data = data.groupby(\"Rating\").count()\n",
    "#data = df.groupby('Rating')['User'].count()\n",
    "\n",
    "#sns.displot(data, kde=False, ax=ax[1]);\n",
    "\n",
    "# sns.displot(data[data  < 1000], kde=False, ax=ax[0]);\n",
    "# sns.displot(data[data  > 1000], kde=False, ax=ax[1]);\n",
    "\n",
    "sns.histplot(x=data1.index,y=data1.Number_Users.values, kde=False, ax=ax[0]);\n",
    "sns.histplot( x=data2.index, y=data2.Number_Users.values, kde=False, ax=ax[1]);\n",
    "for axis in ax:\n",
    "    axis.set_ylabel(\"Number of Users\")\n",
    "    axis.set_xlabel(\"Number of Ratings\")"
   ]
  },
  {
   "cell_type": "code",
   "execution_count": 19,
   "metadata": {},
   "outputs": [
    {
     "data": {
      "text/plain": [
       "User\n",
       "10          49\n",
       "1000004      1\n",
       "1000027     30\n",
       "1000033    101\n",
       "1000035     20\n",
       "          ... \n",
       "999964      48\n",
       "999972      35\n",
       "999977      14\n",
       "999984      38\n",
       "999988      28\n",
       "Name: Rating, Length: 470758, dtype: int64"
      ]
     },
     "metadata": {},
     "output_type": "display_data"
    },
    {
     "data": {
      "text/plain": [
       "count    399517.000000\n",
       "mean         27.030589\n",
       "std          25.188204\n",
       "min           1.000000\n",
       "25%           7.000000\n",
       "50%          18.000000\n",
       "75%          41.000000\n",
       "max          99.000000\n",
       "Name: Rating, dtype: float64"
      ]
     },
     "metadata": {},
     "output_type": "display_data"
    },
    {
     "data": {
      "text/plain": [
       "count    70270.000000\n",
       "mean       187.241839\n",
       "std        107.793701\n",
       "min        101.000000\n",
       "25%        123.000000\n",
       "50%        155.000000\n",
       "75%        216.000000\n",
       "max       4467.000000\n",
       "Name: Rating, dtype: float64"
      ]
     },
     "metadata": {},
     "output_type": "display_data"
    },
    {
     "data": {
      "image/png": "[encoded data removed]",
      "text/plain": [
       "<Figure size 1400x600 with 2 Axes>"
      ]
     },
     "metadata": {},
     "output_type": "display_data"
    }
   ],
   "source": [
    "fig, ax = plt.subplots(1, 2, figsize=(14, 6))\n",
    "\n",
    "data = df.groupby('User')['Rating'].count()\n",
    "display(data)\n",
    "threshold = 100\n",
    "data1 = data[data < threshold]\n",
    "data2 = data[data > threshold]\n",
    "display(data1.describe())\n",
    "display(data2.describe())\n",
    "# sns.histplot(data=data1.values, x=data1.index, ax=ax[0]);\n",
    "# sns.histplot(data=data2.values, x=data2.index, ax=ax[1]);\n",
    "sns.kdeplot(data=data1, y=data1.values,ax=ax[0])\n",
    "sns.kdeplot(data=data2, y=data2.values,ax=ax[1])\n",
    "\n",
    "ax[0].set_xlabel(\"Count\")\n",
    "ax[0].set_ylabel(\"Frequency\")\n",
    "ax[1].set_xlabel(\"Count\")\n",
    "ax[1].set_ylabel(\"Frequency\")\n",
    "\n",
    "plt.show()"
   ]
  },
  {
   "cell_type": "markdown",
   "metadata": {
    "colab_type": "text",
    "id": "EMOY1tG75i24"
   },
   "source": [
    "The ratings per movie as well as the ratings per user both have nearly a perfect exponential decay. Only very few movies/users have many ratings."
   ]
  },
  {
   "cell_type": "markdown",
   "metadata": {
    "colab_type": "text",
    "id": "p5S7Q14L_CL1"
   },
   "source": [
    "# 5. Dimensionality Reduction & Filtering"
   ]
  },
  {
   "cell_type": "markdown",
   "metadata": {
    "colab_type": "text",
    "id": "h5YZwbcH7LzU"
   },
   "source": [
    "## Filter Sparse Movies And Users\n",
    "\n",
    "To reduce the dimensionality of the dataset I am filtering rarely rated movies and rarely rating users out.\n"
   ]
  },
  {
   "cell_type": "code",
   "execution_count": 20,
   "metadata": {
    "colab": {
     "base_uri": "https://localhost:8080/",
     "height": 50
    },
    "colab_type": "code",
    "id": "4nwtEkvSFFK5",
    "outputId": "44e339a2-a068-40d9-848f-619d56288676"
   },
   "outputs": [
    {
     "name": "stdout",
     "output_type": "stream",
     "text": [
      "Shape User-Ratings unfiltered:\t(24053764, 4)\n",
      "Shape User-Ratings filtered:\t(5930581, 4)\n"
     ]
    }
   ],
   "source": [
    "# Filter sparse movies\n",
    "min_movie_ratings = 1000\n",
    "filter_movies = (df['Movie'].value_counts()>min_movie_ratings)\n",
    "filter_movies = filter_movies[filter_movies].index.tolist()\n",
    "\n",
    "# Filter sparse users\n",
    "min_user_ratings = 200\n",
    "filter_users = (df['User'].value_counts()>min_user_ratings)\n",
    "filter_users = filter_users[filter_users].index.tolist()\n",
    "\n",
    "# Actual filtering\n",
    "df_filtered = df[(df['Movie'].isin(filter_movies)) & (df['User'].isin(filter_users))]\n",
    "del filter_movies, filter_users, min_movie_ratings, min_user_ratings\n",
    "print('Shape User-Ratings unfiltered:\\t{}'.format(df.shape))\n",
    "print('Shape User-Ratings filtered:\\t{}'.format(df_filtered.shape))"
   ]
  },
  {
   "cell_type": "markdown",
   "metadata": {
    "colab_type": "text",
    "id": "9GQ4JmM67TYQ"
   },
   "source": [
    "After filtering sparse movies and users about 5.9M rating records are present."
   ]
  },
  {
   "cell_type": "markdown",
   "metadata": {
    "colab_type": "text",
    "id": "EI1CoJP9_kbF"
   },
   "source": [
    "# 6. Create Train and Test Datasets\n",
    "\n",
    "Do note this will be used for the statistical method based models and collaborative filtering.\n",
    "\n",
    "For content based filtering it is more of a model which recommends movies rather than predicting ratings and for the hybrid model we will need to recreate the train and test datasets later since we need to create a subset of movies-users-ratings which have movie text descriptions."
   ]
  },
  {
   "cell_type": "markdown",
   "metadata": {
    "colab_type": "text",
    "id": "G7LX0sob7a2Z"
   },
   "source": [
    "## Create Train and Test datasets"
   ]
  },
  {
   "cell_type": "code",
   "execution_count": 21,
   "metadata": {
    "colab": {
     "base_uri": "https://localhost:8080/",
     "height": 34
    },
    "colab_type": "code",
    "id": "cyCrLAoFFHm4",
    "outputId": "e39e4020-3e5f-4ed7-803a-a8761ddce792"
   },
   "outputs": [
    {
     "data": {
      "text/html": [
       "<div>\n",
       "<style scoped>\n",
       "    .dataframe tbody tr th:only-of-type {\n",
       "        vertical-align: middle;\n",
       "    }\n",
       "\n",
       "    .dataframe tbody tr th {\n",
       "        vertical-align: top;\n",
       "    }\n",
       "\n",
       "    .dataframe thead th {\n",
       "        text-align: right;\n",
       "    }\n",
       "</style>\n",
       "<table border=\"1\" class=\"dataframe\">\n",
       "  <thead>\n",
       "    <tr style=\"text-align: right;\">\n",
       "      <th></th>\n",
       "      <th>User</th>\n",
       "      <th>Rating</th>\n",
       "      <th>Movie</th>\n",
       "    </tr>\n",
       "  </thead>\n",
       "  <tbody>\n",
       "    <tr>\n",
       "      <th>0</th>\n",
       "      <td>570681</td>\n",
       "      <td>3.0</td>\n",
       "      <td>1046</td>\n",
       "    </tr>\n",
       "    <tr>\n",
       "      <th>1</th>\n",
       "      <td>2108307</td>\n",
       "      <td>4.0</td>\n",
       "      <td>3078</td>\n",
       "    </tr>\n",
       "  </tbody>\n",
       "</table>\n",
       "</div>"
      ],
      "text/plain": [
       "      User  Rating  Movie\n",
       "0   570681     3.0   1046\n",
       "1  2108307     4.0   3078"
      ]
     },
     "metadata": {},
     "output_type": "display_data"
    }
   ],
   "source": [
    "# Shuffle DataFrame\n",
    "df_filtered = df_filtered.drop('Date', axis=1).sample(frac=1).reset_index(drop=True)\n",
    "\n",
    "# Testingsize\n",
    "n = 100000\n",
    "\n",
    "# Split train- & testset\n",
    "df_train = df_filtered[:-n]\n",
    "df_test = df_filtered[-n:]\n",
    "df_train.shape, df_test.shape\n",
    "display(df_train.head(2))"
   ]
  },
  {
   "cell_type": "markdown",
   "metadata": {
    "colab_type": "text",
    "id": "JjQjPE9-76iP"
   },
   "source": [
    "The train set will be used to train all models and the test set ensures we can compare model performance on unseen data using the RMSE metric."
   ]
  },
  {
   "cell_type": "markdown",
   "metadata": {
    "colab_type": "text",
    "id": "ufn47cGh_wNC"
   },
   "source": [
    "# 7. Transformation"
   ]
  },
  {
   "cell_type": "markdown",
   "metadata": {
    "colab_type": "text",
    "id": "mWkzhX-a792R"
   },
   "source": [
    "### Q 7.1: Transform The User-Movie-Ratings Data Frame to User-Movie Matrix"
   ]
  },
  {
   "cell_type": "markdown",
   "metadata": {
    "colab_type": "text",
    "id": "qDeuv70i8NMQ"
   },
   "source": [
    "A large, sparse matrix will be created in this step. Each row will represent a user and its ratings and the columns are the movies.\n",
    "\n",
    "The movies already rated by users are the non-empty values in the matrix.\n",
    "\n",
    "Empty values are unrated movies and the main objective is to estimate the empty values to help our users.\n",
    "\n",
    "\n",
    "__Your turn:__ Create the User-Movie matrix leveraging the __`pivot_table()`__ function from pandas.\n",
    "\n",
    "Fill in the blanks in the code below by referencing the __`pivot_table()`__ function and invoking it on __`df_train`__. Feel free to check out the documentation.\n",
    "\n",
    "Remember, rows should be users, columns should be movies and the values in the matrix should be the movie ratings. All these should be available in the __`df_train`__ dataframe."
   ]
  },
  {
   "cell_type": "code",
   "execution_count": 22,
   "metadata": {
    "colab": {
     "base_uri": "https://localhost:8080/",
     "height": 438
    },
    "colab_type": "code",
    "id": "_ieAea92FJye",
    "outputId": "7a2dd65d-1af9-4300-c811-1f1d3f8e8f05"
   },
   "outputs": [
    {
     "name": "stdout",
     "output_type": "stream",
     "text": [
      "Shape User-Movie-Matrix:\t(20828, 1741)\n"
     ]
    },
    {
     "data": {
      "text/html": [
       "<div>\n",
       "<style scoped>\n",
       "    .dataframe tbody tr th:only-of-type {\n",
       "        vertical-align: middle;\n",
       "    }\n",
       "\n",
       "    .dataframe tbody tr th {\n",
       "        vertical-align: top;\n",
       "    }\n",
       "\n",
       "    .dataframe thead tr th {\n",
       "        text-align: left;\n",
       "    }\n",
       "\n",
       "    .dataframe thead tr:last-of-type th {\n",
       "        text-align: right;\n",
       "    }\n",
       "</style>\n",
       "<table border=\"1\" class=\"dataframe\">\n",
       "  <thead>\n",
       "    <tr>\n",
       "      <th></th>\n",
       "      <th colspan=\"21\" halign=\"left\">Rating</th>\n",
       "    </tr>\n",
       "    <tr>\n",
       "      <th>Movie</th>\n",
       "      <th>3</th>\n",
       "      <th>5</th>\n",
       "      <th>6</th>\n",
       "      <th>8</th>\n",
       "      <th>16</th>\n",
       "      <th>17</th>\n",
       "      <th>18</th>\n",
       "      <th>24</th>\n",
       "      <th>25</th>\n",
       "      <th>26</th>\n",
       "      <th>...</th>\n",
       "      <th>4482</th>\n",
       "      <th>4483</th>\n",
       "      <th>4484</th>\n",
       "      <th>4485</th>\n",
       "      <th>4488</th>\n",
       "      <th>4489</th>\n",
       "      <th>4490</th>\n",
       "      <th>4492</th>\n",
       "      <th>4493</th>\n",
       "      <th>4496</th>\n",
       "    </tr>\n",
       "    <tr>\n",
       "      <th>User</th>\n",
       "      <th></th>\n",
       "      <th></th>\n",
       "      <th></th>\n",
       "      <th></th>\n",
       "      <th></th>\n",
       "      <th></th>\n",
       "      <th></th>\n",
       "      <th></th>\n",
       "      <th></th>\n",
       "      <th></th>\n",
       "      <th></th>\n",
       "      <th></th>\n",
       "      <th></th>\n",
       "      <th></th>\n",
       "      <th></th>\n",
       "      <th></th>\n",
       "      <th></th>\n",
       "      <th></th>\n",
       "      <th></th>\n",
       "      <th></th>\n",
       "      <th></th>\n",
       "    </tr>\n",
       "  </thead>\n",
       "  <tbody>\n",
       "    <tr>\n",
       "      <th>1000079</th>\n",
       "      <td>NaN</td>\n",
       "      <td>NaN</td>\n",
       "      <td>NaN</td>\n",
       "      <td>NaN</td>\n",
       "      <td>NaN</td>\n",
       "      <td>NaN</td>\n",
       "      <td>NaN</td>\n",
       "      <td>NaN</td>\n",
       "      <td>NaN</td>\n",
       "      <td>NaN</td>\n",
       "      <td>...</td>\n",
       "      <td>NaN</td>\n",
       "      <td>NaN</td>\n",
       "      <td>NaN</td>\n",
       "      <td>NaN</td>\n",
       "      <td>2.0</td>\n",
       "      <td>NaN</td>\n",
       "      <td>NaN</td>\n",
       "      <td>NaN</td>\n",
       "      <td>NaN</td>\n",
       "      <td>NaN</td>\n",
       "    </tr>\n",
       "    <tr>\n",
       "      <th>1000192</th>\n",
       "      <td>NaN</td>\n",
       "      <td>NaN</td>\n",
       "      <td>NaN</td>\n",
       "      <td>NaN</td>\n",
       "      <td>NaN</td>\n",
       "      <td>NaN</td>\n",
       "      <td>NaN</td>\n",
       "      <td>NaN</td>\n",
       "      <td>NaN</td>\n",
       "      <td>NaN</td>\n",
       "      <td>...</td>\n",
       "      <td>NaN</td>\n",
       "      <td>NaN</td>\n",
       "      <td>NaN</td>\n",
       "      <td>NaN</td>\n",
       "      <td>NaN</td>\n",
       "      <td>NaN</td>\n",
       "      <td>NaN</td>\n",
       "      <td>NaN</td>\n",
       "      <td>NaN</td>\n",
       "      <td>NaN</td>\n",
       "    </tr>\n",
       "    <tr>\n",
       "      <th>1000301</th>\n",
       "      <td>NaN</td>\n",
       "      <td>NaN</td>\n",
       "      <td>NaN</td>\n",
       "      <td>NaN</td>\n",
       "      <td>NaN</td>\n",
       "      <td>NaN</td>\n",
       "      <td>4.0</td>\n",
       "      <td>NaN</td>\n",
       "      <td>NaN</td>\n",
       "      <td>NaN</td>\n",
       "      <td>...</td>\n",
       "      <td>NaN</td>\n",
       "      <td>NaN</td>\n",
       "      <td>NaN</td>\n",
       "      <td>NaN</td>\n",
       "      <td>4.0</td>\n",
       "      <td>NaN</td>\n",
       "      <td>NaN</td>\n",
       "      <td>NaN</td>\n",
       "      <td>NaN</td>\n",
       "      <td>NaN</td>\n",
       "    </tr>\n",
       "    <tr>\n",
       "      <th>1000387</th>\n",
       "      <td>NaN</td>\n",
       "      <td>NaN</td>\n",
       "      <td>NaN</td>\n",
       "      <td>NaN</td>\n",
       "      <td>NaN</td>\n",
       "      <td>NaN</td>\n",
       "      <td>NaN</td>\n",
       "      <td>NaN</td>\n",
       "      <td>NaN</td>\n",
       "      <td>NaN</td>\n",
       "      <td>...</td>\n",
       "      <td>NaN</td>\n",
       "      <td>NaN</td>\n",
       "      <td>NaN</td>\n",
       "      <td>1.0</td>\n",
       "      <td>2.0</td>\n",
       "      <td>NaN</td>\n",
       "      <td>NaN</td>\n",
       "      <td>1.0</td>\n",
       "      <td>NaN</td>\n",
       "      <td>NaN</td>\n",
       "    </tr>\n",
       "    <tr>\n",
       "      <th>1000410</th>\n",
       "      <td>NaN</td>\n",
       "      <td>NaN</td>\n",
       "      <td>NaN</td>\n",
       "      <td>NaN</td>\n",
       "      <td>NaN</td>\n",
       "      <td>NaN</td>\n",
       "      <td>4.0</td>\n",
       "      <td>NaN</td>\n",
       "      <td>NaN</td>\n",
       "      <td>NaN</td>\n",
       "      <td>...</td>\n",
       "      <td>NaN</td>\n",
       "      <td>NaN</td>\n",
       "      <td>NaN</td>\n",
       "      <td>NaN</td>\n",
       "      <td>3.0</td>\n",
       "      <td>NaN</td>\n",
       "      <td>3.0</td>\n",
       "      <td>NaN</td>\n",
       "      <td>NaN</td>\n",
       "      <td>3.0</td>\n",
       "    </tr>\n",
       "    <tr>\n",
       "      <th>1000527</th>\n",
       "      <td>NaN</td>\n",
       "      <td>NaN</td>\n",
       "      <td>NaN</td>\n",
       "      <td>NaN</td>\n",
       "      <td>NaN</td>\n",
       "      <td>NaN</td>\n",
       "      <td>NaN</td>\n",
       "      <td>NaN</td>\n",
       "      <td>NaN</td>\n",
       "      <td>NaN</td>\n",
       "      <td>...</td>\n",
       "      <td>NaN</td>\n",
       "      <td>NaN</td>\n",
       "      <td>NaN</td>\n",
       "      <td>NaN</td>\n",
       "      <td>NaN</td>\n",
       "      <td>NaN</td>\n",
       "      <td>NaN</td>\n",
       "      <td>NaN</td>\n",
       "      <td>3.0</td>\n",
       "      <td>NaN</td>\n",
       "    </tr>\n",
       "    <tr>\n",
       "      <th>1000596</th>\n",
       "      <td>NaN</td>\n",
       "      <td>NaN</td>\n",
       "      <td>NaN</td>\n",
       "      <td>NaN</td>\n",
       "      <td>NaN</td>\n",
       "      <td>NaN</td>\n",
       "      <td>NaN</td>\n",
       "      <td>2.0</td>\n",
       "      <td>NaN</td>\n",
       "      <td>NaN</td>\n",
       "      <td>...</td>\n",
       "      <td>NaN</td>\n",
       "      <td>NaN</td>\n",
       "      <td>NaN</td>\n",
       "      <td>NaN</td>\n",
       "      <td>NaN</td>\n",
       "      <td>NaN</td>\n",
       "      <td>NaN</td>\n",
       "      <td>NaN</td>\n",
       "      <td>NaN</td>\n",
       "      <td>NaN</td>\n",
       "    </tr>\n",
       "    <tr>\n",
       "      <th>1000634</th>\n",
       "      <td>NaN</td>\n",
       "      <td>NaN</td>\n",
       "      <td>NaN</td>\n",
       "      <td>NaN</td>\n",
       "      <td>3.0</td>\n",
       "      <td>NaN</td>\n",
       "      <td>NaN</td>\n",
       "      <td>NaN</td>\n",
       "      <td>NaN</td>\n",
       "      <td>NaN</td>\n",
       "      <td>...</td>\n",
       "      <td>NaN</td>\n",
       "      <td>NaN</td>\n",
       "      <td>NaN</td>\n",
       "      <td>NaN</td>\n",
       "      <td>4.0</td>\n",
       "      <td>NaN</td>\n",
       "      <td>NaN</td>\n",
       "      <td>4.0</td>\n",
       "      <td>NaN</td>\n",
       "      <td>NaN</td>\n",
       "    </tr>\n",
       "    <tr>\n",
       "      <th>1000710</th>\n",
       "      <td>NaN</td>\n",
       "      <td>NaN</td>\n",
       "      <td>NaN</td>\n",
       "      <td>NaN</td>\n",
       "      <td>NaN</td>\n",
       "      <td>NaN</td>\n",
       "      <td>NaN</td>\n",
       "      <td>NaN</td>\n",
       "      <td>NaN</td>\n",
       "      <td>NaN</td>\n",
       "      <td>...</td>\n",
       "      <td>NaN</td>\n",
       "      <td>NaN</td>\n",
       "      <td>NaN</td>\n",
       "      <td>NaN</td>\n",
       "      <td>NaN</td>\n",
       "      <td>NaN</td>\n",
       "      <td>NaN</td>\n",
       "      <td>NaN</td>\n",
       "      <td>NaN</td>\n",
       "      <td>NaN</td>\n",
       "    </tr>\n",
       "    <tr>\n",
       "      <th>1000779</th>\n",
       "      <td>NaN</td>\n",
       "      <td>NaN</td>\n",
       "      <td>NaN</td>\n",
       "      <td>NaN</td>\n",
       "      <td>NaN</td>\n",
       "      <td>NaN</td>\n",
       "      <td>NaN</td>\n",
       "      <td>NaN</td>\n",
       "      <td>NaN</td>\n",
       "      <td>NaN</td>\n",
       "      <td>...</td>\n",
       "      <td>NaN</td>\n",
       "      <td>NaN</td>\n",
       "      <td>NaN</td>\n",
       "      <td>NaN</td>\n",
       "      <td>NaN</td>\n",
       "      <td>NaN</td>\n",
       "      <td>NaN</td>\n",
       "      <td>NaN</td>\n",
       "      <td>NaN</td>\n",
       "      <td>4.0</td>\n",
       "    </tr>\n",
       "  </tbody>\n",
       "</table>\n",
       "<p>10 rows × 1741 columns</p>\n",
       "</div>"
      ],
      "text/plain": [
       "        Rating                                               ...            \\\n",
       "Movie     3    5    6    8    16   17   18   24   25   26    ... 4482 4483   \n",
       "User                                                         ...             \n",
       "1000079    NaN  NaN  NaN  NaN  NaN  NaN  NaN  NaN  NaN  NaN  ...  NaN  NaN   \n",
       "1000192    NaN  NaN  NaN  NaN  NaN  NaN  NaN  NaN  NaN  NaN  ...  NaN  NaN   \n",
       "1000301    NaN  NaN  NaN  NaN  NaN  NaN  4.0  NaN  NaN  NaN  ...  NaN  NaN   \n",
       "1000387    NaN  NaN  NaN  NaN  NaN  NaN  NaN  NaN  NaN  NaN  ...  NaN  NaN   \n",
       "1000410    NaN  NaN  NaN  NaN  NaN  NaN  4.0  NaN  NaN  NaN  ...  NaN  NaN   \n",
       "1000527    NaN  NaN  NaN  NaN  NaN  NaN  NaN  NaN  NaN  NaN  ...  NaN  NaN   \n",
       "1000596    NaN  NaN  NaN  NaN  NaN  NaN  NaN  2.0  NaN  NaN  ...  NaN  NaN   \n",
       "1000634    NaN  NaN  NaN  NaN  3.0  NaN  NaN  NaN  NaN  NaN  ...  NaN  NaN   \n",
       "1000710    NaN  NaN  NaN  NaN  NaN  NaN  NaN  NaN  NaN  NaN  ...  NaN  NaN   \n",
       "1000779    NaN  NaN  NaN  NaN  NaN  NaN  NaN  NaN  NaN  NaN  ...  NaN  NaN   \n",
       "\n",
       "                                                 \n",
       "Movie   4484 4485 4488 4489 4490 4492 4493 4496  \n",
       "User                                             \n",
       "1000079  NaN  NaN  2.0  NaN  NaN  NaN  NaN  NaN  \n",
       "1000192  NaN  NaN  NaN  NaN  NaN  NaN  NaN  NaN  \n",
       "1000301  NaN  NaN  4.0  NaN  NaN  NaN  NaN  NaN  \n",
       "1000387  NaN  1.0  2.0  NaN  NaN  1.0  NaN  NaN  \n",
       "1000410  NaN  NaN  3.0  NaN  3.0  NaN  NaN  3.0  \n",
       "1000527  NaN  NaN  NaN  NaN  NaN  NaN  3.0  NaN  \n",
       "1000596  NaN  NaN  NaN  NaN  NaN  NaN  NaN  NaN  \n",
       "1000634  NaN  NaN  4.0  NaN  NaN  4.0  NaN  NaN  \n",
       "1000710  NaN  NaN  NaN  NaN  NaN  NaN  NaN  NaN  \n",
       "1000779  NaN  NaN  NaN  NaN  NaN  NaN  NaN  4.0  \n",
       "\n",
       "[10 rows x 1741 columns]"
      ]
     },
     "execution_count": 22,
     "metadata": {},
     "output_type": "execute_result"
    }
   ],
   "source": [
    "# Create a user-movie matrix with empty values\n",
    "df_p = df_train.pivot_table(columns=\"Movie\", index=\"User\")\n",
    "print('Shape User-Movie-Matrix:\\t{}'.format(df_p.shape))\n",
    "df_p.head(10)"
   ]
  },
  {
   "cell_type": "markdown",
   "metadata": {
    "colab_type": "text",
    "id": "ojO2T5Ti_4TG"
   },
   "source": [
    "## 8. Building Recommendation Systems"
   ]
  },
  {
   "cell_type": "markdown",
   "metadata": {
    "colab_type": "text",
    "id": "cOrqqL3KDn9L"
   },
   "source": [
    "## 8.1(a): Global Recommendation Systems (Mean Rating)\n",
    "\n",
    "Computing the mean rating for all movies creates a ranking. The recommendation will be the same for all users and can be used if there is no information on the user.\n",
    "Variations of this approach can be separate rankings for each country/year/gender/... and to use them individually to recommend movies/items to the user.\n",
    "\n",
    "It has to be noted that this approach is biased and favours movies with fewer ratings, since large numbers of ratings tend to be less extreme in its mean ratings."
   ]
  },
  {
   "cell_type": "markdown",
   "metadata": {
    "colab_type": "text",
    "id": "zlIuNnXxONlb"
   },
   "source": [
    "### Additional Hint\n",
    "\n",
    "Predict model performance: [mean_squared_error](https://scikit-learn.org/stable/modules/generated/sklearn.metrics.mean_squared_error.html)"
   ]
  },
  {
   "cell_type": "code",
   "execution_count": 23,
   "metadata": {},
   "outputs": [
    {
     "name": "stdout",
     "output_type": "stream",
     "text": [
      "<class 'pandas.core.indexes.numeric.Int64Index'>\n"
     ]
    },
    {
     "data": {
      "text/html": [
       "<div>\n",
       "<style scoped>\n",
       "    .dataframe tbody tr th:only-of-type {\n",
       "        vertical-align: middle;\n",
       "    }\n",
       "\n",
       "    .dataframe tbody tr th {\n",
       "        vertical-align: top;\n",
       "    }\n",
       "\n",
       "    .dataframe thead th {\n",
       "        text-align: right;\n",
       "    }\n",
       "</style>\n",
       "<table border=\"1\" class=\"dataframe\">\n",
       "  <thead>\n",
       "    <tr style=\"text-align: right;\">\n",
       "      <th></th>\n",
       "      <th>Year</th>\n",
       "      <th>Name</th>\n",
       "    </tr>\n",
       "    <tr>\n",
       "      <th>Movie</th>\n",
       "      <th></th>\n",
       "      <th></th>\n",
       "    </tr>\n",
       "  </thead>\n",
       "  <tbody>\n",
       "    <tr>\n",
       "      <th>1</th>\n",
       "      <td>2003</td>\n",
       "      <td>Dinosaur Planet</td>\n",
       "    </tr>\n",
       "    <tr>\n",
       "      <th>2</th>\n",
       "      <td>2004</td>\n",
       "      <td>Isle of Man TT 2004 Review</td>\n",
       "    </tr>\n",
       "    <tr>\n",
       "      <th>3</th>\n",
       "      <td>1997</td>\n",
       "      <td>Character</td>\n",
       "    </tr>\n",
       "    <tr>\n",
       "      <th>4</th>\n",
       "      <td>1994</td>\n",
       "      <td>Paula Abdul's Get Up &amp; Dance</td>\n",
       "    </tr>\n",
       "    <tr>\n",
       "      <th>5</th>\n",
       "      <td>2004</td>\n",
       "      <td>The Rise and Fall of ECW</td>\n",
       "    </tr>\n",
       "    <tr>\n",
       "      <th>...</th>\n",
       "      <td>...</td>\n",
       "      <td>...</td>\n",
       "    </tr>\n",
       "    <tr>\n",
       "      <th>17766</th>\n",
       "      <td>2002</td>\n",
       "      <td>Where the Wild Things Are and Other Maurice Se...</td>\n",
       "    </tr>\n",
       "    <tr>\n",
       "      <th>17767</th>\n",
       "      <td>2004</td>\n",
       "      <td>Fidel Castro: American Experience</td>\n",
       "    </tr>\n",
       "    <tr>\n",
       "      <th>17768</th>\n",
       "      <td>2000</td>\n",
       "      <td>Epoch</td>\n",
       "    </tr>\n",
       "    <tr>\n",
       "      <th>17769</th>\n",
       "      <td>2003</td>\n",
       "      <td>The Company</td>\n",
       "    </tr>\n",
       "    <tr>\n",
       "      <th>17770</th>\n",
       "      <td>2003</td>\n",
       "      <td>Alien Hunter</td>\n",
       "    </tr>\n",
       "  </tbody>\n",
       "</table>\n",
       "<p>17763 rows × 2 columns</p>\n",
       "</div>"
      ],
      "text/plain": [
       "       Year                                               Name\n",
       "Movie                                                         \n",
       "1      2003                                    Dinosaur Planet\n",
       "2      2004                         Isle of Man TT 2004 Review\n",
       "3      1997                                          Character\n",
       "4      1994                       Paula Abdul's Get Up & Dance\n",
       "5      2004                           The Rise and Fall of ECW\n",
       "...     ...                                                ...\n",
       "17766  2002  Where the Wild Things Are and Other Maurice Se...\n",
       "17767  2004                  Fidel Castro: American Experience\n",
       "17768  2000                                              Epoch\n",
       "17769  2003                                        The Company\n",
       "17770  2003                                       Alien Hunter\n",
       "\n",
       "[17763 rows x 2 columns]"
      ]
     },
     "metadata": {},
     "output_type": "display_data"
    }
   ],
   "source": [
    "#display(ratings_count.head())\n",
    "#display(ratings_mean.head())\n",
    "\n",
    "movie_titles.index.name = \"Movie\" #change index name from Id to Movie for merge\n",
    "movie_titles.index = movie_titles.index.map(int)\n",
    "print(type(movie_titles.index))\n",
    "display(movie_titles)"
   ]
  },
  {
   "cell_type": "code",
   "execution_count": 24,
   "metadata": {
    "colab": {
     "base_uri": "https://localhost:8080/",
     "height": 225
    },
    "colab_type": "code",
    "id": "spUQbaIz24Fo",
    "outputId": "0bb9b792-e2af-45a3-994c-ed167f0e75fd"
   },
   "outputs": [
    {
     "data": {
      "text/plain": [
       "'Movie'"
      ]
     },
     "metadata": {},
     "output_type": "display_data"
    },
    {
     "data": {
      "text/html": [
       "<div>\n",
       "<style scoped>\n",
       "    .dataframe tbody tr th:only-of-type {\n",
       "        vertical-align: middle;\n",
       "    }\n",
       "\n",
       "    .dataframe tbody tr th {\n",
       "        vertical-align: top;\n",
       "    }\n",
       "\n",
       "    .dataframe thead th {\n",
       "        text-align: right;\n",
       "    }\n",
       "</style>\n",
       "<table border=\"1\" class=\"dataframe\">\n",
       "  <thead>\n",
       "    <tr style=\"text-align: right;\">\n",
       "      <th></th>\n",
       "      <th>Rating-Mean</th>\n",
       "      <th>Rating-Freq</th>\n",
       "      <th>Year</th>\n",
       "      <th>Name</th>\n",
       "    </tr>\n",
       "    <tr>\n",
       "      <th>Movie</th>\n",
       "      <th></th>\n",
       "      <th></th>\n",
       "      <th></th>\n",
       "      <th></th>\n",
       "    </tr>\n",
       "  </thead>\n",
       "  <tbody>\n",
       "    <tr>\n",
       "      <th>3456</th>\n",
       "      <td>4.656535</td>\n",
       "      <td>1316</td>\n",
       "      <td>2004</td>\n",
       "      <td>Lost: Season 1</td>\n",
       "    </tr>\n",
       "    <tr>\n",
       "      <th>2102</th>\n",
       "      <td>4.506484</td>\n",
       "      <td>2776</td>\n",
       "      <td>1994</td>\n",
       "      <td>The Simpsons: Season 6</td>\n",
       "    </tr>\n",
       "    <tr>\n",
       "      <th>3444</th>\n",
       "      <td>4.442948</td>\n",
       "      <td>2822</td>\n",
       "      <td>2004</td>\n",
       "      <td>Family Guy: Freakin' Sweet Collection</td>\n",
       "    </tr>\n",
       "    <tr>\n",
       "      <th>2452</th>\n",
       "      <td>4.426843</td>\n",
       "      <td>18597</td>\n",
       "      <td>2001</td>\n",
       "      <td>Lord of the Rings: The Fellowship of the Ring</td>\n",
       "    </tr>\n",
       "    <tr>\n",
       "      <th>2172</th>\n",
       "      <td>4.385247</td>\n",
       "      <td>6209</td>\n",
       "      <td>1991</td>\n",
       "      <td>The Simpsons: Season 3</td>\n",
       "    </tr>\n",
       "    <tr>\n",
       "      <th>1256</th>\n",
       "      <td>4.373342</td>\n",
       "      <td>2941</td>\n",
       "      <td>1994</td>\n",
       "      <td>The Best of Friends: Vol. 4</td>\n",
       "    </tr>\n",
       "    <tr>\n",
       "      <th>3962</th>\n",
       "      <td>4.367991</td>\n",
       "      <td>17495</td>\n",
       "      <td>2003</td>\n",
       "      <td>Finding Nemo (Widescreen)</td>\n",
       "    </tr>\n",
       "    <tr>\n",
       "      <th>4238</th>\n",
       "      <td>4.356481</td>\n",
       "      <td>216</td>\n",
       "      <td>2000</td>\n",
       "      <td>Inu-Yasha</td>\n",
       "    </tr>\n",
       "    <tr>\n",
       "      <th>3046</th>\n",
       "      <td>4.346123</td>\n",
       "      <td>5030</td>\n",
       "      <td>1990</td>\n",
       "      <td>The Simpsons: Treehouse of Horror</td>\n",
       "    </tr>\n",
       "    <tr>\n",
       "      <th>1476</th>\n",
       "      <td>4.345554</td>\n",
       "      <td>2564</td>\n",
       "      <td>2004</td>\n",
       "      <td>Six Feet Under: Season 4</td>\n",
       "    </tr>\n",
       "  </tbody>\n",
       "</table>\n",
       "</div>"
      ],
      "text/plain": [
       "       Rating-Mean  Rating-Freq  Year  \\\n",
       "Movie                                   \n",
       "3456      4.656535         1316  2004   \n",
       "2102      4.506484         2776  1994   \n",
       "3444      4.442948         2822  2004   \n",
       "2452      4.426843        18597  2001   \n",
       "2172      4.385247         6209  1991   \n",
       "1256      4.373342         2941  1994   \n",
       "3962      4.367991        17495  2003   \n",
       "4238      4.356481          216  2000   \n",
       "3046      4.346123         5030  1990   \n",
       "1476      4.345554         2564  2004   \n",
       "\n",
       "                                                Name  \n",
       "Movie                                                 \n",
       "3456                                  Lost: Season 1  \n",
       "2102                          The Simpsons: Season 6  \n",
       "3444           Family Guy: Freakin' Sweet Collection  \n",
       "2452   Lord of the Rings: The Fellowship of the Ring  \n",
       "2172                          The Simpsons: Season 3  \n",
       "1256                     The Best of Friends: Vol. 4  \n",
       "3962                       Finding Nemo (Widescreen)  \n",
       "4238                                       Inu-Yasha  \n",
       "3046               The Simpsons: Treehouse of Horror  \n",
       "1476                        Six Feet Under: Season 4  "
      ]
     },
     "metadata": {},
     "output_type": "display_data"
    },
    {
     "name": "stdout",
     "output_type": "stream",
     "text": [
      "<class 'pandas.core.frame.DataFrame'>\n",
      "Int64Index: 1741 entries, 3456 to 3667\n",
      "Data columns (total 4 columns):\n",
      " #   Column       Non-Null Count  Dtype  \n",
      "---  ------       --------------  -----  \n",
      " 0   Rating-Mean  1741 non-null   float64\n",
      " 1   Rating-Freq  1741 non-null   int64  \n",
      " 2   Year         1741 non-null   object \n",
      " 3   Name         1741 non-null   object \n",
      "dtypes: float64(1), int64(1), object(2)\n",
      "memory usage: 132.5+ KB\n"
     ]
    }
   ],
   "source": [
    "# Compute mean rating for all movies\n",
    "ratings_mean = df_p.mean(axis=0).sort_values(ascending=False).rename('Rating-Mean').to_frame().reset_index(level=0,drop=True)\n",
    "display(ratings_mean.index.name)\n",
    "\n",
    "# Compute rating frequencies for all movies\n",
    "ratings_count = df_p.count(axis=0).rename('Rating-Freq').to_frame().reset_index(level=0,drop=True)\n",
    "\n",
    "# Combine the aggregated dataframes\n",
    "combined_df = ratings_mean.join(ratings_count).join(movie_titles)\n",
    "\n",
    "#combined_df = pd.merge(mean_join, movie_titles, left_index=True, right_index=True)\n",
    "display(combined_df.head(10))\n",
    "combined_df.info()"
   ]
  },
  {
   "cell_type": "code",
   "execution_count": 25,
   "metadata": {
    "colab": {
     "base_uri": "https://localhost:8080/",
     "height": 225
    },
    "colab_type": "code",
    "id": "vf66eVE_24Fq",
    "outputId": "21cc00bc-6df3-4e96-cf2b-142b317f565a"
   },
   "outputs": [
    {
     "data": {
      "text/html": [
       "<div>\n",
       "<style scoped>\n",
       "    .dataframe tbody tr th:only-of-type {\n",
       "        vertical-align: middle;\n",
       "    }\n",
       "\n",
       "    .dataframe tbody tr th {\n",
       "        vertical-align: top;\n",
       "    }\n",
       "\n",
       "    .dataframe thead th {\n",
       "        text-align: right;\n",
       "    }\n",
       "</style>\n",
       "<table border=\"1\" class=\"dataframe\">\n",
       "  <thead>\n",
       "    <tr style=\"text-align: right;\">\n",
       "      <th></th>\n",
       "      <th>User</th>\n",
       "      <th>Rating</th>\n",
       "      <th>Rating-Mean</th>\n",
       "    </tr>\n",
       "    <tr>\n",
       "      <th>Movie</th>\n",
       "      <th></th>\n",
       "      <th></th>\n",
       "      <th></th>\n",
       "    </tr>\n",
       "  </thead>\n",
       "  <tbody>\n",
       "    <tr>\n",
       "      <th>3</th>\n",
       "      <td>819822</td>\n",
       "      <td>2.0</td>\n",
       "      <td>3.467167</td>\n",
       "    </tr>\n",
       "    <tr>\n",
       "      <th>3</th>\n",
       "      <td>309333</td>\n",
       "      <td>4.0</td>\n",
       "      <td>3.467167</td>\n",
       "    </tr>\n",
       "    <tr>\n",
       "      <th>3</th>\n",
       "      <td>1507727</td>\n",
       "      <td>2.0</td>\n",
       "      <td>3.467167</td>\n",
       "    </tr>\n",
       "    <tr>\n",
       "      <th>3</th>\n",
       "      <td>1386457</td>\n",
       "      <td>3.0</td>\n",
       "      <td>3.467167</td>\n",
       "    </tr>\n",
       "    <tr>\n",
       "      <th>3</th>\n",
       "      <td>1788346</td>\n",
       "      <td>1.0</td>\n",
       "      <td>3.467167</td>\n",
       "    </tr>\n",
       "  </tbody>\n",
       "</table>\n",
       "</div>"
      ],
      "text/plain": [
       "          User  Rating  Rating-Mean\n",
       "Movie                              \n",
       "3       819822     2.0     3.467167\n",
       "3       309333     4.0     3.467167\n",
       "3      1507727     2.0     3.467167\n",
       "3      1386457     3.0     3.467167\n",
       "3      1788346     1.0     3.467167"
      ]
     },
     "metadata": {},
     "output_type": "display_data"
    },
    {
     "name": "stdout",
     "output_type": "stream",
     "text": [
      "100000\n"
     ]
    }
   ],
   "source": [
    "# Join labels and predictions based on mean movie rating\n",
    "predictions_df = df_test.set_index('Movie').join(ratings_mean)\n",
    "display(predictions_df.head(5))\n",
    "print(len(predictions_df))"
   ]
  },
  {
   "cell_type": "code",
   "execution_count": 26,
   "metadata": {
    "colab": {
     "base_uri": "https://localhost:8080/",
     "height": 34
    },
    "colab_type": "code",
    "id": "9W2txAub24Fs",
    "outputId": "ef0d3bfd-859d-4596-a465-9b17504a1b65"
   },
   "outputs": [
    {
     "name": "stdout",
     "output_type": "stream",
     "text": [
      "The RMSE Value for the Mean Rating Recommender: 1.0053068627308375\n"
     ]
    }
   ],
   "source": [
    "# Compute RMSE\n",
    "y_true = predictions_df['Rating']\n",
    "y_pred = predictions_df['Rating-Mean']\n",
    "\n",
    "rmse = np.sqrt(mean_squared_error(y_true=y_true, y_pred=y_pred))\n",
    "print(\"The RMSE Value for the Mean Rating Recommender:\", rmse)"
   ]
  },
  {
   "cell_type": "code",
   "execution_count": 27,
   "metadata": {
    "colab": {
     "base_uri": "https://localhost:8080/",
     "height": 373
    },
    "colab_type": "code",
    "id": "xda52K1m24Fu",
    "outputId": "a537ffcc-dc45-458b-9d2c-b0ed262d3103"
   },
   "outputs": [
    {
     "data": {
      "text/html": [
       "<div>\n",
       "<style scoped>\n",
       "    .dataframe tbody tr th:only-of-type {\n",
       "        vertical-align: middle;\n",
       "    }\n",
       "\n",
       "    .dataframe tbody tr th {\n",
       "        vertical-align: top;\n",
       "    }\n",
       "\n",
       "    .dataframe thead th {\n",
       "        text-align: right;\n",
       "    }\n",
       "</style>\n",
       "<table border=\"1\" class=\"dataframe\">\n",
       "  <thead>\n",
       "    <tr style=\"text-align: right;\">\n",
       "      <th></th>\n",
       "      <th>Name</th>\n",
       "      <th>Rating-Mean</th>\n",
       "    </tr>\n",
       "    <tr>\n",
       "      <th>Movie</th>\n",
       "      <th></th>\n",
       "      <th></th>\n",
       "    </tr>\n",
       "  </thead>\n",
       "  <tbody>\n",
       "    <tr>\n",
       "      <th>3456</th>\n",
       "      <td>Lost: Season 1</td>\n",
       "      <td>4.656535</td>\n",
       "    </tr>\n",
       "    <tr>\n",
       "      <th>2102</th>\n",
       "      <td>The Simpsons: Season 6</td>\n",
       "      <td>4.506484</td>\n",
       "    </tr>\n",
       "    <tr>\n",
       "      <th>3444</th>\n",
       "      <td>Family Guy: Freakin' Sweet Collection</td>\n",
       "      <td>4.442948</td>\n",
       "    </tr>\n",
       "    <tr>\n",
       "      <th>2452</th>\n",
       "      <td>Lord of the Rings: The Fellowship of the Ring</td>\n",
       "      <td>4.426843</td>\n",
       "    </tr>\n",
       "    <tr>\n",
       "      <th>2172</th>\n",
       "      <td>The Simpsons: Season 3</td>\n",
       "      <td>4.385247</td>\n",
       "    </tr>\n",
       "    <tr>\n",
       "      <th>1256</th>\n",
       "      <td>The Best of Friends: Vol. 4</td>\n",
       "      <td>4.373342</td>\n",
       "    </tr>\n",
       "    <tr>\n",
       "      <th>3962</th>\n",
       "      <td>Finding Nemo (Widescreen)</td>\n",
       "      <td>4.367991</td>\n",
       "    </tr>\n",
       "    <tr>\n",
       "      <th>4238</th>\n",
       "      <td>Inu-Yasha</td>\n",
       "      <td>4.356481</td>\n",
       "    </tr>\n",
       "    <tr>\n",
       "      <th>3046</th>\n",
       "      <td>The Simpsons: Treehouse of Horror</td>\n",
       "      <td>4.346123</td>\n",
       "    </tr>\n",
       "    <tr>\n",
       "      <th>1476</th>\n",
       "      <td>Six Feet Under: Season 4</td>\n",
       "      <td>4.345554</td>\n",
       "    </tr>\n",
       "  </tbody>\n",
       "</table>\n",
       "</div>"
      ],
      "text/plain": [
       "                                                Name  Rating-Mean\n",
       "Movie                                                            \n",
       "3456                                  Lost: Season 1     4.656535\n",
       "2102                          The Simpsons: Season 6     4.506484\n",
       "3444           Family Guy: Freakin' Sweet Collection     4.442948\n",
       "2452   Lord of the Rings: The Fellowship of the Ring     4.426843\n",
       "2172                          The Simpsons: Season 3     4.385247\n",
       "1256                     The Best of Friends: Vol. 4     4.373342\n",
       "3962                       Finding Nemo (Widescreen)     4.367991\n",
       "4238                                       Inu-Yasha     4.356481\n",
       "3046               The Simpsons: Treehouse of Horror     4.346123\n",
       "1476                        Six Feet Under: Season 4     4.345554"
      ]
     },
     "execution_count": 27,
     "metadata": {},
     "output_type": "execute_result"
    }
   ],
   "source": [
    "# View top ten rated movies\n",
    "combined_df[['Name', 'Rating-Mean']].head(10)"
   ]
  },
  {
   "cell_type": "markdown",
   "metadata": {
    "colab_type": "text",
    "id": "iFalvivYD1Is"
   },
   "source": [
    "## Q 8.1(b): Global Recommendation Systems (Weighted Rating)\n",
    "\n",
    "To tackle the problem of the unstable mean with few ratings e.g. IDMb uses a weighted rating. Many good ratings outweigh few in this algorithm.\n",
    "\n",
    "### Hint:\n",
    "\n",
    "Weighted Rating Formula\n",
    "\n",
    "weighted rating (𝑊𝑅)=(𝑣/(𝑣+𝑚))𝑅+(𝑚/(𝑣+𝑚))𝐶\n",
    "\n",
    "where:\n",
    "\n",
    "*𝑅* = average for the movie (mean) = (Rating)\n",
    "\n",
    "*𝑣* = number of votes for the movie = (votes)\n",
    "\n",
    "*𝑚* = minimum votes required \n",
    "\n",
    "*𝐶* = the mean vote across the whole report \n",
    "\n",
    "__Your Turn:__ Fill in the necessary code snippets below to build and test the model\n"
   ]
  },
  {
   "cell_type": "code",
   "execution_count": 28,
   "metadata": {},
   "outputs": [
    {
     "data": {
      "text/html": [
       "<div>\n",
       "<style scoped>\n",
       "    .dataframe tbody tr th:only-of-type {\n",
       "        vertical-align: middle;\n",
       "    }\n",
       "\n",
       "    .dataframe tbody tr th {\n",
       "        vertical-align: top;\n",
       "    }\n",
       "\n",
       "    .dataframe thead th {\n",
       "        text-align: right;\n",
       "    }\n",
       "</style>\n",
       "<table border=\"1\" class=\"dataframe\">\n",
       "  <thead>\n",
       "    <tr style=\"text-align: right;\">\n",
       "      <th></th>\n",
       "      <th></th>\n",
       "      <th>Rating</th>\n",
       "    </tr>\n",
       "    <tr>\n",
       "      <th>User</th>\n",
       "      <th>Movie</th>\n",
       "      <th></th>\n",
       "    </tr>\n",
       "  </thead>\n",
       "  <tbody>\n",
       "    <tr>\n",
       "      <th rowspan=\"5\" valign=\"top\">1000079</th>\n",
       "      <th>28</th>\n",
       "      <td>2.0</td>\n",
       "    </tr>\n",
       "    <tr>\n",
       "      <th>30</th>\n",
       "      <td>4.0</td>\n",
       "    </tr>\n",
       "    <tr>\n",
       "      <th>45</th>\n",
       "      <td>2.0</td>\n",
       "    </tr>\n",
       "    <tr>\n",
       "      <th>46</th>\n",
       "      <td>4.0</td>\n",
       "    </tr>\n",
       "    <tr>\n",
       "      <th>83</th>\n",
       "      <td>3.0</td>\n",
       "    </tr>\n",
       "  </tbody>\n",
       "</table>\n",
       "</div>"
      ],
      "text/plain": [
       "               Rating\n",
       "User    Movie        \n",
       "1000079 28        2.0\n",
       "        30        4.0\n",
       "        45        2.0\n",
       "        46        4.0\n",
       "        83        3.0"
      ]
     },
     "metadata": {},
     "output_type": "display_data"
    }
   ],
   "source": [
    "display(df_p.stack().head())"
   ]
  },
  {
   "cell_type": "code",
   "execution_count": 29,
   "metadata": {
    "colab": {},
    "colab_type": "code",
    "id": "GVfj7TPz24Fz"
   },
   "outputs": [
    {
     "data": {
      "text/plain": [
       "3.467850116480673"
      ]
     },
     "metadata": {},
     "output_type": "display_data"
    },
    {
     "data": {
      "text/plain": [
       "array([3.46716698, 3.42279412, 3.03942652, ..., 2.71535181, 3.15371622,\n",
       "       3.68760908])"
      ]
     },
     "metadata": {},
     "output_type": "display_data"
    }
   ],
   "source": [
    "# Number of minimum votes to be considered\n",
    "m = 1000\n",
    "\n",
    "# Mean rating for all movies\n",
    "C = df_p.stack().mean()[0]\n",
    "display(C)\n",
    "\n",
    "# Mean rating for all movies separately\n",
    "R = df_p.mean(axis=0).values\n",
    "display(R)\n",
    "\n",
    "# Rating freqency for all movies separately\n",
    "v = df_p.count().values"
   ]
  },
  {
   "cell_type": "code",
   "execution_count": 30,
   "metadata": {
    "colab": {},
    "colab_type": "code",
    "id": "Ntm_D7Yl24F1",
    "scrolled": true
   },
   "outputs": [
    {
     "data": {
      "text/plain": [
       "1741"
      ]
     },
     "metadata": {},
     "output_type": "display_data"
    }
   ],
   "source": [
    "# Weighted formula to compute the weighted rating\n",
    "weighted_score = (v/(v+m))*R+(m/(v+m))*C\n",
    "display(len(weighted_score))"
   ]
  },
  {
   "cell_type": "code",
   "execution_count": 31,
   "metadata": {
    "colab": {
     "base_uri": "https://localhost:8080/",
     "height": 225
    },
    "colab_type": "code",
    "id": "YQe4smBk24F3",
    "outputId": "4d1e39ef-72ef-414a-a235-8d0883aa9e00"
   },
   "outputs": [
    {
     "data": {
      "text/html": [
       "<div>\n",
       "<style scoped>\n",
       "    .dataframe tbody tr th:only-of-type {\n",
       "        vertical-align: middle;\n",
       "    }\n",
       "\n",
       "    .dataframe tbody tr th {\n",
       "        vertical-align: top;\n",
       "    }\n",
       "\n",
       "    .dataframe thead th {\n",
       "        text-align: right;\n",
       "    }\n",
       "</style>\n",
       "<table border=\"1\" class=\"dataframe\">\n",
       "  <thead>\n",
       "    <tr style=\"text-align: right;\">\n",
       "      <th></th>\n",
       "      <th>Weighted_mean</th>\n",
       "      <th>Year</th>\n",
       "      <th>Name</th>\n",
       "    </tr>\n",
       "    <tr>\n",
       "      <th>Movie</th>\n",
       "      <th></th>\n",
       "      <th></th>\n",
       "      <th></th>\n",
       "    </tr>\n",
       "  </thead>\n",
       "  <tbody>\n",
       "    <tr>\n",
       "      <th>3</th>\n",
       "      <td>3.467613</td>\n",
       "      <td>1997</td>\n",
       "      <td>Character</td>\n",
       "    </tr>\n",
       "    <tr>\n",
       "      <th>5</th>\n",
       "      <td>3.458216</td>\n",
       "      <td>2004</td>\n",
       "      <td>The Rise and Fall of ECW</td>\n",
       "    </tr>\n",
       "    <tr>\n",
       "      <th>6</th>\n",
       "      <td>3.374394</td>\n",
       "      <td>1997</td>\n",
       "      <td>Sick</td>\n",
       "    </tr>\n",
       "    <tr>\n",
       "      <th>8</th>\n",
       "      <td>3.167646</td>\n",
       "      <td>2004</td>\n",
       "      <td>What the #$*! Do We Know!?</td>\n",
       "    </tr>\n",
       "    <tr>\n",
       "      <th>16</th>\n",
       "      <td>3.195578</td>\n",
       "      <td>1996</td>\n",
       "      <td>Screamers</td>\n",
       "    </tr>\n",
       "  </tbody>\n",
       "</table>\n",
       "</div>"
      ],
      "text/plain": [
       "       Weighted_mean  Year                        Name\n",
       "Movie                                                 \n",
       "3           3.467613  1997                   Character\n",
       "5           3.458216  2004    The Rise and Fall of ECW\n",
       "6           3.374394  1997                        Sick\n",
       "8           3.167646  2004  What the #$*! Do We Know!?\n",
       "16          3.195578  1996                   Screamers"
      ]
     },
     "execution_count": 31,
     "metadata": {},
     "output_type": "execute_result"
    }
   ],
   "source": [
    "# convert weighted_score into a dataframe\n",
    "weighted_mean = pd.DataFrame(weighted_score)\n",
    "#display(df_p.columns)\n",
    "weighted_mean.index = df_p.columns.droplevel(0)\n",
    "# print(type(weighted_mean.index))\n",
    "# print(type(movie_titles.index))\n",
    "# display(weighted_mean.head())\n",
    "# Combine the aggregated dataframes (wighted_mean & movie_titles)\n",
    "combined_df = weighted_mean.join(movie_titles)\n",
    "combined_df.rename(columns={0:\"Weighted_mean\"},inplace=True)\n",
    "combined_df.head(5)"
   ]
  },
  {
   "cell_type": "code",
   "execution_count": 32,
   "metadata": {
    "colab": {
     "base_uri": "https://localhost:8080/",
     "height": 225
    },
    "colab_type": "code",
    "id": "jMd68xuj24F5",
    "outputId": "948409a5-b235-4892-912a-3ec8b70f841d"
   },
   "outputs": [
    {
     "data": {
      "text/html": [
       "<div>\n",
       "<style scoped>\n",
       "    .dataframe tbody tr th:only-of-type {\n",
       "        vertical-align: middle;\n",
       "    }\n",
       "\n",
       "    .dataframe tbody tr th {\n",
       "        vertical-align: top;\n",
       "    }\n",
       "\n",
       "    .dataframe thead th {\n",
       "        text-align: right;\n",
       "    }\n",
       "</style>\n",
       "<table border=\"1\" class=\"dataframe\">\n",
       "  <thead>\n",
       "    <tr style=\"text-align: right;\">\n",
       "      <th></th>\n",
       "      <th>User</th>\n",
       "      <th>Rating</th>\n",
       "      <th>Weighted_mean</th>\n",
       "      <th>Year</th>\n",
       "      <th>Name</th>\n",
       "    </tr>\n",
       "    <tr>\n",
       "      <th>Movie</th>\n",
       "      <th></th>\n",
       "      <th></th>\n",
       "      <th></th>\n",
       "      <th></th>\n",
       "      <th></th>\n",
       "    </tr>\n",
       "  </thead>\n",
       "  <tbody>\n",
       "    <tr>\n",
       "      <th>3</th>\n",
       "      <td>819822</td>\n",
       "      <td>2.0</td>\n",
       "      <td>3.467613</td>\n",
       "      <td>1997</td>\n",
       "      <td>Character</td>\n",
       "    </tr>\n",
       "    <tr>\n",
       "      <th>3</th>\n",
       "      <td>309333</td>\n",
       "      <td>4.0</td>\n",
       "      <td>3.467613</td>\n",
       "      <td>1997</td>\n",
       "      <td>Character</td>\n",
       "    </tr>\n",
       "    <tr>\n",
       "      <th>3</th>\n",
       "      <td>1507727</td>\n",
       "      <td>2.0</td>\n",
       "      <td>3.467613</td>\n",
       "      <td>1997</td>\n",
       "      <td>Character</td>\n",
       "    </tr>\n",
       "    <tr>\n",
       "      <th>3</th>\n",
       "      <td>1386457</td>\n",
       "      <td>3.0</td>\n",
       "      <td>3.467613</td>\n",
       "      <td>1997</td>\n",
       "      <td>Character</td>\n",
       "    </tr>\n",
       "    <tr>\n",
       "      <th>3</th>\n",
       "      <td>1788346</td>\n",
       "      <td>1.0</td>\n",
       "      <td>3.467613</td>\n",
       "      <td>1997</td>\n",
       "      <td>Character</td>\n",
       "    </tr>\n",
       "  </tbody>\n",
       "</table>\n",
       "</div>"
      ],
      "text/plain": [
       "          User  Rating  Weighted_mean  Year       Name\n",
       "Movie                                                 \n",
       "3       819822     2.0       3.467613  1997  Character\n",
       "3       309333     4.0       3.467613  1997  Character\n",
       "3      1507727     2.0       3.467613  1997  Character\n",
       "3      1386457     3.0       3.467613  1997  Character\n",
       "3      1788346     1.0       3.467613  1997  Character"
      ]
     },
     "execution_count": 32,
     "metadata": {},
     "output_type": "execute_result"
    }
   ],
   "source": [
    "# Join labels and predictions based on mean movie rating\n",
    "predictions_df = df_test.set_index('Movie').join(combined_df)\n",
    "predictions_df.head(5)"
   ]
  },
  {
   "cell_type": "code",
   "execution_count": 33,
   "metadata": {
    "colab": {
     "base_uri": "https://localhost:8080/",
     "height": 34
    },
    "colab_type": "code",
    "id": "HdCxHIO424F8",
    "outputId": "e8369ec9-e022-4b66-cd55-256ee1f5ff62"
   },
   "outputs": [
    {
     "name": "stdout",
     "output_type": "stream",
     "text": [
      "The RMSE Value for the Weighted-Mean Rating Recommender: 1.010270000697466\n"
     ]
    }
   ],
   "source": [
    "# Compute RMSE\n",
    "y_true = predictions_df[\"Rating\"]\n",
    "y_pred = predictions_df[\"Weighted_mean\"]\n",
    "\n",
    "rmse = np.sqrt(mean_squared_error(y_true=y_true, y_pred=y_pred))\n",
    "print(\"The RMSE Value for the Weighted-Mean Rating Recommender:\", rmse)"
   ]
  },
  {
   "cell_type": "code",
   "execution_count": 34,
   "metadata": {
    "colab": {
     "base_uri": "https://localhost:8080/",
     "height": 373
    },
    "colab_type": "code",
    "id": "gt1Q5Mh124F-",
    "outputId": "1e61eb00-d5a9-4265-9b80-579b21be655c"
   },
   "outputs": [
    {
     "data": {
      "text/html": [
       "<div>\n",
       "<style scoped>\n",
       "    .dataframe tbody tr th:only-of-type {\n",
       "        vertical-align: middle;\n",
       "    }\n",
       "\n",
       "    .dataframe tbody tr th {\n",
       "        vertical-align: top;\n",
       "    }\n",
       "\n",
       "    .dataframe thead th {\n",
       "        text-align: right;\n",
       "    }\n",
       "</style>\n",
       "<table border=\"1\" class=\"dataframe\">\n",
       "  <thead>\n",
       "    <tr style=\"text-align: right;\">\n",
       "      <th></th>\n",
       "      <th>Name</th>\n",
       "      <th>Weighted_mean</th>\n",
       "    </tr>\n",
       "    <tr>\n",
       "      <th>Movie</th>\n",
       "      <th></th>\n",
       "      <th></th>\n",
       "    </tr>\n",
       "  </thead>\n",
       "  <tbody>\n",
       "    <tr>\n",
       "      <th>2452</th>\n",
       "      <td>Lord of the Rings: The Fellowship of the Ring</td>\n",
       "      <td>4.377907</td>\n",
       "    </tr>\n",
       "    <tr>\n",
       "      <th>3962</th>\n",
       "      <td>Finding Nemo (Widescreen)</td>\n",
       "      <td>4.319321</td>\n",
       "    </tr>\n",
       "    <tr>\n",
       "      <th>4306</th>\n",
       "      <td>The Sixth Sense</td>\n",
       "      <td>4.289288</td>\n",
       "    </tr>\n",
       "    <tr>\n",
       "      <th>2862</th>\n",
       "      <td>The Silence of the Lambs</td>\n",
       "      <td>4.282430</td>\n",
       "    </tr>\n",
       "    <tr>\n",
       "      <th>3290</th>\n",
       "      <td>The Godfather, Part II</td>\n",
       "      <td>4.265382</td>\n",
       "    </tr>\n",
       "    <tr>\n",
       "      <th>2172</th>\n",
       "      <td>The Simpsons: Season 3</td>\n",
       "      <td>4.257990</td>\n",
       "    </tr>\n",
       "    <tr>\n",
       "      <th>2102</th>\n",
       "      <td>The Simpsons: Season 6</td>\n",
       "      <td>4.231422</td>\n",
       "    </tr>\n",
       "    <tr>\n",
       "      <th>2782</th>\n",
       "      <td>Braveheart</td>\n",
       "      <td>4.216239</td>\n",
       "    </tr>\n",
       "    <tr>\n",
       "      <th>3046</th>\n",
       "      <td>The Simpsons: Treehouse of Horror</td>\n",
       "      <td>4.200473</td>\n",
       "    </tr>\n",
       "    <tr>\n",
       "      <th>3444</th>\n",
       "      <td>Family Guy: Freakin' Sweet Collection</td>\n",
       "      <td>4.187821</td>\n",
       "    </tr>\n",
       "  </tbody>\n",
       "</table>\n",
       "</div>"
      ],
      "text/plain": [
       "                                                Name  Weighted_mean\n",
       "Movie                                                              \n",
       "2452   Lord of the Rings: The Fellowship of the Ring       4.377907\n",
       "3962                       Finding Nemo (Widescreen)       4.319321\n",
       "4306                                 The Sixth Sense       4.289288\n",
       "2862                        The Silence of the Lambs       4.282430\n",
       "3290                          The Godfather, Part II       4.265382\n",
       "2172                          The Simpsons: Season 3       4.257990\n",
       "2102                          The Simpsons: Season 6       4.231422\n",
       "2782                                      Braveheart       4.216239\n",
       "3046               The Simpsons: Treehouse of Horror       4.200473\n",
       "3444           Family Guy: Freakin' Sweet Collection       4.187821"
      ]
     },
     "execution_count": 34,
     "metadata": {},
     "output_type": "execute_result"
    }
   ],
   "source": [
    "# View top ten rated movies\n",
    "# View top ten rated movies\n",
    "combined_df[['Name', 'Weighted_mean']].sort_values(\"Weighted_mean\",ascending=False).head(10)"
   ]
  },
  {
   "cell_type": "markdown",
   "metadata": {
    "colab_type": "text",
    "id": "SXa7l21yE-eY"
   },
   "source": [
    "The variable \"m\" can be seen as regularizing parameter. Changing it determines how much weight is put onto the movies with many ratings.\n",
    "Even if there is a better ranking the RMSE decreased slightly. There is a trade-off between interpretability and predictive power."
   ]
  },
  {
   "cell_type": "markdown",
   "metadata": {
    "colab_type": "text",
    "id": "0KRZO1u_24GB"
   },
   "source": [
    "## 8.2: Content Based Recommendation Systems\n",
    "\n",
    "\n",
    "The Content-Based Recommender relies on the similarity of the items being recommended. The basic idea is that if you like an item, then you will also like a “similar” item. It generally works well when it’s easy to determine the context/properties of each item. If there is no historical data for a user or there is reliable metadata for each movie, it can be useful to compare the metadata of the movies to find similar ones.\n",
    "\n",
    "![](./images/Content-based.png)"
   ]
  },
  {
   "cell_type": "markdown",
   "metadata": {
    "colab_type": "text",
    "id": "5WovG-3YFSqo"
   },
   "source": [
    "### Cosine TFIDF Movie Description Similarity"
   ]
  },
  {
   "cell_type": "markdown",
   "metadata": {
    "colab_type": "text",
    "id": "eldw_9lpNfUJ"
   },
   "source": [
    "#### TF-IDF \n",
    "\n",
    "This is a text vectorization technique which is used to determine the relative importance of a document / article / news item / movie etc.\n",
    "\n",
    "TF is simply the frequency of a word in a document. \n",
    "\n",
    "IDF is the inverse of the document frequency among the whole corpus of documents. \n",
    "\n",
    "TF-IDF is used mainly because of two reasons: Suppose we search for “the results of latest European Socccer games” on Google. It is certain that “the” will occur more frequently than “soccer games” but the relative importance of soccer games is higher than the search query point of view. \n",
    "\n",
    "In such cases, TF-IDF weighting negates the effect of high frequency words in determining the importance of an item (document).\n",
    "\n",
    "![](./images/TF-IDF-FORMULA.png)\n"
   ]
  },
  {
   "cell_type": "markdown",
   "metadata": {
    "colab_type": "text",
    "id": "Trb9DlZxOYGO"
   },
   "source": [
    "#### Cosine Similarity \n",
    "After calculating TF-IDF scores, how do we determine which items are closer to each other, rather closer to the user profile? This is accomplished using the Vector Space Model which computes the proximity based on the angle between the vectors.\n",
    "\n",
    "Consider the following example\n",
    "\n",
    "![](./images/vector-space-model.png)\n",
    "\n",
    "Sentence 2 is more likely to be using Term 2 than using Term 1. Vice-versa for Sentence 1. \n",
    "\n",
    "The method of calculating this relative measure is calculated by taking the cosine of the angle between the sentences and the terms. \n",
    "\n",
    "The ultimate reason behind using cosine is that the value of cosine will increase with decreasing value of the angle between which signifies more similarity. \n",
    "\n",
    "The vectors are length normalized after which they become vectors of length 1 and then the cosine calculation is simply the sum-product of vectors."
   ]
  },
  {
   "cell_type": "markdown",
   "metadata": {
    "colab_type": "text",
    "id": "4Cm9mjG-PSr3"
   },
   "source": [
    "In this approch we will use the movie description to create a TFIDF-matrix, which counts and weights words in all descriptions, and compute a cosine similarity between all of those sparse text-vectors. This can easily be extended to more or different features if you like.\n",
    "It is impossible for this model to compute a RMSE score, since the model does not recommend the movies directly.\n",
    "In this way it is possible to find movies closly related to each other.\n",
    "\n",
    "This approach of content based filtering can be extendend to increase the model performance by adding some more features like genres, cast, crew etc."
   ]
  },
  {
   "cell_type": "code",
   "execution_count": 35,
   "metadata": {
    "colab": {
     "base_uri": "https://localhost:8080/",
     "height": 134
    },
    "colab_type": "code",
    "id": "AdEeBvSf24GE",
    "outputId": "6dfc4ef6-f4b3-45d3-e6b1-35e2132a2375"
   },
   "outputs": [
    {
     "data": {
      "text/plain": [
       "original_title\n",
       "Toy Story                      Led by Woody, Andy's toys live happily in his ...\n",
       "Jumanji                        When siblings Judy and Peter discover an encha...\n",
       "Grumpier Old Men               A family wedding reignites the ancient feud be...\n",
       "Waiting to Exhale              Cheated on, mistreated and stepped on, the wom...\n",
       "Father of the Bride Part II    Just when George Banks has recovered from his ...\n",
       "Name: overview, dtype: object"
      ]
     },
     "execution_count": 35,
     "metadata": {},
     "output_type": "execute_result"
    }
   ],
   "source": [
    "# view sample movie descriptions\n",
    "movie_metadata['overview'].head(5)"
   ]
  },
  {
   "cell_type": "code",
   "execution_count": 36,
   "metadata": {
    "colab": {},
    "colab_type": "code",
    "id": "DiiwYdQj24GG"
   },
   "outputs": [],
   "source": [
    "# Create tf-idf matrix for text comparison\n",
    "tfidf = TfidfVectorizer(stop_words='english')\n",
    "tfidf_matrix = tfidf.fit_transform(movie_metadata['overview'])\n",
    "#print(tfidf_matrix)"
   ]
  },
  {
   "cell_type": "code",
   "execution_count": 37,
   "metadata": {
    "colab": {
     "base_uri": "https://localhost:8080/",
     "height": 560
    },
    "colab_type": "code",
    "id": "VU3Kr_OJ24GK",
    "outputId": "b6224e65-ad8d-4634-a896-c5f9676f7a00"
   },
   "outputs": [
    {
     "data": {
      "text/html": [
       "<div>\n",
       "<style scoped>\n",
       "    .dataframe tbody tr th:only-of-type {\n",
       "        vertical-align: middle;\n",
       "    }\n",
       "\n",
       "    .dataframe tbody tr th {\n",
       "        vertical-align: top;\n",
       "    }\n",
       "\n",
       "    .dataframe thead th {\n",
       "        text-align: right;\n",
       "    }\n",
       "</style>\n",
       "<table border=\"1\" class=\"dataframe\">\n",
       "  <thead>\n",
       "    <tr style=\"text-align: right;\">\n",
       "      <th></th>\n",
       "      <th>Toy Story</th>\n",
       "      <th>Jumanji</th>\n",
       "      <th>Grumpier Old Men</th>\n",
       "      <th>Waiting to Exhale</th>\n",
       "      <th>Father of the Bride Part II</th>\n",
       "      <th>Heat</th>\n",
       "      <th>Sabrina</th>\n",
       "      <th>Tom and Huck</th>\n",
       "      <th>Sudden Death</th>\n",
       "      <th>GoldenEye</th>\n",
       "      <th>...</th>\n",
       "      <th>The Final Storm</th>\n",
       "      <th>In a Heartbeat</th>\n",
       "      <th>Bloed, Zweet en Tranen</th>\n",
       "      <th>To Be Fat Like Me</th>\n",
       "      <th>Cadet Kelly</th>\n",
       "      <th>L'Homme à la tête de caoutchouc</th>\n",
       "      <th>Le locataire diabolique</th>\n",
       "      <th>L'Homme orchestre</th>\n",
       "      <th>Maa</th>\n",
       "      <th>Robin Hood</th>\n",
       "    </tr>\n",
       "  </thead>\n",
       "  <tbody>\n",
       "    <tr>\n",
       "      <th>Toy Story</th>\n",
       "      <td>1.000000</td>\n",
       "      <td>0.015385</td>\n",
       "      <td>0.000000</td>\n",
       "      <td>0.000000</td>\n",
       "      <td>0.000000</td>\n",
       "      <td>0.000000</td>\n",
       "      <td>0.000000</td>\n",
       "      <td>0.000000</td>\n",
       "      <td>0.000000</td>\n",
       "      <td>0.0</td>\n",
       "      <td>...</td>\n",
       "      <td>0.000000</td>\n",
       "      <td>0.023356</td>\n",
       "      <td>0.0</td>\n",
       "      <td>0.000000</td>\n",
       "      <td>0.0</td>\n",
       "      <td>0.000000</td>\n",
       "      <td>0.000000</td>\n",
       "      <td>0.000000</td>\n",
       "      <td>0.000000</td>\n",
       "      <td>0.0</td>\n",
       "    </tr>\n",
       "    <tr>\n",
       "      <th>Jumanji</th>\n",
       "      <td>0.015385</td>\n",
       "      <td>1.000000</td>\n",
       "      <td>0.046854</td>\n",
       "      <td>0.000000</td>\n",
       "      <td>0.000000</td>\n",
       "      <td>0.047646</td>\n",
       "      <td>0.000000</td>\n",
       "      <td>0.000000</td>\n",
       "      <td>0.098488</td>\n",
       "      <td>0.0</td>\n",
       "      <td>...</td>\n",
       "      <td>0.000000</td>\n",
       "      <td>0.000000</td>\n",
       "      <td>0.0</td>\n",
       "      <td>0.004192</td>\n",
       "      <td>0.0</td>\n",
       "      <td>0.014642</td>\n",
       "      <td>0.000000</td>\n",
       "      <td>0.000000</td>\n",
       "      <td>0.000000</td>\n",
       "      <td>0.0</td>\n",
       "    </tr>\n",
       "    <tr>\n",
       "      <th>Grumpier Old Men</th>\n",
       "      <td>0.000000</td>\n",
       "      <td>0.046854</td>\n",
       "      <td>1.000000</td>\n",
       "      <td>0.000000</td>\n",
       "      <td>0.023903</td>\n",
       "      <td>0.000000</td>\n",
       "      <td>0.000000</td>\n",
       "      <td>0.006463</td>\n",
       "      <td>0.000000</td>\n",
       "      <td>0.0</td>\n",
       "      <td>...</td>\n",
       "      <td>0.000000</td>\n",
       "      <td>0.000000</td>\n",
       "      <td>0.0</td>\n",
       "      <td>0.000000</td>\n",
       "      <td>0.0</td>\n",
       "      <td>0.015409</td>\n",
       "      <td>0.000000</td>\n",
       "      <td>0.000000</td>\n",
       "      <td>0.007101</td>\n",
       "      <td>0.0</td>\n",
       "    </tr>\n",
       "    <tr>\n",
       "      <th>Waiting to Exhale</th>\n",
       "      <td>0.000000</td>\n",
       "      <td>0.000000</td>\n",
       "      <td>0.000000</td>\n",
       "      <td>1.000000</td>\n",
       "      <td>0.000000</td>\n",
       "      <td>0.007417</td>\n",
       "      <td>0.000000</td>\n",
       "      <td>0.008592</td>\n",
       "      <td>0.000000</td>\n",
       "      <td>0.0</td>\n",
       "      <td>...</td>\n",
       "      <td>0.028460</td>\n",
       "      <td>0.000000</td>\n",
       "      <td>0.0</td>\n",
       "      <td>0.000000</td>\n",
       "      <td>0.0</td>\n",
       "      <td>0.000000</td>\n",
       "      <td>0.016324</td>\n",
       "      <td>0.006840</td>\n",
       "      <td>0.000000</td>\n",
       "      <td>0.0</td>\n",
       "    </tr>\n",
       "    <tr>\n",
       "      <th>Father of the Bride Part II</th>\n",
       "      <td>0.000000</td>\n",
       "      <td>0.000000</td>\n",
       "      <td>0.023903</td>\n",
       "      <td>0.000000</td>\n",
       "      <td>1.000000</td>\n",
       "      <td>0.000000</td>\n",
       "      <td>0.030866</td>\n",
       "      <td>0.000000</td>\n",
       "      <td>0.033213</td>\n",
       "      <td>0.0</td>\n",
       "      <td>...</td>\n",
       "      <td>0.000000</td>\n",
       "      <td>0.000000</td>\n",
       "      <td>0.0</td>\n",
       "      <td>0.022816</td>\n",
       "      <td>0.0</td>\n",
       "      <td>0.000000</td>\n",
       "      <td>0.000000</td>\n",
       "      <td>0.000000</td>\n",
       "      <td>0.012584</td>\n",
       "      <td>0.0</td>\n",
       "    </tr>\n",
       "    <tr>\n",
       "      <th>Heat</th>\n",
       "      <td>0.000000</td>\n",
       "      <td>0.047646</td>\n",
       "      <td>0.000000</td>\n",
       "      <td>0.007417</td>\n",
       "      <td>0.000000</td>\n",
       "      <td>1.000000</td>\n",
       "      <td>0.000000</td>\n",
       "      <td>0.000000</td>\n",
       "      <td>0.046349</td>\n",
       "      <td>0.0</td>\n",
       "      <td>...</td>\n",
       "      <td>0.000000</td>\n",
       "      <td>0.000000</td>\n",
       "      <td>0.0</td>\n",
       "      <td>0.000000</td>\n",
       "      <td>0.0</td>\n",
       "      <td>0.000000</td>\n",
       "      <td>0.015837</td>\n",
       "      <td>0.000000</td>\n",
       "      <td>0.000000</td>\n",
       "      <td>0.0</td>\n",
       "    </tr>\n",
       "    <tr>\n",
       "      <th>Sabrina</th>\n",
       "      <td>0.000000</td>\n",
       "      <td>0.000000</td>\n",
       "      <td>0.000000</td>\n",
       "      <td>0.000000</td>\n",
       "      <td>0.030866</td>\n",
       "      <td>0.000000</td>\n",
       "      <td>1.000000</td>\n",
       "      <td>0.000000</td>\n",
       "      <td>0.000000</td>\n",
       "      <td>0.0</td>\n",
       "      <td>...</td>\n",
       "      <td>0.000000</td>\n",
       "      <td>0.000000</td>\n",
       "      <td>0.0</td>\n",
       "      <td>0.028344</td>\n",
       "      <td>0.0</td>\n",
       "      <td>0.000000</td>\n",
       "      <td>0.105139</td>\n",
       "      <td>0.000000</td>\n",
       "      <td>0.000000</td>\n",
       "      <td>0.0</td>\n",
       "    </tr>\n",
       "    <tr>\n",
       "      <th>Tom and Huck</th>\n",
       "      <td>0.000000</td>\n",
       "      <td>0.000000</td>\n",
       "      <td>0.006463</td>\n",
       "      <td>0.008592</td>\n",
       "      <td>0.000000</td>\n",
       "      <td>0.000000</td>\n",
       "      <td>0.000000</td>\n",
       "      <td>1.000000</td>\n",
       "      <td>0.000000</td>\n",
       "      <td>0.0</td>\n",
       "      <td>...</td>\n",
       "      <td>0.164136</td>\n",
       "      <td>0.071019</td>\n",
       "      <td>0.0</td>\n",
       "      <td>0.000000</td>\n",
       "      <td>0.0</td>\n",
       "      <td>0.000000</td>\n",
       "      <td>0.000000</td>\n",
       "      <td>0.000000</td>\n",
       "      <td>0.006162</td>\n",
       "      <td>0.0</td>\n",
       "    </tr>\n",
       "    <tr>\n",
       "      <th>Sudden Death</th>\n",
       "      <td>0.000000</td>\n",
       "      <td>0.098488</td>\n",
       "      <td>0.000000</td>\n",
       "      <td>0.000000</td>\n",
       "      <td>0.033213</td>\n",
       "      <td>0.046349</td>\n",
       "      <td>0.000000</td>\n",
       "      <td>0.000000</td>\n",
       "      <td>1.000000</td>\n",
       "      <td>0.0</td>\n",
       "      <td>...</td>\n",
       "      <td>0.000000</td>\n",
       "      <td>0.000000</td>\n",
       "      <td>0.0</td>\n",
       "      <td>0.000000</td>\n",
       "      <td>0.0</td>\n",
       "      <td>0.000000</td>\n",
       "      <td>0.000000</td>\n",
       "      <td>0.000000</td>\n",
       "      <td>0.014963</td>\n",
       "      <td>0.0</td>\n",
       "    </tr>\n",
       "    <tr>\n",
       "      <th>GoldenEye</th>\n",
       "      <td>0.000000</td>\n",
       "      <td>0.000000</td>\n",
       "      <td>0.000000</td>\n",
       "      <td>0.000000</td>\n",
       "      <td>0.000000</td>\n",
       "      <td>0.000000</td>\n",
       "      <td>0.000000</td>\n",
       "      <td>0.000000</td>\n",
       "      <td>0.000000</td>\n",
       "      <td>1.0</td>\n",
       "      <td>...</td>\n",
       "      <td>0.043867</td>\n",
       "      <td>0.000000</td>\n",
       "      <td>0.0</td>\n",
       "      <td>0.000000</td>\n",
       "      <td>0.0</td>\n",
       "      <td>0.076444</td>\n",
       "      <td>0.000000</td>\n",
       "      <td>0.016266</td>\n",
       "      <td>0.000000</td>\n",
       "      <td>0.0</td>\n",
       "    </tr>\n",
       "  </tbody>\n",
       "</table>\n",
       "<p>10 rows × 21604 columns</p>\n",
       "</div>"
      ],
      "text/plain": [
       "                             Toy Story   Jumanji  Grumpier Old Men  \\\n",
       "Toy Story                     1.000000  0.015385          0.000000   \n",
       "Jumanji                       0.015385  1.000000          0.046854   \n",
       "Grumpier Old Men              0.000000  0.046854          1.000000   \n",
       "Waiting to Exhale             0.000000  0.000000          0.000000   \n",
       "Father of the Bride Part II   0.000000  0.000000          0.023903   \n",
       "Heat                          0.000000  0.047646          0.000000   \n",
       "Sabrina                       0.000000  0.000000          0.000000   \n",
       "Tom and Huck                  0.000000  0.000000          0.006463   \n",
       "Sudden Death                  0.000000  0.098488          0.000000   \n",
       "GoldenEye                     0.000000  0.000000          0.000000   \n",
       "\n",
       "                             Waiting to Exhale  Father of the Bride Part II  \\\n",
       "Toy Story                             0.000000                     0.000000   \n",
       "Jumanji                               0.000000                     0.000000   \n",
       "Grumpier Old Men                      0.000000                     0.023903   \n",
       "Waiting to Exhale                     1.000000                     0.000000   \n",
       "Father of the Bride Part II           0.000000                     1.000000   \n",
       "Heat                                  0.007417                     0.000000   \n",
       "Sabrina                               0.000000                     0.030866   \n",
       "Tom and Huck                          0.008592                     0.000000   \n",
       "Sudden Death                          0.000000                     0.033213   \n",
       "GoldenEye                             0.000000                     0.000000   \n",
       "\n",
       "                                 Heat   Sabrina  Tom and Huck  Sudden Death  \\\n",
       "Toy Story                    0.000000  0.000000      0.000000      0.000000   \n",
       "Jumanji                      0.047646  0.000000      0.000000      0.098488   \n",
       "Grumpier Old Men             0.000000  0.000000      0.006463      0.000000   \n",
       "Waiting to Exhale            0.007417  0.000000      0.008592      0.000000   \n",
       "Father of the Bride Part II  0.000000  0.030866      0.000000      0.033213   \n",
       "Heat                         1.000000  0.000000      0.000000      0.046349   \n",
       "Sabrina                      0.000000  1.000000      0.000000      0.000000   \n",
       "Tom and Huck                 0.000000  0.000000      1.000000      0.000000   \n",
       "Sudden Death                 0.046349  0.000000      0.000000      1.000000   \n",
       "GoldenEye                    0.000000  0.000000      0.000000      0.000000   \n",
       "\n",
       "                             GoldenEye  ...  The Final Storm  In a Heartbeat  \\\n",
       "Toy Story                          0.0  ...         0.000000        0.023356   \n",
       "Jumanji                            0.0  ...         0.000000        0.000000   \n",
       "Grumpier Old Men                   0.0  ...         0.000000        0.000000   \n",
       "Waiting to Exhale                  0.0  ...         0.028460        0.000000   \n",
       "Father of the Bride Part II        0.0  ...         0.000000        0.000000   \n",
       "Heat                               0.0  ...         0.000000        0.000000   \n",
       "Sabrina                            0.0  ...         0.000000        0.000000   \n",
       "Tom and Huck                       0.0  ...         0.164136        0.071019   \n",
       "Sudden Death                       0.0  ...         0.000000        0.000000   \n",
       "GoldenEye                          1.0  ...         0.043867        0.000000   \n",
       "\n",
       "                             Bloed, Zweet en Tranen  To Be Fat Like Me  \\\n",
       "Toy Story                                       0.0           0.000000   \n",
       "Jumanji                                         0.0           0.004192   \n",
       "Grumpier Old Men                                0.0           0.000000   \n",
       "Waiting to Exhale                               0.0           0.000000   \n",
       "Father of the Bride Part II                     0.0           0.022816   \n",
       "Heat                                            0.0           0.000000   \n",
       "Sabrina                                         0.0           0.028344   \n",
       "Tom and Huck                                    0.0           0.000000   \n",
       "Sudden Death                                    0.0           0.000000   \n",
       "GoldenEye                                       0.0           0.000000   \n",
       "\n",
       "                             Cadet Kelly  L'Homme à la tête de caoutchouc  \\\n",
       "Toy Story                            0.0                         0.000000   \n",
       "Jumanji                              0.0                         0.014642   \n",
       "Grumpier Old Men                     0.0                         0.015409   \n",
       "Waiting to Exhale                    0.0                         0.000000   \n",
       "Father of the Bride Part II          0.0                         0.000000   \n",
       "Heat                                 0.0                         0.000000   \n",
       "Sabrina                              0.0                         0.000000   \n",
       "Tom and Huck                         0.0                         0.000000   \n",
       "Sudden Death                         0.0                         0.000000   \n",
       "GoldenEye                            0.0                         0.076444   \n",
       "\n",
       "                             Le locataire diabolique  L'Homme orchestre  \\\n",
       "Toy Story                                   0.000000           0.000000   \n",
       "Jumanji                                     0.000000           0.000000   \n",
       "Grumpier Old Men                            0.000000           0.000000   \n",
       "Waiting to Exhale                           0.016324           0.006840   \n",
       "Father of the Bride Part II                 0.000000           0.000000   \n",
       "Heat                                        0.015837           0.000000   \n",
       "Sabrina                                     0.105139           0.000000   \n",
       "Tom and Huck                                0.000000           0.000000   \n",
       "Sudden Death                                0.000000           0.000000   \n",
       "GoldenEye                                   0.000000           0.016266   \n",
       "\n",
       "                                  Maa  Robin Hood  \n",
       "Toy Story                    0.000000         0.0  \n",
       "Jumanji                      0.000000         0.0  \n",
       "Grumpier Old Men             0.007101         0.0  \n",
       "Waiting to Exhale            0.000000         0.0  \n",
       "Father of the Bride Part II  0.012584         0.0  \n",
       "Heat                         0.000000         0.0  \n",
       "Sabrina                      0.000000         0.0  \n",
       "Tom and Huck                 0.006162         0.0  \n",
       "Sudden Death                 0.014963         0.0  \n",
       "GoldenEye                    0.000000         0.0  \n",
       "\n",
       "[10 rows x 21604 columns]"
      ]
     },
     "execution_count": 37,
     "metadata": {},
     "output_type": "execute_result"
    }
   ],
   "source": [
    "# Compute cosine similarity between all movie-descriptions\n",
    "similarity = cosine_similarity(tfidf_matrix)\n",
    "similarity_df = pd.DataFrame(similarity, \n",
    "                             index=movie_metadata.index.values, \n",
    "                             columns=movie_metadata.index.values)\n",
    "similarity_df.head(10)"
   ]
  },
  {
   "cell_type": "code",
   "execution_count": 38,
   "metadata": {
    "colab": {
     "base_uri": "https://localhost:8080/",
     "height": 151
    },
    "colab_type": "code",
    "id": "Tm2sEuOs24GN",
    "outputId": "8d53fd80-f9cd-40bf-8446-e4d5651eac9e"
   },
   "outputs": [
    {
     "name": "stdout",
     "output_type": "stream",
     "text": [
      "\n",
      "\n",
      "Top Recommended Movies for: Batman Begins are:-\n",
      " ['Batman Unmasked: The Psychology of the Dark Knight'\n",
      " 'Batman: The Dark Knight Returns, Part 1' 'Batman: Bad Blood'\n",
      " 'Batman: Year One' 'Batman: Under the Red Hood'\n",
      " 'Batman Beyond: The Movie' 'Batman Forever'\n",
      " 'Batman: Mask of the Phantasm' 'Batman & Bill' 'Batman']\n"
     ]
    }
   ],
   "source": [
    "# movie list \n",
    "movie_list = similarity_df.columns.values\n",
    "\n",
    "\n",
    "# sample movie\n",
    "movie = 'Batman Begins'\n",
    "\n",
    "# top recommendation movie count\n",
    "top_n = 10\n",
    "\n",
    "# get movie similarity records\n",
    "movie_sim = similarity_df[similarity_df.index == movie].values[0]\n",
    "#display(movie_sim)\n",
    "\n",
    "# get movies sorted by similarity\n",
    "sorted_movie_ids = np.argsort(movie_sim)[::-1]  #argsort sorts by ascending similaritty and returns indices\n",
    "# [::-1] reverses the order so most similar movies are at the front\n",
    "\n",
    "#print(sorted_movie_ids)\n",
    "# get recommended movie names\n",
    "recommended_movies = movie_list[sorted_movie_ids[1:top_n+1]]\n",
    "\n",
    "print('\\n\\nTop Recommended Movies for:', movie, 'are:-\\n', recommended_movies)"
   ]
  },
  {
   "cell_type": "markdown",
   "metadata": {
    "colab_type": "text",
    "id": "50vzONVBqkTu"
   },
   "source": [
    "__Your turn:__ Create a function as defined below, __`content_movie_recommender()`__ which can take in sample movie names and print a list of top N recommended movies"
   ]
  },
  {
   "cell_type": "code",
   "execution_count": 39,
   "metadata": {
    "colab": {},
    "colab_type": "code",
    "id": "t5cyFCvp24GT"
   },
   "outputs": [],
   "source": [
    "def content_movie_recommender(input_movie, similarity_database=similarity_df, movie_database_list=movie_list, top_n=10):\n",
    "    movie_sim = similarity_df[similarity_df.index == input_movie].values[0] #get row of similarity df that contains input movie\n",
    "    sorted_movie_ids = np.argsort(movie_sim)[::-1] #sort movie indexes by highest to lowest similarity\n",
    "    recommended_movies = movie_list[sorted_movie_ids[1:top_n+1]]\n",
    "    return recommended_movies"
   ]
  },
  {
   "cell_type": "markdown",
   "metadata": {
    "colab_type": "text",
    "id": "gR0sKcxIqxql"
   },
   "source": [
    "__Your turn:__ Test your function below on the given sample movies"
   ]
  },
  {
   "cell_type": "code",
   "execution_count": 40,
   "metadata": {
    "colab": {
     "base_uri": "https://localhost:8080/",
     "height": 571
    },
    "colab_type": "code",
    "id": "L0tUINS_24GV",
    "outputId": "f08f8eba-2b5e-41af-f0df-ad80821019a1"
   },
   "outputs": [
    {
     "name": "stdout",
     "output_type": "stream",
     "text": [
      "The top recommendations for: Captain America are\n",
      " ['Iron Man & Captain America: Heroes United'\n",
      " 'Captain America: The First Avenger' 'Team Thor' 'Education for Death'\n",
      " 'Captain America: The Winter Soldier']\n",
      "\n",
      "The top recommendations for: The Terminator are\n",
      " ['Terminator 2: Judgment Day' 'Terminator Salvation'\n",
      " 'Terminator 3: Rise of the Machines' 'Silent House' 'They Wait']\n",
      "\n",
      "The top recommendations for: The Exorcist are\n",
      " ['Exorcist II: The Heretic' 'Domestic Disturbance' 'Damien: Omen II'\n",
      " 'The Exorcist III' 'Like Sunday, Like Rain']\n",
      "\n",
      "The top recommendations for: The Hunger Games: Mockingjay - Part 1 are\n",
      " ['The Hunger Games: Catching Fire' 'The Hunger Games: Mockingjay - Part 2'\n",
      " 'Last Train from Gun Hill' 'The Hunger Games'\n",
      " 'Will Success Spoil Rock Hunter?']\n",
      "\n",
      "The top recommendations for: The Blair Witch Project are\n",
      " ['Book of Shadows: Blair Witch 2' 'Freakonomics' 'Le Bal des actrices'\n",
      " 'Greystone Park' 'Willow Creek']\n",
      "\n"
     ]
    }
   ],
   "source": [
    "sample_movies = ['Captain America', 'The Terminator', 'The Exorcist', \n",
    "                 'The Hunger Games: Mockingjay - Part 1', 'The Blair Witch Project']\n",
    "                 \n",
    "for movie in sample_movies:\n",
    "    recommended_movies = content_movie_recommender(movie,similarity_df,movie_list,5)\n",
    "    print(f\"The top recommendations for: {movie} are\\n {recommended_movies}\\n\")\n",
    "    "
   ]
  },
  {
   "cell_type": "markdown",
   "metadata": {
    "colab_type": "text",
    "id": "r3fofy8frA2k"
   },
   "source": [
    "## 8.3: Collaborative filtering Recommendation Systems"
   ]
  },
  {
   "cell_type": "markdown",
   "metadata": {
    "colab_type": "text",
    "id": "j9Su_sBArKWX"
   },
   "source": [
    "### Collaborative Filtering\n",
    "Primarily recommends content to you based on inputs or actions from other people(say your friends).\n",
    "![collaborative filtering](./images/collaborative-filtering.png)\n",
    "\n"
   ]
  },
  {
   "cell_type": "markdown",
   "metadata": {
    "colab_type": "text",
    "id": "YxRJfswzrN5A"
   },
   "source": [
    "### What is the intuition behind this?\n",
    "\n",
    "*   **Personal tastes are correlated**\n",
    "\n",
    "\n",
    "        1.   If Alice and Bob both like X and Alice likes Y then Bob is more likely to like Y\n",
    "        2.   especially (perhaps) if Bob knows Alice"
   ]
  },
  {
   "cell_type": "markdown",
   "metadata": {
    "colab_type": "text",
    "id": "TUoI6lh6rSlG"
   },
   "source": [
    "Types of Collaborative Filtering:\n",
    "\n",
    "\n",
    "1.   Neighborhood methods\n",
    "2.   Matrix Factorization (Latent Factor) methods\n",
    "\n"
   ]
  },
  {
   "cell_type": "markdown",
   "metadata": {
    "colab_type": "text",
    "id": "23PnmU-FraW8"
   },
   "source": [
    "Assume you dont have users. Rather you have users' characterisics and properties(as shown in image).![Latent Factor method](https://miro.medium.com/max/876/1*AQEx38Wdo5H0WTSjRfAWtA.png)\n",
    "\n",
    "For example, a person who is brave-hearted is more likely to be interested in dark, horrific movies rather than someone who is soft and compassionate.\n",
    "* ^This is just an example(not in any literal sense)"
   ]
  },
  {
   "cell_type": "markdown",
   "metadata": {
    "colab_type": "text",
    "id": "fidNZWZXrdmt"
   },
   "source": [
    "So, once you have the properties and characteristics of each user, we call them as lower-dimensional features of the users. Similarly, we can have lower-dimensional features for movies(say its 10% action, 20% romance ...)\n",
    "\n",
    "With these features, we represent users and movies in a low dimensional space describing their properties. **This is called as the latent space.**\n",
    "\n",
    "We then recommend a movie based on its proximity to the user in the latent space."
   ]
  },
  {
   "cell_type": "markdown",
   "metadata": {
    "colab_type": "text",
    "id": "InGsgab1rhVT"
   },
   "source": [
    "### The problem:\n",
    "\n",
    "The problem we try to address here is the rating prediction problem. \n",
    "Say, we try to guess how much Alice would rate a movie and suggest those movies that we think Alice will rate higher."
   ]
  },
  {
   "cell_type": "markdown",
   "metadata": {
    "colab_type": "text",
    "id": "NUDZRCzhrijy"
   },
   "source": [
    "### Interesting...But, how do we predict how much Alice would rate a movie?\n",
    "\n",
    " The data we have is a rating history: ratings of users for items in the interval [1,5]. We can put all this data into a sparse matrix called R:\n",
    " \n",
    " $R = \n",
    " \\begin{pmatrix}\n",
    "  3 & ? &? \\\\ \n",
    "  ? & 4 & 5 \\\\\n",
    "  ? & ? & 2 \\\\\n",
    "  2 & 3 & ?\n",
    " \\end{pmatrix}\n",
    " \\begin{matrix}\n",
    "  Alice \\\\ \n",
    "  Bob \\\\\n",
    "  Chand \\\\\n",
    "  Deb\n",
    " \\end{matrix}\n",
    " $\n",
    "\n",
    " Each row of the matrix corresponds to a given user, and each column corresponds to a given item. For instance here, Alice has rated the first movie with a rating of 3, and Chand has rated the third item with a rating of 2.\n",
    "\n",
    " The matrix R is sparse (more than 99% of the entries are missing), and our goal is to predict the missing entries, i.e. predict the ?.\n"
   ]
  },
  {
   "cell_type": "markdown",
   "metadata": {
    "colab_type": "text",
    "id": "i_MeURMvrniQ"
   },
   "source": [
    "### Anatomy of the Rating matrix: LATENT SPACE\n",
    "Before predicting ratings, lets step back and understand the latent space more! \\\\\n",
    " In this Rating matrix, Rows represent Users and Columns represent Movies.\n",
    " $R = \n",
    "  \\begin{pmatrix}\n",
    "  --Alice-- \\\\ \n",
    "  --Bob-- \\\\\n",
    "  --Chand-- \\\\\n",
    "  --Deb--\n",
    " \\end{pmatrix}\n",
    " $\n",
    "\n",
    " In latent space(low dimensional features - fanatics), for instance, Alice could be defined as a little bit of an action fan, a little bit of a comedy fan, a lot of a romance fan, etc. As for Bob, he could be more keen on action movies:\n",
    "\n",
    "```\n",
    "Alice = 10% Action fan + 10% Comedy fan + 50% Romance fan + ⋯ \\\\\n",
    "Bob = 50% Action fan + 30% Comedy fan + 10% Romance fan + ⋯ \\\\\n",
    ": \\\\\n",
    "Zoe = ⋯\n",
    "```\n",
    "\n",
    "What would happen if we transposed our rating matrix? Instead of having users in the rows, we would now have movies, defined as their ratings.\n",
    "\n",
    "$\n",
    "R ^ T = \n",
    "  \\begin{pmatrix}\n",
    "  --Avengers-- \\\\ \n",
    "  --Matrix-- \\\\\n",
    "  --Inception-- \\\\\n",
    "  --Sherlock--\n",
    " \\end{pmatrix}\n",
    "$\n",
    "\n",
    "In the latent space, we will associate a semantic meaning behind each of the  movies, and these semantic meanings(say movie characteristics) can build back all of our original movies."
   ]
  },
  {
   "cell_type": "markdown",
   "metadata": {
    "colab_type": "text",
    "id": "vZ_r91x1rr65"
   },
   "source": [
    "### EXAMPLE\n",
    "In the below example, we convert users and movies to vectors(embeddings) and do dot-product to predict R\n",
    "\n",
    "user vector - U \\\\\n",
    "movies vector - V \\\\\n",
    "$\n",
    "R = U.V\n",
    "$"
   ]
  },
  {
   "cell_type": "markdown",
   "metadata": {
    "colab_type": "text",
    "id": "_Ynl-aVuf3Dy"
   },
   "source": [
    "### Additional hints:\n",
    "\n",
    "use dataframe map - [map](https://pandas.pydata.org/pandas-docs/stable/reference/api/pandas.Series.map.html)\n",
    "\n",
    "Create tensor - [Input](https://www.tensorflow.org/api_docs/python/tf/keras/Input#view-aliases)\n",
    "\n",
    "Create Embedding - [Embedding](https://www.tensorflow.org/api_docs/python/tf/keras/layers/Embedding)\n",
    "\n",
    "Dot product - [Dot](https://www.tensorflow.org/api_docs/python/tf/keras/layers/Dot)\n",
    "\n",
    "Fit model : \n",
    "[fit](https://www.tensorflow.org/api_docs/python/tf/keras/Model#fit)\n",
    "\n",
    "Measure Performance: [mean_squared_error](https://scikit-learn.org/stable/modules/generated/sklearn.metrics.mean_squared_error.html)"
   ]
  },
  {
   "cell_type": "markdown",
   "metadata": {
    "colab_type": "text",
    "id": "wpPZfOrDs-Qs"
   },
   "source": [
    "### Q8.3: Building a Deep Learning Matrix Factorization based Collaborative Filtering Recommendation System\n",
    "\n",
    "__Your Turn:__ Fill in the necessary blank code snippets in the following sections to train your own DL collaborative  filtering system\n",
    "\n",
    "#### Create Configuration Parameters"
   ]
  },
  {
   "cell_type": "code",
   "execution_count": 41,
   "metadata": {},
   "outputs": [
    {
     "data": {
      "text/plain": [
       "array(['570681', '2108307', '183237', ..., '1857952', '1309672',\n",
       "       '2187474'], dtype=object)"
      ]
     },
     "execution_count": 41,
     "metadata": {},
     "output_type": "execute_result"
    }
   ],
   "source": [
    "df_filtered['User'].unique()"
   ]
  },
  {
   "cell_type": "code",
   "execution_count": 42,
   "metadata": {
    "colab": {},
    "colab_type": "code",
    "id": "AUz12Y_Z24Gh"
   },
   "outputs": [
    {
     "name": "stdout",
     "output_type": "stream",
     "text": [
      "{'570681': 0, '2108307': 1, '183237': 2, '1558691': 3, '1218586': 4, '1480209': 5, '2388497': 6, '2021115': 7, '1334401': 8, '1067999': 9, '985009': 10, '1500810': 11, '2402139': 12, '2517588': 13, '2223524': 14, '1480257': 15, '345588': 16, '2535238': 17, '1401487': 18, '986631': 19, '1182857': 20, '1270980': 21, '2543231': 22, '1197978': 23, '1014412': 24, '1172719': 25, '2521402': 26, '322199': 27, '1339354': 28, '1028716': 29, '678212': 30, '1910767': 31, '704342': 32, '1374049': 33, '844637': 34, '2385239': 35, '1470272': 36, '895641': 37, '2608542': 38, '1498881': 39, '591288': 40, '169391': 41, '2629127': 42, '1486253': 43, '1510806': 44, '824577': 45, '1945863': 46, '2250323': 47, '1527676': 48, '1018928': 49, '664562': 50, '2186920': 51, '1905415': 52, '1187457': 53, '1819462': 54, '2249634': 55, '1032704': 56, '64663': 57, '2631668': 58, '712115': 59, '2048858': 60, '1079115': 61, '1042055': 62, '1116290': 63, '55339': 64, '2456542': 65, '1864127': 66, '741340': 67, '1865100': 68, '2110107': 69, '137546': 70, '835271': 71, '626073': 72, '206272': 73, '2457720': 74, '2090715': 75, '445423': 76, '1539884': 77, '1320082': 78, '816504': 79, '1297031': 80, '2303885': 81, '2516611': 82, '1988375': 83, '553115': 84, '598757': 85, '951578': 86, '583875': 87, '48915': 88, '237286': 89, '288343': 90, '1345921': 91, '1450558': 92, '1349191': 93, '853087': 94, '477133': 95, '461075': 96, '467910': 97, '224252': 98, '172118': 99, '1982465': 100, '1266206': 101, '526361': 102, '1605580': 103, '1839424': 104, '1790576': 105, '1372678': 106, '1358962': 107, '1127117': 108, '1478444': 109, '93124': 110, '928481': 111, '1074305': 112, '2073766': 113, '1648646': 114, '1724142': 115, '831475': 116, '1757417': 117, '849369': 118, '733049': 119, '146044': 120, '1555872': 121, '1965893': 122, '2627190': 123, '1602339': 124, '928636': 125, '1761809': 126, '1767421': 127, '667484': 128, '968784': 129, '13266': 130, '1140255': 131, '472180': 132, '2433978': 133, '33612': 134, '187896': 135, '825819': 136, '1976116': 137, '796122': 138, '897732': 139, '822774': 140, '55675': 141, '2520398': 142, '1123618': 143, '2512391': 144, '2387212': 145, '1426049': 146, '713536': 147, '520996': 148, '2556700': 149, '124251': 150, '287545': 151, '2147527': 152, '1629176': 153, '1300036': 154, '1993442': 155, '440220': 156, '139942': 157, '238703': 158, '998502': 159, '311070': 160, '1704311': 161, '2547219': 162, '167041': 163, '2412161': 164, '1458665': 165, '327366': 166, '901648': 167, '465967': 168, '1874122': 169, '2046976': 170, '1338746': 171, '2305404': 172, '1443495': 173, '1224299': 174, '1488400': 175, '1084108': 176, '8095': 177, '530789': 178, '1717534': 179, '1117314': 180, '1073300': 181, '723545': 182, '913820': 183, '90281': 184, '1014889': 185, '1376339': 186, '721603': 187, '1114362': 188, '504063': 189, '2632868': 190, '1089873': 191, '2595469': 192, '2054241': 193, '2475146': 194, '308751': 195, '929407': 196, '674469': 197, '640624': 198, '2360767': 199, '2156280': 200, '1791615': 201, '1666805': 202, '2588510': 203, '242425': 204, '2407157': 205, '57186': 206, '985122': 207, '282842': 208, '1854658': 209, '2575417': 210, '1053165': 211, '1696775': 212, '1154287': 213, '2491423': 214, '1964248': 215, '1346081': 216, '1757639': 217, '2393478': 218, '1356381': 219, '426301': 220, '1496291': 221, '1587543': 222, '930968': 223, '268978': 224, '2257503': 225, '1955464': 226, '1375430': 227, '888162': 228, '1709175': 229, '1982129': 230, '111736': 231, '1634668': 232, '1295473': 233, '1988492': 234, '2378998': 235, '675283': 236, '1868196': 237, '1138678': 238, '940778': 239, '2229846': 240, '237585': 241, '668939': 242, '1863499': 243, '151821': 244, '1097806': 245, '1152644': 246, '44734': 247, '285881': 248, '1944684': 249, '1337228': 250, '2166735': 251, '1202467': 252, '1547655': 253, '61472': 254, '2279048': 255, '2006360': 256, '1077794': 257, '2504147': 258, '1600659': 259, '1412961': 260, '2634805': 261, '437182': 262, '667231': 263, '1598950': 264, '364236': 265, '2491569': 266, '253659': 267, '2583202': 268, '130159': 269, '2334283': 270, '1550961': 271, '104851': 272, '1862352': 273, '1188163': 274, '710207': 275, '2575319': 276, '2248698': 277, '585968': 278, '2025577': 279, '1389855': 280, '659526': 281, '314110': 282, '2642350': 283, '724330': 284, '1317589': 285, '2467393': 286, '632060': 287, '1289515': 288, '2363228': 289, '1042938': 290, '2255414': 291, '363680': 292, '1323821': 293, '1646639': 294, '2506724': 295, '2406895': 296, '1444489': 297, '945089': 298, '901694': 299, '417411': 300, '1231842': 301, '225972': 302, '166345': 303, '2563546': 304, '1441961': 305, '2047851': 306, '2208809': 307, '2420666': 308, '512278': 309, '1036908': 310, '1627955': 311, '151666': 312, '2473973': 313, '976059': 314, '785931': 315, '1797678': 316, '1256816': 317, '147386': 318, '433651': 319, '1371764': 320, '2290578': 321, '2315130': 322, '1772362': 323, '209041': 324, '2293722': 325, '948801': 326, '879028': 327, '1697865': 328, '1161725': 329, '2492695': 330, '249030': 331, '977932': 332, '151300': 333, '380505': 334, '1557557': 335, '2130442': 336, '1901876': 337, '1836124': 338, '1019827': 339, '590003': 340, '1833221': 341, '1684328': 342, '940806': 343, '640098': 344, '1183223': 345, '1475221': 346, '2536720': 347, '159266': 348, '2075891': 349, '972914': 350, '551743': 351, '377214': 352, '509496': 353, '2552047': 354, '1909214': 355, '686510': 356, '1771516': 357, '2387463': 358, '1456837': 359, '1825866': 360, '1424487': 361, '1743850': 362, '2530840': 363, '1895403': 364, '803287': 365, '2585154': 366, '317429': 367, '2010144': 368, '1649964': 369, '1199912': 370, '118036': 371, '1569859': 372, '2289469': 373, '1302376': 374, '1706831': 375, '1296498': 376, '1608757': 377, '255988': 378, '2517870': 379, '2389571': 380, '144556': 381, '1810896': 382, '1253619': 383, '1201884': 384, '2498592': 385, '2268553': 386, '190136': 387, '96013': 388, '962151': 389, '134743': 390, '2271496': 391, '169281': 392, '492291': 393, '2436452': 394, '1938835': 395, '638020': 396, '2173152': 397, '1165469': 398, '2614156': 399, '1794245': 400, '2414191': 401, '1125890': 402, '1828179': 403, '2604217': 404, '2171656': 405, '902372': 406, '2132231': 407, '2097766': 408, '2413457': 409, '331157': 410, '908324': 411, '183689': 412, '1455730': 413, '899577': 414, '2406259': 415, '2153970': 416, '811530': 417, '2036973': 418, '2186938': 419, '1825087': 420, '2296924': 421, '1478933': 422, '1559022': 423, '653906': 424, '2033070': 425, '266493': 426, '2197982': 427, '2443463': 428, '1638580': 429, '698509': 430, '2365140': 431, '588344': 432, '1010489': 433, '1704130': 434, '93355': 435, '482951': 436, '2469788': 437, '893731': 438, '1684165': 439, '853965': 440, '2496492': 441, '69090': 442, '589682': 443, '31503': 444, '2296243': 445, '924316': 446, '2281080': 447, '2487812': 448, '1253980': 449, '1157143': 450, '2503230': 451, '1631168': 452, '2035994': 453, '1044034': 454, '2430267': 455, '1831664': 456, '1594618': 457, '2290778': 458, '460283': 459, '316031': 460, '982690': 461, '500440': 462, '204164': 463, '1224296': 464, '2143735': 465, '2465070': 466, '1659831': 467, '1751572': 468, '2056593': 469, '1518269': 470, '1306287': 471, '1550718': 472, '123750': 473, '423167': 474, '407037': 475, '701730': 476, '2307508': 477, '1611173': 478, '434101': 479, '2161052': 480, '2375231': 481, '1230628': 482, '1720041': 483, '663118': 484, '1076126': 485, '2317031': 486, '684220': 487, '516614': 488, '2040306': 489, '1388044': 490, '366695': 491, '1796217': 492, '2266857': 493, '1694379': 494, '1781198': 495, '335572': 496, '906307': 497, '383952': 498, '760943': 499, '2215240': 500, '40450': 501, '2147894': 502, '2442925': 503, '1217301': 504, '2232041': 505, '2072840': 506, '868680': 507, '744232': 508, '913814': 509, '1826722': 510, '2490545': 511, '2640278': 512, '2089541': 513, '1766660': 514, '1504146': 515, '1409687': 516, '615066': 517, '1794003': 518, '1081980': 519, '1884816': 520, '2246362': 521, '1758525': 522, '959509': 523, '1057992': 524, '2518947': 525, '1280761': 526, '1144710': 527, '871348': 528, '1702473': 529, '2054694': 530, '1020669': 531, '148860': 532, '26674': 533, '678552': 534, '198609': 535, '851848': 536, '367706': 537, '517619': 538, '2501215': 539, '253434': 540, '2447868': 541, '2576648': 542, '2450534': 543, '1587216': 544, '427186': 545, '2066932': 546, '2602720': 547, '429072': 548, '1111007': 549, '256796': 550, '1890819': 551, '1902573': 552, '880688': 553, '1772565': 554, '2252217': 555, '163515': 556, '1509458': 557, '1494683': 558, '1240865': 559, '1669420': 560, '999456': 561, '2178365': 562, '2098046': 563, '380199': 564, '791692': 565, '1305872': 566, '1841692': 567, '642384': 568, '940706': 569, '1933832': 570, '675390': 571, '1464103': 572, '1113177': 573, '892694': 574, '1160646': 575, '805082': 576, '1610263': 577, '1951711': 578, '1255543': 579, '1705674': 580, '985776': 581, '2400234': 582, '2550996': 583, '2087152': 584, '562542': 585, '443189': 586, '1931453': 587, '1257336': 588, '2503749': 589, '915138': 590, '330424': 591, '593886': 592, '1299035': 593, '1741099': 594, '527953': 595, '1414512': 596, '2154022': 597, '577324': 598, '2032601': 599, '1676467': 600, '1532058': 601, '326587': 602, '676135': 603, '1093011': 604, '1675183': 605, '47269': 606, '1755092': 607, '2186505': 608, '852193': 609, '1809161': 610, '2350141': 611, '2455503': 612, '731217': 613, '141839': 614, '2502736': 615, '884354': 616, '951798': 617, '2142234': 618, '1906026': 619, '1458814': 620, '1743381': 621, '1502539': 622, '961513': 623, '912433': 624, '2412878': 625, '1547173': 626, '1711351': 627, '1973332': 628, '2540684': 629, '1470838': 630, '726897': 631, '496267': 632, '1419103': 633, '2388935': 634, '2627800': 635, '878073': 636, '1049142': 637, '620010': 638, '504051': 639, '2563107': 640, '805379': 641, '1996154': 642, '2297136': 643, '1446775': 644, '230211': 645, '1684232': 646, '2411618': 647, '1869082': 648, '1086832': 649, '917160': 650, '287897': 651, '749124': 652, '1795821': 653, '2108623': 654, '483029': 655, '2358564': 656, '357087': 657, '1373027': 658, '1179235': 659, '1665250': 660, '343555': 661, '2440182': 662, '175740': 663, '2402990': 664, '2377061': 665, '2077046': 666, '591794': 667, '1025008': 668, '1932785': 669, '152484': 670, '1819300': 671, '1539389': 672, '1501761': 673, '578076': 674, '1125150': 675, '2646347': 676, '1726499': 677, '1814832': 678, '2097608': 679, '1816884': 680, '2220732': 681, '2452906': 682, '610024': 683, '1263952': 684, '1143242': 685, '1723068': 686, '1998055': 687, '590607': 688, '2633061': 689, '599480': 690, '1444338': 691, '1932832': 692, '288956': 693, '1016721': 694, '137309': 695, '1363670': 696, '1872419': 697, '62361': 698, '620741': 699, '1867416': 700, '370736': 701, '2275159': 702, '13586': 703, '1602117': 704, '1192958': 705, '1784645': 706, '2089742': 707, '360888': 708, '2258984': 709, '1083496': 710, '1598488': 711, '1377526': 712, '2096352': 713, '456205': 714, '561184': 715, '1886175': 716, '2135285': 717, '2329878': 718, '1891149': 719, '259799': 720, '539487': 721, '976385': 722, '969042': 723, '1214640': 724, '1042614': 725, '2159495': 726, '1555581': 727, '587590': 728, '1986034': 729, '184705': 730, '1609999': 731, '2253226': 732, '1956081': 733, '1726438': 734, '1095497': 735, '1165873': 736, '697889': 737, '882006': 738, '998142': 739, '2157854': 740, '1313079': 741, '2560910': 742, '2115977': 743, '1368548': 744, '2374340': 745, '1800955': 746, '2344901': 747, '434633': 748, '2434675': 749, '931279': 750, '1276711': 751, '653361': 752, '295718': 753, '301086': 754, '12798': 755, '103867': 756, '236384': 757, '122752': 758, '2145288': 759, '303846': 760, '1258971': 761, '732635': 762, '1881843': 763, '190249': 764, '287825': 765, '1327781': 766, '1731888': 767, '1010370': 768, '1231605': 769, '50057': 770, '244977': 771, '630026': 772, '2180836': 773, '240869': 774, '282427': 775, '2101842': 776, '762165': 777, '1631334': 778, '2586598': 779, '2586623': 780, '1708788': 781, '530670': 782, '1101854': 783, '2073292': 784, '1978089': 785, '2260761': 786, '1902609': 787, '1894853': 788, '2622229': 789, '1721636': 790, '1693002': 791, '1249490': 792, '2061246': 793, '2263064': 794, '2537646': 795, '891561': 796, '971138': 797, '1772667': 798, '919719': 799, '530226': 800, '473233': 801, '953110': 802, '496631': 803, '2395304': 804, '1203892': 805, '1150537': 806, '610132': 807, '1333759': 808, '1894544': 809, '1404811': 810, '2055550': 811, '2200675': 812, '332698': 813, '1187000': 814, '2215788': 815, '2074813': 816, '272845': 817, '890573': 818, '1256752': 819, '881876': 820, '2372128': 821, '2568366': 822, '1895930': 823, '286912': 824, '1842369': 825, '1021737': 826, '542006': 827, '1911845': 828, '2235183': 829, '186445': 830, '2552767': 831, '2491070': 832, '2241004': 833, '728801': 834, '812726': 835, '1428930': 836, '898239': 837, '2175611': 838, '1494765': 839, '129845': 840, '1259082': 841, '1017698': 842, '1351898': 843, '2222864': 844, '916101': 845, '391012': 846, '537270': 847, '277726': 848, '780984': 849, '1646964': 850, '270694': 851, '1134816': 852, '679414': 853, '1276884': 854, '2589029': 855, '1288714': 856, '829701': 857, '129710': 858, '75818': 859, '258894': 860, '718043': 861, '2344564': 862, '1071510': 863, '1629943': 864, '372730': 865, '2036646': 866, '927129': 867, '2605702': 868, '1978173': 869, '2008166': 870, '355095': 871, '1485848': 872, '1327900': 873, '175887': 874, '1292658': 875, '2369939': 876, '652797': 877, '2160787': 878, '203738': 879, '1701322': 880, '2606279': 881, '1092677': 882, '2147472': 883, '2396197': 884, '220259': 885, '1044457': 886, '318291': 887, '168263': 888, '325503': 889, '501428': 890, '1629456': 891, '1874239': 892, '1286998': 893, '81922': 894, '1154813': 895, '2329026': 896, '874948': 897, '1573228': 898, '2550838': 899, '2110677': 900, '1704892': 901, '471414': 902, '634388': 903, '2378393': 904, '155620': 905, '35206': 906, '1214824': 907, '639194': 908, '2064672': 909, '2173870': 910, '2565022': 911, '2398509': 912, '1841531': 913, '2222827': 914, '998185': 915, '2184504': 916, '2496250': 917, '775020': 918, '1845249': 919, '2641173': 920, '469021': 921, '1884698': 922, '1891442': 923, '1825620': 924, '923069': 925, '1845472': 926, '779328': 927, '1875019': 928, '1809528': 929, '2101288': 930, '1598457': 931, '2452132': 932, '2059620': 933, '1058427': 934, '33430': 935, '1654464': 936, '1076412': 937, '1637793': 938, '2445581': 939, '329712': 940, '2559537': 941, '291198': 942, '1683621': 943, '50123': 944, '609742': 945, '919393': 946, '1087944': 947, '113090': 948, '391893': 949, '1122179': 950, '815238': 951, '2570026': 952, '252119': 953, '1336791': 954, '2077564': 955, '1580943': 956, '1830717': 957, '1466742': 958, '2324555': 959, '1882563': 960, '69801': 961, '1122804': 962, '995939': 963, '1480807': 964, '339547': 965, '1000851': 966, '1643961': 967, '1489846': 968, '1291364': 969, '2019921': 970, '2190100': 971, '70893': 972, '946528': 973, '626444': 974, '1753194': 975, '1516199': 976, '1447381': 977, '2616705': 978, '1816898': 979, '1993796': 980, '84748': 981, '253704': 982, '2540698': 983, '818816': 984, '979363': 985, '1325977': 986, '965050': 987, '1470123': 988, '2497827': 989, '2030708': 990, '1549104': 991, '962188': 992, '59397': 993, '2277540': 994, '353481': 995, '1119513': 996, '591612': 997, '333573': 998, '2011242': 999, '546751': 1000, '2619337': 1001, '971977': 1002, '2010173': 1003, '906476': 1004, '30878': 1005, '1126041': 1006, '1273765': 1007, '516110': 1008, '149028': 1009, '2501068': 1010, '453043': 1011, '2495043': 1012, '2263800': 1013, '2260023': 1014, '372233': 1015, '2043344': 1016, '176934': 1017, '2229399': 1018, '279504': 1019, '1532336': 1020, '1819118': 1021, '785166': 1022, '640018': 1023, '1169138': 1024, '1333954': 1025, '861911': 1026, '2267077': 1027, '320314': 1028, '2138793': 1029, '2575175': 1030, '1357936': 1031, '1374905': 1032, '661407': 1033, '2436583': 1034, '76196': 1035, '110390': 1036, '2466899': 1037, '548695': 1038, '1920318': 1039, '1837942': 1040, '2203675': 1041, '1690808': 1042, '1701442': 1043, '1988633': 1044, '1938964': 1045, '2370089': 1046, '565510': 1047, '2234943': 1048, '665996': 1049, '2588755': 1050, '1745577': 1051, '150038': 1052, '332487': 1053, '53629': 1054, '291883': 1055, '1597459': 1056, '1600210': 1057, '1098018': 1058, '577109': 1059, '1202646': 1060, '1738284': 1061, '1629801': 1062, '175445': 1063, '1715766': 1064, '1985225': 1065, '1603364': 1066, '2225637': 1067, '1664010': 1068, '997666': 1069, '1868345': 1070, '2385389': 1071, '424184': 1072, '1676373': 1073, '324080': 1074, '1861074': 1075, '131752': 1076, '1687562': 1077, '2258288': 1078, '919160': 1079, '1891779': 1080, '495271': 1081, '2594995': 1082, '75086': 1083, '648238': 1084, '973051': 1085, '1632784': 1086, '1531781': 1087, '28656': 1088, '2296816': 1089, '2012897': 1090, '1642330': 1091, '94821': 1092, '1120026': 1093, '2136526': 1094, '2254751': 1095, '1641914': 1096, '1043805': 1097, '511883': 1098, '2253129': 1099, '239285': 1100, '245181': 1101, '714349': 1102, '423302': 1103, '1008085': 1104, '290301': 1105, '327691': 1106, '2170831': 1107, '1976522': 1108, '2513873': 1109, '1146000': 1110, '323798': 1111, '2377247': 1112, '69528': 1113, '967190': 1114, '235092': 1115, '1509395': 1116, '984439': 1117, '643254': 1118, '417641': 1119, '742796': 1120, '459448': 1121, '920670': 1122, '1822496': 1123, '1147208': 1124, '2043617': 1125, '1233312': 1126, '47891': 1127, '1887958': 1128, '1838238': 1129, '2503600': 1130, '2508242': 1131, '1677203': 1132, '526149': 1133, '1519729': 1134, '2365876': 1135, '324510': 1136, '1421498': 1137, '1074260': 1138, '209494': 1139, '1621703': 1140, '2512986': 1141, '1787619': 1142, '2013153': 1143, '1071403': 1144, '1742476': 1145, '2358416': 1146, '2581605': 1147, '1874535': 1148, '186604': 1149, '98579': 1150, '2536450': 1151, '888450': 1152, '2050555': 1153, '538855': 1154, '396400': 1155, '2270611': 1156, '2406958': 1157, '339962': 1158, '911021': 1159, '651541': 1160, '2465236': 1161, '593225': 1162, '2250546': 1163, '1693750': 1164, '123384': 1165, '783585': 1166, '2460074': 1167, '1781160': 1168, '311622': 1169, '722394': 1170, '2491745': 1171, '2628863': 1172, '690000': 1173, '2618515': 1174, '2419242': 1175, '2499019': 1176, '237752': 1177, '756226': 1178, '1020130': 1179, '1225914': 1180, '47589': 1181, '1125189': 1182, '117085': 1183, '1748612': 1184, '962837': 1185, '413855': 1186, '561013': 1187, '1250320': 1188, '525679': 1189, '2229377': 1190, '596250': 1191, '2434632': 1192, '2131235': 1193, '2511278': 1194, '1606438': 1195, '1280149': 1196, '662412': 1197, '183007': 1198, '2077664': 1199, '383451': 1200, '167974': 1201, '1968035': 1202, '272280': 1203, '1278961': 1204, '978437': 1205, '1976520': 1206, '491331': 1207, '2511644': 1208, '1097099': 1209, '909926': 1210, '502080': 1211, '1401369': 1212, '640323': 1213, '1363781': 1214, '1663717': 1215, '2143870': 1216, '531175': 1217, '1277212': 1218, '743813': 1219, '2629365': 1220, '188725': 1221, '763779': 1222, '838130': 1223, '557502': 1224, '1229628': 1225, '335635': 1226, '2550711': 1227, '317108': 1228, '1319658': 1229, '235860': 1230, '2539101': 1231, '15420': 1232, '242681': 1233, '1974726': 1234, '875723': 1235, '1775437': 1236, '378732': 1237, '2082270': 1238, '716096': 1239, '1830420': 1240, '811388': 1241, '1144508': 1242, '753901': 1243, '782316': 1244, '1553532': 1245, '1078644': 1246, '1578114': 1247, '746258': 1248, '221926': 1249, '1299887': 1250, '2403533': 1251, '2329800': 1252, '2265877': 1253, '2614232': 1254, '959685': 1255, '1033930': 1256, '2624124': 1257, '1567867': 1258, '570686': 1259, '1048389': 1260, '2502112': 1261, '1308886': 1262, '926578': 1263, '857880': 1264, '1035378': 1265, '39242': 1266, '1979633': 1267, '1328011': 1268, '1850620': 1269, '262880': 1270, '936396': 1271, '210012': 1272, '320856': 1273, '505449': 1274, '605616': 1275, '2303773': 1276, '2452367': 1277, '1029163': 1278, '1192830': 1279, '291830': 1280, '1122030': 1281, '1008130': 1282, '703959': 1283, '169462': 1284, '1545791': 1285, '2036971': 1286, '211845': 1287, '655385': 1288, '767904': 1289, '1104415': 1290, '1886809': 1291, '1754594': 1292, '2214251': 1293, '769314': 1294, '1193629': 1295, '2344669': 1296, '1940143': 1297, '2100210': 1298, '2257811': 1299, '1054182': 1300, '1390205': 1301, '823557': 1302, '151004': 1303, '1509725': 1304, '331154': 1305, '2362880': 1306, '1118819': 1307, '1586221': 1308, '684587': 1309, '1808648': 1310, '2609784': 1311, '504297': 1312, '1752856': 1313, '2139083': 1314, '2430041': 1315, '1828966': 1316, '793892': 1317, '2485865': 1318, '2384779': 1319, '2618551': 1320, '1592822': 1321, '1994630': 1322, '258332': 1323, '1416455': 1324, '1690251': 1325, '1144887': 1326, '1889176': 1327, '676660': 1328, '1794366': 1329, '305604': 1330, '559971': 1331, '341418': 1332, '2589669': 1333, '1700597': 1334, '2336549': 1335, '2096540': 1336, '2196868': 1337, '1074378': 1338, '2401136': 1339, '381512': 1340, '1289343': 1341, '578191': 1342, '1883088': 1343, '2510270': 1344, '759213': 1345, '496436': 1346, '406948': 1347, '1576991': 1348, '2145781': 1349, '1577495': 1350, '798248': 1351, '212846': 1352, '201707': 1353, '2339135': 1354, '486798': 1355, '2463759': 1356, '1360936': 1357, '1967891': 1358, '2535541': 1359, '11043': 1360, '2282845': 1361, '485181': 1362, '326006': 1363, '1072679': 1364, '1058930': 1365, '2327693': 1366, '1121577': 1367, '2340098': 1368, '197483': 1369, '155233': 1370, '231025': 1371, '1320402': 1372, '486750': 1373, '1903175': 1374, '169204': 1375, '2405503': 1376, '1617268': 1377, '1201058': 1378, '980043': 1379, '96539': 1380, '491513': 1381, '257622': 1382, '245371': 1383, '591064': 1384, '627445': 1385, '124440': 1386, '1341214': 1387, '2374978': 1388, '1053026': 1389, '1502648': 1390, '672012': 1391, '880786': 1392, '2073563': 1393, '496913': 1394, '2023518': 1395, '2300261': 1396, '235562': 1397, '1167477': 1398, '1275703': 1399, '2434614': 1400, '429260': 1401, '1562856': 1402, '2613654': 1403, '1024854': 1404, '1190512': 1405, '1197602': 1406, '1362044': 1407, '2121920': 1408, '555528': 1409, '2463133': 1410, '791266': 1411, '210185': 1412, '868406': 1413, '2299661': 1414, '979424': 1415, '2557596': 1416, '1861514': 1417, '74441': 1418, '451056': 1419, '302344': 1420, '877613': 1421, '1712930': 1422, '1691277': 1423, '2150451': 1424, '1685698': 1425, '2021943': 1426, '1482002': 1427, '1331887': 1428, '2617911': 1429, '410076': 1430, '1209557': 1431, '1918704': 1432, '1167144': 1433, '504175': 1434, '2061733': 1435, '766629': 1436, '1109043': 1437, '37362': 1438, '1742122': 1439, '2226757': 1440, '1369468': 1441, '507603': 1442, '1321396': 1443, '49585': 1444, '348634': 1445, '167586': 1446, '1523029': 1447, '651230': 1448, '449155': 1449, '1181111': 1450, '696970': 1451, '305344': 1452, '1316286': 1453, '2243690': 1454, '2340947': 1455, '1750007': 1456, '1788627': 1457, '1731259': 1458, '2481827': 1459, '714664': 1460, '2514186': 1461, '1427380': 1462, '1505182': 1463, '2309792': 1464, '2116843': 1465, '522278': 1466, '507498': 1467, '1727478': 1468, '1698949': 1469, '662993': 1470, '1379015': 1471, '2214880': 1472, '1788346': 1473, '394895': 1474, '899410': 1475, '1397843': 1476, '1275094': 1477, '668855': 1478, '1704416': 1479, '2482256': 1480, '408765': 1481, '1436183': 1482, '377907': 1483, '2082805': 1484, '121619': 1485, '2022072': 1486, '2517535': 1487, '1478543': 1488, '2479320': 1489, '1675966': 1490, '633738': 1491, '2439795': 1492, '2570514': 1493, '2415382': 1494, '1849454': 1495, '483981': 1496, '1935793': 1497, '891527': 1498, '693527': 1499, '52540': 1500, '1343495': 1501, '1612901': 1502, '755976': 1503, '1250515': 1504, '1801221': 1505, '1609975': 1506, '2496042': 1507, '2152739': 1508, '212895': 1509, '39490': 1510, '1952121': 1511, '347827': 1512, '219410': 1513, '406160': 1514, '2359820': 1515, '990533': 1516, '2346150': 1517, '2353276': 1518, '623645': 1519, '2575145': 1520, '2015780': 1521, '1238184': 1522, '536239': 1523, '452667': 1524, '2210727': 1525, '1744093': 1526, '2182532': 1527, '2169183': 1528, '1384093': 1529, '1332725': 1530, '2183302': 1531, '2524692': 1532, '1801528': 1533, '301665': 1534, '1495111': 1535, '1539551': 1536, '966426': 1537, '2289798': 1538, '622194': 1539, '2059197': 1540, '1809784': 1541, '866531': 1542, '1607163': 1543, '2123401': 1544, '2645868': 1545, '2337634': 1546, '1935937': 1547, '2082428': 1548, '2034654': 1549, '640174': 1550, '1846681': 1551, '643308': 1552, '1746378': 1553, '1681133': 1554, '2254922': 1555, '1932594': 1556, '1030857': 1557, '1162007': 1558, '484113': 1559, '891923': 1560, '214501': 1561, '380150': 1562, '2025236': 1563, '465885': 1564, '1618695': 1565, '2274990': 1566, '2100741': 1567, '89994': 1568, '1931285': 1569, '1060658': 1570, '391521': 1571, '1145831': 1572, '713108': 1573, '1169732': 1574, '700490': 1575, '1172510': 1576, '2113683': 1577, '2097995': 1578, '2355625': 1579, '2325714': 1580, '80354': 1581, '360830': 1582, '1612706': 1583, '876850': 1584, '2387904': 1585, '1794682': 1586, '1333911': 1587, '1928019': 1588, '539844': 1589, '1691501': 1590, '684531': 1591, '932047': 1592, '2162665': 1593, '2538739': 1594, '2420259': 1595, '2577898': 1596, '1203374': 1597, '811903': 1598, '1814991': 1599, '2488357': 1600, '1409417': 1601, '2257458': 1602, '1676166': 1603, '427967': 1604, '1773695': 1605, '2309807': 1606, '837258': 1607, '319499': 1608, '2640203': 1609, '2156617': 1610, '1325578': 1611, '969572': 1612, '2087711': 1613, '1655969': 1614, '48607': 1615, '1153186': 1616, '2351402': 1617, '139852': 1618, '1871161': 1619, '945621': 1620, '2053334': 1621, '2000906': 1622, '546994': 1623, '1262307': 1624, '2641801': 1625, '1148103': 1626, '736825': 1627, '1892942': 1628, '859907': 1629, '2087629': 1630, '705603': 1631, '718595': 1632, '1407665': 1633, '481862': 1634, '1029864': 1635, '2091752': 1636, '529088': 1637, '1788023': 1638, '34762': 1639, '616944': 1640, '1928698': 1641, '133670': 1642, '248904': 1643, '2035595': 1644, '925282': 1645, '2460583': 1646, '2464431': 1647, '438340': 1648, '62753': 1649, '1172980': 1650, '228919': 1651, '1830096': 1652, '954289': 1653, '1521983': 1654, '1422346': 1655, '2597822': 1656, '1382766': 1657, '2457240': 1658, '1694970': 1659, '441324': 1660, '2379858': 1661, '931626': 1662, '222417': 1663, '677371': 1664, '1791068': 1665, '223890': 1666, '1085566': 1667, '2475562': 1668, '922551': 1669, '782551': 1670, '586835': 1671, '1294335': 1672, '1730699': 1673, '1381392': 1674, '1803438': 1675, '1573102': 1676, '1144671': 1677, '1916105': 1678, '1751371': 1679, '1453928': 1680, '122197': 1681, '1089070': 1682, '1316605': 1683, '1051945': 1684, '1840584': 1685, '669086': 1686, '503051': 1687, '719534': 1688, '2509695': 1689, '1114342': 1690, '724592': 1691, '2359497': 1692, '181843': 1693, '323614': 1694, '2529630': 1695, '88334': 1696, '1445521': 1697, '2313013': 1698, '1398761': 1699, '16272': 1700, '1387099': 1701, '1306528': 1702, '1992922': 1703, '755584': 1704, '2096145': 1705, '1154807': 1706, '1811688': 1707, '1691090': 1708, '1821855': 1709, '2032944': 1710, '956401': 1711, '357588': 1712, '2236896': 1713, '2561901': 1714, '162026': 1715, '542848': 1716, '2090850': 1717, '2308912': 1718, '2051579': 1719, '2416960': 1720, '1062600': 1721, '2118269': 1722, '1118120': 1723, '2461535': 1724, '1790158': 1725, '2631950': 1726, '1862272': 1727, '1107588': 1728, '998059': 1729, '1669116': 1730, '679042': 1731, '1431911': 1732, '315168': 1733, '751091': 1734, '1890844': 1735, '2557491': 1736, '221091': 1737, '59143': 1738, '760129': 1739, '1602153': 1740, '1068610': 1741, '2182398': 1742, '250643': 1743, '535671': 1744, '733746': 1745, '306658': 1746, '2324813': 1747, '1625086': 1748, '2513903': 1749, '1268171': 1750, '710621': 1751, '1229545': 1752, '1437519': 1753, '944752': 1754, '235466': 1755, '1631999': 1756, '2262335': 1757, '1273296': 1758, '2248996': 1759, '419691': 1760, '824825': 1761, '1112779': 1762, '1561126': 1763, '1213065': 1764, '1419750': 1765, '1420080': 1766, '1159968': 1767, '1392942': 1768, '574834': 1769, '333455': 1770, '731988': 1771, '1414072': 1772, '1851283': 1773, '1146632': 1774, '1172958': 1775, '759018': 1776, '384188': 1777, '1763220': 1778, '843523': 1779, '460419': 1780, '561321': 1781, '1207462': 1782, '1211787': 1783, '2018721': 1784, '1174779': 1785, '1991699': 1786, '1887657': 1787, '1576723': 1788, '1919269': 1789, '568832': 1790, '1644520': 1791, '2085265': 1792, '253061': 1793, '66109': 1794, '2225288': 1795, '1606812': 1796, '753532': 1797, '1714116': 1798, '1777895': 1799, '1583769': 1800, '2076631': 1801, '1636243': 1802, '2523231': 1803, '1452669': 1804, '2388205': 1805, '307427': 1806, '2155681': 1807, '1433935': 1808, '2590515': 1809, '2399030': 1810, '2607731': 1811, '2062052': 1812, '381753': 1813, '1503647': 1814, '2378363': 1815, '2606685': 1816, '2646058': 1817, '934389': 1818, '1333975': 1819, '2326007': 1820, '559883': 1821, '1905513': 1822, '594870': 1823, '813521': 1824, '2239881': 1825, '482902': 1826, '1848548': 1827, '1530606': 1828, '1934347': 1829, '1917470': 1830, '917559': 1831, '2446344': 1832, '1599243': 1833, '1210935': 1834, '1358164': 1835, '2049414': 1836, '2482881': 1837, '697010': 1838, '554840': 1839, '1841056': 1840, '520704': 1841, '2378867': 1842, '2014644': 1843, '978667': 1844, '847780': 1845, '2550324': 1846, '648871': 1847, '842706': 1848, '2288460': 1849, '1252263': 1850, '1955076': 1851, '559622': 1852, '1731106': 1853, '399620': 1854, '1036823': 1855, '1885422': 1856, '2427965': 1857, '1787721': 1858, '2181794': 1859, '506044': 1860, '639089': 1861, '2535914': 1862, '794765': 1863, '443572': 1864, '813316': 1865, '65300': 1866, '104721': 1867, '796682': 1868, '2122285': 1869, '617390': 1870, '620771': 1871, '1210717': 1872, '2315135': 1873, '575399': 1874, '1600684': 1875, '1421298': 1876, '1185149': 1877, '423990': 1878, '935060': 1879, '2320697': 1880, '1838859': 1881, '264856': 1882, '1935714': 1883, '356615': 1884, '2231559': 1885, '922459': 1886, '2289197': 1887, '1527706': 1888, '1839500': 1889, '1117198': 1890, '1950809': 1891, '1814661': 1892, '406841': 1893, '1684977': 1894, '145615': 1895, '1323507': 1896, '1617915': 1897, '492357': 1898, '459772': 1899, '1030634': 1900, '814304': 1901, '2144037': 1902, '726543': 1903, '2398368': 1904, '1787994': 1905, '2621862': 1906, '1877590': 1907, '441200': 1908, '608538': 1909, '1606419': 1910, '738437': 1911, '2487973': 1912, '2604897': 1913, '297809': 1914, '190547': 1915, '786415': 1916, '2219926': 1917, '772825': 1918, '1099833': 1919, '443353': 1920, '1538815': 1921, '160114': 1922, '2592591': 1923, '734347': 1924, '1416989': 1925, '1253634': 1926, '1028463': 1927, '752642': 1928, '1648695': 1929, '988097': 1930, '2323668': 1931, '824459': 1932, '291620': 1933, '862396': 1934, '27434': 1935, '1784150': 1936, '1412844': 1937, '423540': 1938, '1710306': 1939, '1317086': 1940, '727449': 1941, '1479380': 1942, '2026792': 1943, '527559': 1944, '94869': 1945, '1932377': 1946, '2123456': 1947, '229617': 1948, '1090765': 1949, '955178': 1950, '1672251': 1951, '592132': 1952, '202667': 1953, '89256': 1954, '845136': 1955, '48741': 1956, '1561960': 1957, '1893596': 1958, '110288': 1959, '524142': 1960, '125493': 1961, '1327822': 1962, '444860': 1963, '1014098': 1964, '587043': 1965, '1930496': 1966, '2415196': 1967, '2113709': 1968, '2396038': 1969, '1298147': 1970, '2138757': 1971, '1910165': 1972, '1648992': 1973, '1346269': 1974, '25049': 1975, '625095': 1976, '1720661': 1977, '897762': 1978, '1072072': 1979, '1686134': 1980, '1364307': 1981, '1961675': 1982, '2056657': 1983, '2245510': 1984, '1984978': 1985, '786312': 1986, '610780': 1987, '2522946': 1988, '1111748': 1989, '1260854': 1990, '1391647': 1991, '214254': 1992, '1527895': 1993, '2136856': 1994, '1877958': 1995, '2373185': 1996, '1793717': 1997, '382817': 1998, '2088599': 1999, '1260240': 2000, '303948': 2001, '2030777': 2002, '1434685': 2003, '1765734': 2004, '708047': 2005, '112215': 2006, '1252571': 2007, '1374884': 2008, '2535052': 2009, '2474060': 2010, '1659472': 2011, '753151': 2012, '478558': 2013, '1486501': 2014, '74427': 2015, '113383': 2016, '2125956': 2017, '1371592': 2018, '2503129': 2019, '2622948': 2020, '1459464': 2021, '1046839': 2022, '43729': 2023, '935732': 2024, '217762': 2025, '1202962': 2026, '2259557': 2027, '322178': 2028, '642060': 2029, '609236': 2030, '43751': 2031, '1420371': 2032, '273598': 2033, '1153492': 2034, '1961619': 2035, '2254800': 2036, '2210857': 2037, '851874': 2038, '1140762': 2039, '666611': 2040, '1637246': 2041, '1070547': 2042, '2161938': 2043, '17451': 2044, '1216860': 2045, '2169063': 2046, '1877497': 2047, '2363863': 2048, '1114821': 2049, '1961161': 2050, '2109649': 2051, '1969945': 2052, '1926450': 2053, '1538355': 2054, '1199611': 2055, '377937': 2056, '334643': 2057, '1554430': 2058, '1348653': 2059, '355203': 2060, '2403449': 2061, '300435': 2062, '1700006': 2063, '2481491': 2064, '298623': 2065, '2504747': 2066, '892254': 2067, '1954125': 2068, '2149827': 2069, '2296610': 2070, '2199258': 2071, '843201': 2072, '151625': 2073, '1893117': 2074, '701774': 2075, '1244204': 2076, '2069473': 2077, '936998': 2078, '291135': 2079, '1599561': 2080, '756648': 2081, '1871627': 2082, '1557449': 2083, '804602': 2084, '853256': 2085, '1774516': 2086, '1640334': 2087, '1125171': 2088, '876370': 2089, '596648': 2090, '946101': 2091, '1168143': 2092, '1040388': 2093, '563447': 2094, '1278249': 2095, '137943': 2096, '126216': 2097, '1349437': 2098, '1309403': 2099, '522964': 2100, '1905393': 2101, '2108751': 2102, '23713': 2103, '1276473': 2104, '2647559': 2105, '741248': 2106, '1799995': 2107, '1146055': 2108, '857273': 2109, '1006269': 2110, '1961066': 2111, '1310510': 2112, '712091': 2113, '1720861': 2114, '2199854': 2115, '405837': 2116, '803330': 2117, '2646766': 2118, '98918': 2119, '682093': 2120, '897838': 2121, '1013527': 2122, '2301246': 2123, '926900': 2124, '330221': 2125, '2444202': 2126, '920932': 2127, '337743': 2128, '41153': 2129, '534237': 2130, '243612': 2131, '1610435': 2132, '232286': 2133, '2191884': 2134, '1193872': 2135, '689091': 2136, '2468281': 2137, '107198': 2138, '1777952': 2139, '1132650': 2140, '1732302': 2141, '1383836': 2142, '761471': 2143, '1174530': 2144, '2512558': 2145, '454878': 2146, '1252150': 2147, '2573015': 2148, '911384': 2149, '504047': 2150, '2052520': 2151, '1466453': 2152, '677583': 2153, '642543': 2154, '1498208': 2155, '2090369': 2156, '1018303': 2157, '2071416': 2158, '1511466': 2159, '2445689': 2160, '239137': 2161, '1652205': 2162, '885257': 2163, '1946021': 2164, '1439806': 2165, '1912542': 2166, '2115145': 2167, '782611': 2168, '1257970': 2169, '2115908': 2170, '1911260': 2171, '1711975': 2172, '202572': 2173, '1575065': 2174, '2603059': 2175, '427120': 2176, '2305067': 2177, '885635': 2178, '2338855': 2179, '1828311': 2180, '1497241': 2181, '352609': 2182, '2147779': 2183, '1713284': 2184, '1459851': 2185, '1546535': 2186, '1658662': 2187, '152807': 2188, '2034933': 2189, '1973425': 2190, '726823': 2191, '1278577': 2192, '409192': 2193, '1953066': 2194, '2365049': 2195, '732775': 2196, '2276382': 2197, '606249': 2198, '341330': 2199, '1006406': 2200, '206243': 2201, '2215076': 2202, '1803747': 2203, '2424999': 2204, '1437139': 2205, '493830': 2206, '2610031': 2207, '2562588': 2208, '407314': 2209, '2280280': 2210, '1225226': 2211, '2526662': 2212, '620714': 2213, '138834': 2214, '1859236': 2215, '1675676': 2216, '1406649': 2217, '983042': 2218, '757685': 2219, '1681954': 2220, '773432': 2221, '2505962': 2222, '2198341': 2223, '869468': 2224, '415605': 2225, '923149': 2226, '2145249': 2227, '554078': 2228, '904882': 2229, '2319023': 2230, '2376375': 2231, '1718042': 2232, '1947378': 2233, '411537': 2234, '1796212': 2235, '436436': 2236, '1011593': 2237, '1992894': 2238, '1990271': 2239, '1011627': 2240, '766895': 2241, '600949': 2242, '433593': 2243, '2119190': 2244, '21823': 2245, '2337846': 2246, '1338823': 2247, '589847': 2248, '908626': 2249, '1052076': 2250, '685565': 2251, '560579': 2252, '1245709': 2253, '2083878': 2254, '2388831': 2255, '36598': 2256, '22018': 2257, '827056': 2258, '1484808': 2259, '1079598': 2260, '1860613': 2261, '111086': 2262, '1862805': 2263, '2482831': 2264, '1088988': 2265, '1123175': 2266, '689638': 2267, '1772954': 2268, '747960': 2269, '2431353': 2270, '902049': 2271, '2516788': 2272, '1023512': 2273, '2534508': 2274, '613805': 2275, '2075165': 2276, '1925397': 2277, '1184537': 2278, '2261631': 2279, '615750': 2280, '1427482': 2281, '1256120': 2282, '2126890': 2283, '1349907': 2284, '1809696': 2285, '819056': 2286, '748091': 2287, '235302': 2288, '2504904': 2289, '618011': 2290, '306569': 2291, '348244': 2292, '1014679': 2293, '2006192': 2294, '2333763': 2295, '1376923': 2296, '268567': 2297, '533713': 2298, '1625448': 2299, '1823580': 2300, '2205594': 2301, '1998723': 2302, '283468': 2303, '1312661': 2304, '2494753': 2305, '1943605': 2306, '312937': 2307, '1184498': 2308, '330038': 2309, '386418': 2310, '117567': 2311, '30288': 2312, '910244': 2313, '508335': 2314, '2194022': 2315, '2514291': 2316, '2592269': 2317, '483483': 2318, '177755': 2319, '1965634': 2320, '2303683': 2321, '1523710': 2322, '289278': 2323, '1110156': 2324, '1424040': 2325, '1863866': 2326, '1029224': 2327, '2068497': 2328, '2041742': 2329, '1546584': 2330, '229507': 2331, '374741': 2332, '440750': 2333, '21705': 2334, '1432474': 2335, '2021377': 2336, '1289511': 2337, '2509503': 2338, '49330': 2339, '2355384': 2340, '1927730': 2341, '522180': 2342, '851463': 2343, '782075': 2344, '1806991': 2345, '1357894': 2346, '146765': 2347, '100712': 2348, '354928': 2349, '131910': 2350, '1409728': 2351, '1307565': 2352, '2596310': 2353, '1632290': 2354, '1147594': 2355, '2401140': 2356, '1373956': 2357, '539602': 2358, '2478700': 2359, '1261827': 2360, '2474184': 2361, '97578': 2362, '1117152': 2363, '756987': 2364, '672801': 2365, '1603022': 2366, '364618': 2367, '920065': 2368, '2309509': 2369, '863227': 2370, '1375374': 2371, '1911219': 2372, '1820960': 2373, '1252307': 2374, '2631605': 2375, '2424839': 2376, '2588416': 2377, '188613': 2378, '2457095': 2379, '771809': 2380, '1257921': 2381, '2494105': 2382, '2463846': 2383, '1385988': 2384, '2481883': 2385, '1255812': 2386, '1538119': 2387, '2559843': 2388, '109667': 2389, '2059274': 2390, '203602': 2391, '1666140': 2392, '1000301': 2393, '1025261': 2394, '1102887': 2395, '1864582': 2396, '1469659': 2397, '308422': 2398, '2221396': 2399, '1777163': 2400, '2556321': 2401, '2257979': 2402, '2115174': 2403, '1566134': 2404, '1702270': 2405, '1451137': 2406, '1566425': 2407, '214955': 2408, '2317868': 2409, '1669360': 2410, '2239812': 2411, '270523': 2412, '341961': 2413, '57633': 2414, '1739230': 2415, '346506': 2416, '1288745': 2417, '2132124': 2418, '1366497': 2419, '1480821': 2420, '682688': 2421, '624336': 2422, '1370506': 2423, '452001': 2424, '131016': 2425, '1572717': 2426, '2229960': 2427, '1660384': 2428, '234672': 2429, '582829': 2430, '1927136': 2431, '2021092': 2432, '333323': 2433, '176805': 2434, '557600': 2435, '2187053': 2436, '1936518': 2437, '1362105': 2438, '4906': 2439, '1014151': 2440, '1291667': 2441, '2366229': 2442, '521166': 2443, '388609': 2444, '2002196': 2445, '2343135': 2446, '1533313': 2447, '2574126': 2448, '2123994': 2449, '2341509': 2450, '1227603': 2451, '1349619': 2452, '818752': 2453, '2416290': 2454, '1458301': 2455, '1279283': 2456, '269316': 2457, '332923': 2458, '1469098': 2459, '2640943': 2460, '709833': 2461, '194351': 2462, '2025860': 2463, '2580072': 2464, '409239': 2465, '2032327': 2466, '388863': 2467, '1037245': 2468, '1644750': 2469, '1595299': 2470, '1452127': 2471, '1326146': 2472, '940538': 2473, '181941': 2474, '1188440': 2475, '862852': 2476, '1838390': 2477, '1412213': 2478, '2417531': 2479, '1628403': 2480, '1501011': 2481, '388472': 2482, '1991038': 2483, '958634': 2484, '2130601': 2485, '1475790': 2486, '1714546': 2487, '2367680': 2488, '1709304': 2489, '1129493': 2490, '1472668': 2491, '1068435': 2492, '978104': 2493, '1998128': 2494, '364749': 2495, '2188684': 2496, '1059382': 2497, '2223740': 2498, '2394974': 2499, '1991613': 2500, '981199': 2501, '1900382': 2502, '1028857': 2503, '2580792': 2504, '1683746': 2505, '2379857': 2506, '2976': 2507, '761379': 2508, '2270963': 2509, '1332214': 2510, '408459': 2511, '306664': 2512, '2267431': 2513, '2233590': 2514, '1244059': 2515, '251123': 2516, '711569': 2517, '935010': 2518, '940583': 2519, '2584374': 2520, '1359075': 2521, '88283': 2522, '1086544': 2523, '1080854': 2524, '1572273': 2525, '152903': 2526, '519761': 2527, '906574': 2528, '2787': 2529, '124067': 2530, '2160223': 2531, '2409398': 2532, '1023010': 2533, '1658101': 2534, '836435': 2535, '2136032': 2536, '1705149': 2537, '2282186': 2538, '1031610': 2539, '1143068': 2540, '43530': 2541, '1666057': 2542, '2079909': 2543, '1675105': 2544, '321089': 2545, '1937631': 2546, '2069740': 2547, '1432772': 2548, '2558351': 2549, '508609': 2550, '459145': 2551, '1910699': 2552, '385268': 2553, '1643901': 2554, '1715879': 2555, '388514': 2556, '1107635': 2557, '2498810': 2558, '2171299': 2559, '395176': 2560, '334185': 2561, '2632548': 2562, '2556070': 2563, '211761': 2564, '1846462': 2565, '284399': 2566, '1141105': 2567, '84094': 2568, '1476006': 2569, '2227629': 2570, '2314419': 2571, '1756513': 2572, '2560533': 2573, '255750': 2574, '1116110': 2575, '1277391': 2576, '1513841': 2577, '43279': 2578, '112790': 2579, '1121060': 2580, '234275': 2581, '811215': 2582, '1587640': 2583, '1654721': 2584, '890183': 2585, '953170': 2586, '1382328': 2587, '2310889': 2588, '345636': 2589, '1224756': 2590, '1589698': 2591, '1178938': 2592, '877394': 2593, '2084362': 2594, '2558018': 2595, '751141': 2596, '504981': 2597, '2435795': 2598, '1153585': 2599, '1789382': 2600, '311144': 2601, '1960381': 2602, '753485': 2603, '57344': 2604, '1442150': 2605, '732682': 2606, '2385469': 2607, '1830031': 2608, '1335559': 2609, '268143': 2610, '1297706': 2611, '2588947': 2612, '1733203': 2613, '1891748': 2614, '1973503': 2615, '1104997': 2616, '2011043': 2617, '2368644': 2618, '551459': 2619, '2476202': 2620, '1436917': 2621, '882300': 2622, '302425': 2623, '796136': 2624, '35528': 2625, '200427': 2626, '738964': 2627, '533352': 2628, '1605212': 2629, '1014989': 2630, '408200': 2631, '186806': 2632, '2493903': 2633, '2622129': 2634, '2135424': 2635, '855309': 2636, '443193': 2637, '1584352': 2638, '937847': 2639, '1396967': 2640, '1750785': 2641, '144099': 2642, '1630031': 2643, '1084626': 2644, '706897': 2645, '11540': 2646, '567025': 2647, '1580673': 2648, '991385': 2649, '481980': 2650, '1066571': 2651, '674065': 2652, '1705359': 2653, '2248543': 2654, '159159': 2655, '402377': 2656, '2367141': 2657, '1912034': 2658, '232877': 2659, '1941703': 2660, '1817678': 2661, '760481': 2662, '313311': 2663, '2538567': 2664, '1402612': 2665, '1613373': 2666, '622382': 2667, '1511901': 2668, '1302590': 2669, '517392': 2670, '655601': 2671, '37797': 2672, '2366063': 2673, '871915': 2674, '19930': 2675, '46231': 2676, '342274': 2677, '1071141': 2678, '2436744': 2679, '458190': 2680, '922332': 2681, '2604364': 2682, '1940995': 2683, '1473595': 2684, '2319621': 2685, '2566515': 2686, '1346630': 2687, '1568774': 2688, '1938727': 2689, '2391124': 2690, '1280268': 2691, '475797': 2692, '1892097': 2693, '2545730': 2694, '2476907': 2695, '596964': 2696, '268872': 2697, '1013603': 2698, '1698123': 2699, '1200886': 2700, '566842': 2701, '2289721': 2702, '113549': 2703, '445152': 2704, '120368': 2705, '1268483': 2706, '1257537': 2707, '715533': 2708, '147239': 2709, '930837': 2710, '197025': 2711, '1088073': 2712, '1947240': 2713, '2539578': 2714, '1988310': 2715, '1827080': 2716, '1054341': 2717, '1120721': 2718, '2429759': 2719, '2562487': 2720, '462344': 2721, '2521994': 2722, '1683615': 2723, '2383871': 2724, '642036': 2725, '2407468': 2726, '2585665': 2727, '2119859': 2728, '1277779': 2729, '2127196': 2730, '25435': 2731, '377329': 2732, '476851': 2733, '2108672': 2734, '2270666': 2735, '282390': 2736, '787316': 2737, '1421919': 2738, '1571988': 2739, '1228200': 2740, '774088': 2741, '2439493': 2742, '633730': 2743, '1985315': 2744, '598256': 2745, '1672832': 2746, '1589197': 2747, '1660196': 2748, '625420': 2749, '829825': 2750, '415672': 2751, '532579': 2752, '360412': 2753, '286783': 2754, '2610356': 2755, '366608': 2756, '1437304': 2757, '490101': 2758, '1545441': 2759, '444229': 2760, '577849': 2761, '1119579': 2762, '441442': 2763, '1833576': 2764, '64741': 2765, '1416947': 2766, '1922925': 2767, '256935': 2768, '2064424': 2769, '296788': 2770, '503356': 2771, '81074': 2772, '214850': 2773, '2508565': 2774, '426352': 2775, '706264': 2776, '1738046': 2777, '95186': 2778, '2070271': 2779, '761014': 2780, '1606064': 2781, '274191': 2782, '717972': 2783, '780871': 2784, '1620735': 2785, '801295': 2786, '1472304': 2787, '1415865': 2788, '331432': 2789, '1654617': 2790, '1880844': 2791, '1087551': 2792, '2608047': 2793, '2159290': 2794, '488116': 2795, '1305625': 2796, '172377': 2797, '1587492': 2798, '256065': 2799, '2400569': 2800, '897867': 2801, '1007057': 2802, '2327365': 2803, '716874': 2804, '682169': 2805, '2477751': 2806, '352590': 2807, '342020': 2808, '1591103': 2809, '701443': 2810, '1244123': 2811, '1425453': 2812, '15737': 2813, '151528': 2814, '1648640': 2815, '2356793': 2816, '1616437': 2817, '1189426': 2818, '1757328': 2819, '1212882': 2820, '362622': 2821, '1846930': 2822, '2107839': 2823, '2048038': 2824, '215281': 2825, '2439534': 2826, '2190401': 2827, '1829617': 2828, '2144081': 2829, '1453873': 2830, '1293788': 2831, '2150095': 2832, '2092609': 2833, '1755612': 2834, '1213114': 2835, '2311775': 2836, '1328243': 2837, '497986': 2838, '2467784': 2839, '2640760': 2840, '860647': 2841, '69368': 2842, '1005202': 2843, '2080171': 2844, '958956': 2845, '1265764': 2846, '16273': 2847, '2559609': 2848, '1455126': 2849, '2549746': 2850, '2297074': 2851, '1577811': 2852, '1586276': 2853, '1179646': 2854, '1184029': 2855, '2138723': 2856, '113262': 2857, '680045': 2858, '2602942': 2859, '1172516': 2860, '1577696': 2861, '744129': 2862, '1546371': 2863, '62499': 2864, '1517327': 2865, '662124': 2866, '1212585': 2867, '1250006': 2868, '391850': 2869, '2417983': 2870, '1916224': 2871, '1107448': 2872, '874065': 2873, '1258668': 2874, '1655236': 2875, '2470844': 2876, '2162531': 2877, '2266372': 2878, '2326664': 2879, '2092470': 2880, '1826465': 2881, '822164': 2882, '987736': 2883, '493287': 2884, '594196': 2885, '57342': 2886, '2379437': 2887, '1888772': 2888, '1905177': 2889, '2316252': 2890, '372239': 2891, '505558': 2892, '896630': 2893, '1830265': 2894, '2111014': 2895, '187251': 2896, '1436357': 2897, '874610': 2898, '1983441': 2899, '280120': 2900, '641138': 2901, '327122': 2902, '701962': 2903, '376013': 2904, '2439537': 2905, '2483371': 2906, '1926272': 2907, '530740': 2908, '1112365': 2909, '327401': 2910, '832536': 2911, '1195633': 2912, '1705134': 2913, '1646405': 2914, '2124083': 2915, '2523426': 2916, '2311867': 2917, '472452': 2918, '2453812': 2919, '2225392': 2920, '676222': 2921, '1385255': 2922, '2597530': 2923, '159328': 2924, '734269': 2925, '1195601': 2926, '837133': 2927, '401148': 2928, '1218004': 2929, '1757738': 2930, '2101921': 2931, '380673': 2932, '2434480': 2933, '753596': 2934, '135161': 2935, '330282': 2936, '2389367': 2937, '2041854': 2938, '554929': 2939, '617970': 2940, '2332009': 2941, '1840149': 2942, '787736': 2943, '203999': 2944, '1707271': 2945, '1289999': 2946, '1215087': 2947, '491531': 2948, '148670': 2949, '2250951': 2950, '239178': 2951, '381346': 2952, '275338': 2953, '499718': 2954, '2330287': 2955, '1913241': 2956, '1417705': 2957, '1285593': 2958, '1011888': 2959, '178800': 2960, '172102': 2961, '2524267': 2962, '604335': 2963, '1035000': 2964, '1354742': 2965, '436023': 2966, '2024111': 2967, '2505334': 2968, '1408280': 2969, '2527516': 2970, '361630': 2971, '672989': 2972, '1585125': 2973, '158121': 2974, '814740': 2975, '2107068': 2976, '1432681': 2977, '2322383': 2978, '539249': 2979, '42072': 2980, '1150238': 2981, '1699606': 2982, '2061499': 2983, '2561861': 2984, '1274870': 2985, '1715300': 2986, '2270619': 2987, '1939137': 2988, '1131917': 2989, '2226294': 2990, '964327': 2991, '515436': 2992, '2577467': 2993, '2207951': 2994, '2327386': 2995, '178089': 2996, '1510547': 2997, '770860': 2998, '7599': 2999, '1065779': 3000, '1206842': 3001, '1954578': 3002, '20658': 3003, '1938581': 3004, '290700': 3005, '1189462': 3006, '691919': 3007, '1872926': 3008, '98586': 3009, '1057513': 3010, '2014656': 3011, '323118': 3012, '75976': 3013, '491739': 3014, '1038880': 3015, '2127755': 3016, '1055699': 3017, '2554084': 3018, '845192': 3019, '1359758': 3020, '1448522': 3021, '1735893': 3022, '1300029': 3023, '274365': 3024, '2146779': 3025, '603277': 3026, '2290481': 3027, '1830690': 3028, '759596': 3029, '445227': 3030, '1732461': 3031, '381326': 3032, '1045879': 3033, '1507291': 3034, '1155404': 3035, '1227730': 3036, '17189': 3037, '1031887': 3038, '665967': 3039, '298298': 3040, '2333850': 3041, '808604': 3042, '131938': 3043, '2644264': 3044, '2056324': 3045, '1011386': 3046, '57193': 3047, '1262753': 3048, '596474': 3049, '1434643': 3050, '2312452': 3051, '705695': 3052, '694620': 3053, '1152933': 3054, '1287017': 3055, '1939431': 3056, '2600558': 3057, '1945838': 3058, '2171089': 3059, '1286347': 3060, '2073205': 3061, '843387': 3062, '1061353': 3063, '904803': 3064, '2209044': 3065, '2051681': 3066, '269962': 3067, '1480932': 3068, '1421913': 3069, '289162': 3070, '485301': 3071, '1391510': 3072, '1617448': 3073, '542907': 3074, '546802': 3075, '803945': 3076, '1702035': 3077, '2641668': 3078, '431646': 3079, '1612505': 3080, '2185614': 3081, '2081461': 3082, '807751': 3083, '68685': 3084, '2574258': 3085, '2171103': 3086, '606292': 3087, '877320': 3088, '1437853': 3089, '1617685': 3090, '295928': 3091, '2239213': 3092, '728569': 3093, '371123': 3094, '2569199': 3095, '1725003': 3096, '1049975': 3097, '610397': 3098, '1311346': 3099, '671071': 3100, '2156165': 3101, '908540': 3102, '1011794': 3103, '2119848': 3104, '937813': 3105, '1665054': 3106, '1405557': 3107, '1283171': 3108, '1196131': 3109, '1775114': 3110, '727423': 3111, '563585': 3112, '459277': 3113, '210762': 3114, '929122': 3115, '983069': 3116, '2375683': 3117, '260373': 3118, '202273': 3119, '1486225': 3120, '320708': 3121, '234798': 3122, '1444177': 3123, '1885042': 3124, '1138870': 3125, '2428151': 3126, '1624667': 3127, '1312412': 3128, '1407746': 3129, '2387672': 3130, '395098': 3131, '2604392': 3132, '1803311': 3133, '1731658': 3134, '1683667': 3135, '1637683': 3136, '351559': 3137, '2340639': 3138, '1727813': 3139, '742107': 3140, '1666213': 3141, '1430920': 3142, '81150': 3143, '2014204': 3144, '2121765': 3145, '1247689': 3146, '2006759': 3147, '823628': 3148, '1247208': 3149, '1710643': 3150, '1159926': 3151, '1197032': 3152, '1760730': 3153, '960983': 3154, '1033053': 3155, '2502208': 3156, '161536': 3157, '1317671': 3158, '214593': 3159, '2546703': 3160, '512966': 3161, '629383': 3162, '1327340': 3163, '2564796': 3164, '1024066': 3165, '975188': 3166, '1044120': 3167, '2371105': 3168, '1242806': 3169, '1624150': 3170, '398661': 3171, '2176780': 3172, '50259': 3173, '1602952': 3174, '177770': 3175, '776905': 3176, '2260281': 3177, '1072699': 3178, '290588': 3179, '1808201': 3180, '1753259': 3181, '770583': 3182, '182134': 3183, '406464': 3184, '2332377': 3185, '2198115': 3186, '1347528': 3187, '494014': 3188, '384710': 3189, '1167549': 3190, '2130003': 3191, '1412898': 3192, '2088489': 3193, '1281982': 3194, '2087298': 3195, '389506': 3196, '455745': 3197, '1369078': 3198, '728413': 3199, '1723416': 3200, '508927': 3201, '287566': 3202, '1936110': 3203, '375726': 3204, '607063': 3205, '1528604': 3206, '1401561': 3207, '2321028': 3208, '1861500': 3209, '1999176': 3210, '145873': 3211, '2529418': 3212, '57347': 3213, '2051329': 3214, '2294397': 3215, '2134527': 3216, '778430': 3217, '2094599': 3218, '1702681': 3219, '635056': 3220, '15191': 3221, '852166': 3222, '1466320': 3223, '2479086': 3224, '1105269': 3225, '912093': 3226, '1474466': 3227, '2338157': 3228, '45234': 3229, '2040484': 3230, '1962300': 3231, '2415052': 3232, '2136912': 3233, '2015946': 3234, '2614953': 3235, '222025': 3236, '53521': 3237, '1346943': 3238, '2096620': 3239, '1179117': 3240, '987337': 3241, '773694': 3242, '1393159': 3243, '794835': 3244, '601317': 3245, '1777917': 3246, '1568315': 3247, '1769206': 3248, '713797': 3249, '80548': 3250, '194528': 3251, '2625471': 3252, '2339981': 3253, '2551486': 3254, '948109': 3255, '1401233': 3256, '1600209': 3257, '508652': 3258, '47898': 3259, '2409816': 3260, '647216': 3261, '1624976': 3262, '2259898': 3263, '1024568': 3264, '1652573': 3265, '1873281': 3266, '870526': 3267, '1579340': 3268, '762369': 3269, '1640067': 3270, '1062351': 3271, '606809': 3272, '2634074': 3273, '213486': 3274, '1550359': 3275, '976668': 3276, '1119442': 3277, '423361': 3278, '2500432': 3279, '1566875': 3280, '387418': 3281, '257710': 3282, '1582303': 3283, '1829748': 3284, '1635708': 3285, '361886': 3286, '1725635': 3287, '1024965': 3288, '2126686': 3289, '987197': 3290, '174783': 3291, '799817': 3292, '479327': 3293, '1824936': 3294, '1673965': 3295, '809329': 3296, '969530': 3297, '1789747': 3298, '488267': 3299, '1502511': 3300, '948572': 3301, '2647406': 3302, '1945693': 3303, '1267586': 3304, '809353': 3305, '2063452': 3306, '1259454': 3307, '1775740': 3308, '1477154': 3309, '1988192': 3310, '2134111': 3311, '1422981': 3312, '1584593': 3313, '2179335': 3314, '17890': 3315, '706198': 3316, '2316337': 3317, '1954597': 3318, '1677216': 3319, '1059927': 3320, '541796': 3321, '1242475': 3322, '2415589': 3323, '2397914': 3324, '552107': 3325, '2497891': 3326, '1686401': 3327, '1214262': 3328, '289736': 3329, '1747640': 3330, '1424177': 3331, '1392168': 3332, '2286189': 3333, '1338247': 3334, '1625075': 3335, '537601': 3336, '1952102': 3337, '1711278': 3338, '397077': 3339, '2171936': 3340, '1607747': 3341, '1892684': 3342, '1774623': 3343, '179995': 3344, '1897107': 3345, '1498221': 3346, '2002198': 3347, '2409746': 3348, '1403658': 3349, '994077': 3350, '1851629': 3351, '1490035': 3352, '2135692': 3353, '435450': 3354, '107435': 3355, '1109553': 3356, '757456': 3357, '329534': 3358, '1476557': 3359, '830300': 3360, '2555117': 3361, '2000256': 3362, '1783814': 3363, '387916': 3364, '2442218': 3365, '1560395': 3366, '2250552': 3367, '1096568': 3368, '2474624': 3369, '1120985': 3370, '1687310': 3371, '1906860': 3372, '917063': 3373, '251595': 3374, '109205': 3375, '1950023': 3376, '1827859': 3377, '2238785': 3378, '1003093': 3379, '343490': 3380, '1971766': 3381, '1903822': 3382, '980292': 3383, '644429': 3384, '1618060': 3385, '509860': 3386, '842026': 3387, '1780039': 3388, '402266': 3389, '305111': 3390, '1055117': 3391, '479481': 3392, '96837': 3393, '1605430': 3394, '2470884': 3395, '1349682': 3396, '1636268': 3397, '2070875': 3398, '1121380': 3399, '2134981': 3400, '1788130': 3401, '2154672': 3402, '2576505': 3403, '1567240': 3404, '1628880': 3405, '1865216': 3406, '825353': 3407, '2194079': 3408, '1365790': 3409, '1316762': 3410, '2523125': 3411, '935459': 3412, '2320177': 3413, '329471': 3414, '180537': 3415, '162834': 3416, '1807166': 3417, '1709384': 3418, '105802': 3419, '570428': 3420, '120379': 3421, '911514': 3422, '2093105': 3423, '930113': 3424, '569379': 3425, '408998': 3426, '1156852': 3427, '1480781': 3428, '1696241': 3429, '2593478': 3430, '2002671': 3431, '2547935': 3432, '441401': 3433, '633156': 3434, '135657': 3435, '2602174': 3436, '874505': 3437, '2495157': 3438, '2645579': 3439, '1985760': 3440, '1879179': 3441, '168577': 3442, '2484944': 3443, '2035299': 3444, '2348786': 3445, '1273272': 3446, '139147': 3447, '241634': 3448, '2258090': 3449, '2502395': 3450, '1120126': 3451, '1119020': 3452, '1360897': 3453, '2500583': 3454, '2038901': 3455, '2205259': 3456, '1388677': 3457, '1586924': 3458, '2231861': 3459, '2439640': 3460, '1927580': 3461, '1596469': 3462, '1708369': 3463, '621244': 3464, '806605': 3465, '2114250': 3466, '2601112': 3467, '2039272': 3468, '920168': 3469, '2002781': 3470, '1655469': 3471, '1089184': 3472, '1558476': 3473, '1818059': 3474, '1026162': 3475, '1401974': 3476, '1156011': 3477, '854849': 3478, '2171718': 3479, '1734270': 3480, '81912': 3481, '1831058': 3482, '147653': 3483, '2152930': 3484, '1593551': 3485, '139006': 3486, '2000004': 3487, '957535': 3488, '495388': 3489, '2568779': 3490, '1165353': 3491, '92903': 3492, '1338011': 3493, '2391281': 3494, '267163': 3495, '662550': 3496, '1846515': 3497, '1671330': 3498, '1568103': 3499, '2301473': 3500, '1961791': 3501, '1526365': 3502, '1187252': 3503, '329966': 3504, '2367823': 3505, '2110213': 3506, '1797427': 3507, '1154641': 3508, '1397857': 3509, '1746668': 3510, '1349711': 3511, '1582151': 3512, '1026933': 3513, '1204294': 3514, '1830198': 3515, '355597': 3516, '918206': 3517, '1621023': 3518, '1527527': 3519, '363195': 3520, '1025699': 3521, '2394277': 3522, '835281': 3523, '1523836': 3524, '1993625': 3525, '967062': 3526, '1818895': 3527, '2386179': 3528, '504440': 3529, '1991674': 3530, '733225': 3531, '698818': 3532, '66179': 3533, '1623050': 3534, '2047178': 3535, '1934860': 3536, '1024189': 3537, '1825379': 3538, '753531': 3539, '1293508': 3540, '915571': 3541, '1703573': 3542, '1695976': 3543, '1498519': 3544, '1842201': 3545, '1995052': 3546, '2247045': 3547, '1428452': 3548, '2295501': 3549, '1036009': 3550, '249933': 3551, '2516525': 3552, '197897': 3553, '1062852': 3554, '2549156': 3555, '1500388': 3556, '1634652': 3557, '996461': 3558, '989579': 3559, '2014280': 3560, '2516211': 3561, '2399842': 3562, '2121720': 3563, '1515048': 3564, '528190': 3565, '1842734': 3566, '2329061': 3567, '914059': 3568, '2105834': 3569, '2513559': 3570, '215554': 3571, '1218225': 3572, '2548032': 3573, '1917540': 3574, '2299436': 3575, '2090015': 3576, '1251664': 3577, '1215094': 3578, '1208059': 3579, '702085': 3580, '1397022': 3581, '2280081': 3582, '545026': 3583, '1832023': 3584, '923517': 3585, '921585': 3586, '23042': 3587, '128921': 3588, '1381955': 3589, '2548965': 3590, '1809573': 3591, '559886': 3592, '155850': 3593, '2111332': 3594, '226048': 3595, '687235': 3596, '970756': 3597, '2407208': 3598, '1284016': 3599, '1561857': 3600, '585272': 3601, '1112889': 3602, '220512': 3603, '2615678': 3604, '483851': 3605, '371897': 3606, '712405': 3607, '2049525': 3608, '2322463': 3609, '1898804': 3610, '776389': 3611, '337431': 3612, '1637213': 3613, '1385580': 3614, '1198828': 3615, '647979': 3616, '972873': 3617, '294826': 3618, '816213': 3619, '273541': 3620, '105221': 3621, '988817': 3622, '1119278': 3623, '2090242': 3624, '424851': 3625, '844526': 3626, '1759688': 3627, '1617675': 3628, '948271': 3629, '775247': 3630, '1502423': 3631, '292335': 3632, '455962': 3633, '1631281': 3634, '1980175': 3635, '1201988': 3636, '412805': 3637, '31387': 3638, '21386': 3639, '1148389': 3640, '2494075': 3641, '1052539': 3642, '2487916': 3643, '2345454': 3644, '974823': 3645, '522176': 3646, '1087649': 3647, '1372889': 3648, '1530425': 3649, '2314898': 3650, '345800': 3651, '119727': 3652, '2585641': 3653, '471654': 3654, '912738': 3655, '67134': 3656, '53878': 3657, '58485': 3658, '13891': 3659, '466121': 3660, '442899': 3661, '1517586': 3662, '1727342': 3663, '521646': 3664, '781778': 3665, '2438169': 3666, '585900': 3667, '2091625': 3668, '2514777': 3669, '88909': 3670, '1823259': 3671, '2492268': 3672, '1173289': 3673, '532653': 3674, '1989573': 3675, '1945809': 3676, '1631087': 3677, '2124693': 3678, '1727111': 3679, '2600419': 3680, '2077168': 3681, '1264313': 3682, '729150': 3683, '2432362': 3684, '378348': 3685, '743344': 3686, '2068936': 3687, '2269379': 3688, '2152097': 3689, '478827': 3690, '1990616': 3691, '2420001': 3692, '704050': 3693, '1677782': 3694, '332086': 3695, '1121663': 3696, '1882738': 3697, '1859843': 3698, '721036': 3699, '2065448': 3700, '1924957': 3701, '470645': 3702, '2593402': 3703, '1818507': 3704, '1279110': 3705, '1628622': 3706, '1345597': 3707, '1433701': 3708, '822126': 3709, '684056': 3710, '1045053': 3711, '1227322': 3712, '1739732': 3713, '455024': 3714, '32902': 3715, '807603': 3716, '1632934': 3717, '2517394': 3718, '1180559': 3719, '6056': 3720, '2171565': 3721, '1516496': 3722, '1298511': 3723, '230966': 3724, '1814824': 3725, '1682724': 3726, '2551641': 3727, '1001004': 3728, '1377943': 3729, '234639': 3730, '2120432': 3731, '2109211': 3732, '1321596': 3733, '1047830': 3734, '1539341': 3735, '2579012': 3736, '632028': 3737, '2633644': 3738, '1329886': 3739, '1478244': 3740, '1988873': 3741, '1206353': 3742, '442963': 3743, '511899': 3744, '1633691': 3745, '10268': 3746, '1929044': 3747, '406717': 3748, '2581695': 3749, '1812275': 3750, '1779014': 3751, '317504': 3752, '450731': 3753, '1582412': 3754, '2350917': 3755, '1989258': 3756, '2487919': 3757, '2284890': 3758, '2476470': 3759, '1676322': 3760, '730628': 3761, '2264286': 3762, '1971183': 3763, '1976839': 3764, '1751103': 3765, '548256': 3766, '1219057': 3767, '1379133': 3768, '2038926': 3769, '2557710': 3770, '311641': 3771, '1942723': 3772, '2205734': 3773, '2278766': 3774, '664105': 3775, '1255033': 3776, '909432': 3777, '1390768': 3778, '81478': 3779, '1697078': 3780, '335030': 3781, '1769766': 3782, '656460': 3783, '340715': 3784, '571332': 3785, '363845': 3786, '2428423': 3787, '1191308': 3788, '275600': 3789, '973870': 3790, '1152342': 3791, '1242211': 3792, '269689': 3793, '2282019': 3794, '199435': 3795, '1990990': 3796, '350266': 3797, '588280': 3798, '356664': 3799, '548053': 3800, '868424': 3801, '908205': 3802, '2201302': 3803, '1830000': 3804, '2173514': 3805, '609087': 3806, '2293836': 3807, '836050': 3808, '1128164': 3809, '2131880': 3810, '685926': 3811, '1764923': 3812, '98044': 3813, '720503': 3814, '149575': 3815, '2376301': 3816, '2421428': 3817, '1794745': 3818, '2170900': 3819, '1621533': 3820, '1508115': 3821, '2005241': 3822, '1497891': 3823, '1630669': 3824, '2296144': 3825, '867967': 3826, '860599': 3827, '287901': 3828, '866048': 3829, '1685961': 3830, '911710': 3831, '1373445': 3832, '2361408': 3833, '796494': 3834, '538668': 3835, '1059536': 3836, '314159': 3837, '439830': 3838, '1928175': 3839, '2217043': 3840, '2518715': 3841, '1259696': 3842, '1155319': 3843, '305701': 3844, '352167': 3845, '789894': 3846, '1981741': 3847, '1840146': 3848, '683671': 3849, '483077': 3850, '800136': 3851, '1143750': 3852, '1678903': 3853, '2547661': 3854, '812796': 3855, '1877143': 3856, '2520506': 3857, '823520': 3858, '2449001': 3859, '877060': 3860, '2476422': 3861, '2482502': 3862, '48210': 3863, '2202365': 3864, '189814': 3865, '1395543': 3866, '868723': 3867, '2037038': 3868, '771125': 3869, '638651': 3870, '2048420': 3871, '2491063': 3872, '360846': 3873, '1661485': 3874, '679277': 3875, '1055226': 3876, '1899788': 3877, '1135480': 3878, '859380': 3879, '431732': 3880, '1125226': 3881, '257095': 3882, '1225406': 3883, '95062': 3884, '1286550': 3885, '2420298': 3886, '538735': 3887, '2420257': 3888, '2282499': 3889, '962019': 3890, '2313697': 3891, '2169737': 3892, '1437996': 3893, '1966042': 3894, '1106767': 3895, '541980': 3896, '2284358': 3897, '1467756': 3898, '43177': 3899, '1172676': 3900, '752094': 3901, '1252110': 3902, '2172649': 3903, '1181649': 3904, '1112998': 3905, '38908': 3906, '2219070': 3907, '2584252': 3908, '2518972': 3909, '990851': 3910, '1792303': 3911, '2578541': 3912, '1906240': 3913, '2539408': 3914, '2159419': 3915, '1242336': 3916, '927462': 3917, '2124555': 3918, '1158787': 3919, '765938': 3920, '555831': 3921, '1417851': 3922, '570929': 3923, '2516786': 3924, '1538415': 3925, '2550506': 3926, '1078630': 3927, '1473980': 3928, '1352530': 3929, '2221430': 3930, '1848170': 3931, '1566168': 3932, '1772737': 3933, '2615816': 3934, '2299152': 3935, '1186815': 3936, '1390581': 3937, '826871': 3938, '1122106': 3939, '1053421': 3940, '469045': 3941, '2590509': 3942, '691878': 3943, '828444': 3944, '315561': 3945, '2328825': 3946, '1058639': 3947, '2087499': 3948, '1402250': 3949, '1957786': 3950, '2056022': 3951, '1933447': 3952, '397212': 3953, '2138746': 3954, '1593175': 3955, '2460347': 3956, '1262713': 3957, '930687': 3958, '640425': 3959, '1659478': 3960, '66540': 3961, '1309167': 3962, '1734505': 3963, '1898932': 3964, '1948046': 3965, '1172778': 3966, '2555482': 3967, '932638': 3968, '226696': 3969, '59218': 3970, '1891825': 3971, '394528': 3972, '1357072': 3973, '1391523': 3974, '2540945': 3975, '2114680': 3976, '2364980': 3977, '1918750': 3978, '1972705': 3979, '2152465': 3980, '2347632': 3981, '1112907': 3982, '1945567': 3983, '2487298': 3984, '1425680': 3985, '2317746': 3986, '315146': 3987, '1300687': 3988, '1006156': 3989, '2640264': 3990, '609754': 3991, '922591': 3992, '1329769': 3993, '1758770': 3994, '382405': 3995, '1431160': 3996, '1249686': 3997, '2270275': 3998, '365840': 3999, '1954340': 4000, '550596': 4001, '2633357': 4002, '1882485': 4003, '672643': 4004, '2358975': 4005, '645846': 4006, '853135': 4007, '1727531': 4008, '2635599': 4009, '510834': 4010, '2182050': 4011, '1866446': 4012, '2227924': 4013, '1072312': 4014, '973703': 4015, '1877370': 4016, '2089287': 4017, '928607': 4018, '645873': 4019, '1991491': 4020, '393226': 4021, '994838': 4022, '857778': 4023, '486255': 4024, '1828803': 4025, '1232251': 4026, '386915': 4027, '1607785': 4028, '2047141': 4029, '761585': 4030, '846786': 4031, '1366995': 4032, '558720': 4033, '397948': 4034, '941611': 4035, '165337': 4036, '16558': 4037, '2103314': 4038, '1284515': 4039, '1336817': 4040, '904848': 4041, '1416480': 4042, '963663': 4043, '1195746': 4044, '700049': 4045, '1951367': 4046, '1345779': 4047, '1889106': 4048, '2447465': 4049, '1972735': 4050, '2295594': 4051, '300241': 4052, '2564120': 4053, '2151468': 4054, '1148740': 4055, '1757577': 4056, '864061': 4057, '881457': 4058, '1862392': 4059, '2441383': 4060, '1225150': 4061, '1875549': 4062, '575029': 4063, '277109': 4064, '2298323': 4065, '433803': 4066, '163893': 4067, '2033641': 4068, '1428848': 4069, '504624': 4070, '1373866': 4071, '1958458': 4072, '1500625': 4073, '1431184': 4074, '2374825': 4075, '1501738': 4076, '806891': 4077, '753836': 4078, '2541025': 4079, '754884': 4080, '591207': 4081, '1489224': 4082, '971176': 4083, '128863': 4084, '2309963': 4085, '2494633': 4086, '940016': 4087, '956271': 4088, '2602249': 4089, '872924': 4090, '1847778': 4091, '2541565': 4092, '2034632': 4093, '682739': 4094, '760534': 4095, '2584690': 4096, '868634': 4097, '2637832': 4098, '2118885': 4099, '2541385': 4100, '2554035': 4101, '286567': 4102, '1100373': 4103, '2206659': 4104, '111693': 4105, '2109386': 4106, '574947': 4107, '2337144': 4108, '1606520': 4109, '2118461': 4110, '2551483': 4111, '2222089': 4112, '1611417': 4113, '340807': 4114, '1000387': 4115, '2143054': 4116, '1562633': 4117, '1908051': 4118, '381565': 4119, '846480': 4120, '2620858': 4121, '716761': 4122, '1822560': 4123, '753107': 4124, '504211': 4125, '2418129': 4126, '603543': 4127, '674346': 4128, '991911': 4129, '1156578': 4130, '893014': 4131, '325844': 4132, '330027': 4133, '2456593': 4134, '1952500': 4135, '1814310': 4136, '2176431': 4137, '790348': 4138, '2358855': 4139, '1238991': 4140, '91007': 4141, '2493786': 4142, '825831': 4143, '1233297': 4144, '2427632': 4145, '2217557': 4146, '396132': 4147, '222993': 4148, '2316426': 4149, '2297386': 4150, '2363627': 4151, '785573': 4152, '204096': 4153, '187160': 4154, '1716677': 4155, '1603751': 4156, '1582794': 4157, '2326306': 4158, '1991655': 4159, '2465313': 4160, '675407': 4161, '1370564': 4162, '2472066': 4163, '1027280': 4164, '949240': 4165, '1876697': 4166, '269474': 4167, '1282217': 4168, '1044050': 4169, '1068044': 4170, '1000634': 4171, '1340495': 4172, '95146': 4173, '2215021': 4174, '1138277': 4175, '1677588': 4176, '2228750': 4177, '185347': 4178, '311875': 4179, '1153562': 4180, '2153439': 4181, '2169283': 4182, '942568': 4183, '1951053': 4184, '645994': 4185, '356103': 4186, '146194': 4187, '1033433': 4188, '1636164': 4189, '559753': 4190, '474106': 4191, '1114552': 4192, '702403': 4193, '19915': 4194, '377334': 4195, '2538248': 4196, '1499958': 4197, '1287203': 4198, '1164575': 4199, '1693658': 4200, '964244': 4201, '893789': 4202, '1746482': 4203, '378481': 4204, '1944148': 4205, '2328754': 4206, '1411831': 4207, '2284436': 4208, '417323': 4209, '785608': 4210, '2553545': 4211, '2132655': 4212, '1938678': 4213, '239569': 4214, '1370666': 4215, '894232': 4216, '757767': 4217, '375989': 4218, '1279851': 4219, '2445569': 4220, '123823': 4221, '2131794': 4222, '122503': 4223, '764945': 4224, '212227': 4225, '672919': 4226, '861035': 4227, '1664458': 4228, '61810': 4229, '1065598': 4230, '509864': 4231, '1194815': 4232, '2544124': 4233, '652592': 4234, '1035041': 4235, '2595310': 4236, '566727': 4237, '476512': 4238, '1647196': 4239, '2141681': 4240, '966695': 4241, '1692249': 4242, '571538': 4243, '2518195': 4244, '2365141': 4245, '2463816': 4246, '2582384': 4247, '478815': 4248, '328862': 4249, '1448656': 4250, '493190': 4251, '2599223': 4252, '8135': 4253, '1741290': 4254, '2390205': 4255, '477158': 4256, '314146': 4257, '483018': 4258, '786695': 4259, '613002': 4260, '531010': 4261, '2427410': 4262, '2632990': 4263, '503235': 4264, '754082': 4265, '1655692': 4266, '852524': 4267, '403915': 4268, '2036662': 4269, '1605715': 4270, '36123': 4271, '1245222': 4272, '2179353': 4273, '242896': 4274, '1423566': 4275, '1055757': 4276, '2587506': 4277, '82404': 4278, '2099429': 4279, '1355003': 4280, '2023030': 4281, '2019266': 4282, '1490320': 4283, '541831': 4284, '294155': 4285, '2444873': 4286, '759549': 4287, '2370879': 4288, '489962': 4289, '1631730': 4290, '1486956': 4291, '2582971': 4292, '1386457': 4293, '2518678': 4294, '364376': 4295, '33696': 4296, '1645904': 4297, '27318': 4298, '808435': 4299, '74831': 4300, '1437440': 4301, '2468325': 4302, '2139217': 4303, '476539': 4304, '489363': 4305, '2207914': 4306, '212867': 4307, '1390458': 4308, '284684': 4309, '2055388': 4310, '2649267': 4311, '2318166': 4312, '1662751': 4313, '919106': 4314, '896636': 4315, '811357': 4316, '255470': 4317, '850067': 4318, '1635449': 4319, '334004': 4320, '1511683': 4321, '1878798': 4322, '1832225': 4323, '1435335': 4324, '652972': 4325, '61731': 4326, '1807774': 4327, '916704': 4328, '2016653': 4329, '73678': 4330, '2558148': 4331, '1719591': 4332, '1176462': 4333, '1513680': 4334, '101807': 4335, '1153067': 4336, '102442': 4337, '576763': 4338, '1242071': 4339, '608501': 4340, '1258770': 4341, '975229': 4342, '2532855': 4343, '1510130': 4344, '395606': 4345, '1060393': 4346, '2062350': 4347, '303643': 4348, '913920': 4349, '1432790': 4350, '2290508': 4351, '905922': 4352, '1592339': 4353, '657521': 4354, '795341': 4355, '712297': 4356, '1717979': 4357, '1675159': 4358, '137602': 4359, '1436668': 4360, '2210523': 4361, '1629289': 4362, '1811676': 4363, '2465894': 4364, '99939': 4365, '968162': 4366, '1229269': 4367, '2501912': 4368, '1959760': 4369, '574220': 4370, '2145072': 4371, '2215598': 4372, '416556': 4373, '430011': 4374, '760390': 4375, '2606799': 4376, '2507985': 4377, '2056909': 4378, '2250121': 4379, '1018296': 4380, '363868': 4381, '2289363': 4382, '407140': 4383, '370735': 4384, '452494': 4385, '2273695': 4386, '2479960': 4387, '261976': 4388, '435567': 4389, '769235': 4390, '1603214': 4391, '2133016': 4392, '2139353': 4393, '2257189': 4394, '1273985': 4395, '1833446': 4396, '2473986': 4397, '287114': 4398, '1566455': 4399, '55023': 4400, '1178330': 4401, '559741': 4402, '2251848': 4403, '2547993': 4404, '1150431': 4405, '1564978': 4406, '137594': 4407, '923889': 4408, '522221': 4409, '550128': 4410, '935820': 4411, '1860339': 4412, '2304943': 4413, '1151461': 4414, '1814098': 4415, '2328701': 4416, '1648316': 4417, '1090911': 4418, '2639583': 4419, '687379': 4420, '1191964': 4421, '2609870': 4422, '1398397': 4423, '660061': 4424, '430459': 4425, '1318951': 4426, '838366': 4427, '456090': 4428, '63786': 4429, '2409465': 4430, '2395490': 4431, '1669517': 4432, '1092189': 4433, '762835': 4434, '1419139': 4435, '446797': 4436, '1002688': 4437, '110104': 4438, '2183290': 4439, '2226005': 4440, '2265867': 4441, '809955': 4442, '2216080': 4443, '936713': 4444, '2419640': 4445, '2610157': 4446, '262862': 4447, '514519': 4448, '1719421': 4449, '2621201': 4450, '322451': 4451, '219957': 4452, '1422763': 4453, '2240770': 4454, '2400283': 4455, '766680': 4456, '1160597': 4457, '1093403': 4458, '629010': 4459, '2531920': 4460, '1697790': 4461, '2012412': 4462, '92786': 4463, '1800459': 4464, '2473781': 4465, '945594': 4466, '2149357': 4467, '2216264': 4468, '2310461': 4469, '1715752': 4470, '627172': 4471, '212794': 4472, '1359724': 4473, '1191617': 4474, '1078800': 4475, '2519096': 4476, '1509371': 4477, '1344791': 4478, '14682': 4479, '2138909': 4480, '1784308': 4481, '296149': 4482, '1152594': 4483, '1822241': 4484, '410389': 4485, '10947': 4486, '787428': 4487, '2219187': 4488, '835847': 4489, '2072238': 4490, '1176322': 4491, '1316775': 4492, '1774584': 4493, '1665685': 4494, '1114617': 4495, '857132': 4496, '1430398': 4497, '1645455': 4498, '417046': 4499, '393740': 4500, '1005185': 4501, '2385435': 4502, '1063193': 4503, '2101060': 4504, '475437': 4505, '241801': 4506, '246980': 4507, '617376': 4508, '2100003': 4509, '1081292': 4510, '1439882': 4511, '1727232': 4512, '585121': 4513, '2336079': 4514, '628251': 4515, '901520': 4516, '430091': 4517, '1692069': 4518, '1194698': 4519, '1155747': 4520, '1156054': 4521, '1051993': 4522, '735346': 4523, '2098138': 4524, '2455': 4525, '1579732': 4526, '1995942': 4527, '97608': 4528, '1136740': 4529, '1330588': 4530, '1669018': 4531, '2148744': 4532, '42064': 4533, '2538506': 4534, '1470420': 4535, '1553659': 4536, '1151120': 4537, '609398': 4538, '2340706': 4539, '1553715': 4540, '225674': 4541, '2372415': 4542, '12812': 4543, '1767523': 4544, '1226991': 4545, '2122411': 4546, '1703742': 4547, '2642389': 4548, '826696': 4549, '657985': 4550, '22670': 4551, '908662': 4552, '322064': 4553, '2237988': 4554, '2400911': 4555, '1791594': 4556, '2114550': 4557, '826270': 4558, '2152273': 4559, '2609857': 4560, '1156035': 4561, '1068988': 4562, '2538608': 4563, '2232563': 4564, '1971798': 4565, '1958984': 4566, '1813076': 4567, '2621962': 4568, '2530817': 4569, '1277240': 4570, '709542': 4571, '383024': 4572, '917414': 4573, '359345': 4574, '2641824': 4575, '767492': 4576, '1408341': 4577, '1163868': 4578, '2421395': 4579, '1150475': 4580, '1388664': 4581, '50669': 4582, '193925': 4583, '1923216': 4584, '2283319': 4585, '521315': 4586, '2349872': 4587, '2575399': 4588, '1778599': 4589, '844999': 4590, '1060057': 4591, '872028': 4592, '957896': 4593, '1293903': 4594, '2581032': 4595, '1419757': 4596, '1136807': 4597, '1628484': 4598, '1890591': 4599, '867886': 4600, '1207104': 4601, '878576': 4602, '1567328': 4603, '1374758': 4604, '785433': 4605, '1116129': 4606, '1455234': 4607, '607188': 4608, '2368627': 4609, '1449358': 4610, '1253689': 4611, '761371': 4612, '1405395': 4613, '366233': 4614, '2458087': 4615, '1486389': 4616, '966992': 4617, '1817781': 4618, '984085': 4619, '2523257': 4620, '2455164': 4621, '280112': 4622, '1476102': 4623, '2262558': 4624, '888125': 4625, '2449356': 4626, '584437': 4627, '2116582': 4628, '2519397': 4629, '1067761': 4630, '1670875': 4631, '1525586': 4632, '566819': 4633, '2386274': 4634, '2346264': 4635, '221776': 4636, '2080562': 4637, '1520710': 4638, '1270812': 4639, '1630419': 4640, '1214181': 4641, '579596': 4642, '2125035': 4643, '667438': 4644, '841782': 4645, '1614626': 4646, '715542': 4647, '1318530': 4648, '657095': 4649, '87134': 4650, '617786': 4651, '1752955': 4652, '100943': 4653, '2204513': 4654, '1203467': 4655, '1880925': 4656, '499837': 4657, '629227': 4658, '2237101': 4659, '1723456': 4660, '1623349': 4661, '1262523': 4662, '1703083': 4663, '2042159': 4664, '1216755': 4665, '266172': 4666, '872323': 4667, '458656': 4668, '1414159': 4669, '1062416': 4670, '60856': 4671, '1582107': 4672, '586792': 4673, '2027278': 4674, '426005': 4675, '1343332': 4676, '1540655': 4677, '806267': 4678, '269850': 4679, '152441': 4680, '104724': 4681, '2609333': 4682, '1204886': 4683, '442222': 4684, '657582': 4685, '215948': 4686, '1458015': 4687, '1088457': 4688, '2172301': 4689, '2446249': 4690, '1010200': 4691, '1211730': 4692, '2446265': 4693, '2251815': 4694, '1762695': 4695, '1865249': 4696, '1641213': 4697, '992346': 4698, '270890': 4699, '2515276': 4700, '1954061': 4701, '749010': 4702, '2237185': 4703, '864334': 4704, '940298': 4705, '268159': 4706, '419176': 4707, '1916244': 4708, '495800': 4709, '1398256': 4710, '885859': 4711, '2145905': 4712, '1815129': 4713, '1713333': 4714, '396029': 4715, '313694': 4716, '2338545': 4717, '1907278': 4718, '2230491': 4719, '1420411': 4720, '897125': 4721, '2176465': 4722, '1548770': 4723, '2110645': 4724, '2418086': 4725, '1258876': 4726, '1252011': 4727, '1576491': 4728, '280167': 4729, '1332228': 4730, '614930': 4731, '1001129': 4732, '2110982': 4733, '349331': 4734, '1057247': 4735, '1354129': 4736, '1545267': 4737, '2481214': 4738, '1928961': 4739, '2148197': 4740, '2505593': 4741, '1349717': 4742, '361778': 4743, '2394704': 4744, '962487': 4745, '608694': 4746, '1855394': 4747, '654304': 4748, '2440595': 4749, '2554750': 4750, '2330704': 4751, '1644335': 4752, '570909': 4753, '591622': 4754, '2573288': 4755, '2398212': 4756, '415005': 4757, '84721': 4758, '1372729': 4759, '56310': 4760, '720151': 4761, '2171749': 4762, '357252': 4763, '1400154': 4764, '2230377': 4765, '187288': 4766, '1902747': 4767, '606271': 4768, '71743': 4769, '1858421': 4770, '1149569': 4771, '2429396': 4772, '708226': 4773, '326502': 4774, '1262327': 4775, '1102173': 4776, '2243423': 4777, '1218163': 4778, '2239067': 4779, '241607': 4780, '2232581': 4781, '1235306': 4782, '2569320': 4783, '1208420': 4784, '306550': 4785, '1772964': 4786, '929308': 4787, '201633': 4788, '1657258': 4789, '1190829': 4790, '1774409': 4791, '2070820': 4792, '2056875': 4793, '345953': 4794, '1206512': 4795, '2345122': 4796, '1643146': 4797, '487949': 4798, '316131': 4799, '2358095': 4800, '2115962': 4801, '1652623': 4802, '245808': 4803, '1070554': 4804, '2308850': 4805, '539631': 4806, '1725515': 4807, '1080875': 4808, '1262403': 4809, '1791019': 4810, '870885': 4811, '1792741': 4812, '768876': 4813, '1993633': 4814, '2229445': 4815, '881355': 4816, '779377': 4817, '2157060': 4818, '1902220': 4819, '276860': 4820, '1399249': 4821, '1139903': 4822, '140935': 4823, '2163939': 4824, '1462537': 4825, '376012': 4826, '2461686': 4827, '2018247': 4828, '2496050': 4829, '263823': 4830, '411053': 4831, '1526244': 4832, '136854': 4833, '168523': 4834, '1798943': 4835, '1234163': 4836, '1559165': 4837, '1276913': 4838, '880178': 4839, '595870': 4840, '404652': 4841, '790459': 4842, '524672': 4843, '2464375': 4844, '1279360': 4845, '192889': 4846, '1454357': 4847, '2450942': 4848, '2558741': 4849, '1480900': 4850, '108484': 4851, '1426317': 4852, '2630854': 4853, '314790': 4854, '2367323': 4855, '2516189': 4856, '1860298': 4857, '1337153': 4858, '1453877': 4859, '1467298': 4860, '860520': 4861, '1083720': 4862, '109177': 4863, '1104959': 4864, '2495094': 4865, '1800405': 4866, '1218400': 4867, '2063104': 4868, '146078': 4869, '1517632': 4870, '1456579': 4871, '2359766': 4872, '2496479': 4873, '1944012': 4874, '2433610': 4875, '1694632': 4876, '1896647': 4877, '438189': 4878, '1044742': 4879, '2648287': 4880, '2490423': 4881, '1805932': 4882, '105864': 4883, '1377251': 4884, '1380947': 4885, '1931100': 4886, '68056': 4887, '261107': 4888, '809033': 4889, '1079165': 4890, '715898': 4891, '1450883': 4892, '196091': 4893, '1270238': 4894, '1972929': 4895, '2013958': 4896, '947232': 4897, '1312448': 4898, '268585': 4899, '1096479': 4900, '441361': 4901, '1129340': 4902, '593867': 4903, '291396': 4904, '2059696': 4905, '749158': 4906, '107909': 4907, '1100863': 4908, '1599161': 4909, '204504': 4910, '2327355': 4911, '2520933': 4912, '18360': 4913, '1291186': 4914, '580829': 4915, '1710237': 4916, '440606': 4917, '2150746': 4918, '38946': 4919, '1961777': 4920, '2111124': 4921, '141920': 4922, '1343381': 4923, '1245018': 4924, '2482518': 4925, '2228660': 4926, '200682': 4927, '1649068': 4928, '2242513': 4929, '1322957': 4930, '1077806': 4931, '937001': 4932, '2047761': 4933, '2068869': 4934, '1563429': 4935, '157094': 4936, '2256454': 4937, '2262890': 4938, '31835': 4939, '1899375': 4940, '869426': 4941, '1405644': 4942, '2224013': 4943, '1198632': 4944, '1232740': 4945, '46140': 4946, '1351594': 4947, '1062450': 4948, '2187108': 4949, '1328524': 4950, '471064': 4951, '1133199': 4952, '1382872': 4953, '879221': 4954, '2619756': 4955, '379701': 4956, '683427': 4957, '2240828': 4958, '430983': 4959, '639533': 4960, '2503994': 4961, '756209': 4962, '2364018': 4963, '2531844': 4964, '1166750': 4965, '368786': 4966, '1820824': 4967, '8748': 4968, '1357786': 4969, '2059141': 4970, '686173': 4971, '770230': 4972, '1314842': 4973, '2494005': 4974, '730027': 4975, '1516909': 4976, '2135410': 4977, '325376': 4978, '1977209': 4979, '1659196': 4980, '1814516': 4981, '832780': 4982, '212883': 4983, '1479892': 4984, '1591307': 4985, '2352131': 4986, '1674931': 4987, '682560': 4988, '1719780': 4989, '2344221': 4990, '1796886': 4991, '995169': 4992, '1629446': 4993, '2389750': 4994, '2253274': 4995, '459060': 4996, '1484853': 4997, '984718': 4998, '2536012': 4999, '2411840': 5000, '472729': 5001, '1718527': 5002, '2068909': 5003, '851231': 5004, '409343': 5005, '1216387': 5006, '1166644': 5007, '1041757': 5008, '653399': 5009, '713326': 5010, '1104756': 5011, '411290': 5012, '833271': 5013, '1196093': 5014, '747695': 5015, '686204': 5016, '1119468': 5017, '38147': 5018, '876783': 5019, '1884565': 5020, '1118746': 5021, '750677': 5022, '299799': 5023, '2178924': 5024, '362038': 5025, '872408': 5026, '1116065': 5027, '1360690': 5028, '2399478': 5029, '1863899': 5030, '986875': 5031, '1182475': 5032, '1642319': 5033, '2220646': 5034, '1589834': 5035, '969879': 5036, '2330786': 5037, '586694': 5038, '1322839': 5039, '198845': 5040, '1843168': 5041, '2499884': 5042, '2377643': 5043, '460526': 5044, '1675643': 5045, '1095815': 5046, '1584159': 5047, '873862': 5048, '2339348': 5049, '1456621': 5050, '1719439': 5051, '49355': 5052, '1620733': 5053, '1910693': 5054, '2558268': 5055, '2007761': 5056, '1509808': 5057, '1693868': 5058, '291446': 5059, '2083367': 5060, '2486445': 5061, '657195': 5062, '2261989': 5063, '2141136': 5064, '322009': 5065, '308716': 5066, '614672': 5067, '197101': 5068, '1932113': 5069, '313419': 5070, '2446512': 5071, '1072159': 5072, '1341267': 5073, '1208622': 5074, '1190391': 5075, '1150705': 5076, '1489566': 5077, '2070085': 5078, '1970922': 5079, '1476635': 5080, '1305384': 5081, '1277092': 5082, '548581': 5083, '1161256': 5084, '2301648': 5085, '2376125': 5086, '2252435': 5087, '631315': 5088, '1927676': 5089, '2535229': 5090, '150950': 5091, '281729': 5092, '2246350': 5093, '1510091': 5094, '1222252': 5095, '1209343': 5096, '2133771': 5097, '1301819': 5098, '474700': 5099, '1907843': 5100, '1443236': 5101, '1582294': 5102, '1343413': 5103, '2428259': 5104, '1951560': 5105, '1456657': 5106, '782308': 5107, '2521079': 5108, '609555': 5109, '2204299': 5110, '1482921': 5111, '694599': 5112, '2255786': 5113, '723448': 5114, '2128825': 5115, '610014': 5116, '1285230': 5117, '466765': 5118, '2496628': 5119, '1371031': 5120, '1626060': 5121, '2250174': 5122, '1640822': 5123, '981753': 5124, '111033': 5125, '2349571': 5126, '578236': 5127, '672097': 5128, '1085864': 5129, '2024984': 5130, '510535': 5131, '2332765': 5132, '1625109': 5133, '860839': 5134, '1253043': 5135, '272299': 5136, '1832599': 5137, '2271702': 5138, '1424084': 5139, '2379541': 5140, '1776870': 5141, '1776625': 5142, '2081775': 5143, '231489': 5144, '830745': 5145, '1418569': 5146, '520817': 5147, '1637720': 5148, '469068': 5149, '649547': 5150, '1465967': 5151, '388643': 5152, '1258099': 5153, '14642': 5154, '1612159': 5155, '70476': 5156, '399170': 5157, '2461835': 5158, '2099780': 5159, '2514164': 5160, '160449': 5161, '1744702': 5162, '2533480': 5163, '873299': 5164, '1771108': 5165, '1246893': 5166, '705906': 5167, '1868998': 5168, '247234': 5169, '1769985': 5170, '2247454': 5171, '1523544': 5172, '1856775': 5173, '1428560': 5174, '1966321': 5175, '1012590': 5176, '2321519': 5177, '1949968': 5178, '133706': 5179, '2082864': 5180, '2209992': 5181, '797342': 5182, '79257': 5183, '1905594': 5184, '895914': 5185, '1991666': 5186, '2208125': 5187, '972267': 5188, '1054626': 5189, '303969': 5190, '222518': 5191, '152858': 5192, '2354740': 5193, '1362341': 5194, '2468139': 5195, '1832478': 5196, '2521112': 5197, '1514780': 5198, '1908699': 5199, '2105294': 5200, '95084': 5201, '93769': 5202, '2629195': 5203, '1709569': 5204, '2066003': 5205, '733453': 5206, '1300124': 5207, '769702': 5208, '754135': 5209, '1166373': 5210, '415641': 5211, '1501048': 5212, '582092': 5213, '73834': 5214, '1247473': 5215, '2554379': 5216, '138833': 5217, '153237': 5218, '1241395': 5219, '1724806': 5220, '1759957': 5221, '1323156': 5222, '228978': 5223, '1275275': 5224, '2581672': 5225, '314635': 5226, '2593317': 5227, '2507392': 5228, '2487127': 5229, '2571175': 5230, '652787': 5231, '1448246': 5232, '1026368': 5233, '2433729': 5234, '1004390': 5235, '2392051': 5236, '646765': 5237, '471673': 5238, '2432340': 5239, '2207643': 5240, '732590': 5241, '888801': 5242, '2070186': 5243, '1183823': 5244, '1223427': 5245, '551783': 5246, '1681299': 5247, '1567828': 5248, '847863': 5249, '752619': 5250, '2243558': 5251, '1773760': 5252, '2239241': 5253, '1189269': 5254, '1769229': 5255, '2576015': 5256, '2340450': 5257, '2035212': 5258, '2537089': 5259, '2155916': 5260, '609280': 5261, '516722': 5262, '380154': 5263, '1254903': 5264, '1392356': 5265, '318409': 5266, '906829': 5267, '1637253': 5268, '289710': 5269, '1849620': 5270, '701615': 5271, '1351821': 5272, '359141': 5273, '378591': 5274, '1521960': 5275, '1731221': 5276, '2141037': 5277, '2557296': 5278, '2275574': 5279, '428170': 5280, '2376892': 5281, '2051520': 5282, '1269749': 5283, '2598485': 5284, '128989': 5285, '1106200': 5286, '2495347': 5287, '1464011': 5288, '2133752': 5289, '239518': 5290, '1667659': 5291, '514262': 5292, '768749': 5293, '1114324': 5294, '1085863': 5295, '1061195': 5296, '205569': 5297, '2437174': 5298, '181364': 5299, '1334745': 5300, '2357567': 5301, '1939066': 5302, '609231': 5303, '752670': 5304, '1070519': 5305, '724590': 5306, '1379553': 5307, '507873': 5308, '1205174': 5309, '1409104': 5310, '1540724': 5311, '1431356': 5312, '1610877': 5313, '374000': 5314, '1950710': 5315, '471880': 5316, '708630': 5317, '622214': 5318, '185039': 5319, '202039': 5320, '247794': 5321, '2327122': 5322, '2162729': 5323, '2607155': 5324, '928691': 5325, '1301764': 5326, '2092505': 5327, '1877868': 5328, '1761530': 5329, '2620590': 5330, '1812378': 5331, '1617329': 5332, '1622945': 5333, '1088035': 5334, '2604824': 5335, '804841': 5336, '1071547': 5337, '1490506': 5338, '343139': 5339, '933642': 5340, '1812657': 5341, '2061336': 5342, '1662098': 5343, '951446': 5344, '1280254': 5345, '349572': 5346, '1844915': 5347, '1987727': 5348, '2087093': 5349, '485601': 5350, '1083531': 5351, '1865721': 5352, '165595': 5353, '1002695': 5354, '2265139': 5355, '2280372': 5356, '2215183': 5357, '2552319': 5358, '1907667': 5359, '118416': 5360, '826465': 5361, '1111943': 5362, '512303': 5363, '128311': 5364, '1592086': 5365, '1221473': 5366, '941279': 5367, '2495584': 5368, '2233998': 5369, '1546259': 5370, '2354382': 5371, '469003': 5372, '101408': 5373, '1979820': 5374, '469713': 5375, '54255': 5376, '992021': 5377, '1169171': 5378, '1104884': 5379, '2472537': 5380, '401206': 5381, '282102': 5382, '2280493': 5383, '809207': 5384, '794345': 5385, '2508768': 5386, '2379864': 5387, '1555531': 5388, '2400183': 5389, '221882': 5390, '2113542': 5391, '1071775': 5392, '145514': 5393, '1053828': 5394, '2238060': 5395, '931316': 5396, '918101': 5397, '221631': 5398, '1712165': 5399, '1961753': 5400, '257501': 5401, '1339428': 5402, '6504': 5403, '2485566': 5404, '859734': 5405, '2106009': 5406, '827096': 5407, '1639792': 5408, '2340119': 5409, '1452396': 5410, '2245965': 5411, '2531303': 5412, '621092': 5413, '1357598': 5414, '131887': 5415, '2090953': 5416, '433661': 5417, '236699': 5418, '2163655': 5419, '1848945': 5420, '1900424': 5421, '2057375': 5422, '1885347': 5423, '10679': 5424, '439332': 5425, '1126218': 5426, '2387205': 5427, '1515355': 5428, '2573323': 5429, '1396680': 5430, '2086711': 5431, '966322': 5432, '333843': 5433, '415540': 5434, '2331642': 5435, '2595888': 5436, '1164175': 5437, '317779': 5438, '2047888': 5439, '1425403': 5440, '2515736': 5441, '1557477': 5442, '1620319': 5443, '1144942': 5444, '562026': 5445, '300962': 5446, '2332058': 5447, '1515877': 5448, '2309047': 5449, '2566204': 5450, '1215709': 5451, '2386321': 5452, '776187': 5453, '1921815': 5454, '540803': 5455, '1855975': 5456, '2466889': 5457, '748874': 5458, '2170750': 5459, '602959': 5460, '560909': 5461, '398478': 5462, '1766112': 5463, '1365299': 5464, '1110164': 5465, '1743613': 5466, '1930402': 5467, '2524282': 5468, '252054': 5469, '2567172': 5470, '1418260': 5471, '1468574': 5472, '2387919': 5473, '853459': 5474, '2227681': 5475, '2419975': 5476, '955278': 5477, '178266': 5478, '2049734': 5479, '2041697': 5480, '1121136': 5481, '595284': 5482, '699493': 5483, '2356860': 5484, '1787323': 5485, '2431452': 5486, '1583311': 5487, '1995067': 5488, '1023176': 5489, '2631815': 5490, '477388': 5491, '771467': 5492, '1089335': 5493, '1709110': 5494, '1367218': 5495, '1877128': 5496, '2332259': 5497, '1452454': 5498, '1555813': 5499, '1464943': 5500, '203369': 5501, '804482': 5502, '1750881': 5503, '417997': 5504, '2081709': 5505, '1823920': 5506, '926579': 5507, '1309932': 5508, '660354': 5509, '1330487': 5510, '853491': 5511, '1001477': 5512, '1209635': 5513, '873447': 5514, '519699': 5515, '90051': 5516, '1252629': 5517, '2439009': 5518, '1272479': 5519, '428610': 5520, '1740987': 5521, '1675194': 5522, '1023101': 5523, '470500': 5524, '1194381': 5525, '2584676': 5526, '1927761': 5527, '246880': 5528, '249471': 5529, '1696279': 5530, '1840542': 5531, '1637761': 5532, '341649': 5533, '1646383': 5534, '2485818': 5535, '1228066': 5536, '768724': 5537, '2482819': 5538, '402547': 5539, '2030888': 5540, '2278178': 5541, '1396332': 5542, '2407154': 5543, '196182': 5544, '300777': 5545, '942016': 5546, '500325': 5547, '1813272': 5548, '1093671': 5549, '1529376': 5550, '551208': 5551, '1287388': 5552, '2051165': 5553, '2004524': 5554, '2305305': 5555, '958604': 5556, '242171': 5557, '1481142': 5558, '1095461': 5559, '430648': 5560, '2609478': 5561, '2258315': 5562, '322078': 5563, '1138840': 5564, '2623852': 5565, '1266589': 5566, '971925': 5567, '1825242': 5568, '1102045': 5569, '2185058': 5570, '1287892': 5571, '1952862': 5572, '2253797': 5573, '1492505': 5574, '1270358': 5575, '1265524': 5576, '2072547': 5577, '684648': 5578, '2568589': 5579, '1928222': 5580, '1314083': 5581, '2026180': 5582, '1371422': 5583, '2017088': 5584, '550365': 5585, '1309827': 5586, '209486': 5587, '923268': 5588, '267841': 5589, '239551': 5590, '897925': 5591, '1824675': 5592, '1080361': 5593, '2315073': 5594, '161313': 5595, '2530071': 5596, '745950': 5597, '68297': 5598, '936183': 5599, '1459727': 5600, '768309': 5601, '2349412': 5602, '2629599': 5603, '2050911': 5604, '1951157': 5605, '2312349': 5606, '699593': 5607, '1912781': 5608, '1528530': 5609, '2193995': 5610, '1581954': 5611, '1477723': 5612, '2247813': 5613, '760211': 5614, '613758': 5615, '520507': 5616, '1374572': 5617, '1425382': 5618, '2069524': 5619, '2024102': 5620, '2239537': 5621, '440960': 5622, '989327': 5623, '341266': 5624, '2634348': 5625, '701514': 5626, '1430664': 5627, '871574': 5628, '437672': 5629, '1737972': 5630, '50214': 5631, '2530297': 5632, '669296': 5633, '1442154': 5634, '876961': 5635, '1961649': 5636, '1914066': 5637, '1460499': 5638, '1942575': 5639, '1631898': 5640, '107787': 5641, '1194439': 5642, '2193570': 5643, '2536114': 5644, '1148074': 5645, '1122969': 5646, '2566231': 5647, '107776': 5648, '514829': 5649, '1056238': 5650, '424513': 5651, '42128': 5652, '2178203': 5653, '1600592': 5654, '1874777': 5655, '439090': 5656, '408457': 5657, '592122': 5658, '2525160': 5659, '1716910': 5660, '544925': 5661, '2398061': 5662, '1119113': 5663, '2177085': 5664, '1492162': 5665, '1753758': 5666, '2233486': 5667, '2585513': 5668, '2589277': 5669, '344861': 5670, '2527740': 5671, '277916': 5672, '835265': 5673, '1330147': 5674, '2036838': 5675, '597873': 5676, '371492': 5677, '108936': 5678, '1103969': 5679, '1549483': 5680, '133707': 5681, '718379': 5682, '552639': 5683, '2502403': 5684, '2364551': 5685, '1625122': 5686, '1094767': 5687, '2371144': 5688, '904898': 5689, '44490': 5690, '2148958': 5691, '2022092': 5692, '129250': 5693, '2244849': 5694, '1486942': 5695, '830363': 5696, '455707': 5697, '1735222': 5698, '2048985': 5699, '517454': 5700, '670382': 5701, '260347': 5702, '1041749': 5703, '2556992': 5704, '557801': 5705, '230265': 5706, '629249': 5707, '1216096': 5708, '2038372': 5709, '1794738': 5710, '1056998': 5711, '2126175': 5712, '2220742': 5713, '1850241': 5714, '1203614': 5715, '1346708': 5716, '2019983': 5717, '2491110': 5718, '698147': 5719, '119776': 5720, '319647': 5721, '1093724': 5722, '1935050': 5723, '1556617': 5724, '786982': 5725, '1210199': 5726, '47344': 5727, '1662883': 5728, '2240905': 5729, '2229690': 5730, '2509293': 5731, '2589332': 5732, '452299': 5733, '2576843': 5734, '1992139': 5735, '1062246': 5736, '2414964': 5737, '2301856': 5738, '950251': 5739, '827387': 5740, '343719': 5741, '1042784': 5742, '364064': 5743, '2343970': 5744, '905537': 5745, '731592': 5746, '2502499': 5747, '1333220': 5748, '2422525': 5749, '416214': 5750, '271128': 5751, '717542': 5752, '440626': 5753, '1695864': 5754, '1854584': 5755, '2282041': 5756, '2594373': 5757, '1835795': 5758, '240447': 5759, '1954386': 5760, '430318': 5761, '2174241': 5762, '890444': 5763, '1175391': 5764, '2416619': 5765, '745471': 5766, '1177152': 5767, '511112': 5768, '1120497': 5769, '967163': 5770, '1721795': 5771, '433647': 5772, '1300759': 5773, '517790': 5774, '1430108': 5775, '18415': 5776, '1182659': 5777, '156401': 5778, '1115400': 5779, '2464495': 5780, '471879': 5781, '1786112': 5782, '2590741': 5783, '327179': 5784, '1299822': 5785, '881486': 5786, '1197388': 5787, '2259483': 5788, '2433426': 5789, '2305978': 5790, '1808985': 5791, '2492108': 5792, '749662': 5793, '1518963': 5794, '586456': 5795, '1020476': 5796, '1230680': 5797, '2493079': 5798, '2248080': 5799, '1834097': 5800, '751367': 5801, '512633': 5802, '1090319': 5803, '1350639': 5804, '755557': 5805, '2068022': 5806, '2419258': 5807, '1796167': 5808, '307612': 5809, '2590830': 5810, '847774': 5811, '1025888': 5812, '661979': 5813, '1406873': 5814, '1528680': 5815, '1995860': 5816, '2478364': 5817, '1095395': 5818, '565075': 5819, '615103': 5820, '2088834': 5821, '1499785': 5822, '942554': 5823, '1743431': 5824, '2387990': 5825, '290965': 5826, '791026': 5827, '2287036': 5828, '608149': 5829, '1472772': 5830, '1391691': 5831, '1810414': 5832, '2430257': 5833, '2375169': 5834, '1243789': 5835, '1684539': 5836, '609366': 5837, '1745527': 5838, '170551': 5839, '547341': 5840, '2519403': 5841, '139964': 5842, '894519': 5843, '417516': 5844, '151330': 5845, '1195600': 5846, '2407994': 5847, '1378848': 5848, '946075': 5849, '1436780': 5850, '2638015': 5851, '397392': 5852, '1098431': 5853, '2534348': 5854, '545639': 5855, '2375867': 5856, '2243707': 5857, '2589398': 5858, '2417914': 5859, '2517938': 5860, '1262887': 5861, '2491620': 5862, '934387': 5863, '2587481': 5864, '745163': 5865, '123707': 5866, '648906': 5867, '2257113': 5868, '1497251': 5869, '2419406': 5870, '679222': 5871, '1374197': 5872, '2075696': 5873, '2450433': 5874, '424620': 5875, '1974577': 5876, '1900514': 5877, '754161': 5878, '2184768': 5879, '2454469': 5880, '1594074': 5881, '1869907': 5882, '2297698': 5883, '2144973': 5884, '187062': 5885, '115055': 5886, '817916': 5887, '823666': 5888, '2353991': 5889, '355078': 5890, '119790': 5891, '2381805': 5892, '1556692': 5893, '352258': 5894, '1009405': 5895, '310187': 5896, '1123549': 5897, '1332983': 5898, '682561': 5899, '2525542': 5900, '1323979': 5901, '2631313': 5902, '798296': 5903, '679084': 5904, '2468881': 5905, '2260739': 5906, '208724': 5907, '2330618': 5908, '512101': 5909, '2513690': 5910, '2330519': 5911, '1634710': 5912, '2536066': 5913, '2090060': 5914, '1773226': 5915, '2441126': 5916, '2012675': 5917, '363180': 5918, '369978': 5919, '2057248': 5920, '621908': 5921, '1216109': 5922, '748141': 5923, '917857': 5924, '1852040': 5925, '987574': 5926, '895732': 5927, '670416': 5928, '331278': 5929, '1310425': 5930, '1345754': 5931, '4905': 5932, '329958': 5933, '428558': 5934, '1571299': 5935, '1170245': 5936, '1109711': 5937, '1301132': 5938, '2393719': 5939, '193930': 5940, '245837': 5941, '2405421': 5942, '727646': 5943, '1684795': 5944, '1295669': 5945, '1685361': 5946, '2276130': 5947, '970031': 5948, '1606826': 5949, '2361743': 5950, '499293': 5951, '206893': 5952, '238705': 5953, '2366524': 5954, '1842072': 5955, '176377': 5956, '1453265': 5957, '22842': 5958, '1626928': 5959, '1252798': 5960, '2204694': 5961, '2484282': 5962, '516036': 5963, '1498641': 5964, '863016': 5965, '2426395': 5966, '29000': 5967, '2397383': 5968, '1461864': 5969, '6460': 5970, '461371': 5971, '166605': 5972, '1486688': 5973, '2065164': 5974, '546017': 5975, '1535401': 5976, '1119705': 5977, '2570992': 5978, '2069200': 5979, '323253': 5980, '724224': 5981, '1026638': 5982, '1580437': 5983, '250509': 5984, '1595876': 5985, '1233627': 5986, '614278': 5987, '2088813': 5988, '2065772': 5989, '1002367': 5990, '1757843': 5991, '14164': 5992, '735636': 5993, '1935654': 5994, '356536': 5995, '2596873': 5996, '1313126': 5997, '924960': 5998, '752702': 5999, '1928445': 6000, '2528840': 6001, '482113': 6002, '415253': 6003, '551156': 6004, '1343237': 6005, '2603460': 6006, '194631': 6007, '1354434': 6008, '2594016': 6009, '2504241': 6010, '2206502': 6011, '2291746': 6012, '297901': 6013, '347276': 6014, '286832': 6015, '2406150': 6016, '1567792': 6017, '1832243': 6018, '1592816': 6019, '1591210': 6020, '1712417': 6021, '767816': 6022, '113694': 6023, '2237467': 6024, '29706': 6025, '2232579': 6026, '1697754': 6027, '1403686': 6028, '1792137': 6029, '1675280': 6030, '2624474': 6031, '341109': 6032, '1719610': 6033, '1602407': 6034, '1115451': 6035, '1630361': 6036, '1210904': 6037, '1690559': 6038, '781021': 6039, '945258': 6040, '1587148': 6041, '650911': 6042, '1599029': 6043, '1496902': 6044, '119691': 6045, '1452675': 6046, '956229': 6047, '1222393': 6048, '2341852': 6049, '11796': 6050, '851702': 6051, '969948': 6052, '920088': 6053, '1641091': 6054, '114873': 6055, '1851082': 6056, '518137': 6057, '1149359': 6058, '1124963': 6059, '2556758': 6060, '1300793': 6061, '536085': 6062, '1859725': 6063, '1080282': 6064, '668693': 6065, '2309637': 6066, '754329': 6067, '496432': 6068, '539112': 6069, '412824': 6070, '2501886': 6071, '2099446': 6072, '1755396': 6073, '702593': 6074, '164861': 6075, '2381792': 6076, '178860': 6077, '2186231': 6078, '129580': 6079, '1215460': 6080, '1385356': 6081, '1984086': 6082, '3458': 6083, '328001': 6084, '2474661': 6085, '1745463': 6086, '1499926': 6087, '1290993': 6088, '2602874': 6089, '665030': 6090, '1096917': 6091, '1283577': 6092, '1816177': 6093, '1792064': 6094, '612534': 6095, '517186': 6096, '2358148': 6097, '279966': 6098, '1193533': 6099, '903666': 6100, '972616': 6101, '25354': 6102, '2542731': 6103, '1899913': 6104, '38879': 6105, '2412265': 6106, '2061394': 6107, '187322': 6108, '134617': 6109, '2425260': 6110, '2103047': 6111, '2268573': 6112, '1312732': 6113, '1713604': 6114, '439729': 6115, '200805': 6116, '1807578': 6117, '1635220': 6118, '1563727': 6119, '725734': 6120, '134640': 6121, '1125733': 6122, '1285516': 6123, '690426': 6124, '1934538': 6125, '1798758': 6126, '615257': 6127, '413615': 6128, '2107119': 6129, '963711': 6130, '1020688': 6131, '2637979': 6132, '397216': 6133, '465878': 6134, '856273': 6135, '2462935': 6136, '765090': 6137, '170178': 6138, '460492': 6139, '49142': 6140, '2043555': 6141, '768270': 6142, '2013867': 6143, '1733123': 6144, '672941': 6145, '94668': 6146, '1607762': 6147, '1127876': 6148, '291248': 6149, '1567970': 6150, '2628763': 6151, '424379': 6152, '2343417': 6153, '305197': 6154, '2216056': 6155, '2213': 6156, '883478': 6157, '583208': 6158, '152228': 6159, '786950': 6160, '88188': 6161, '1478617': 6162, '2102030': 6163, '244957': 6164, '2342016': 6165, '797640': 6166, '641719': 6167, '1857979': 6168, '1065402': 6169, '2521955': 6170, '1752463': 6171, '2222576': 6172, '301466': 6173, '2135073': 6174, '1931338': 6175, '2597230': 6176, '1642992': 6177, '617717': 6178, '1080173': 6179, '586854': 6180, '1262243': 6181, '1159683': 6182, '974402': 6183, '1363756': 6184, '457326': 6185, '2487958': 6186, '2048191': 6187, '1135847': 6188, '972986': 6189, '1634095': 6190, '1789683': 6191, '2375962': 6192, '693720': 6193, '2219361': 6194, '1655656': 6195, '2203451': 6196, '1463088': 6197, '309662': 6198, '2012039': 6199, '10638': 6200, '1220542': 6201, '2029979': 6202, '1789065': 6203, '1832073': 6204, '2430483': 6205, '1475571': 6206, '1250802': 6207, '458962': 6208, '1489356': 6209, '337915': 6210, '2380810': 6211, '1909121': 6212, '444801': 6213, '1898310': 6214, '441196': 6215, '1316754': 6216, '2562858': 6217, '1661774': 6218, '2461079': 6219, '2534061': 6220, '284227': 6221, '2606835': 6222, '2186084': 6223, '2536943': 6224, '1006983': 6225, '1997842': 6226, '1133611': 6227, '1969751': 6228, '1181784': 6229, '2442646': 6230, '1884152': 6231, '271453': 6232, '1114387': 6233, '2239360': 6234, '2069944': 6235, '1896167': 6236, '1245150': 6237, '360496': 6238, '29815': 6239, '2589856': 6240, '961310': 6241, '1507631': 6242, '2596404': 6243, '2525544': 6244, '1772284': 6245, '37188': 6246, '561636': 6247, '431326': 6248, '116140': 6249, '1370246': 6250, '1819620': 6251, '62452': 6252, '2155399': 6253, '930282': 6254, '2111228': 6255, '561533': 6256, '1217576': 6257, '458919': 6258, '1993836': 6259, '2393981': 6260, '1963140': 6261, '689309': 6262, '1838526': 6263, '2304924': 6264, '881120': 6265, '200734': 6266, '2568756': 6267, '1788009': 6268, '1597736': 6269, '2646115': 6270, '369912': 6271, '887393': 6272, '2556131': 6273, '710801': 6274, '1800320': 6275, '2597551': 6276, '2515643': 6277, '1570161': 6278, '1395325': 6279, '666367': 6280, '2461071': 6281, '390371': 6282, '2182816': 6283, '667280': 6284, '2139300': 6285, '936093': 6286, '2331938': 6287, '691272': 6288, '553908': 6289, '1859573': 6290, '1418739': 6291, '398468': 6292, '408645': 6293, '1144771': 6294, '1232404': 6295, '1214691': 6296, '1037705': 6297, '1544909': 6298, '1418126': 6299, '743633': 6300, '460446': 6301, '1730716': 6302, '2090792': 6303, '1845705': 6304, '844028': 6305, '554424': 6306, '1174811': 6307, '740142': 6308, '454808': 6309, '259497': 6310, '1857572': 6311, '2197773': 6312, '2604976': 6313, '2452476': 6314, '543279': 6315, '1358685': 6316, '1351603': 6317, '1618268': 6318, '1564058': 6319, '919486': 6320, '1627382': 6321, '1257939': 6322, '387819': 6323, '1661469': 6324, '593173': 6325, '2433512': 6326, '2356911': 6327, '2592723': 6328, '734603': 6329, '356100': 6330, '803932': 6331, '1746477': 6332, '652618': 6333, '314418': 6334, '1473666': 6335, '2269486': 6336, '15402': 6337, '363163': 6338, '2317703': 6339, '1850399': 6340, '1583566': 6341, '165374': 6342, '2155716': 6343, '2092746': 6344, '1605122': 6345, '1892654': 6346, '111824': 6347, '1556884': 6348, '1704016': 6349, '1629450': 6350, '1840535': 6351, '1425875': 6352, '966058': 6353, '2437697': 6354, '2535787': 6355, '387262': 6356, '1759205': 6357, '481049': 6358, '1514852': 6359, '2012052': 6360, '628670': 6361, '2350588': 6362, '292654': 6363, '1465522': 6364, '2043784': 6365, '1546472': 6366, '1898263': 6367, '393945': 6368, '1087004': 6369, '2257323': 6370, '2633767': 6371, '2415929': 6372, '1903877': 6373, '535419': 6374, '969304': 6375, '437955': 6376, '1849872': 6377, '1928599': 6378, '2006505': 6379, '1726869': 6380, '220010': 6381, '2163438': 6382, '1592610': 6383, '1127519': 6384, '433126': 6385, '2097976': 6386, '869446': 6387, '630691': 6388, '1495747': 6389, '315833': 6390, '738430': 6391, '306179': 6392, '299805': 6393, '2244589': 6394, '1093688': 6395, '2636654': 6396, '618832': 6397, '2277758': 6398, '1703380': 6399, '2090313': 6400, '241772': 6401, '1771748': 6402, '1713238': 6403, '1066018': 6404, '2538550': 6405, '2425195': 6406, '1194759': 6407, '2519865': 6408, '1768590': 6409, '163205': 6410, '1106982': 6411, '2403598': 6412, '1691201': 6413, '174615': 6414, '1500397': 6415, '1797692': 6416, '1039555': 6417, '2071210': 6418, '1761324': 6419, '2282361': 6420, '2354125': 6421, '1675619': 6422, '2174151': 6423, '1504360': 6424, '865622': 6425, '104462': 6426, '712134': 6427, '1341813': 6428, '1612701': 6429, '2584740': 6430, '1029449': 6431, '1409829': 6432, '909399': 6433, '136596': 6434, '922345': 6435, '1762314': 6436, '1583631': 6437, '219343': 6438, '1678660': 6439, '1378562': 6440, '1364146': 6441, '169316': 6442, '744875': 6443, '1354470': 6444, '2070031': 6445, '1316977': 6446, '2162603': 6447, '2214360': 6448, '585412': 6449, '2201882': 6450, '179489': 6451, '2593535': 6452, '324253': 6453, '426942': 6454, '1465422': 6455, '459468': 6456, '2438621': 6457, '2147223': 6458, '106870': 6459, '2221791': 6460, '1398364': 6461, '1684416': 6462, '940917': 6463, '528808': 6464, '1706364': 6465, '1894895': 6466, '2469479': 6467, '995459': 6468, '2260832': 6469, '2164117': 6470, '211008': 6471, '216893': 6472, '1648423': 6473, '1003341': 6474, '2127998': 6475, '1776455': 6476, '1876574': 6477, '2164772': 6478, '841432': 6479, '1960214': 6480, '1670876': 6481, '2242333': 6482, '474149': 6483, '444798': 6484, '116353': 6485, '211086': 6486, '35111': 6487, '2629660': 6488, '1430431': 6489, '1313211': 6490, '448894': 6491, '1356923': 6492, '2433847': 6493, '1311888': 6494, '1191408': 6495, '1296959': 6496, '1226844': 6497, '2188949': 6498, '1270408': 6499, '183674': 6500, '1377236': 6501, '1905883': 6502, '1636738': 6503, '46716': 6504, '258046': 6505, '2404142': 6506, '1015558': 6507, '572481': 6508, '614909': 6509, '1753560': 6510, '785992': 6511, '799672': 6512, '2130244': 6513, '2198129': 6514, '468254': 6515, '1230248': 6516, '9321': 6517, '632664': 6518, '2035003': 6519, '1293631': 6520, '213677': 6521, '2209153': 6522, '1156245': 6523, '712664': 6524, '1475475': 6525, '326512': 6526, '26101': 6527, '1813197': 6528, '262411': 6529, '2168778': 6530, '2073795': 6531, '1466332': 6532, '197070': 6533, '1178384': 6534, '2018877': 6535, '1145956': 6536, '516343': 6537, '1833332': 6538, '162854': 6539, '2360851': 6540, '862040': 6541, '200098': 6542, '1758002': 6543, '2441687': 6544, '1855590': 6545, '1954817': 6546, '106997': 6547, '2064432': 6548, '1995445': 6549, '1785266': 6550, '1750386': 6551, '4306': 6552, '345035': 6553, '168837': 6554, '2046124': 6555, '948457': 6556, '2524846': 6557, '582405': 6558, '1026298': 6559, '875771': 6560, '224795': 6561, '2599606': 6562, '2451319': 6563, '1413219': 6564, '666500': 6565, '305733': 6566, '2285713': 6567, '2222077': 6568, '1967395': 6569, '1761042': 6570, '1125516': 6571, '226326': 6572, '391708': 6573, '1990901': 6574, '1585829': 6575, '369036': 6576, '2213131': 6577, '1542002': 6578, '828344': 6579, '1412309': 6580, '1707884': 6581, '327783': 6582, '1153365': 6583, '1223949': 6584, '820252': 6585, '2167896': 6586, '1222167': 6587, '413150': 6588, '488494': 6589, '1273651': 6590, '1365840': 6591, '1824459': 6592, '1771242': 6593, '233761': 6594, '1510943': 6595, '2492994': 6596, '1526205': 6597, '2319026': 6598, '612786': 6599, '696076': 6600, '1723583': 6601, '2021366': 6602, '346340': 6603, '1390057': 6604, '476695': 6605, '2316556': 6606, '1759189': 6607, '106981': 6608, '2391620': 6609, '2537764': 6610, '481523': 6611, '1048629': 6612, '1055456': 6613, '1672204': 6614, '408636': 6615, '2255251': 6616, '600724': 6617, '695091': 6618, '848036': 6619, '1431134': 6620, '110562': 6621, '2360796': 6622, '2120912': 6623, '1329217': 6624, '2213137': 6625, '901720': 6626, '848994': 6627, '1487119': 6628, '2059738': 6629, '38464': 6630, '1820855': 6631, '526970': 6632, '1395295': 6633, '1228535': 6634, '2288858': 6635, '1718022': 6636, '355834': 6637, '879131': 6638, '1399457': 6639, '2120970': 6640, '416560': 6641, '2337325': 6642, '1442': 6643, '1551814': 6644, '940066': 6645, '537389': 6646, '2130480': 6647, '862596': 6648, '1219679': 6649, '1511945': 6650, '2072762': 6651, '337793': 6652, '2638748': 6653, '1853510': 6654, '780390': 6655, '1478210': 6656, '183227': 6657, '2371791': 6658, '2042154': 6659, '1461435': 6660, '1340358': 6661, '402413': 6662, '1835914': 6663, '1577480': 6664, '1933604': 6665, '1406633': 6666, '36185': 6667, '727655': 6668, '1225759': 6669, '838669': 6670, '1480734': 6671, '827459': 6672, '1169855': 6673, '1935388': 6674, '259275': 6675, '2142754': 6676, '719755': 6677, '567573': 6678, '980771': 6679, '471831': 6680, '2385226': 6681, '1377657': 6682, '1546273': 6683, '2521619': 6684, '1323861': 6685, '2554555': 6686, '1625247': 6687, '1602278': 6688, '1794311': 6689, '2466682': 6690, '1632503': 6691, '1368151': 6692, '1641072': 6693, '1764745': 6694, '1139570': 6695, '1584314': 6696, '1389295': 6697, '1852037': 6698, '2122850': 6699, '392077': 6700, '2589259': 6701, '840996': 6702, '1336367': 6703, '1932946': 6704, '1313632': 6705, '538495': 6706, '265257': 6707, '2374451': 6708, '2624910': 6709, '1452969': 6710, '99844': 6711, '2100306': 6712, '1225936': 6713, '1703680': 6714, '1827421': 6715, '1759422': 6716, '755939': 6717, '961675': 6718, '1361167': 6719, '1069489': 6720, '657364': 6721, '952156': 6722, '1115828': 6723, '88897': 6724, '2086784': 6725, '267780': 6726, '2307995': 6727, '1315827': 6728, '185495': 6729, '847496': 6730, '2432862': 6731, '896407': 6732, '1778317': 6733, '2644964': 6734, '2488790': 6735, '1871937': 6736, '253326': 6737, '2402136': 6738, '1872980': 6739, '846325': 6740, '489458': 6741, '2335640': 6742, '1362974': 6743, '203299': 6744, '1447591': 6745, '1913414': 6746, '1903977': 6747, '2397185': 6748, '1334853': 6749, '2510301': 6750, '1970337': 6751, '2517833': 6752, '522710': 6753, '2429554': 6754, '1309838': 6755, '147078': 6756, '1789619': 6757, '657081': 6758, '1163151': 6759, '112449': 6760, '2065028': 6761, '1053310': 6762, '2153837': 6763, '2326969': 6764, '1919782': 6765, '829466': 6766, '892513': 6767, '722402': 6768, '2266083': 6769, '1430656': 6770, '2453282': 6771, '567875': 6772, '1036641': 6773, '1421023': 6774, '2080458': 6775, '2045981': 6776, '1444028': 6777, '1970006': 6778, '2288889': 6779, '1508625': 6780, '1790903': 6781, '1572469': 6782, '878148': 6783, '1587792': 6784, '725616': 6785, '979196': 6786, '1022127': 6787, '1815614': 6788, '575714': 6789, '505109': 6790, '973313': 6791, '155342': 6792, '613438': 6793, '1019603': 6794, '2369955': 6795, '389017': 6796, '1101438': 6797, '299857': 6798, '1749637': 6799, '1907556': 6800, '608234': 6801, '948541': 6802, '1510334': 6803, '540732': 6804, '1512574': 6805, '16051': 6806, '2569369': 6807, '1663467': 6808, '1500307': 6809, '1949178': 6810, '1585108': 6811, '1953981': 6812, '1134724': 6813, '2337681': 6814, '2342120': 6815, '1598717': 6816, '2509048': 6817, '2040005': 6818, '1761842': 6819, '57565': 6820, '354582': 6821, '745651': 6822, '2229308': 6823, '592277': 6824, '648614': 6825, '2568994': 6826, '1625343': 6827, '2604057': 6828, '272173': 6829, '536967': 6830, '2625649': 6831, '406808': 6832, '1673904': 6833, '914602': 6834, '2404088': 6835, '638657': 6836, '1248029': 6837, '1200461': 6838, '584100': 6839, '2199182': 6840, '1806407': 6841, '1443200': 6842, '477892': 6843, '1286051': 6844, '2274584': 6845, '124961': 6846, '38955': 6847, '2491575': 6848, '1498712': 6849, '1273680': 6850, '2368891': 6851, '1427330': 6852, '1935592': 6853, '1058309': 6854, '1771053': 6855, '2472640': 6856, '507921': 6857, '1166271': 6858, '2427026': 6859, '706870': 6860, '536414': 6861, '2012686': 6862, '2636012': 6863, '734508': 6864, '381704': 6865, '2331946': 6866, '196113': 6867, '298981': 6868, '61863': 6869, '1658790': 6870, '1360042': 6871, '1816485': 6872, '1890622': 6873, '295520': 6874, '473748': 6875, '2251582': 6876, '1257291': 6877, '290874': 6878, '1093564': 6879, '1622407': 6880, '1237971': 6881, '2165484': 6882, '1988095': 6883, '952063': 6884, '2441066': 6885, '2114015': 6886, '2601377': 6887, '712609': 6888, '640743': 6889, '769756': 6890, '2499981': 6891, '1650580': 6892, '165247': 6893, '123988': 6894, '2134226': 6895, '564647': 6896, '1342551': 6897, '1812039': 6898, '1416190': 6899, '2383510': 6900, '451096': 6901, '312180': 6902, '807551': 6903, '1556831': 6904, '835353': 6905, '985995': 6906, '947651': 6907, '1742103': 6908, '1921954': 6909, '440463': 6910, '347301': 6911, '898303': 6912, '2426964': 6913, '1054695': 6914, '2414663': 6915, '572864': 6916, '1380707': 6917, '1988735': 6918, '2223935': 6919, '677031': 6920, '2334289': 6921, '699662': 6922, '104899': 6923, '2566795': 6924, '1332122': 6925, '2055178': 6926, '2480412': 6927, '1067986': 6928, '2001820': 6929, '2280393': 6930, '427902': 6931, '1249029': 6932, '2420748': 6933, '1083968': 6934, '129097': 6935, '1104620': 6936, '2072811': 6937, '2420785': 6938, '2443626': 6939, '1118587': 6940, '1589537': 6941, '754781': 6942, '1234139': 6943, '1262628': 6944, '2425586': 6945, '1922072': 6946, '1081831': 6947, '2444478': 6948, '1412189': 6949, '1666419': 6950, '766133': 6951, '1137886': 6952, '2030564': 6953, '1937532': 6954, '1559840': 6955, '415762': 6956, '601778': 6957, '2496874': 6958, '1476304': 6959, '2138216': 6960, '2473261': 6961, '525356': 6962, '1768181': 6963, '1980593': 6964, '565161': 6965, '306175': 6966, '1426178': 6967, '1184378': 6968, '2533753': 6969, '2591704': 6970, '1694142': 6971, '2158495': 6972, '1492086': 6973, '1134379': 6974, '455285': 6975, '2345215': 6976, '873556': 6977, '2080674': 6978, '664809': 6979, '1720424': 6980, '1327480': 6981, '1918316': 6982, '2453603': 6983, '2170453': 6984, '671869': 6985, '2386920': 6986, '2226276': 6987, '1579413': 6988, '997772': 6989, '1567167': 6990, '1372635': 6991, '1106378': 6992, '538005': 6993, '79380': 6994, '1044160': 6995, '594805': 6996, '107840': 6997, '48282': 6998, '1096082': 6999, '2221050': 7000, '1260894': 7001, '2241247': 7002, '274652': 7003, '2589962': 7004, '1980604': 7005, '2384855': 7006, '1754009': 7007, '2050066': 7008, '2089639': 7009, '418717': 7010, '2430300': 7011, '2223310': 7012, '476205': 7013, '1718096': 7014, '829258': 7015, '1002407': 7016, '1732841': 7017, '678157': 7018, '1189397': 7019, '1039760': 7020, '2278035': 7021, '1152692': 7022, '2032698': 7023, '2338019': 7024, '1138359': 7025, '2485957': 7026, '2353376': 7027, '2588107': 7028, '233392': 7029, '1116080': 7030, '944944': 7031, '1017144': 7032, '1091113': 7033, '2474887': 7034, '991359': 7035, '1997656': 7036, '574499': 7037, '1860956': 7038, '1788942': 7039, '2494903': 7040, '109541': 7041, '2310390': 7042, '2356870': 7043, '348960': 7044, '1420308': 7045, '84213': 7046, '7748': 7047, '2259174': 7048, '1078333': 7049, '1212397': 7050, '1418477': 7051, '2094287': 7052, '753663': 7053, '1533807': 7054, '135215': 7055, '121699': 7056, '872221': 7057, '2457781': 7058, '868973': 7059, '507516': 7060, '1235099': 7061, '2592256': 7062, '2120884': 7063, '1650301': 7064, '1992636': 7065, '2198123': 7066, '2310373': 7067, '813424': 7068, '1257103': 7069, '1098510': 7070, '1019912': 7071, '1422484': 7072, '1553406': 7073, '1422883': 7074, '1932106': 7075, '1016303': 7076, '2227353': 7077, '1329619': 7078, '1519378': 7079, '1869491': 7080, '1909326': 7081, '2299951': 7082, '1712923': 7083, '113774': 7084, '1132940': 7085, '1888243': 7086, '559019': 7087, '267378': 7088, '1352747': 7089, '1339784': 7090, '40563': 7091, '800638': 7092, '260616': 7093, '2398295': 7094, '1806515': 7095, '754443': 7096, '477466': 7097, '1001912': 7098, '1375880': 7099, '754397': 7100, '1811201': 7101, '1310756': 7102, '147093': 7103, '676564': 7104, '610335': 7105, '1949871': 7106, '1419286': 7107, '795592': 7108, '1996307': 7109, '1309088': 7110, '1704248': 7111, '1885932': 7112, '2343113': 7113, '1744528': 7114, '1427332': 7115, '574055': 7116, '1273979': 7117, '14081': 7118, '52352': 7119, '707683': 7120, '1324891': 7121, '1089983': 7122, '1264009': 7123, '2581018': 7124, '1011250': 7125, '1033971': 7126, '773251': 7127, '2097277': 7128, '1422758': 7129, '202607': 7130, '1187757': 7131, '575464': 7132, '1230594': 7133, '805637': 7134, '752853': 7135, '1659647': 7136, '59270': 7137, '1165305': 7138, '2156178': 7139, '943538': 7140, '1783226': 7141, '6629': 7142, '2469956': 7143, '2392623': 7144, '1822020': 7145, '2622904': 7146, '1287177': 7147, '2134424': 7148, '2148160': 7149, '415589': 7150, '2600868': 7151, '1674731': 7152, '2062595': 7153, '2178514': 7154, '1319012': 7155, '1175759': 7156, '1085207': 7157, '37931': 7158, '1667283': 7159, '493082': 7160, '1549174': 7161, '1389968': 7162, '1623333': 7163, '1301243': 7164, '1638735': 7165, '503398': 7166, '2253616': 7167, '810093': 7168, '639873': 7169, '1876156': 7170, '475631': 7171, '1276353': 7172, '449053': 7173, '1903604': 7174, '906871': 7175, '1101668': 7176, '1454756': 7177, '1258560': 7178, '956647': 7179, '763240': 7180, '978708': 7181, '2429294': 7182, '958125': 7183, '1933788': 7184, '1791361': 7185, '2509588': 7186, '905156': 7187, '2232571': 7188, '1146649': 7189, '877349': 7190, '1419816': 7191, '463810': 7192, '1512836': 7193, '794215': 7194, '417759': 7195, '2551589': 7196, '1919060': 7197, '2203332': 7198, '1902838': 7199, '736578': 7200, '2203244': 7201, '208579': 7202, '497900': 7203, '136477': 7204, '121182': 7205, '1081910': 7206, '568620': 7207, '418550': 7208, '669523': 7209, '657543': 7210, '247932': 7211, '1287939': 7212, '645523': 7213, '1411722': 7214, '1643995': 7215, '1875008': 7216, '1523671': 7217, '1437130': 7218, '566628': 7219, '1569103': 7220, '1978543': 7221, '1120091': 7222, '385593': 7223, '2103029': 7224, '1950604': 7225, '478176': 7226, '1056827': 7227, '1468138': 7228, '1370144': 7229, '770945': 7230, '114130': 7231, '273054': 7232, '1848916': 7233, '721414': 7234, '1187676': 7235, '1272223': 7236, '686685': 7237, '447930': 7238, '516240': 7239, '128348': 7240, '794999': 7241, '85562': 7242, '2302997': 7243, '2159724': 7244, '1571713': 7245, '782920': 7246, '1333236': 7247, '1827242': 7248, '1187192': 7249, '2523584': 7250, '115821': 7251, '1479054': 7252, '1706873': 7253, '2002490': 7254, '653174': 7255, '670794': 7256, '2412383': 7257, '1704223': 7258, '251967': 7259, '341806': 7260, '949667': 7261, '1181558': 7262, '1217751': 7263, '1526115': 7264, '2532783': 7265, '2415253': 7266, '521890': 7267, '112349': 7268, '1496080': 7269, '2511730': 7270, '1073396': 7271, '1837202': 7272, '248932': 7273, '201681': 7274, '504245': 7275, '461110': 7276, '328654': 7277, '600251': 7278, '127676': 7279, '945666': 7280, '2063030': 7281, '934230': 7282, '252915': 7283, '1707198': 7284, '800683': 7285, '1787399': 7286, '1519692': 7287, '927849': 7288, '2362305': 7289, '1294781': 7290, '2043854': 7291, '47075': 7292, '184311': 7293, '877585': 7294, '1295115': 7295, '1968107': 7296, '2450621': 7297, '412221': 7298, '1503267': 7299, '753480': 7300, '1735589': 7301, '2632377': 7302, '647111': 7303, '489530': 7304, '2154901': 7305, '2470021': 7306, '1690697': 7307, '200216': 7308, '339645': 7309, '1484561': 7310, '2323358': 7311, '912340': 7312, '1527713': 7313, '2315012': 7314, '2634195': 7315, '763496': 7316, '2145575': 7317, '2533118': 7318, '1130863': 7319, '1734419': 7320, '1098468': 7321, '1417402': 7322, '2595864': 7323, '2041533': 7324, '2220559': 7325, '2383798': 7326, '145941': 7327, '818884': 7328, '17227': 7329, '2567935': 7330, '190213': 7331, '2180134': 7332, '1316671': 7333, '1996418': 7334, '2016801': 7335, '1513643': 7336, '651142': 7337, '1854193': 7338, '1232194': 7339, '2524353': 7340, '545689': 7341, '494150': 7342, '2345098': 7343, '2256708': 7344, '169980': 7345, '1494153': 7346, '1927110': 7347, '2394623': 7348, '894886': 7349, '166041': 7350, '1209220': 7351, '1940797': 7352, '2385481': 7353, '1122364': 7354, '1467076': 7355, '1343658': 7356, '810392': 7357, '1494367': 7358, '676758': 7359, '2453089': 7360, '278913': 7361, '2156708': 7362, '2302897': 7363, '1333': 7364, '2621229': 7365, '2425210': 7366, '806546': 7367, '1078129': 7368, '607735': 7369, '1517010': 7370, '1099918': 7371, '817464': 7372, '23354': 7373, '1619911': 7374, '1939988': 7375, '330058': 7376, '2252912': 7377, '1754338': 7378, '2047045': 7379, '2435350': 7380, '1890837': 7381, '612641': 7382, '1047368': 7383, '1844813': 7384, '7730': 7385, '2076954': 7386, '1981464': 7387, '468079': 7388, '618931': 7389, '2424683': 7390, '2162676': 7391, '2598046': 7392, '562156': 7393, '531747': 7394, '195806': 7395, '2576875': 7396, '124810': 7397, '1933849': 7398, '2278738': 7399, '1035969': 7400, '2495474': 7401, '168190': 7402, '1746701': 7403, '1731449': 7404, '1517061': 7405, '253275': 7406, '118341': 7407, '2136927': 7408, '1656130': 7409, '1513215': 7410, '659285': 7411, '2579734': 7412, '1126751': 7413, '1156180': 7414, '360287': 7415, '480612': 7416, '537732': 7417, '2209110': 7418, '1157892': 7419, '1549828': 7420, '780444': 7421, '602642': 7422, '1349706': 7423, '1323425': 7424, '1556093': 7425, '978983': 7426, '575207': 7427, '1618191': 7428, '1101357': 7429, '1604357': 7430, '2108491': 7431, '1508976': 7432, '165720': 7433, '2388917': 7434, '100400': 7435, '185110': 7436, '787052': 7437, '1724821': 7438, '867394': 7439, '1756244': 7440, '995154': 7441, '691775': 7442, '1793313': 7443, '734458': 7444, '2627394': 7445, '2537933': 7446, '1255703': 7447, '633235': 7448, '1046765': 7449, '1877483': 7450, '2598035': 7451, '1829350': 7452, '144577': 7453, '655297': 7454, '2027196': 7455, '214986': 7456, '892472': 7457, '1825531': 7458, '1409759': 7459, '1589963': 7460, '1181550': 7461, '109112': 7462, '1670664': 7463, '141370': 7464, '903296': 7465, '2330371': 7466, '2267950': 7467, '2428674': 7468, '1312066': 7469, '755820': 7470, '2238894': 7471, '1905069': 7472, '293284': 7473, '2485642': 7474, '401047': 7475, '437239': 7476, '2190996': 7477, '1897404': 7478, '1276355': 7479, '530868': 7480, '2366722': 7481, '2289991': 7482, '450111': 7483, '1907859': 7484, '2291589': 7485, '1214273': 7486, '1802392': 7487, '345657': 7488, '2243515': 7489, '491329': 7490, '342510': 7491, '2181504': 7492, '1876520': 7493, '1946983': 7494, '862850': 7495, '2208132': 7496, '2125852': 7497, '1694402': 7498, '1766693': 7499, '1242432': 7500, '1214125': 7501, '2503103': 7502, '2209039': 7503, '1449738': 7504, '953667': 7505, '1498198': 7506, '451640': 7507, '492478': 7508, '2360117': 7509, '312695': 7510, '201303': 7511, '1700131': 7512, '171430': 7513, '1611900': 7514, '1863467': 7515, '2363387': 7516, '1213178': 7517, '1398918': 7518, '1235851': 7519, '239740': 7520, '1457134': 7521, '2117432': 7522, '1714874': 7523, '335938': 7524, '2350212': 7525, '316155': 7526, '1579747': 7527, '520286': 7528, '1738198': 7529, '845921': 7530, '2035438': 7531, '2193771': 7532, '1014995': 7533, '2227880': 7534, '2597077': 7535, '2023084': 7536, '2160085': 7537, '2425137': 7538, '58399': 7539, '527592': 7540, '1875017': 7541, '104237': 7542, '2076208': 7543, '524218': 7544, '923103': 7545, '1009409': 7546, '2437983': 7547, '2110928': 7548, '2490507': 7549, '1547977': 7550, '1661216': 7551, '2574102': 7552, '651973': 7553, '738983': 7554, '2116041': 7555, '1259643': 7556, '1386822': 7557, '275685': 7558, '667911': 7559, '1981147': 7560, '1739296': 7561, '372743': 7562, '349411': 7563, '2556571': 7564, '1855317': 7565, '482021': 7566, '475253': 7567, '2133714': 7568, '1618112': 7569, '2260612': 7570, '1396960': 7571, '1661271': 7572, '245884': 7573, '699495': 7574, '635070': 7575, '2384512': 7576, '1834472': 7577, '1174162': 7578, '248239': 7579, '1545709': 7580, '2437021': 7581, '2075525': 7582, '1685449': 7583, '1226270': 7584, '671876': 7585, '1309505': 7586, '46222': 7587, '2080549': 7588, '2221806': 7589, '815418': 7590, '2204684': 7591, '1102923': 7592, '365996': 7593, '1675269': 7594, '831790': 7595, '1241893': 7596, '1551926': 7597, '2561009': 7598, '1754362': 7599, '833276': 7600, '1751764': 7601, '792568': 7602, '2232853': 7603, '303677': 7604, '262068': 7605, '1783225': 7606, '1919422': 7607, '352812': 7608, '1609651': 7609, '1100765': 7610, '683254': 7611, '1898907': 7612, '610803': 7613, '2287836': 7614, '2358799': 7615, '445409': 7616, '1542885': 7617, '1325876': 7618, '2008298': 7619, '1287490': 7620, '1176201': 7621, '2475820': 7622, '263291': 7623, '1087693': 7624, '778937': 7625, '90900': 7626, '328212': 7627, '2207806': 7628, '828045': 7629, '890259': 7630, '280260': 7631, '1836356': 7632, '54040': 7633, '1635850': 7634, '1394012': 7635, '1167767': 7636, '492555': 7637, '953604': 7638, '1478117': 7639, '39450': 7640, '1878548': 7641, '1079613': 7642, '1753633': 7643, '2214885': 7644, '2080585': 7645, '737391': 7646, '828654': 7647, '1784935': 7648, '871687': 7649, '903036': 7650, '1446944': 7651, '2292987': 7652, '2229752': 7653, '1493889': 7654, '617275': 7655, '797705': 7656, '781453': 7657, '1779118': 7658, '513933': 7659, '718303': 7660, '511234': 7661, '1737974': 7662, '1731838': 7663, '2035777': 7664, '1724818': 7665, '1172446': 7666, '829075': 7667, '1520904': 7668, '997243': 7669, '238740': 7670, '2381413': 7671, '2205104': 7672, '2000429': 7673, '203576': 7674, '1610230': 7675, '818736': 7676, '2502145': 7677, '456367': 7678, '295983': 7679, '448879': 7680, '2151488': 7681, '2634967': 7682, '184660': 7683, '2164441': 7684, '1089865': 7685, '960137': 7686, '151153': 7687, '2538680': 7688, '480033': 7689, '816549': 7690, '2156497': 7691, '1061911': 7692, '2175546': 7693, '2349595': 7694, '2404146': 7695, '1513514': 7696, '964472': 7697, '982694': 7698, '1894721': 7699, '2312124': 7700, '1415739': 7701, '531125': 7702, '1744889': 7703, '1400378': 7704, '2633465': 7705, '848193': 7706, '1761229': 7707, '2079932': 7708, '83926': 7709, '258627': 7710, '1827071': 7711, '138106': 7712, '1562484': 7713, '611083': 7714, '2460130': 7715, '2427575': 7716, '2413170': 7717, '329475': 7718, '1348118': 7719, '428168': 7720, '515261': 7721, '1377190': 7722, '2039201': 7723, '2088226': 7724, '589571': 7725, '1564200': 7726, '1336618': 7727, '1800072': 7728, '2562786': 7729, '1237674': 7730, '735296': 7731, '1103410': 7732, '1578237': 7733, '2077352': 7734, '2165619': 7735, '1084484': 7736, '749139': 7737, '2150689': 7738, '1062070': 7739, '1037182': 7740, '63971': 7741, '1711223': 7742, '385102': 7743, '13432': 7744, '639317': 7745, '849966': 7746, '813382': 7747, '2006914': 7748, '1265998': 7749, '1389180': 7750, '7576': 7751, '2236144': 7752, '1797525': 7753, '654630': 7754, '2647888': 7755, '1994798': 7756, '431626': 7757, '2031909': 7758, '2017438': 7759, '2516386': 7760, '1043135': 7761, '4597': 7762, '1240186': 7763, '1800701': 7764, '680132': 7765, '111832': 7766, '1494821': 7767, '1704440': 7768, '364517': 7769, '2044772': 7770, '2408899': 7771, '2148252': 7772, '2331112': 7773, '2223968': 7774, '2490540': 7775, '1280311': 7776, '901801': 7777, '2361318': 7778, '1668615': 7779, '1794216': 7780, '1929487': 7781, '1460343': 7782, '2474804': 7783, '871833': 7784, '2647197': 7785, '803137': 7786, '1347949': 7787, '2612104': 7788, '1416204': 7789, '793736': 7790, '1085320': 7791, '2542194': 7792, '2454662': 7793, '760837': 7794, '1191821': 7795, '751145': 7796, '838652': 7797, '2273951': 7798, '1138496': 7799, '1223912': 7800, '59913': 7801, '2566033': 7802, '684488': 7803, '955719': 7804, '980987': 7805, '1043768': 7806, '1660783': 7807, '1348335': 7808, '1882992': 7809, '2464081': 7810, '1395849': 7811, '354269': 7812, '1062213': 7813, '227437': 7814, '544180': 7815, '2233803': 7816, '1731826': 7817, '2333987': 7818, '757556': 7819, '1336941': 7820, '957286': 7821, '788395': 7822, '755340': 7823, '485083': 7824, '109079': 7825, '870097': 7826, '1371337': 7827, '2630890': 7828, '2409092': 7829, '1573486': 7830, '68845': 7831, '667035': 7832, '2648730': 7833, '629389': 7834, '2069981': 7835, '2081789': 7836, '661571': 7837, '2629246': 7838, '540778': 7839, '2334626': 7840, '172217': 7841, '464621': 7842, '1717532': 7843, '234141': 7844, '523779': 7845, '284970': 7846, '398488': 7847, '750617': 7848, '2084049': 7849, '2119007': 7850, '966591': 7851, '1836777': 7852, '1769993': 7853, '237263': 7854, '488900': 7855, '1766191': 7856, '657641': 7857, '996448': 7858, '207201': 7859, '556619': 7860, '369646': 7861, '1501288': 7862, '2568908': 7863, '1942483': 7864, '2420683': 7865, '2122667': 7866, '2055810': 7867, '2260267': 7868, '170870': 7869, '2632436': 7870, '2090306': 7871, '479092': 7872, '873056': 7873, '1233335': 7874, '2155331': 7875, '1640123': 7876, '1977612': 7877, '1427259': 7878, '1871358': 7879, '706832': 7880, '1288346': 7881, '1818865': 7882, '1911099': 7883, '854460': 7884, '1463862': 7885, '841955': 7886, '1483838': 7887, '1054773': 7888, '2283366': 7889, '342396': 7890, '918897': 7891, '940310': 7892, '86298': 7893, '2438708': 7894, '322191': 7895, '2502315': 7896, '2160022': 7897, '1479374': 7898, '386668': 7899, '2275545': 7900, '358552': 7901, '1295424': 7902, '2169359': 7903, '962945': 7904, '404924': 7905, '1463939': 7906, '1119128': 7907, '202678': 7908, '594244': 7909, '772573': 7910, '2118159': 7911, '2360137': 7912, '2548362': 7913, '326567': 7914, '1262848': 7915, '2400866': 7916, '697054': 7917, '2093771': 7918, '2043149': 7919, '2618096': 7920, '116858': 7921, '2522229': 7922, '1645937': 7923, '223423': 7924, '835473': 7925, '1663888': 7926, '2272654': 7927, '890310': 7928, '1110291': 7929, '285330': 7930, '2003876': 7931, '2306984': 7932, '1589401': 7933, '2442028': 7934, '72607': 7935, '643312': 7936, '593440': 7937, '694070': 7938, '452860': 7939, '654043': 7940, '164468': 7941, '336595': 7942, '1692018': 7943, '408966': 7944, '345580': 7945, '332558': 7946, '2274712': 7947, '2495256': 7948, '887273': 7949, '2614179': 7950, '331472': 7951, '1565082': 7952, '830262': 7953, '613651': 7954, '2640879': 7955, '1127410': 7956, '1376322': 7957, '2434253': 7958, '638998': 7959, '826503': 7960, '2047145': 7961, '319268': 7962, '2267514': 7963, '1365170': 7964, '1639014': 7965, '2404769': 7966, '237738': 7967, '943256': 7968, '2518881': 7969, '849485': 7970, '1144279': 7971, '2290263': 7972, '1850680': 7973, '144836': 7974, '1980603': 7975, '1309839': 7976, '1327787': 7977, '1497396': 7978, '1750544': 7979, '1699240': 7980, '2189626': 7981, '1146038': 7982, '2368686': 7983, '1988524': 7984, '2073753': 7985, '1441540': 7986, '2096942': 7987, '2588222': 7988, '793113': 7989, '819462': 7990, '1567783': 7991, '2640210': 7992, '1593530': 7993, '566587': 7994, '1882384': 7995, '814989': 7996, '2341591': 7997, '993550': 7998, '760924': 7999, '2615549': 8000, '1322587': 8001, '1944305': 8002, '926054': 8003, '1121106': 8004, '1920565': 8005, '802326': 8006, '521825': 8007, '738657': 8008, '1315754': 8009, '2151938': 8010, '836261': 8011, '1742222': 8012, '13333': 8013, '914508': 8014, '1889371': 8015, '96162': 8016, '408873': 8017, '1220170': 8018, '123105': 8019, '1691081': 8020, '1460897': 8021, '1399571': 8022, '756299': 8023, '2004870': 8024, '1100934': 8025, '1701632': 8026, '219033': 8027, '1294445': 8028, '2009414': 8029, '67900': 8030, '2356471': 8031, '2584980': 8032, '310049': 8033, '2439370': 8034, '333426': 8035, '1663569': 8036, '669758': 8037, '1551109': 8038, '1197972': 8039, '2619914': 8040, '2500166': 8041, '2176304': 8042, '2038778': 8043, '365119': 8044, '977681': 8045, '1106518': 8046, '2389847': 8047, '1574264': 8048, '2137371': 8049, '2098006': 8050, '1052563': 8051, '1505732': 8052, '1866323': 8053, '844335': 8054, '572423': 8055, '697780': 8056, '654455': 8057, '263213': 8058, '1211016': 8059, '1346326': 8060, '849959': 8061, '2490243': 8062, '39297': 8063, '197482': 8064, '2224525': 8065, '611360': 8066, '2294110': 8067, '1194911': 8068, '867311': 8069, '439926': 8070, '173067': 8071, '395747': 8072, '217262': 8073, '871970': 8074, '2472682': 8075, '1932325': 8076, '1696308': 8077, '1537969': 8078, '1173887': 8079, '984874': 8080, '490232': 8081, '1430587': 8082, '2432848': 8083, '798262': 8084, '2561723': 8085, '99865': 8086, '1711346': 8087, '2355382': 8088, '2127108': 8089, '1387650': 8090, '271355': 8091, '3604': 8092, '796191': 8093, '2109666': 8094, '446163': 8095, '1933952': 8096, '1002249': 8097, '1417279': 8098, '2541531': 8099, '2601274': 8100, '883136': 8101, '1105029': 8102, '2053907': 8103, '373990': 8104, '1613664': 8105, '2194719': 8106, '2343409': 8107, '620943': 8108, '2079888': 8109, '518309': 8110, '1554161': 8111, '1302609': 8112, '447410': 8113, '340751': 8114, '826444': 8115, '699044': 8116, '2535470': 8117, '2238483': 8118, '2055340': 8119, '2556552': 8120, '1192313': 8121, '354439': 8122, '1023052': 8123, '1633863': 8124, '194096': 8125, '774736': 8126, '1096051': 8127, '2160087': 8128, '1224367': 8129, '536065': 8130, '1547886': 8131, '1977824': 8132, '824490': 8133, '1484680': 8134, '1360090': 8135, '934606': 8136, '1662104': 8137, '2308382': 8138, '200551': 8139, '2409913': 8140, '2195606': 8141, '2463441': 8142, '2374782': 8143, '889439': 8144, '1236332': 8145, '327947': 8146, '245369': 8147, '256465': 8148, '1661344': 8149, '2112815': 8150, '1402114': 8151, '1660348': 8152, '659697': 8153, '1972112': 8154, '976615': 8155, '2416180': 8156, '1406700': 8157, '1705743': 8158, '1154027': 8159, '1124099': 8160, '2031286': 8161, '199518': 8162, '1392742': 8163, '962164': 8164, '677888': 8165, '1550976': 8166, '972253': 8167, '2390291': 8168, '2040853': 8169, '1425876': 8170, '1317580': 8171, '2200487': 8172, '909744': 8173, '2133903': 8174, '2230222': 8175, '1124163': 8176, '2222791': 8177, '2547458': 8178, '2195865': 8179, '1210419': 8180, '318100': 8181, '1438518': 8182, '1708281': 8183, '1528326': 8184, '563264': 8185, '2199355': 8186, '1620184': 8187, '2519310': 8188, '983558': 8189, '1500479': 8190, '1901496': 8191, '1380915': 8192, '2575367': 8193, '1696428': 8194, '1520166': 8195, '1365356': 8196, '223043': 8197, '996140': 8198, '1221268': 8199, '2374004': 8200, '806045': 8201, '1707646': 8202, '359255': 8203, '1219206': 8204, '1746613': 8205, '979053': 8206, '2320706': 8207, '461799': 8208, '124255': 8209, '1125519': 8210, '1663564': 8211, '512352': 8212, '2352662': 8213, '1239654': 8214, '418403': 8215, '1145000': 8216, '39147': 8217, '487471': 8218, '1743756': 8219, '2294930': 8220, '1539849': 8221, '500428': 8222, '834611': 8223, '1010516': 8224, '2095910': 8225, '1286787': 8226, '2200634': 8227, '1225455': 8228, '1984315': 8229, '1870555': 8230, '68271': 8231, '856563': 8232, '2028581': 8233, '1620201': 8234, '2475844': 8235, '2610037': 8236, '1561964': 8237, '87113': 8238, '2563204': 8239, '50282': 8240, '414791': 8241, '1522957': 8242, '1671085': 8243, '1245143': 8244, '1528639': 8245, '2140471': 8246, '2039168': 8247, '496087': 8248, '2197203': 8249, '1368422': 8250, '1647674': 8251, '1153770': 8252, '652389': 8253, '151416': 8254, '1534317': 8255, '1051757': 8256, '1423956': 8257, '385553': 8258, '1835142': 8259, '423969': 8260, '280280': 8261, '401624': 8262, '733887': 8263, '1794573': 8264, '1128816': 8265, '2051584': 8266, '1494275': 8267, '2627567': 8268, '462171': 8269, '73103': 8270, '918157': 8271, '2463546': 8272, '459615': 8273, '2463585': 8274, '2376428': 8275, '2528590': 8276, '1781102': 8277, '2551806': 8278, '1927703': 8279, '1649070': 8280, '2456113': 8281, '2519181': 8282, '1444287': 8283, '1746058': 8284, '318457': 8285, '1614939': 8286, '982331': 8287, '2412160': 8288, '110938': 8289, '10273': 8290, '1471913': 8291, '1140036': 8292, '578896': 8293, '2167290': 8294, '2596548': 8295, '280930': 8296, '947574': 8297, '2361556': 8298, '357226': 8299, '1575323': 8300, '1232733': 8301, '2352563': 8302, '1206843': 8303, '1220707': 8304, '1467436': 8305, '573802': 8306, '1515156': 8307, '860626': 8308, '1760492': 8309, '1698718': 8310, '2248854': 8311, '1333494': 8312, '568605': 8313, '676450': 8314, '308031': 8315, '30245': 8316, '440723': 8317, '161533': 8318, '1388257': 8319, '1693814': 8320, '190071': 8321, '2252343': 8322, '1732840': 8323, '1059961': 8324, '1893292': 8325, '809943': 8326, '645138': 8327, '1137666': 8328, '1467195': 8329, '534933': 8330, '1339423': 8331, '1887749': 8332, '650227': 8333, '2228763': 8334, '1367589': 8335, '2117799': 8336, '611616': 8337, '742710': 8338, '1154038': 8339, '2482738': 8340, '300720': 8341, '618928': 8342, '408193': 8343, '667102': 8344, '317325': 8345, '678384': 8346, '2125582': 8347, '614585': 8348, '1077783': 8349, '510590': 8350, '1550207': 8351, '511613': 8352, '2096648': 8353, '2141635': 8354, '2346240': 8355, '2120543': 8356, '1535537': 8357, '1139290': 8358, '390912': 8359, '2086206': 8360, '1695436': 8361, '1654947': 8362, '915472': 8363, '2285688': 8364, '1551094': 8365, '507519': 8366, '2612172': 8367, '470744': 8368, '2417151': 8369, '1887043': 8370, '327577': 8371, '2571860': 8372, '2630797': 8373, '2125368': 8374, '2266421': 8375, '1210088': 8376, '282447': 8377, '78404': 8378, '604949': 8379, '2483185': 8380, '290466': 8381, '1437183': 8382, '716173': 8383, '2442131': 8384, '2188580': 8385, '1008754': 8386, '825637': 8387, '954111': 8388, '2095338': 8389, '513026': 8390, '1294471': 8391, '1927527': 8392, '2235166': 8393, '136970': 8394, '2374464': 8395, '705904': 8396, '2905': 8397, '2492392': 8398, '1581500': 8399, '1944420': 8400, '203708': 8401, '1955367': 8402, '2402629': 8403, '1185461': 8404, '268739': 8405, '2307923': 8406, '745607': 8407, '2494857': 8408, '2316081': 8409, '2072326': 8410, '476043': 8411, '1355647': 8412, '1823065': 8413, '1142246': 8414, '1731543': 8415, '183205': 8416, '931565': 8417, '1294425': 8418, '169533': 8419, '1169361': 8420, '1246721': 8421, '1737149': 8422, '2001326': 8423, '453321': 8424, '296307': 8425, '769887': 8426, '1755534': 8427, '470781': 8428, '759944': 8429, '2481593': 8430, '1239467': 8431, '2009329': 8432, '2194798': 8433, '2635348': 8434, '1477732': 8435, '397815': 8436, '2218750': 8437, '1166912': 8438, '2216803': 8439, '1034831': 8440, '1048152': 8441, '522065': 8442, '2001061': 8443, '156430': 8444, '2593441': 8445, '1769330': 8446, '2274193': 8447, '562540': 8448, '537600': 8449, '1432466': 8450, '20814': 8451, '1001454': 8452, '437485': 8453, '1614424': 8454, '2111942': 8455, '2646574': 8456, '2101124': 8457, '2545709': 8458, '2117885': 8459, '1865396': 8460, '1563555': 8461, '1208146': 8462, '1691484': 8463, '1612558': 8464, '1681124': 8465, '942007': 8466, '1228781': 8467, '259202': 8468, '398994': 8469, '1118220': 8470, '1978271': 8471, '1475293': 8472, '1330537': 8473, '75384': 8474, '2209849': 8475, '2521856': 8476, '1111764': 8477, '406365': 8478, '403671': 8479, '827257': 8480, '1950559': 8481, '2366006': 8482, '766840': 8483, '882322': 8484, '2483096': 8485, '225934': 8486, '1285643': 8487, '2565182': 8488, '2052702': 8489, '674749': 8490, '2105602': 8491, '2430230': 8492, '1516936': 8493, '669124': 8494, '1851033': 8495, '714635': 8496, '983990': 8497, '1197493': 8498, '2191844': 8499, '2617574': 8500, '729393': 8501, '929377': 8502, '491060': 8503, '2630671': 8504, '1122711': 8505, '1613540': 8506, '1802059': 8507, '414875': 8508, '1807143': 8509, '1158822': 8510, '952147': 8511, '301019': 8512, '1835511': 8513, '1187113': 8514, '2154657': 8515, '699988': 8516, '826722': 8517, '1599816': 8518, '1986816': 8519, '2195565': 8520, '2015498': 8521, '2634607': 8522, '970433': 8523, '279521': 8524, '1426662': 8525, '62285': 8526, '779811': 8527, '1755138': 8528, '1387049': 8529, '1694254': 8530, '1943596': 8531, '1065445': 8532, '2024833': 8533, '1851769': 8534, '338416': 8535, '1717184': 8536, '235077': 8537, '1608091': 8538, '872126': 8539, '2360300': 8540, '2309341': 8541, '844784': 8542, '2467457': 8543, '301726': 8544, '1815588': 8545, '676989': 8546, '2597161': 8547, '647860': 8548, '2621071': 8549, '805190': 8550, '606832': 8551, '1631433': 8552, '330526': 8553, '2567276': 8554, '1244918': 8555, '2501878': 8556, '1160024': 8557, '513120': 8558, '2560469': 8559, '1310250': 8560, '112991': 8561, '643182': 8562, '1700035': 8563, '1691319': 8564, '439970': 8565, '1792238': 8566, '915926': 8567, '1376574': 8568, '765484': 8569, '1372554': 8570, '826049': 8571, '2003762': 8572, '2237178': 8573, '455334': 8574, '2490130': 8575, '514495': 8576, '1243274': 8577, '683604': 8578, '494486': 8579, '1709186': 8580, '1428028': 8581, '645373': 8582, '844459': 8583, '2534058': 8584, '831494': 8585, '2108527': 8586, '705534': 8587, '2648885': 8588, '102919': 8589, '2193903': 8590, '2595156': 8591, '1924500': 8592, '69183': 8593, '1550627': 8594, '137987': 8595, '1570952': 8596, '2276649': 8597, '59178': 8598, '2639129': 8599, '1037807': 8600, '1434637': 8601, '480206': 8602, '247846': 8603, '754162': 8604, '2322405': 8605, '409260': 8606, '199257': 8607, '2342874': 8608, '825779': 8609, '669635': 8610, '1966153': 8611, '1685083': 8612, '2346813': 8613, '880471': 8614, '807988': 8615, '1377693': 8616, '609629': 8617, '297682': 8618, '2618537': 8619, '2400645': 8620, '1411663': 8621, '2250261': 8622, '204552': 8623, '991964': 8624, '789517': 8625, '554137': 8626, '1037770': 8627, '900992': 8628, '2442597': 8629, '1293514': 8630, '2423718': 8631, '1774642': 8632, '2602667': 8633, '2559608': 8634, '2520834': 8635, '1473641': 8636, '914940': 8637, '288420': 8638, '1838074': 8639, '2524669': 8640, '838773': 8641, '1394198': 8642, '1395778': 8643, '1050789': 8644, '2227455': 8645, '576085': 8646, '2448660': 8647, '847018': 8648, '200177': 8649, '1438606': 8650, '2395020': 8651, '687769': 8652, '1000527': 8653, '1406452': 8654, '2294332': 8655, '847313': 8656, '810370': 8657, '2089599': 8658, '2199465': 8659, '161063': 8660, '371701': 8661, '626772': 8662, '2344684': 8663, '2143500': 8664, '2372141': 8665, '1902434': 8666, '290215': 8667, '138549': 8668, '1777233': 8669, '1156244': 8670, '716107': 8671, '491294': 8672, '1501766': 8673, '2450525': 8674, '2209212': 8675, '1036836': 8676, '605274': 8677, '1018210': 8678, '509703': 8679, '1392553': 8680, '1964336': 8681, '1936750': 8682, '923606': 8683, '1460170': 8684, '358182': 8685, '1910383': 8686, '2570844': 8687, '123097': 8688, '1449107': 8689, '636273': 8690, '1406872': 8691, '1481617': 8692, '1657195': 8693, '1439015': 8694, '775569': 8695, '488083': 8696, '383858': 8697, '1141718': 8698, '1765966': 8699, '324754': 8700, '898642': 8701, '153539': 8702, '9557': 8703, '648350': 8704, '2103116': 8705, '2519299': 8706, '673591': 8707, '2195240': 8708, '2341581': 8709, '476470': 8710, '2017112': 8711, '97611': 8712, '1813114': 8713, '2592025': 8714, '1504595': 8715, '2466950': 8716, '2544532': 8717, '1532735': 8718, '1134871': 8719, '2455878': 8720, '1165236': 8721, '1886585': 8722, '752696': 8723, '1941368': 8724, '131873': 8725, '1692674': 8726, '2605003': 8727, '2335061': 8728, '47312': 8729, '2401693': 8730, '235253': 8731, '915898': 8732, '40112': 8733, '1964597': 8734, '2386868': 8735, '779744': 8736, '1277457': 8737, '1349680': 8738, '1310736': 8739, '2573509': 8740, '2042548': 8741, '933207': 8742, '2621150': 8743, '1753001': 8744, '1978844': 8745, '356157': 8746, '182203': 8747, '2202279': 8748, '2352305': 8749, '1083069': 8750, '936373': 8751, '2282751': 8752, '1534723': 8753, '539186': 8754, '733228': 8755, '113369': 8756, '2204563': 8757, '1671947': 8758, '1731009': 8759, '196140': 8760, '765279': 8761, '1686270': 8762, '263361': 8763, '600362': 8764, '408830': 8765, '616093': 8766, '357482': 8767, '2397008': 8768, '450465': 8769, '1740380': 8770, '427485': 8771, '207017': 8772, '2224112': 8773, '393966': 8774, '1302968': 8775, '746375': 8776, '848753': 8777, '1323848': 8778, '370641': 8779, '97893': 8780, '1356239': 8781, '2415034': 8782, '992512': 8783, '1772215': 8784, '538178': 8785, '791291': 8786, '30873': 8787, '2511584': 8788, '2091736': 8789, '397001': 8790, '2160334': 8791, '1539697': 8792, '524619': 8793, '928497': 8794, '469318': 8795, '1252521': 8796, '1711999': 8797, '1937449': 8798, '2238629': 8799, '1082342': 8800, '787977': 8801, '2128440': 8802, '1925969': 8803, '1267500': 8804, '1970437': 8805, '1833119': 8806, '1315389': 8807, '629075': 8808, '602149': 8809, '1947413': 8810, '2086901': 8811, '431074': 8812, '1622098': 8813, '2040254': 8814, '831134': 8815, '2432433': 8816, '204537': 8817, '1471593': 8818, '2464143': 8819, '1508638': 8820, '1818447': 8821, '627312': 8822, '727175': 8823, '1586613': 8824, '2641802': 8825, '1321145': 8826, '2134641': 8827, '1883039': 8828, '1462806': 8829, '1281487': 8830, '127061': 8831, '1843005': 8832, '2016667': 8833, '705758': 8834, '308307': 8835, '2162855': 8836, '1741931': 8837, '280802': 8838, '1640555': 8839, '558634': 8840, '17864': 8841, '1192767': 8842, '1847231': 8843, '722289': 8844, '519545': 8845, '2220239': 8846, '2178729': 8847, '1925832': 8848, '2430950': 8849, '1550823': 8850, '1280119': 8851, '2128219': 8852, '520740': 8853, '657606': 8854, '1937233': 8855, '535720': 8856, '597100': 8857, '871675': 8858, '636262': 8859, '2287580': 8860, '169835': 8861, '2513271': 8862, '869553': 8863, '1136132': 8864, '774398': 8865, '223641': 8866, '1838055': 8867, '1783789': 8868, '586430': 8869, '510438': 8870, '438200': 8871, '2339191': 8872, '1558299': 8873, '2008504': 8874, '134972': 8875, '1546549': 8876, '1102039': 8877, '338210': 8878, '547118': 8879, '133119': 8880, '1348088': 8881, '2281485': 8882, '5399': 8883, '568434': 8884, '1448191': 8885, '174972': 8886, '2507981': 8887, '1021023': 8888, '259348': 8889, '719294': 8890, '1040397': 8891, '1241060': 8892, '2442531': 8893, '2646712': 8894, '525715': 8895, '1845777': 8896, '1466743': 8897, '1033845': 8898, '895863': 8899, '464504': 8900, '840737': 8901, '764785': 8902, '1492392': 8903, '1188978': 8904, '490031': 8905, '2232693': 8906, '2569115': 8907, '600546': 8908, '225381': 8909, '1621666': 8910, '2360906': 8911, '1026926': 8912, '467885': 8913, '2265316': 8914, '478755': 8915, '1957175': 8916, '219174': 8917, '2177221': 8918, '361375': 8919, '1015868': 8920, '2092076': 8921, '2265864': 8922, '706349': 8923, '2487508': 8924, '1541814': 8925, '828672': 8926, '826193': 8927, '287439': 8928, '1885016': 8929, '626377': 8930, '1718989': 8931, '1240334': 8932, '1820564': 8933, '1025593': 8934, '1007768': 8935, '2596083': 8936, '809505': 8937, '1754267': 8938, '1666920': 8939, '2481718': 8940, '1564927': 8941, '597345': 8942, '182780': 8943, '680736': 8944, '389391': 8945, '1100241': 8946, '2386443': 8947, '1309043': 8948, '1812382': 8949, '2452430': 8950, '1337293': 8951, '1351373': 8952, '1451792': 8953, '1200479': 8954, '2556455': 8955, '780850': 8956, '1548908': 8957, '256033': 8958, '416881': 8959, '1447641': 8960, '2131029': 8961, '1084999': 8962, '1583564': 8963, '1477153': 8964, '832928': 8965, '598548': 8966, '2230795': 8967, '1615850': 8968, '2431150': 8969, '113983': 8970, '1338312': 8971, '921255': 8972, '1592126': 8973, '2512814': 8974, '2088784': 8975, '2299517': 8976, '193011': 8977, '1668401': 8978, '2056368': 8979, '504401': 8980, '2126435': 8981, '1977959': 8982, '2139762': 8983, '1939029': 8984, '2325794': 8985, '213863': 8986, '1298173': 8987, '1349014': 8988, '21157': 8989, '1442187': 8990, '1181609': 8991, '1058034': 8992, '1903324': 8993, '952582': 8994, '2633375': 8995, '2086214': 8996, '2626336': 8997, '564610': 8998, '704254': 8999, '2299612': 9000, '884944': 9001, '2389101': 9002, '2449788': 9003, '1555917': 9004, '108780': 9005, '2064995': 9006, '2047339': 9007, '1922052': 9008, '603908': 9009, '2512828': 9010, '442739': 9011, '378784': 9012, '489702': 9013, '3595': 9014, '2526173': 9015, '749818': 9016, '1462172': 9017, '530441': 9018, '2378561': 9019, '248982': 9020, '2307943': 9021, '1441263': 9022, '407367': 9023, '912661': 9024, '1779180': 9025, '2471386': 9026, '1377158': 9027, '205438': 9028, '470306': 9029, '2011258': 9030, '637475': 9031, '563339': 9032, '788892': 9033, '2246248': 9034, '1477783': 9035, '1474408': 9036, '1610234': 9037, '1540779': 9038, '2022256': 9039, '996577': 9040, '500512': 9041, '2411610': 9042, '1435361': 9043, '2531111': 9044, '777750': 9045, '1539017': 9046, '1666400': 9047, '2027486': 9048, '772534': 9049, '2120303': 9050, '2269323': 9051, '689488': 9052, '105532': 9053, '285174': 9054, '2244258': 9055, '2484060': 9056, '2013478': 9057, '1702841': 9058, '772278': 9059, '2151531': 9060, '551984': 9061, '983389': 9062, '1013856': 9063, '655021': 9064, '1489031': 9065, '694745': 9066, '1834123': 9067, '1313129': 9068, '1581343': 9069, '246686': 9070, '220330': 9071, '515114': 9072, '1194356': 9073, '1502997': 9074, '716091': 9075, '332079': 9076, '1797997': 9077, '2357356': 9078, '936928': 9079, '1335658': 9080, '1518964': 9081, '1337026': 9082, '699783': 9083, '340859': 9084, '1673185': 9085, '2358820': 9086, '676812': 9087, '1184388': 9088, '2044991': 9089, '955885': 9090, '799442': 9091, '2482204': 9092, '2218826': 9093, '1649775': 9094, '1452061': 9095, '1076511': 9096, '2283856': 9097, '2037693': 9098, '1123394': 9099, '2172616': 9100, '1512175': 9101, '1921443': 9102, '1020676': 9103, '2503089': 9104, '1531344': 9105, '1205593': 9106, '501211': 9107, '2544637': 9108, '1446054': 9109, '2065445': 9110, '287695': 9111, '96133': 9112, '1701654': 9113, '863302': 9114, '2398373': 9115, '779144': 9116, '1766397': 9117, '2607300': 9118, '2484058': 9119, '1783085': 9120, '315751': 9121, '1789629': 9122, '2611773': 9123, '196494': 9124, '146851': 9125, '776127': 9126, '1522324': 9127, '2226693': 9128, '1076614': 9129, '862592': 9130, '866277': 9131, '1739082': 9132, '1103080': 9133, '2136480': 9134, '2564306': 9135, '1416948': 9136, '656323': 9137, '2252455': 9138, '1132514': 9139, '1955169': 9140, '2568886': 9141, '163951': 9142, '1441624': 9143, '1928964': 9144, '2072858': 9145, '2545523': 9146, '905074': 9147, '1729739': 9148, '2556305': 9149, '458675': 9150, '1684543': 9151, '138391': 9152, '2201286': 9153, '2561151': 9154, '610471': 9155, '1265965': 9156, '184162': 9157, '1840368': 9158, '865391': 9159, '1252460': 9160, '580199': 9161, '1197233': 9162, '2096157': 9163, '1567095': 9164, '1302375': 9165, '332619': 9166, '254097': 9167, '1644255': 9168, '2357186': 9169, '2453706': 9170, '2543978': 9171, '1586546': 9172, '271840': 9173, '1980314': 9174, '1063663': 9175, '457773': 9176, '211010': 9177, '2532654': 9178, '1300582': 9179, '1740238': 9180, '1396299': 9181, '1263008': 9182, '2510262': 9183, '2253124': 9184, '1746056': 9185, '1732859': 9186, '673043': 9187, '2080006': 9188, '1286183': 9189, '2121758': 9190, '2356355': 9191, '359681': 9192, '1324830': 9193, '1161915': 9194, '2634761': 9195, '18108': 9196, '2448620': 9197, '1003967': 9198, '766064': 9199, '342695': 9200, '744698': 9201, '379499': 9202, '2219523': 9203, '1690571': 9204, '19117': 9205, '1588457': 9206, '493842': 9207, '1131695': 9208, '933206': 9209, '912999': 9210, '627975': 9211, '1524964': 9212, '1372229': 9213, '467182': 9214, '1450860': 9215, '1319449': 9216, '78573': 9217, '2445646': 9218, '227463': 9219, '1284109': 9220, '1570077': 9221, '1494268': 9222, '2441175': 9223, '740724': 9224, '378857': 9225, '1960295': 9226, '786127': 9227, '1906808': 9228, '1226073': 9229, '1114349': 9230, '1294583': 9231, '2560328': 9232, '243304': 9233, '1217853': 9234, '1744422': 9235, '1054564': 9236, '1137159': 9237, '1590926': 9238, '914457': 9239, '1534677': 9240, '868118': 9241, '80250': 9242, '1195125': 9243, '2628143': 9244, '1801373': 9245, '2186820': 9246, '1241706': 9247, '2482384': 9248, '1338301': 9249, '2350500': 9250, '1062260': 9251, '392346': 9252, '2231930': 9253, '2398969': 9254, '2105772': 9255, '691983': 9256, '1488926': 9257, '1262782': 9258, '1928532': 9259, '583554': 9260, '2268800': 9261, '26517': 9262, '1722054': 9263, '961541': 9264, '862710': 9265, '2043184': 9266, '845356': 9267, '551943': 9268, '851520': 9269, '360005': 9270, '1854220': 9271, '2102700': 9272, '1851758': 9273, '539868': 9274, '923703': 9275, '476873': 9276, '2184630': 9277, '80176': 9278, '1995099': 9279, '1483731': 9280, '2358238': 9281, '1236924': 9282, '1977128': 9283, '758589': 9284, '514787': 9285, '640455': 9286, '1729432': 9287, '1140387': 9288, '2302374': 9289, '2516265': 9290, '1881328': 9291, '1390264': 9292, '861862': 9293, '2429449': 9294, '1060407': 9295, '1459526': 9296, '247774': 9297, '2046241': 9298, '500249': 9299, '933082': 9300, '79556': 9301, '360264': 9302, '240748': 9303, '1875140': 9304, '438535': 9305, '2141089': 9306, '1298126': 9307, '935151': 9308, '7628': 9309, '1332107': 9310, '1474958': 9311, '1664146': 9312, '2171824': 9313, '959785': 9314, '263031': 9315, '2596179': 9316, '1485312': 9317, '1446909': 9318, '1028890': 9319, '1824353': 9320, '1773858': 9321, '1919975': 9322, '37609': 9323, '1154579': 9324, '1013742': 9325, '2061360': 9326, '2279797': 9327, '2238860': 9328, '1892264': 9329, '1392880': 9330, '2046340': 9331, '721577': 9332, '963962': 9333, '2001447': 9334, '92394': 9335, '660821': 9336, '208972': 9337, '2388128': 9338, '2260472': 9339, '2210272': 9340, '2115291': 9341, '1359730': 9342, '2029766': 9343, '90362': 9344, '150525': 9345, '859826': 9346, '2157509': 9347, '1979488': 9348, '1387521': 9349, '2127497': 9350, '1312501': 9351, '2060260': 9352, '2304247': 9353, '1409469': 9354, '2036299': 9355, '2050233': 9356, '1573062': 9357, '2157606': 9358, '2506660': 9359, '311711': 9360, '920724': 9361, '1825128': 9362, '1394516': 9363, '1670329': 9364, '925611': 9365, '1674777': 9366, '2009400': 9367, '345238': 9368, '1600960': 9369, '2153952': 9370, '1104107': 9371, '2610420': 9372, '1498236': 9373, '479924': 9374, '1908103': 9375, '1742759': 9376, '350294': 9377, '1962305': 9378, '928604': 9379, '45656': 9380, '1955706': 9381, '2339734': 9382, '927240': 9383, '2509644': 9384, '679947': 9385, '1197260': 9386, '1732365': 9387, '1560219': 9388, '998506': 9389, '2200976': 9390, '1124559': 9391, '2079983': 9392, '1747818': 9393, '2119135': 9394, '526568': 9395, '632448': 9396, '907089': 9397, '347686': 9398, '124342': 9399, '956739': 9400, '423270': 9401, '2522960': 9402, '2496561': 9403, '2556603': 9404, '1444509': 9405, '2464924': 9406, '2398656': 9407, '1488460': 9408, '1041638': 9409, '982689': 9410, '2432474': 9411, '2577397': 9412, '970561': 9413, '1321481': 9414, '337434': 9415, '761741': 9416, '2344621': 9417, '1219323': 9418, '573533': 9419, '1098639': 9420, '1644346': 9421, '1716976': 9422, '2427376': 9423, '1719554': 9424, '255357': 9425, '1380302': 9426, '1821560': 9427, '2166365': 9428, '1809912': 9429, '1316252': 9430, '1043885': 9431, '1298187': 9432, '2085599': 9433, '282156': 9434, '305343': 9435, '1177340': 9436, '649017': 9437, '1516834': 9438, '941431': 9439, '1904865': 9440, '2342718': 9441, '2482554': 9442, '2115128': 9443, '342343': 9444, '728560': 9445, '1457991': 9446, '2372364': 9447, '435009': 9448, '2132950': 9449, '1648342': 9450, '1418521': 9451, '758383': 9452, '977533': 9453, '2637948': 9454, '1201932': 9455, '1366162': 9456, '2179596': 9457, '113062': 9458, '2640009': 9459, '2195802': 9460, '595095': 9461, '564403': 9462, '2298301': 9463, '2051135': 9464, '376080': 9465, '1528418': 9466, '1016403': 9467, '732363': 9468, '1892218': 9469, '228194': 9470, '2151845': 9471, '2011405': 9472, '612384': 9473, '1778378': 9474, '1880766': 9475, '2185774': 9476, '2360747': 9477, '2441155': 9478, '3363': 9479, '2182722': 9480, '1606779': 9481, '1889702': 9482, '1447639': 9483, '1730558': 9484, '1542510': 9485, '1010964': 9486, '2015956': 9487, '2251831': 9488, '2001119': 9489, '1379159': 9490, '942523': 9491, '1549225': 9492, '1010288': 9493, '263571': 9494, '1693122': 9495, '1298629': 9496, '2228457': 9497, '487031': 9498, '1265131': 9499, '1150025': 9500, '907023': 9501, '2201566': 9502, '1867384': 9503, '310400': 9504, '2583185': 9505, '864172': 9506, '433641': 9507, '801512': 9508, '1118103': 9509, '2484834': 9510, '681188': 9511, '1049259': 9512, '1521272': 9513, '1178284': 9514, '422485': 9515, '1962325': 9516, '2001263': 9517, '1084964': 9518, '1514667': 9519, '2627366': 9520, '426741': 9521, '2307327': 9522, '1867391': 9523, '670488': 9524, '1911337': 9525, '1379923': 9526, '693771': 9527, '1518289': 9528, '2408399': 9529, '1311480': 9530, '795105': 9531, '1526116': 9532, '128792': 9533, '1157185': 9534, '1476383': 9535, '361189': 9536, '78516': 9537, '1829014': 9538, '2276627': 9539, '1756407': 9540, '278336': 9541, '827478': 9542, '1525786': 9543, '280978': 9544, '50400': 9545, '1653637': 9546, '627935': 9547, '1315370': 9548, '986993': 9549, '1964327': 9550, '1071266': 9551, '2250843': 9552, '1633009': 9553, '1540127': 9554, '74533': 9555, '2012254': 9556, '2136217': 9557, '2491997': 9558, '530014': 9559, '2064713': 9560, '543507': 9561, '759470': 9562, '1606739': 9563, '774749': 9564, '1895059': 9565, '715516': 9566, '1892170': 9567, '757996': 9568, '1352422': 9569, '902047': 9570, '997467': 9571, '1564649': 9572, '139810': 9573, '2606295': 9574, '1315249': 9575, '1578801': 9576, '2426088': 9577, '626531': 9578, '2418200': 9579, '1714066': 9580, '59005': 9581, '2604811': 9582, '2307940': 9583, '2076358': 9584, '1840900': 9585, '1714542': 9586, '1834374': 9587, '16355': 9588, '2266937': 9589, '2064172': 9590, '1142278': 9591, '1727193': 9592, '2594535': 9593, '1001461': 9594, '2271535': 9595, '2141441': 9596, '642551': 9597, '1384691': 9598, '67769': 9599, '767570': 9600, '1996108': 9601, '2405169': 9602, '1566775': 9603, '1769109': 9604, '1397902': 9605, '390062': 9606, '2341389': 9607, '1217933': 9608, '2396898': 9609, '1381258': 9610, '2246826': 9611, '2191675': 9612, '1071438': 9613, '1049239': 9614, '397126': 9615, '460795': 9616, '2332943': 9617, '2022292': 9618, '867925': 9619, '78819': 9620, '2373453': 9621, '2264426': 9622, '119029': 9623, '2226510': 9624, '2411332': 9625, '669659': 9626, '1219960': 9627, '758932': 9628, '1763740': 9629, '431067': 9630, '442813': 9631, '487153': 9632, '2304298': 9633, '2561713': 9634, '621003': 9635, '34669': 9636, '612111': 9637, '2466231': 9638, '732122': 9639, '2295922': 9640, '1019190': 9641, '1774181': 9642, '1969536': 9643, '1238258': 9644, '1877623': 9645, '247474': 9646, '1692007': 9647, '1294790': 9648, '2241486': 9649, '486822': 9650, '599147': 9651, '2527831': 9652, '2254090': 9653, '462857': 9654, '625957': 9655, '1604329': 9656, '1167572': 9657, '1263021': 9658, '1634654': 9659, '607220': 9660, '1701487': 9661, '1314869': 9662, '1527': 9663, '432130': 9664, '2560750': 9665, '2375713': 9666, '1616746': 9667, '1037313': 9668, '294406': 9669, '798402': 9670, '2243703': 9671, '2636398': 9672, '758694': 9673, '426070': 9674, '2495253': 9675, '76249': 9676, '933819': 9677, '772009': 9678, '1825647': 9679, '1444640': 9680, '723135': 9681, '1229067': 9682, '2411855': 9683, '701176': 9684, '2536028': 9685, '1141479': 9686, '398215': 9687, '1799090': 9688, '244630': 9689, '1443678': 9690, '1424172': 9691, '1862911': 9692, '381518': 9693, '1493361': 9694, '2057611': 9695, '340479': 9696, '961389': 9697, '330866': 9698, '1802288': 9699, '681577': 9700, '2198905': 9701, '1519722': 9702, '189623': 9703, '2556921': 9704, '267231': 9705, '1432524': 9706, '305765': 9707, '838612': 9708, '406359': 9709, '1655778': 9710, '466763': 9711, '760072': 9712, '54325': 9713, '1330841': 9714, '1240130': 9715, '596255': 9716, '962848': 9717, '582815': 9718, '524610': 9719, '1505821': 9720, '705714': 9721, '1258687': 9722, '1965257': 9723, '524841': 9724, '541870': 9725, '1722514': 9726, '543825': 9727, '1560099': 9728, '1602857': 9729, '2128254': 9730, '272854': 9731, '2254919': 9732, '461070': 9733, '915193': 9734, '262134': 9735, '2632429': 9736, '794246': 9737, '1179658': 9738, '2568738': 9739, '509987': 9740, '2455340': 9741, '1677833': 9742, '754724': 9743, '1079644': 9744, '120341': 9745, '938804': 9746, '168108': 9747, '357056': 9748, '648186': 9749, '2597191': 9750, '2322355': 9751, '915959': 9752, '417597': 9753, '2359486': 9754, '1494238': 9755, '1064665': 9756, '394409': 9757, '1190685': 9758, '985414': 9759, '829708': 9760, '743636': 9761, '2253953': 9762, '1847613': 9763, '1094010': 9764, '1887046': 9765, '921502': 9766, '577674': 9767, '150663': 9768, '124598': 9769, '370806': 9770, '2451667': 9771, '117581': 9772, '2376801': 9773, '1487349': 9774, '1557208': 9775, '497052': 9776, '586636': 9777, '688057': 9778, '1769920': 9779, '1805874': 9780, '858942': 9781, '2007573': 9782, '834682': 9783, '901269': 9784, '353477': 9785, '344216': 9786, '922922': 9787, '2455567': 9788, '722678': 9789, '78922': 9790, '492993': 9791, '1879369': 9792, '2100574': 9793, '2637974': 9794, '1801490': 9795, '1754537': 9796, '2221416': 9797, '1007577': 9798, '408284': 9799, '1974838': 9800, '2633486': 9801, '2112383': 9802, '1597177': 9803, '2212144': 9804, '1217897': 9805, '2232616': 9806, '1483639': 9807, '1371451': 9808, '1022653': 9809, '1538396': 9810, '2473258': 9811, '774602': 9812, '974174': 9813, '2437552': 9814, '512995': 9815, '741852': 9816, '844049': 9817, '1213950': 9818, '1737529': 9819, '2640626': 9820, '680979': 9821, '918708': 9822, '2573624': 9823, '2446442': 9824, '1148933': 9825, '1652478': 9826, '329751': 9827, '291914': 9828, '2254872': 9829, '1056078': 9830, '2394335': 9831, '2143486': 9832, '2502988': 9833, '858298': 9834, '710421': 9835, '641754': 9836, '1599873': 9837, '590368': 9838, '535886': 9839, '2415534': 9840, '691808': 9841, '614137': 9842, '389581': 9843, '2101713': 9844, '1819758': 9845, '2522005': 9846, '774717': 9847, '1084538': 9848, '450020': 9849, '5652': 9850, '1562593': 9851, '2070798': 9852, '1844636': 9853, '2210909': 9854, '1614714': 9855, '2255880': 9856, '646323': 9857, '1313714': 9858, '1692897': 9859, '196027': 9860, '1857889': 9861, '436122': 9862, '986502': 9863, '2518289': 9864, '964916': 9865, '863081': 9866, '320939': 9867, '1429738': 9868, '943920': 9869, '295393': 9870, '2216721': 9871, '978734': 9872, '2133136': 9873, '2274004': 9874, '1162743': 9875, '2256731': 9876, '742770': 9877, '1871337': 9878, '1099002': 9879, '157667': 9880, '1344228': 9881, '1158424': 9882, '746419': 9883, '1040741': 9884, '931475': 9885, '1470972': 9886, '36822': 9887, '739313': 9888, '924192': 9889, '2522393': 9890, '1894519': 9891, '669035': 9892, '366809': 9893, '1694750': 9894, '1379722': 9895, '2591198': 9896, '1706645': 9897, '1415903': 9898, '1831361': 9899, '541376': 9900, '802876': 9901, '1170093': 9902, '659029': 9903, '225527': 9904, '1800377': 9905, '2196426': 9906, '32754': 9907, '760733': 9908, '502406': 9909, '626050': 9910, '2376306': 9911, '823101': 9912, '958687': 9913, '2347320': 9914, '2147714': 9915, '1854660': 9916, '668106': 9917, '1423310': 9918, '83992': 9919, '530860': 9920, '345083': 9921, '1552183': 9922, '2004274': 9923, '1872709': 9924, '2179833': 9925, '1777614': 9926, '1439097': 9927, '251613': 9928, '2597040': 9929, '1163442': 9930, '1048813': 9931, '1433792': 9932, '108891': 9933, '1020583': 9934, '1154874': 9935, '2331318': 9936, '328646': 9937, '1096353': 9938, '527134': 9939, '1055714': 9940, '962537': 9941, '981582': 9942, '929756': 9943, '193303': 9944, '1461334': 9945, '248801': 9946, '1432885': 9947, '2311304': 9948, '1903900': 9949, '1890847': 9950, '764126': 9951, '2552618': 9952, '2502299': 9953, '91979': 9954, '1491583': 9955, '2510433': 9956, '1511623': 9957, '1772901': 9958, '668065': 9959, '2223102': 9960, '271435': 9961, '1626727': 9962, '867068': 9963, '2015182': 9964, '1160858': 9965, '2256295': 9966, '1806446': 9967, '188809': 9968, '161013': 9969, '2397454': 9970, '1181676': 9971, '2060522': 9972, '736652': 9973, '1553270': 9974, '2509976': 9975, '1388746': 9976, '2520364': 9977, '1596727': 9978, '2387734': 9979, '518123': 9980, '2388820': 9981, '1720731': 9982, '946102': 9983, '382773': 9984, '2222815': 9985, '2591003': 9986, '1296679': 9987, '1933255': 9988, '328516': 9989, '1854226': 9990, '21983': 9991, '1462488': 9992, '892029': 9993, '310101': 9994, '1201678': 9995, '333277': 9996, '2238574': 9997, '1690104': 9998, '1327885': 9999, '1182342': 10000, '2291457': 10001, '2158545': 10002, '1721447': 10003, '193560': 10004, '2507646': 10005, '1358681': 10006, '2491226': 10007, '638004': 10008, '29185': 10009, '345704': 10010, '479148': 10011, '411705': 10012, '2209986': 10013, '2109155': 10014, '1507727': 10015, '264772': 10016, '486258': 10017, '41422': 10018, '2514202': 10019, '517441': 10020, '1792263': 10021, '1266708': 10022, '2095922': 10023, '830181': 10024, '314057': 10025, '834267': 10026, '236873': 10027, '516192': 10028, '1393946': 10029, '1771252': 10030, '316931': 10031, '1926967': 10032, '2167210': 10033, '280621': 10034, '1326886': 10035, '2315404': 10036, '651129': 10037, '1594535': 10038, '244994': 10039, '1059719': 10040, '2281685': 10041, '427923': 10042, '388122': 10043, '978567': 10044, '1407299': 10045, '309424': 10046, '1686713': 10047, '101564': 10048, '650517': 10049, '1303962': 10050, '2286380': 10051, '2336531': 10052, '2490151': 10053, '2338841': 10054, '56854': 10055, '883684': 10056, '1282507': 10057, '1071084': 10058, '775785': 10059, '1662193': 10060, '1225682': 10061, '16786': 10062, '2161158': 10063, '1737862': 10064, '684850': 10065, '447516': 10066, '2420083': 10067, '2517390': 10068, '2130859': 10069, '70483': 10070, '581948': 10071, '178113': 10072, '383404': 10073, '1651874': 10074, '2510054': 10075, '390751': 10076, '2264796': 10077, '1728944': 10078, '1347523': 10079, '1646449': 10080, '752492': 10081, '748777': 10082, '2234134': 10083, '2025153': 10084, '2178055': 10085, '2034589': 10086, '1688176': 10087, '1932640': 10088, '530000': 10089, '1710035': 10090, '2644945': 10091, '1020314': 10092, '2303820': 10093, '1091467': 10094, '1015802': 10095, '2334279': 10096, '2560583': 10097, '27349': 10098, '140498': 10099, '2021814': 10100, '1351112': 10101, '420622': 10102, '1329110': 10103, '1013793': 10104, '2630337': 10105, '1431311': 10106, '2252502': 10107, '1538659': 10108, '1176119': 10109, '1750020': 10110, '697038': 10111, '1300982': 10112, '2378112': 10113, '2393632': 10114, '1848868': 10115, '1581139': 10116, '1254945': 10117, '2131774': 10118, '1191362': 10119, '2410362': 10120, '1491312': 10121, '2553792': 10122, '2113596': 10123, '2397374': 10124, '513501': 10125, '2334642': 10126, '1711470': 10127, '2568360': 10128, '2490049': 10129, '1734105': 10130, '904391': 10131, '1023470': 10132, '2319442': 10133, '742589': 10134, '115183': 10135, '1320587': 10136, '768176': 10137, '2201507': 10138, '2563582': 10139, '1470890': 10140, '322878': 10141, '2077104': 10142, '2608886': 10143, '2347696': 10144, '743611': 10145, '1717654': 10146, '2054186': 10147, '2355940': 10148, '350145': 10149, '2370967': 10150, '117386': 10151, '1041130': 10152, '1106198': 10153, '1275790': 10154, '173337': 10155, '729432': 10156, '1722153': 10157, '2604473': 10158, '1522766': 10159, '507094': 10160, '39809': 10161, '1919197': 10162, '2282493': 10163, '1475409': 10164, '534960': 10165, '2104114': 10166, '6544': 10167, '2097548': 10168, '35036': 10169, '1171469': 10170, '619690': 10171, '1136172': 10172, '2246923': 10173, '2218269': 10174, '612653': 10175, '1906305': 10176, '2068042': 10177, '1384113': 10178, '1952860': 10179, '431487': 10180, '1076515': 10181, '2135038': 10182, '1389127': 10183, '525354': 10184, '753195': 10185, '1520179': 10186, '2102685': 10187, '2444710': 10188, '677314': 10189, '1160224': 10190, '2056855': 10191, '2119724': 10192, '2059267': 10193, '735850': 10194, '1176077': 10195, '385743': 10196, '1482497': 10197, '2274199': 10198, '2084726': 10199, '1999342': 10200, '376047': 10201, '676123': 10202, '2277114': 10203, '2225': 10204, '1160772': 10205, '2640550': 10206, '2578120': 10207, '2571885': 10208, '2133551': 10209, '1936844': 10210, '1486851': 10211, '1563245': 10212, '2459804': 10213, '859354': 10214, '646676': 10215, '124237': 10216, '858574': 10217, '96124': 10218, '2305706': 10219, '1135399': 10220, '146587': 10221, '148371': 10222, '1742740': 10223, '1374515': 10224, '1707099': 10225, '464774': 10226, '676124': 10227, '448155': 10228, '248976': 10229, '937905': 10230, '1160577': 10231, '2153742': 10232, '89248': 10233, '1616870': 10234, '2429565': 10235, '2640656': 10236, '2263041': 10237, '2522148': 10238, '2566731': 10239, '1932884': 10240, '858814': 10241, '1268699': 10242, '1155493': 10243, '2188622': 10244, '671319': 10245, '1640271': 10246, '1574825': 10247, '339616': 10248, '2368488': 10249, '1119242': 10250, '337186': 10251, '1114339': 10252, '125392': 10253, '2147262': 10254, '753231': 10255, '2277086': 10256, '2041252': 10257, '1351211': 10258, '64765': 10259, '8815': 10260, '14690': 10261, '822400': 10262, '1446845': 10263, '2259855': 10264, '1570738': 10265, '1661999': 10266, '224358': 10267, '709755': 10268, '2297199': 10269, '2117911': 10270, '275282': 10271, '2244580': 10272, '1037924': 10273, '139297': 10274, '1049321': 10275, '1280428': 10276, '1564191': 10277, '1765712': 10278, '838950': 10279, '833951': 10280, '324403': 10281, '173086': 10282, '269827': 10283, '975592': 10284, '206453': 10285, '2086904': 10286, '1848938': 10287, '2311233': 10288, '2247667': 10289, '1022671': 10290, '969461': 10291, '482868': 10292, '299370': 10293, '2506246': 10294, '2329139': 10295, '991916': 10296, '785329': 10297, '268592': 10298, '1384585': 10299, '2241291': 10300, '1457728': 10301, '775171': 10302, '264120': 10303, '2288027': 10304, '1637997': 10305, '769162': 10306, '2143764': 10307, '201663': 10308, '1122480': 10309, '508323': 10310, '636724': 10311, '1653464': 10312, '1504229': 10313, '2552144': 10314, '977415': 10315, '1392598': 10316, '266023': 10317, '1244890': 10318, '980393': 10319, '452192': 10320, '1485175': 10321, '1200504': 10322, '91803': 10323, '1581834': 10324, '129798': 10325, '1370842': 10326, '1581512': 10327, '603092': 10328, '309934': 10329, '1456277': 10330, '1706668': 10331, '375341': 10332, '974375': 10333, '856992': 10334, '2427329': 10335, '1946921': 10336, '1258349': 10337, '973443': 10338, '2048785': 10339, '1875225': 10340, '2644238': 10341, '2121810': 10342, '1144870': 10343, '2614562': 10344, '1115010': 10345, '1141912': 10346, '351002': 10347, '1918910': 10348, '1295898': 10349, '1687095': 10350, '1679741': 10351, '609908': 10352, '946380': 10353, '482971': 10354, '617603': 10355, '2537543': 10356, '892545': 10357, '1204018': 10358, '2124931': 10359, '979169': 10360, '2567682': 10361, '2295321': 10362, '1506186': 10363, '263643': 10364, '2438675': 10365, '1318179': 10366, '466151': 10367, '1521076': 10368, '482328': 10369, '82457': 10370, '123616': 10371, '660945': 10372, '2048340': 10373, '1570292': 10374, '1015048': 10375, '1423249': 10376, '582504': 10377, '1749925': 10378, '2375058': 10379, '1713587': 10380, '550659': 10381, '224933': 10382, '237672': 10383, '2591450': 10384, '2390188': 10385, '705075': 10386, '1235018': 10387, '65286': 10388, '1488719': 10389, '401315': 10390, '1166323': 10391, '2314956': 10392, '1240794': 10393, '1561764': 10394, '432983': 10395, '1767952': 10396, '1024350': 10397, '1501056': 10398, '931664': 10399, '1664442': 10400, '1827937': 10401, '1458854': 10402, '1595389': 10403, '2456207': 10404, '634236': 10405, '299218': 10406, '1242327': 10407, '1457172': 10408, '2441830': 10409, '2024230': 10410, '1270565': 10411, '1879665': 10412, '1512017': 10413, '2615035': 10414, '1799922': 10415, '2226525': 10416, '2406002': 10417, '1640731': 10418, '1910620': 10419, '599407': 10420, '2645476': 10421, '1821474': 10422, '498716': 10423, '57012': 10424, '2127829': 10425, '1173994': 10426, '668236': 10427, '188769': 10428, '2268019': 10429, '2596383': 10430, '1444057': 10431, '2222177': 10432, '2130756': 10433, '1720513': 10434, '2261465': 10435, '2142405': 10436, '1495055': 10437, '942771': 10438, '2254664': 10439, '2278535': 10440, '199673': 10441, '1190094': 10442, '2330528': 10443, '2422250': 10444, '74320': 10445, '1189649': 10446, '133060': 10447, '936113': 10448, '2203809': 10449, '1932079': 10450, '2556923': 10451, '2429230': 10452, '1869926': 10453, '2080195': 10454, '981953': 10455, '1193468': 10456, '1070197': 10457, '2609677': 10458, '2554942': 10459, '2582726': 10460, '1465103': 10461, '1929765': 10462, '2100359': 10463, '1602984': 10464, '1167439': 10465, '2172013': 10466, '2314733': 10467, '874700': 10468, '1992642': 10469, '202114': 10470, '622462': 10471, '2572942': 10472, '1645514': 10473, '1851400': 10474, '2243435': 10475, '1403217': 10476, '352684': 10477, '2536547': 10478, '1047298': 10479, '1126516': 10480, '2252640': 10481, '1466323': 10482, '1243196': 10483, '1079964': 10484, '1621374': 10485, '1455446': 10486, '299489': 10487, '1171523': 10488, '1312904': 10489, '2035310': 10490, '1586148': 10491, '992739': 10492, '739683': 10493, '201085': 10494, '1264935': 10495, '969495': 10496, '279960': 10497, '2510970': 10498, '48285': 10499, '1345929': 10500, '1796943': 10501, '2142230': 10502, '1820313': 10503, '1731527': 10504, '917008': 10505, '2639115': 10506, '789969': 10507, '1983891': 10508, '2254385': 10509, '2332894': 10510, '341814': 10511, '1009097': 10512, '1977925': 10513, '1256482': 10514, '2528792': 10515, '778246': 10516, '2509631': 10517, '889674': 10518, '2465337': 10519, '1103178': 10520, '1284036': 10521, '1710658': 10522, '2090902': 10523, '2145441': 10524, '2636989': 10525, '247660': 10526, '637266': 10527, '76444': 10528, '1132764': 10529, '2328511': 10530, '484675': 10531, '2385963': 10532, '1530363': 10533, '420191': 10534, '582768': 10535, '1576405': 10536, '2205703': 10537, '1835026': 10538, '2400924': 10539, '1220185': 10540, '1973951': 10541, '679390': 10542, '1112372': 10543, '1810235': 10544, '2426691': 10545, '2563596': 10546, '2498949': 10547, '525597': 10548, '1448959': 10549, '1599231': 10550, '946014': 10551, '2079636': 10552, '2625065': 10553, '1867238': 10554, '1135948': 10555, '700019': 10556, '1799009': 10557, '1914525': 10558, '913581': 10559, '206152': 10560, '2384070': 10561, '442485': 10562, '2287125': 10563, '519520': 10564, '1007809': 10565, '2043339': 10566, '923631': 10567, '57332': 10568, '1200256': 10569, '991671': 10570, '432405': 10571, '2396089': 10572, '1157850': 10573, '1291455': 10574, '231721': 10575, '2345195': 10576, '931384': 10577, '885386': 10578, '528423': 10579, '410753': 10580, '426362': 10581, '125903': 10582, '629234': 10583, '350009': 10584, '2220847': 10585, '563186': 10586, '827805': 10587, '264234': 10588, '378364': 10589, '1475970': 10590, '1729139': 10591, '2556523': 10592, '42416': 10593, '152063': 10594, '1339269': 10595, '1523169': 10596, '403531': 10597, '990036': 10598, '765766': 10599, '1275277': 10600, '707496': 10601, '982709': 10602, '680273': 10603, '1753346': 10604, '871698': 10605, '1984358': 10606, '891800': 10607, '307505': 10608, '1324460': 10609, '2095882': 10610, '29236': 10611, '2095812': 10612, '681701': 10613, '1722413': 10614, '1764804': 10615, '836233': 10616, '757756': 10617, '315894': 10618, '1008399': 10619, '32885': 10620, '583344': 10621, '1759398': 10622, '1085469': 10623, '1763645': 10624, '128611': 10625, '2145206': 10626, '1189241': 10627, '216312': 10628, '1616135': 10629, '1210427': 10630, '326912': 10631, '363169': 10632, '826409': 10633, '1066819': 10634, '77225': 10635, '2057826': 10636, '1305271': 10637, '2221951': 10638, '2075828': 10639, '2132252': 10640, '110989': 10641, '1608066': 10642, '1788268': 10643, '469137': 10644, '957716': 10645, '162303': 10646, '2370740': 10647, '1948804': 10648, '1563698': 10649, '1077945': 10650, '728123': 10651, '208113': 10652, '1680230': 10653, '1028987': 10654, '1310542': 10655, '1614636': 10656, '1468812': 10657, '83858': 10658, '664683': 10659, '2284110': 10660, '2440242': 10661, '2029743': 10662, '2561682': 10663, '596550': 10664, '1441546': 10665, '1003201': 10666, '1704412': 10667, '481668': 10668, '2624128': 10669, '359343': 10670, '2079894': 10671, '1120476': 10672, '295135': 10673, '2319365': 10674, '618571': 10675, '1538864': 10676, '223803': 10677, '634569': 10678, '831988': 10679, '1204809': 10680, '2156074': 10681, '2020033': 10682, '2055639': 10683, '2153721': 10684, '19970': 10685, '982098': 10686, '1275651': 10687, '1769444': 10688, '1902140': 10689, '128389': 10690, '1168789': 10691, '1447828': 10692, '211233': 10693, '1317457': 10694, '1202664': 10695, '827526': 10696, '278882': 10697, '833998': 10698, '2492047': 10699, '436806': 10700, '624035': 10701, '2083947': 10702, '2084925': 10703, '2262258': 10704, '2223369': 10705, '1755455': 10706, '1532399': 10707, '2501249': 10708, '326356': 10709, '1602924': 10710, '2200358': 10711, '331430': 10712, '1667347': 10713, '148242': 10714, '1245081': 10715, '2217027': 10716, '1089687': 10717, '1376350': 10718, '2265054': 10719, '1526640': 10720, '914155': 10721, '1095409': 10722, '483361': 10723, '2421283': 10724, '172575': 10725, '2318245': 10726, '1453309': 10727, '199769': 10728, '1698887': 10729, '354023': 10730, '653059': 10731, '745235': 10732, '464478': 10733, '1856275': 10734, '1137186': 10735, '349653': 10736, '2645828': 10737, '2573464': 10738, '1521233': 10739, '1635582': 10740, '1213299': 10741, '1192843': 10742, '1649513': 10743, '1306304': 10744, '2152668': 10745, '297742': 10746, '1435252': 10747, '541822': 10748, '277837': 10749, '2451907': 10750, '2396806': 10751, '142115': 10752, '1079448': 10753, '1578952': 10754, '696845': 10755, '125296': 10756, '356911': 10757, '1277996': 10758, '2204444': 10759, '18907': 10760, '1074677': 10761, '1629574': 10762, '554171': 10763, '308308': 10764, '768810': 10765, '807237': 10766, '2181739': 10767, '865481': 10768, '2124351': 10769, '875404': 10770, '1024806': 10771, '1287727': 10772, '605082': 10773, '2045846': 10774, '2225743': 10775, '2274452': 10776, '2205998': 10777, '2258880': 10778, '1272379': 10779, '1130380': 10780, '1040587': 10781, '1151483': 10782, '2166362': 10783, '562361': 10784, '770133': 10785, '863285': 10786, '2450378': 10787, '841091': 10788, '860836': 10789, '2086515': 10790, '1926651': 10791, '2068218': 10792, '465571': 10793, '1143510': 10794, '551176': 10795, '2333948': 10796, '1216843': 10797, '1490775': 10798, '2356622': 10799, '98676': 10800, '790471': 10801, '1201695': 10802, '2464456': 10803, '1640519': 10804, '2389729': 10805, '717137': 10806, '1147585': 10807, '1069088': 10808, '1863664': 10809, '2021271': 10810, '1601857': 10811, '2455107': 10812, '2094579': 10813, '446606': 10814, '1570397': 10815, '1679999': 10816, '1437948': 10817, '2397231': 10818, '2030523': 10819, '33758': 10820, '1075030': 10821, '2298725': 10822, '636451': 10823, '2435015': 10824, '99750': 10825, '1082263': 10826, '1599850': 10827, '907760': 10828, '2631660': 10829, '297554': 10830, '715339': 10831, '1562632': 10832, '2126168': 10833, '2019083': 10834, '1091251': 10835, '779760': 10836, '1255070': 10837, '134068': 10838, '687573': 10839, '2455789': 10840, '1339451': 10841, '1545694': 10842, '738725': 10843, '1479653': 10844, '1198962': 10845, '2507653': 10846, '2271389': 10847, '1146551': 10848, '479636': 10849, '2491918': 10850, '795380': 10851, '2553056': 10852, '2289956': 10853, '1920218': 10854, '2382354': 10855, '1440126': 10856, '2621846': 10857, '2336005': 10858, '2359428': 10859, '1441442': 10860, '328364': 10861, '2020448': 10862, '2424335': 10863, '520374': 10864, '411512': 10865, '259431': 10866, '1089664': 10867, '521562': 10868, '994458': 10869, '571810': 10870, '2534215': 10871, '991649': 10872, '2414149': 10873, '2269029': 10874, '801884': 10875, '2554860': 10876, '1591572': 10877, '2595747': 10878, '1740297': 10879, '1108004': 10880, '797038': 10881, '2170243': 10882, '2398923': 10883, '875956': 10884, '2227576': 10885, '453239': 10886, '1315654': 10887, '425179': 10888, '436424': 10889, '847232': 10890, '1221349': 10891, '256057': 10892, '2636678': 10893, '2308436': 10894, '1588506': 10895, '2204336': 10896, '1002780': 10897, '831103': 10898, '1574646': 10899, '1818981': 10900, '2223604': 10901, '1843135': 10902, '549534': 10903, '1385788': 10904, '2000237': 10905, '2239209': 10906, '1502195': 10907, '1781536': 10908, '1014165': 10909, '1811259': 10910, '70950': 10911, '1049332': 10912, '2550101': 10913, '1182116': 10914, '1397082': 10915, '493587': 10916, '2338809': 10917, '2180413': 10918, '1448369': 10919, '31259': 10920, '1085738': 10921, '827240': 10922, '1277678': 10923, '68979': 10924, '904842': 10925, '2051376': 10926, '2472440': 10927, '5980': 10928, '2394097': 10929, '2198443': 10930, '1981733': 10931, '1525381': 10932, '1225628': 10933, '1771587': 10934, '2534532': 10935, '428688': 10936, '1191417': 10937, '117112': 10938, '1140172': 10939, '2031435': 10940, '2376898': 10941, '1157288': 10942, '1170335': 10943, '2420505': 10944, '42487': 10945, '652121': 10946, '2516156': 10947, '1425723': 10948, '1746949': 10949, '1016510': 10950, '1796588': 10951, '1032165': 10952, '530763': 10953, '39968': 10954, '160092': 10955, '1546588': 10956, '2631102': 10957, '50075': 10958, '475645': 10959, '864618': 10960, '170446': 10961, '721369': 10962, '2204746': 10963, '1387388': 10964, '2633545': 10965, '1037713': 10966, '1236929': 10967, '2412874': 10968, '1774825': 10969, '778615': 10970, '2074594': 10971, '224457': 10972, '671338': 10973, '275687': 10974, '2023883': 10975, '2509303': 10976, '1626390': 10977, '2301570': 10978, '249241': 10979, '2379827': 10980, '566325': 10981, '801495': 10982, '1793274': 10983, '2055615': 10984, '1139937': 10985, '1975681': 10986, '943314': 10987, '340492': 10988, '1667019': 10989, '1386516': 10990, '2228502': 10991, '2635011': 10992, '1647714': 10993, '2096501': 10994, '2252432': 10995, '1855673': 10996, '177978': 10997, '741851': 10998, '80445': 10999, '897124': 11000, '646427': 11001, '2503887': 11002, '939816': 11003, '1618998': 11004, '1885718': 11005, '124728': 11006, '1036991': 11007, '817616': 11008, '109285': 11009, '1364878': 11010, '2616470': 11011, '52029': 11012, '2283630': 11013, '86365': 11014, '404654': 11015, '10897': 11016, '1859358': 11017, '276813': 11018, '363980': 11019, '437371': 11020, '1418058': 11021, '2203834': 11022, '719170': 11023, '484407': 11024, '553787': 11025, '1758120': 11026, '2160024': 11027, '1251910': 11028, '1329474': 11029, '2321435': 11030, '200713': 11031, '421433': 11032, '888488': 11033, '516686': 11034, '276272': 11035, '2283398': 11036, '1469603': 11037, '2177576': 11038, '2260480': 11039, '444566': 11040, '1909349': 11041, '946972': 11042, '1123870': 11043, '1734962': 11044, '2197473': 11045, '500648': 11046, '2095640': 11047, '106873': 11048, '26210': 11049, '1316924': 11050, '1973956': 11051, '122057': 11052, '841727': 11053, '529356': 11054, '1777474': 11055, '1647020': 11056, '1517054': 11057, '2044807': 11058, '1403432': 11059, '1765193': 11060, '1823245': 11061, '1444777': 11062, '1141606': 11063, '617409': 11064, '472021': 11065, '2643435': 11066, '285925': 11067, '2388250': 11068, '869845': 11069, '1888846': 11070, '2229124': 11071, '743216': 11072, '397596': 11073, '1554725': 11074, '2380197': 11075, '1161691': 11076, '2038137': 11077, '2202057': 11078, '1873315': 11079, '804027': 11080, '2438440': 11081, '1605780': 11082, '1344624': 11083, '1328585': 11084, '1771589': 11085, '341468': 11086, '132511': 11087, '447293': 11088, '680334': 11089, '1955703': 11090, '2258231': 11091, '634268': 11092, '749591': 11093, '2323490': 11094, '1159247': 11095, '2264726': 11096, '916421': 11097, '998104': 11098, '719598': 11099, '611315': 11100, '653164': 11101, '1125075': 11102, '88280': 11103, '236815': 11104, '1375808': 11105, '2646634': 11106, '1145636': 11107, '217619': 11108, '1667288': 11109, '1501028': 11110, '718938': 11111, '1587311': 11112, '2617170': 11113, '1136724': 11114, '975522': 11115, '1515591': 11116, '1569593': 11117, '2246066': 11118, '1333708': 11119, '2468821': 11120, '2509609': 11121, '1443041': 11122, '1135154': 11123, '2288845': 11124, '425394': 11125, '1979921': 11126, '2051278': 11127, '2510709': 11128, '2080822': 11129, '1730369': 11130, '452919': 11131, '1216880': 11132, '1304264': 11133, '1717060': 11134, '1154507': 11135, '675655': 11136, '624145': 11137, '2633797': 11138, '1183553': 11139, '519965': 11140, '1782533': 11141, '817339': 11142, '1176683': 11143, '979155': 11144, '319058': 11145, '1713873': 11146, '2391817': 11147, '359287': 11148, '1709795': 11149, '1697451': 11150, '2111672': 11151, '2449569': 11152, '1658098': 11153, '83756': 11154, '1733406': 11155, '414994': 11156, '831839': 11157, '279944': 11158, '1353855': 11159, '2256485': 11160, '1147251': 11161, '1283346': 11162, '1057021': 11163, '446517': 11164, '1490538': 11165, '1291562': 11166, '17433': 11167, '2590679': 11168, '1401245': 11169, '1586533': 11170, '452784': 11171, '1653320': 11172, '78222': 11173, '441949': 11174, '412439': 11175, '896279': 11176, '51523': 11177, '900455': 11178, '2390353': 11179, '1510728': 11180, '2157611': 11181, '1552084': 11182, '882359': 11183, '1041187': 11184, '1621754': 11185, '933091': 11186, '1793899': 11187, '1122390': 11188, '671896': 11189, '757796': 11190, '1383426': 11191, '2274913': 11192, '1805888': 11193, '2033589': 11194, '818416': 11195, '973622': 11196, '642898': 11197, '2360721': 11198, '490057': 11199, '2023168': 11200, '1784950': 11201, '121324': 11202, '441723': 11203, '2234889': 11204, '2204244': 11205, '33051': 11206, '2433768': 11207, '2045949': 11208, '1788137': 11209, '2118155': 11210, '1048069': 11211, '1951144': 11212, '1547711': 11213, '602053': 11214, '2509840': 11215, '1130133': 11216, '1069347': 11217, '542729': 11218, '873976': 11219, '306466': 11220, '2273316': 11221, '2305266': 11222, '810636': 11223, '328642': 11224, '1295603': 11225, '1394815': 11226, '663880': 11227, '2591832': 11228, '139989': 11229, '821292': 11230, '298689': 11231, '436984': 11232, '1780876': 11233, '1562441': 11234, '1769638': 11235, '2259064': 11236, '398194': 11237, '1332585': 11238, '1950312': 11239, '643372': 11240, '497457': 11241, '728508': 11242, '348646': 11243, '1985504': 11244, '1349433': 11245, '2362017': 11246, '26592': 11247, '1256620': 11248, '209736': 11249, '1420020': 11250, '1793530': 11251, '2139885': 11252, '1406309': 11253, '1457006': 11254, '1189678': 11255, '67813': 11256, '1530118': 11257, '2543825': 11258, '1343679': 11259, '2112235': 11260, '1233877': 11261, '936891': 11262, '708307': 11263, '2242472': 11264, '1953585': 11265, '2154669': 11266, '279265': 11267, '1232103': 11268, '1100906': 11269, '1338932': 11270, '2448892': 11271, '2276962': 11272, '2284214': 11273, '1307002': 11274, '567105': 11275, '2593882': 11276, '910059': 11277, '857478': 11278, '1189210': 11279, '2120968': 11280, '972391': 11281, '2360817': 11282, '1730740': 11283, '480305': 11284, '3321': 11285, '1787357': 11286, '651625': 11287, '1120712': 11288, '1635381': 11289, '1453713': 11290, '296452': 11291, '747077': 11292, '286684': 11293, '1824028': 11294, '992363': 11295, '1329904': 11296, '354344': 11297, '2090477': 11298, '1948369': 11299, '123333': 11300, '2539243': 11301, '911828': 11302, '675468': 11303, '1612996': 11304, '1778955': 11305, '863163': 11306, '139107': 11307, '1323985': 11308, '380894': 11309, '982829': 11310, '1362065': 11311, '1570999': 11312, '1360072': 11313, '2375687': 11314, '1769866': 11315, '1087182': 11316, '46650': 11317, '1621561': 11318, '1898315': 11319, '2548281': 11320, '999528': 11321, '1679462': 11322, '2135531': 11323, '1628552': 11324, '1926199': 11325, '642090': 11326, '1327727': 11327, '719725': 11328, '52263': 11329, '1155797': 11330, '217747': 11331, '1683527': 11332, '1227848': 11333, '2046091': 11334, '606144': 11335, '2235640': 11336, '2078812': 11337, '951682': 11338, '867788': 11339, '64059': 11340, '2209351': 11341, '2618308': 11342, '1162805': 11343, '1359432': 11344, '1215043': 11345, '1626388': 11346, '2116230': 11347, '941600': 11348, '759737': 11349, '188678': 11350, '2129592': 11351, '1299355': 11352, '1845415': 11353, '2370571': 11354, '227076': 11355, '2146536': 11356, '1770828': 11357, '454758': 11358, '1828866': 11359, '127581': 11360, '2329945': 11361, '2179686': 11362, '2010923': 11363, '1638252': 11364, '1788180': 11365, '872591': 11366, '488119': 11367, '2550595': 11368, '550777': 11369, '79141': 11370, '814408': 11371, '979820': 11372, '205371': 11373, '8660': 11374, '198655': 11375, '1574266': 11376, '1044403': 11377, '1242367': 11378, '1751084': 11379, '1755852': 11380, '1167931': 11381, '212729': 11382, '1340285': 11383, '1117923': 11384, '1407227': 11385, '71594': 11386, '1334279': 11387, '2508883': 11388, '1549026': 11389, '1820593': 11390, '2270315': 11391, '626090': 11392, '2482428': 11393, '1434153': 11394, '524390': 11395, '148719': 11396, '1433812': 11397, '392651': 11398, '1335061': 11399, '16029': 11400, '1059771': 11401, '2564688': 11402, '782528': 11403, '2508234': 11404, '74175': 11405, '2429654': 11406, '149359': 11407, '2283320': 11408, '808873': 11409, '1062078': 11410, '2534574': 11411, '227469': 11412, '873713': 11413, '211704': 11414, '1438386': 11415, '2085932': 11416, '1522205': 11417, '2348692': 11418, '1468066': 11419, '2036365': 11420, '1780909': 11421, '1988704': 11422, '1816425': 11423, '1879437': 11424, '2353350': 11425, '1271756': 11426, '198559': 11427, '2319565': 11428, '1521914': 11429, '185372': 11430, '1348148': 11431, '135785': 11432, '1741303': 11433, '431856': 11434, '2234845': 11435, '1579371': 11436, '720350': 11437, '1964514': 11438, '1293845': 11439, '806214': 11440, '2270392': 11441, '1219621': 11442, '2282510': 11443, '1121319': 11444, '713559': 11445, '420266': 11446, '1568841': 11447, '2536922': 11448, '2487603': 11449, '1220431': 11450, '2451020': 11451, '2105661': 11452, '1724541': 11453, '418339': 11454, '795658': 11455, '2203182': 11456, '803605': 11457, '2223033': 11458, '384027': 11459, '516276': 11460, '19938': 11461, '2078018': 11462, '798394': 11463, '2521051': 11464, '1271816': 11465, '2628869': 11466, '1295902': 11467, '276869': 11468, '1303306': 11469, '235782': 11470, '844391': 11471, '64996': 11472, '806188': 11473, '991670': 11474, '863916': 11475, '1614728': 11476, '33711': 11477, '878889': 11478, '246200': 11479, '2085421': 11480, '1966687': 11481, '896927': 11482, '1986937': 11483, '1460561': 11484, '2363390': 11485, '1895929': 11486, '470369': 11487, '1909788': 11488, '858362': 11489, '1116031': 11490, '488551': 11491, '2406602': 11492, '2518550': 11493, '1226877': 11494, '249977': 11495, '2054068': 11496, '1981621': 11497, '1293202': 11498, '1189371': 11499, '1715337': 11500, '97166': 11501, '1087457': 11502, '1611857': 11503, '1580014': 11504, '2616793': 11505, '255879': 11506, '245430': 11507, '2354601': 11508, '1900910': 11509, '242098': 11510, '1355423': 11511, '2264244': 11512, '34408': 11513, '2352463': 11514, '1472689': 11515, '150784': 11516, '1546115': 11517, '1662695': 11518, '1675680': 11519, '1331154': 11520, '1848018': 11521, '648972': 11522, '1905715': 11523, '2106758': 11524, '361407': 11525, '722341': 11526, '2293072': 11527, '688751': 11528, '1258385': 11529, '2346201': 11530, '2154855': 11531, '2625420': 11532, '1279971': 11533, '1224253': 11534, '2448380': 11535, '628380': 11536, '2105288': 11537, '241107': 11538, '2151793': 11539, '1956010': 11540, '939845': 11541, '964730': 11542, '1644680': 11543, '1987806': 11544, '1247452': 11545, '1892529': 11546, '1347033': 11547, '274975': 11548, '430738': 11549, '298126': 11550, '2520513': 11551, '1469999': 11552, '2306038': 11553, '63170': 11554, '2489783': 11555, '93325': 11556, '1295097': 11557, '1112565': 11558, '164845': 11559, '1543837': 11560, '806909': 11561, '970628': 11562, '645838': 11563, '2193323': 11564, '101842': 11565, '1000710': 11566, '654022': 11567, '2555262': 11568, '244718': 11569, '843399': 11570, '588392': 11571, '420703': 11572, '73988': 11573, '2386059': 11574, '344411': 11575, '2126081': 11576, '1536121': 11577, '1135143': 11578, '2398044': 11579, '2606540': 11580, '1661600': 11581, '1449285': 11582, '706076': 11583, '524528': 11584, '1941094': 11585, '2495613': 11586, '1939221': 11587, '516721': 11588, '836701': 11589, '1402224': 11590, '381625': 11591, '366565': 11592, '2645984': 11593, '1857639': 11594, '764317': 11595, '2062763': 11596, '460092': 11597, '306286': 11598, '1842902': 11599, '1690279': 11600, '2622042': 11601, '1863477': 11602, '2151303': 11603, '2260788': 11604, '1278832': 11605, '2506950': 11606, '1766524': 11607, '1135509': 11608, '1708934': 11609, '1655211': 11610, '258170': 11611, '1500112': 11612, '1400206': 11613, '1630967': 11614, '2599262': 11615, '2534701': 11616, '547052': 11617, '991725': 11618, '1589111': 11619, '1434831': 11620, '780253': 11621, '1405096': 11622, '1746736': 11623, '391799': 11624, '1438214': 11625, '550883': 11626, '2532407': 11627, '380878': 11628, '2325737': 11629, '1157302': 11630, '2199237': 11631, '465717': 11632, '970975': 11633, '740649': 11634, '2207798': 11635, '2568149': 11636, '2199685': 11637, '1778851': 11638, '1962947': 11639, '550905': 11640, '2228441': 11641, '2490948': 11642, '1513038': 11643, '1819642': 11644, '2581488': 11645, '1226928': 11646, '14704': 11647, '1515871': 11648, '660871': 11649, '1002453': 11650, '2445183': 11651, '579352': 11652, '977973': 11653, '3998': 11654, '154591': 11655, '1891362': 11656, '704069': 11657, '829401': 11658, '342103': 11659, '1341033': 11660, '1030733': 11661, '2366001': 11662, '1954032': 11663, '813213': 11664, '2320264': 11665, '1315285': 11666, '2217698': 11667, '1731825': 11668, '2203889': 11669, '2341939': 11670, '1763064': 11671, '1518164': 11672, '1642316': 11673, '399971': 11674, '2331293': 11675, '525071': 11676, '1621089': 11677, '654591': 11678, '1431808': 11679, '2365581': 11680, '2101803': 11681, '1230845': 11682, '230154': 11683, '758634': 11684, '789014': 11685, '1163933': 11686, '2178278': 11687, '1803243': 11688, '699566': 11689, '2397057': 11690, '1839219': 11691, '87118': 11692, '926462': 11693, '1258916': 11694, '245825': 11695, '2283695': 11696, '419598': 11697, '221441': 11698, '2128808': 11699, '454519': 11700, '977606': 11701, '1416254': 11702, '244969': 11703, '901684': 11704, '604568': 11705, '2411453': 11706, '779635': 11707, '2072167': 11708, '550615': 11709, '1966750': 11710, '1145003': 11711, '959020': 11712, '2641559': 11713, '1312016': 11714, '2483683': 11715, '2405303': 11716, '541135': 11717, '959714': 11718, '702106': 11719, '1723621': 11720, '178886': 11721, '705770': 11722, '1601656': 11723, '1054239': 11724, '1689683': 11725, '1472025': 11726, '831920': 11727, '1278877': 11728, '1472073': 11729, '1489576': 11730, '2468774': 11731, '1751912': 11732, '579707': 11733, '2185616': 11734, '486152': 11735, '1916277': 11736, '286106': 11737, '73989': 11738, '831346': 11739, '600590': 11740, '1738133': 11741, '1361614': 11742, '2477534': 11743, '775895': 11744, '2046649': 11745, '2162641': 11746, '915103': 11747, '887729': 11748, '2051372': 11749, '431019': 11750, '1900445': 11751, '2481859': 11752, '2347565': 11753, '611049': 11754, '2199270': 11755, '1842511': 11756, '2369453': 11757, '1083131': 11758, '792808': 11759, '2235641': 11760, '91234': 11761, '1951741': 11762, '2152576': 11763, '936760': 11764, '1567202': 11765, '1113485': 11766, '703585': 11767, '2637755': 11768, '2156505': 11769, '2401635': 11770, '2364377': 11771, '593749': 11772, '2087505': 11773, '36104': 11774, '589563': 11775, '100922': 11776, '56298': 11777, '371349': 11778, '825002': 11779, '2365871': 11780, '1140532': 11781, '1859649': 11782, '413885': 11783, '1018379': 11784, '754267': 11785, '1849174': 11786, '2273448': 11787, '1509078': 11788, '1036350': 11789, '5530': 11790, '2158667': 11791, '466192': 11792, '637631': 11793, '860589': 11794, '2075584': 11795, '1504503': 11796, '113654': 11797, '1059789': 11798, '1915014': 11799, '45207': 11800, '438733': 11801, '612634': 11802, '2164462': 11803, '1496865': 11804, '2561536': 11805, '2260008': 11806, '2291535': 11807, '339560': 11808, '2616417': 11809, '731610': 11810, '1933317': 11811, '612823': 11812, '1695098': 11813, '1936617': 11814, '816942': 11815, '1637405': 11816, '559829': 11817, '2616318': 11818, '633722': 11819, '2203225': 11820, '369706': 11821, '240923': 11822, '1218493': 11823, '1176800': 11824, '209024': 11825, '470226': 11826, '927786': 11827, '2234653': 11828, '292049': 11829, '1583129': 11830, '1474282': 11831, '656977': 11832, '317829': 11833, '703996': 11834, '1213386': 11835, '935230': 11836, '2185062': 11837, '943436': 11838, '1772050': 11839, '755163': 11840, '2460470': 11841, '144265': 11842, '819822': 11843, '1132239': 11844, '962564': 11845, '1529851': 11846, '2565487': 11847, '1794722': 11848, '2092244': 11849, '1601558': 11850, '1028078': 11851, '2484001': 11852, '2479857': 11853, '1351706': 11854, '142492': 11855, '1082163': 11856, '178645': 11857, '387829': 11858, '2247242': 11859, '722983': 11860, '2598561': 11861, '2573701': 11862, '1327840': 11863, '874293': 11864, '1436645': 11865, '1006655': 11866, '2510785': 11867, '1214342': 11868, '852400': 11869, '2488386': 11870, '2469': 11871, '1899613': 11872, '2480084': 11873, '2394024': 11874, '650828': 11875, '2486844': 11876, '2648869': 11877, '1429794': 11878, '2097749': 11879, '737081': 11880, '2020353': 11881, '1551042': 11882, '496658': 11883, '2135939': 11884, '1483098': 11885, '1000192': 11886, '351328': 11887, '2049319': 11888, '1692302': 11889, '521153': 11890, '1554241': 11891, '2049057': 11892, '1283137': 11893, '1749706': 11894, '221694': 11895, '2182671': 11896, '1317009': 11897, '678155': 11898, '1435383': 11899, '1058508': 11900, '1318289': 11901, '2025855': 11902, '1510380': 11903, '574843': 11904, '422864': 11905, '1591751': 11906, '1806454': 11907, '894055': 11908, '968242': 11909, '1410175': 11910, '1603694': 11911, '1250231': 11912, '256562': 11913, '1980663': 11914, '252476': 11915, '754953': 11916, '1286689': 11917, '39375': 11918, '2047862': 11919, '1387522': 11920, '2580300': 11921, '1467079': 11922, '446160': 11923, '173930': 11924, '1584985': 11925, '781610': 11926, '1814975': 11927, '2581970': 11928, '493637': 11929, '1999678': 11930, '1769608': 11931, '1413434': 11932, '682963': 11933, '1117062': 11934, '1100528': 11935, '1494162': 11936, '1405888': 11937, '2367301': 11938, '108311': 11939, '130650': 11940, '916412': 11941, '4983': 11942, '1198556': 11943, '2055243': 11944, '669857': 11945, '1593815': 11946, '694692': 11947, '454329': 11948, '338723': 11949, '1970653': 11950, '471462': 11951, '1142130': 11952, '1130826': 11953, '489454': 11954, '2400904': 11955, '2380973': 11956, '1640419': 11957, '383442': 11958, '1779153': 11959, '519020': 11960, '774918': 11961, '1214122': 11962, '212479': 11963, '999504': 11964, '2255950': 11965, '1844442': 11966, '85824': 11967, '2104033': 11968, '2145961': 11969, '181592': 11970, '1385823': 11971, '1476797': 11972, '1403975': 11973, '691210': 11974, '486048': 11975, '429876': 11976, '1270297': 11977, '2040676': 11978, '232984': 11979, '2060858': 11980, '2413875': 11981, '2058978': 11982, '2417957': 11983, '220183': 11984, '35511': 11985, '2586387': 11986, '1664726': 11987, '874253': 11988, '830370': 11989, '1366860': 11990, '402568': 11991, '1535398': 11992, '320474': 11993, '181207': 11994, '2561741': 11995, '1574599': 11996, '2515047': 11997, '1600259': 11998, '1407892': 11999, '2469190': 12000, '1089505': 12001, '28658': 12002, '583086': 12003, '1473033': 12004, '1129897': 12005, '1652711': 12006, '320897': 12007, '1414878': 12008, '157357': 12009, '1953636': 12010, '247446': 12011, '2614568': 12012, '1388216': 12013, '1389844': 12014, '755774': 12015, '1525070': 12016, '2000681': 12017, '1837827': 12018, '1561134': 12019, '1293451': 12020, '863458': 12021, '2422606': 12022, '2530159': 12023, '41724': 12024, '1767388': 12025, '47411': 12026, '135973': 12027, '384255': 12028, '507167': 12029, '508534': 12030, '1690399': 12031, '10374': 12032, '2369316': 12033, '762999': 12034, '1212887': 12035, '1443700': 12036, '1704384': 12037, '1416034': 12038, '2030198': 12039, '2037731': 12040, '239658': 12041, '2532737': 12042, '1703544': 12043, '1003143': 12044, '896753': 12045, '198955': 12046, '827380': 12047, '2325440': 12048, '157711': 12049, '829101': 12050, '272881': 12051, '1762897': 12052, '555136': 12053, '1552015': 12054, '1810074': 12055, '1626829': 12056, '1531342': 12057, '700939': 12058, '468837': 12059, '1489065': 12060, '1592434': 12061, '814013': 12062, '1769834': 12063, '158086': 12064, '1749238': 12065, '1874499': 12066, '133462': 12067, '505967': 12068, '1255348': 12069, '845634': 12070, '1215076': 12071, '565401': 12072, '1434786': 12073, '1346257': 12074, '2099701': 12075, '371806': 12076, '648874': 12077, '2004175': 12078, '1918987': 12079, '1951576': 12080, '2005741': 12081, '536598': 12082, '122019': 12083, '1357667': 12084, '1242585': 12085, '2181518': 12086, '1046467': 12087, '675111': 12088, '2210360': 12089, '586642': 12090, '928463': 12091, '2417066': 12092, '225691': 12093, '1634325': 12094, '952381': 12095, '190286': 12096, '304887': 12097, '663405': 12098, '166980': 12099, '1961021': 12100, '2416168': 12101, '310799': 12102, '2097445': 12103, '230112': 12104, '330314': 12105, '1600629': 12106, '2331863': 12107, '2341304': 12108, '54870': 12109, '637929': 12110, '1546186': 12111, '1009033': 12112, '838868': 12113, '455662': 12114, '446469': 12115, '623709': 12116, '704850': 12117, '84462': 12118, '1369582': 12119, '1367101': 12120, '1719990': 12121, '1756258': 12122, '791775': 12123, '778243': 12124, '2503632': 12125, '2132051': 12126, '795473': 12127, '1246772': 12128, '2340466': 12129, '1485835': 12130, '578869': 12131, '521738': 12132, '2209880': 12133, '668669': 12134, '1553047': 12135, '1415024': 12136, '138426': 12137, '1817069': 12138, '933167': 12139, '2408493': 12140, '2128207': 12141, '2400647': 12142, '1848593': 12143, '958382': 12144, '1440607': 12145, '1296163': 12146, '918735': 12147, '2138831': 12148, '1092521': 12149, '2224673': 12150, '380992': 12151, '1522119': 12152, '2337776': 12153, '269365': 12154, '1448787': 12155, '1807053': 12156, '740562': 12157, '379605': 12158, '1306957': 12159, '1384422': 12160, '1065511': 12161, '1211709': 12162, '1944201': 12163, '976192': 12164, '462011': 12165, '855933': 12166, '1274580': 12167, '142909': 12168, '1643106': 12169, '1092228': 12170, '2299868': 12171, '2504544': 12172, '2167214': 12173, '1108856': 12174, '2121379': 12175, '460376': 12176, '988972': 12177, '206903': 12178, '1897166': 12179, '2431536': 12180, '2440639': 12181, '2284862': 12182, '1867761': 12183, '2166018': 12184, '557167': 12185, '1320864': 12186, '360923': 12187, '780160': 12188, '190197': 12189, '133993': 12190, '884558': 12191, '2562888': 12192, '1361441': 12193, '164532': 12194, '1180066': 12195, '1612915': 12196, '1363820': 12197, '2152856': 12198, '2111071': 12199, '783570': 12200, '1539122': 12201, '16565': 12202, '2614527': 12203, '1318946': 12204, '366160': 12205, '2124342': 12206, '48334': 12207, '204011': 12208, '134784': 12209, '650323': 12210, '1536328': 12211, '1930480': 12212, '1200520': 12213, '409927': 12214, '1840783': 12215, '2447769': 12216, '892252': 12217, '1823782': 12218, '2213581': 12219, '1252392': 12220, '1934293': 12221, '115682': 12222, '1492520': 12223, '1026507': 12224, '1110296': 12225, '292582': 12226, '2464049': 12227, '953043': 12228, '327860': 12229, '2534306': 12230, '400103': 12231, '468584': 12232, '415244': 12233, '898468': 12234, '1771405': 12235, '2353302': 12236, '1254363': 12237, '1400085': 12238, '311027': 12239, '552739': 12240, '1077044': 12241, '1241521': 12242, '1923732': 12243, '2342060': 12244, '245488': 12245, '630964': 12246, '260810': 12247, '881975': 12248, '1169771': 12249, '2555055': 12250, '895935': 12251, '1043112': 12252, '2476251': 12253, '714725': 12254, '947425': 12255, '320177': 12256, '528772': 12257, '53694': 12258, '2387369': 12259, '1532433': 12260, '1010725': 12261, '622453': 12262, '563942': 12263, '1055451': 12264, '542786': 12265, '92056': 12266, '1704966': 12267, '921587': 12268, '1618381': 12269, '2356682': 12270, '1414980': 12271, '796715': 12272, '850499': 12273, '954742': 12274, '411396': 12275, '109831': 12276, '1331862': 12277, '2577654': 12278, '2235548': 12279, '495542': 12280, '566255': 12281, '2180090': 12282, '1968074': 12283, '2390609': 12284, '1215759': 12285, '1872828': 12286, '1353371': 12287, '1102302': 12288, '2263985': 12289, '1326195': 12290, '621880': 12291, '723631': 12292, '1459910': 12293, '313260': 12294, '682697': 12295, '2247938': 12296, '709905': 12297, '647691': 12298, '1186032': 12299, '1824761': 12300, '707875': 12301, '1481171': 12302, '105982': 12303, '346189': 12304, '2589198': 12305, '2039521': 12306, '819621': 12307, '2401493': 12308, '2383662': 12309, '2378317': 12310, '128040': 12311, '592394': 12312, '375199': 12313, '2187741': 12314, '2444953': 12315, '371849': 12316, '1668666': 12317, '193953': 12318, '1736217': 12319, '1241482': 12320, '229439': 12321, '2085613': 12322, '18786': 12323, '707367': 12324, '2143797': 12325, '1206380': 12326, '1539119': 12327, '2527066': 12328, '632347': 12329, '590429': 12330, '876661': 12331, '1654496': 12332, '1826163': 12333, '2143946': 12334, '735018': 12335, '522740': 12336, '1482775': 12337, '899034': 12338, '2273897': 12339, '182445': 12340, '890675': 12341, '1714727': 12342, '874451': 12343, '1210065': 12344, '1897824': 12345, '44434': 12346, '2460659': 12347, '1668072': 12348, '1132093': 12349, '1187678': 12350, '16074': 12351, '318939': 12352, '957447': 12353, '1162556': 12354, '1276999': 12355, '2492121': 12356, '27061': 12357, '1846348': 12358, '2321416': 12359, '2375033': 12360, '2525813': 12361, '2013678': 12362, '1750396': 12363, '1853781': 12364, '1969285': 12365, '1263695': 12366, '2566598': 12367, '1759886': 12368, '1449101': 12369, '876083': 12370, '2202373': 12371, '1371678': 12372, '2343385': 12373, '2061495': 12374, '798524': 12375, '1709076': 12376, '138649': 12377, '1661655': 12378, '2251835': 12379, '1874320': 12380, '831222': 12381, '189887': 12382, '1144168': 12383, '1078536': 12384, '1882093': 12385, '1593194': 12386, '417746': 12387, '1533355': 12388, '2274438': 12389, '296232': 12390, '1714672': 12391, '299165': 12392, '608648': 12393, '2414992': 12394, '614465': 12395, '600160': 12396, '761476': 12397, '2053251': 12398, '217938': 12399, '1952492': 12400, '2190625': 12401, '95194': 12402, '1596876': 12403, '1032488': 12404, '1452537': 12405, '2405561': 12406, '2219287': 12407, '316527': 12408, '1251170': 12409, '1275196': 12410, '761595': 12411, '2001296': 12412, '325210': 12413, '270702': 12414, '2187693': 12415, '2290314': 12416, '1292216': 12417, '20461': 12418, '1486636': 12419, '757828': 12420, '2150751': 12421, '1347912': 12422, '2100684': 12423, '2264371': 12424, '156183': 12425, '1600254': 12426, '2490348': 12427, '2502329': 12428, '556100': 12429, '889036': 12430, '1489900': 12431, '51247': 12432, '2170930': 12433, '2606334': 12434, '1445724': 12435, '2492756': 12436, '1764962': 12437, '2400584': 12438, '1246165': 12439, '2274312': 12440, '349285': 12441, '2300163': 12442, '625300': 12443, '286969': 12444, '2130811': 12445, '1232060': 12446, '1360550': 12447, '659305': 12448, '2637187': 12449, '1379440': 12450, '646392': 12451, '1055289': 12452, '1795018': 12453, '1470710': 12454, '2225817': 12455, '779945': 12456, '2635943': 12457, '962359': 12458, '2501391': 12459, '2615244': 12460, '2294328': 12461, '2426539': 12462, '36212': 12463, '351037': 12464, '165060': 12465, '541295': 12466, '2170295': 12467, '473621': 12468, '151136': 12469, '1646777': 12470, '294948': 12471, '1394988': 12472, '447759': 12473, '367727': 12474, '1823851': 12475, '1456369': 12476, '1293173': 12477, '230252': 12478, '912285': 12479, '414800': 12480, '297453': 12481, '2521396': 12482, '2427272': 12483, '437680': 12484, '1588471': 12485, '1480571': 12486, '189387': 12487, '1272375': 12488, '1932255': 12489, '424947': 12490, '658081': 12491, '873478': 12492, '1268751': 12493, '1410683': 12494, '1961236': 12495, '1156220': 12496, '406090': 12497, '2315211': 12498, '15458': 12499, '1990743': 12500, '1959800': 12501, '216059': 12502, '2590895': 12503, '1029530': 12504, '962098': 12505, '303087': 12506, '1655662': 12507, '965381': 12508, '1325452': 12509, '8757': 12510, '1177636': 12511, '888326': 12512, '1944765': 12513, '780768': 12514, '2237950': 12515, '1539828': 12516, '599328': 12517, '332471': 12518, '726079': 12519, '2479060': 12520, '692235': 12521, '1224275': 12522, '361141': 12523, '919245': 12524, '431116': 12525, '1278941': 12526, '2084213': 12527, '264047': 12528, '1976216': 12529, '1857822': 12530, '1973032': 12531, '104583': 12532, '1413367': 12533, '494440': 12534, '2067462': 12535, '1555238': 12536, '2279366': 12537, '2346853': 12538, '1147641': 12539, '8200': 12540, '2152492': 12541, '2047318': 12542, '1529299': 12543, '2067896': 12544, '1857968': 12545, '2283870': 12546, '1611056': 12547, '681435': 12548, '1022711': 12549, '2413320': 12550, '2151618': 12551, '2598028': 12552, '502758': 12553, '1203779': 12554, '569783': 12555, '325552': 12556, '1158474': 12557, '2553247': 12558, '1561553': 12559, '2223273': 12560, '1695600': 12561, '794040': 12562, '734355': 12563, '1794938': 12564, '1063315': 12565, '199780': 12566, '2211028': 12567, '1926837': 12568, '2365226': 12569, '2494707': 12570, '1251745': 12571, '2539096': 12572, '1326341': 12573, '2370719': 12574, '275803': 12575, '2573207': 12576, '2074629': 12577, '2325667': 12578, '736927': 12579, '2577882': 12580, '1858243': 12581, '324162': 12582, '80697': 12583, '133129': 12584, '1173657': 12585, '1389136': 12586, '573364': 12587, '1945023': 12588, '1914553': 12589, '90821': 12590, '830599': 12591, '566016': 12592, '99847': 12593, '1090771': 12594, '695590': 12595, '2274163': 12596, '2437254': 12597, '1408249': 12598, '162756': 12599, '1269877': 12600, '535765': 12601, '1323236': 12602, '1114801': 12603, '982211': 12604, '2014531': 12605, '1835357': 12606, '328125': 12607, '472083': 12608, '578311': 12609, '715528': 12610, '370904': 12611, '740695': 12612, '499768': 12613, '506155': 12614, '990297': 12615, '2630478': 12616, '355612': 12617, '1963758': 12618, '1602973': 12619, '1517519': 12620, '152244': 12621, '1376266': 12622, '292595': 12623, '2124138': 12624, '581893': 12625, '332300': 12626, '1547701': 12627, '679946': 12628, '369756': 12629, '2419225': 12630, '1073935': 12631, '1370255': 12632, '553078': 12633, '314043': 12634, '905964': 12635, '592951': 12636, '955706': 12637, '1689179': 12638, '1662714': 12639, '1490544': 12640, '1645377': 12641, '1504853': 12642, '2497321': 12643, '24801': 12644, '1461717': 12645, '522942': 12646, '125275': 12647, '673187': 12648, '549262': 12649, '385781': 12650, '1000410': 12651, '2532661': 12652, '2417320': 12653, '2107249': 12654, '335348': 12655, '811817': 12656, '2059898': 12657, '76604': 12658, '1836095': 12659, '1433690': 12660, '2202671': 12661, '2614122': 12662, '359960': 12663, '2512258': 12664, '1288835': 12665, '2183402': 12666, '1529449': 12667, '1227662': 12668, '1457793': 12669, '1168424': 12670, '1899578': 12671, '2117797': 12672, '1911127': 12673, '2022007': 12674, '541557': 12675, '2440322': 12676, '1631617': 12677, '1462208': 12678, '250162': 12679, '2167895': 12680, '184888': 12681, '359063': 12682, '2281769': 12683, '2290732': 12684, '998862': 12685, '1075362': 12686, '1631698': 12687, '789548': 12688, '846859': 12689, '539743': 12690, '2181591': 12691, '2302245': 12692, '656809': 12693, '329653': 12694, '1181880': 12695, '1852206': 12696, '2140707': 12697, '1425274': 12698, '1716938': 12699, '508968': 12700, '942769': 12701, '1096430': 12702, '1946601': 12703, '2137254': 12704, '1389812': 12705, '2025883': 12706, '673526': 12707, '2277171': 12708, '2199837': 12709, '1642040': 12710, '2331421': 12711, '771888': 12712, '1500017': 12713, '2517361': 12714, '1645555': 12715, '719246': 12716, '346937': 12717, '2296718': 12718, '506161': 12719, '364764': 12720, '2263006': 12721, '2155333': 12722, '921320': 12723, '1669465': 12724, '404437': 12725, '563705': 12726, '118137': 12727, '464571': 12728, '617654': 12729, '1764247': 12730, '663488': 12731, '519744': 12732, '85550': 12733, '1455459': 12734, '2576263': 12735, '76916': 12736, '1597367': 12737, '1332684': 12738, '165653': 12739, '942513': 12740, '77708': 12741, '471023': 12742, '1663216': 12743, '556776': 12744, '1142880': 12745, '2136083': 12746, '549094': 12747, '331341': 12748, '650634': 12749, '439078': 12750, '776411': 12751, '748028': 12752, '655111': 12753, '323005': 12754, '1266755': 12755, '1746455': 12756, '2040859': 12757, '1889855': 12758, '1372345': 12759, '1416235': 12760, '116160': 12761, '1964531': 12762, '643058': 12763, '243868': 12764, '1752638': 12765, '207586': 12766, '125569': 12767, '474631': 12768, '1239283': 12769, '71114': 12770, '1997020': 12771, '768911': 12772, '375606': 12773, '2225682': 12774, '1167511': 12775, '1490728': 12776, '533771': 12777, '2260833': 12778, '1662735': 12779, '1374832': 12780, '812339': 12781, '1932270': 12782, '2634028': 12783, '1987360': 12784, '1421402': 12785, '1685077': 12786, '900303': 12787, '1725588': 12788, '1987201': 12789, '1978379': 12790, '270174': 12791, '854201': 12792, '1805448': 12793, '1979787': 12794, '828349': 12795, '1059661': 12796, '380236': 12797, '2174575': 12798, '41701': 12799, '1802972': 12800, '1559797': 12801, '278223': 12802, '1334284': 12803, '851730': 12804, '1655237': 12805, '169949': 12806, '311548': 12807, '1981151': 12808, '1895592': 12809, '1298190': 12810, '410924': 12811, '1146626': 12812, '405351': 12813, '351213': 12814, '1548363': 12815, '2267322': 12816, '675774': 12817, '396140': 12818, '2072798': 12819, '600835': 12820, '1143911': 12821, '1416836': 12822, '920143': 12823, '1916555': 12824, '1522321': 12825, '2420828': 12826, '2130888': 12827, '848872': 12828, '976534': 12829, '1403088': 12830, '256278': 12831, '2343379': 12832, '390112': 12833, '1641063': 12834, '1846387': 12835, '288101': 12836, '984474': 12837, '2048294': 12838, '2444087': 12839, '2396388': 12840, '2593347': 12841, '904015': 12842, '1708823': 12843, '21591': 12844, '1722187': 12845, '2409280': 12846, '1679822': 12847, '1709963': 12848, '2307569': 12849, '300146': 12850, '173755': 12851, '1297347': 12852, '847027': 12853, '2357791': 12854, '1581163': 12855, '2300862': 12856, '685513': 12857, '252124': 12858, '1515117': 12859, '1399335': 12860, '460980': 12861, '555841': 12862, '201254': 12863, '1079722': 12864, '2270041': 12865, '517794': 12866, '1970957': 12867, '129428': 12868, '899799': 12869, '1772651': 12870, '652324': 12871, '266036': 12872, '1782465': 12873, '1221563': 12874, '551388': 12875, '322874': 12876, '1148329': 12877, '1589788': 12878, '1475526': 12879, '1343107': 12880, '1292631': 12881, '386947': 12882, '2279052': 12883, '531396': 12884, '2383405': 12885, '819068': 12886, '1916082': 12887, '2294868': 12888, '1692335': 12889, '2057828': 12890, '2310672': 12891, '2532721': 12892, '1258107': 12893, '1688557': 12894, '1831014': 12895, '1267783': 12896, '911304': 12897, '1421091': 12898, '1434295': 12899, '1078549': 12900, '424202': 12901, '1167962': 12902, '1478291': 12903, '2031645': 12904, '651050': 12905, '823802': 12906, '1928776': 12907, '1527206': 12908, '1258738': 12909, '727242': 12910, '2576537': 12911, '405572': 12912, '735710': 12913, '840419': 12914, '1620983': 12915, '803596': 12916, '56371': 12917, '2058194': 12918, '762260': 12919, '886442': 12920, '363772': 12921, '227295': 12922, '307154': 12923, '1749656': 12924, '687690': 12925, '1734512': 12926, '1075444': 12927, '2601294': 12928, '710933': 12929, '2018759': 12930, '1107217': 12931, '2457662': 12932, '1960129': 12933, '1578594': 12934, '1575462': 12935, '2646207': 12936, '510103': 12937, '1992205': 12938, '1915501': 12939, '2164224': 12940, '1091776': 12941, '1222337': 12942, '2618819': 12943, '2052789': 12944, '2459251': 12945, '454635': 12946, '612275': 12947, '1375610': 12948, '1450747': 12949, '636256': 12950, '475278': 12951, '2494497': 12952, '722798': 12953, '393278': 12954, '651629': 12955, '2119826': 12956, '1921654': 12957, '26124': 12958, '120579': 12959, '1253309': 12960, '931232': 12961, '228820': 12962, '1689922': 12963, '2382512': 12964, '2543090': 12965, '376277': 12966, '1687975': 12967, '2538157': 12968, '973206': 12969, '1604238': 12970, '1964735': 12971, '1114884': 12972, '119510': 12973, '1903337': 12974, '2359103': 12975, '1802979': 12976, '713769': 12977, '555509': 12978, '2230416': 12979, '1181013': 12980, '2645431': 12981, '2352586': 12982, '51086': 12983, '1419935': 12984, '926292': 12985, '39771': 12986, '2512427': 12987, '2631565': 12988, '465167': 12989, '1229656': 12990, '2270830': 12991, '1575876': 12992, '1297529': 12993, '501203': 12994, '2465662': 12995, '2275040': 12996, '2584808': 12997, '776228': 12998, '722591': 12999, '1666957': 13000, '1026246': 13001, '135625': 13002, '199023': 13003, '862644': 13004, '1744656': 13005, '168729': 13006, '918950': 13007, '780579': 13008, '977551': 13009, '682970': 13010, '664443': 13011, '554063': 13012, '1842197': 13013, '1241958': 13014, '1396046': 13015, '2490379': 13016, '1562502': 13017, '914955': 13018, '1582905': 13019, '28338': 13020, '49129': 13021, '2379200': 13022, '153102': 13023, '2292909': 13024, '1149582': 13025, '492513': 13026, '364739': 13027, '685687': 13028, '734544': 13029, '2132002': 13030, '2501295': 13031, '2498386': 13032, '687648': 13033, '204568': 13034, '1400320': 13035, '937603': 13036, '2332556': 13037, '2010849': 13038, '786731': 13039, '1249692': 13040, '51130': 13041, '1389725': 13042, '1367948': 13043, '463834': 13044, '2540418': 13045, '2120864': 13046, '1801709': 13047, '1203445': 13048, '508480': 13049, '1064752': 13050, '2427474': 13051, '743123': 13052, '2554745': 13053, '2101845': 13054, '2408416': 13055, '1782516': 13056, '1029578': 13057, '991263': 13058, '925486': 13059, '1497505': 13060, '846743': 13061, '1445117': 13062, '2358990': 13063, '349181': 13064, '1153750': 13065, '1219858': 13066, '1202193': 13067, '325073': 13068, '915168': 13069, '45392': 13070, '1940324': 13071, '486399': 13072, '779492': 13073, '608204': 13074, '537912': 13075, '1788794': 13076, '1519667': 13077, '887741': 13078, '973137': 13079, '2338794': 13080, '2222874': 13081, '86246': 13082, '970364': 13083, '2438449': 13084, '453217': 13085, '921684': 13086, '1482393': 13087, '1536492': 13088, '822859': 13089, '1066990': 13090, '1627613': 13091, '1119859': 13092, '1674254': 13093, '326804': 13094, '81608': 13095, '850901': 13096, '1993723': 13097, '503179': 13098, '2288023': 13099, '449597': 13100, '1820859': 13101, '1279037': 13102, '110260': 13103, '1258191': 13104, '1701081': 13105, '43816': 13106, '971361': 13107, '410446': 13108, '332466': 13109, '1702389': 13110, '2578830': 13111, '2089924': 13112, '1790918': 13113, '839176': 13114, '2480144': 13115, '1817033': 13116, '1973744': 13117, '1560137': 13118, '1810022': 13119, '642089': 13120, '2194337': 13121, '2162659': 13122, '297100': 13123, '1431636': 13124, '1830763': 13125, '585766': 13126, '2128': 13127, '2461433': 13128, '1606561': 13129, '2091247': 13130, '2423473': 13131, '2037342': 13132, '995925': 13133, '1840194': 13134, '504620': 13135, '1041084': 13136, '707012': 13137, '1727737': 13138, '1707476': 13139, '1377637': 13140, '807361': 13141, '1642678': 13142, '1622150': 13143, '2273034': 13144, '902603': 13145, '2019240': 13146, '91408': 13147, '1127274': 13148, '1645486': 13149, '1427387': 13150, '1191455': 13151, '730016': 13152, '1426220': 13153, '2189638': 13154, '2570496': 13155, '273945': 13156, '2038939': 13157, '126230': 13158, '1345636': 13159, '2109326': 13160, '807890': 13161, '1175090': 13162, '1117838': 13163, '306199': 13164, '1562707': 13165, '840763': 13166, '2010666': 13167, '1448459': 13168, '492394': 13169, '440555': 13170, '1508328': 13171, '1493780': 13172, '266867': 13173, '376992': 13174, '1064540': 13175, '2230286': 13176, '1959049': 13177, '1355138': 13178, '50677': 13179, '1820916': 13180, '837619': 13181, '386953': 13182, '1229372': 13183, '2361520': 13184, '609451': 13185, '2535359': 13186, '2458372': 13187, '1259374': 13188, '1251017': 13189, '1463040': 13190, '273814': 13191, '493009': 13192, '432259': 13193, '1390954': 13194, '1880009': 13195, '1542628': 13196, '1791768': 13197, '2558357': 13198, '1514200': 13199, '1795873': 13200, '1491118': 13201, '149011': 13202, '1480841': 13203, '1902117': 13204, '2070952': 13205, '1629301': 13206, '2286538': 13207, '2401492': 13208, '1483654': 13209, '1653438': 13210, '170248': 13211, '2133849': 13212, '1019660': 13213, '2244394': 13214, '248435': 13215, '2396118': 13216, '2390575': 13217, '2508312': 13218, '1667595': 13219, '2374287': 13220, '2387707': 13221, '879760': 13222, '444169': 13223, '1621315': 13224, '1432767': 13225, '137065': 13226, '700083': 13227, '371300': 13228, '924352': 13229, '1328723': 13230, '1299727': 13231, '1187063': 13232, '2577867': 13233, '1160505': 13234, '1892661': 13235, '2053953': 13236, '1837636': 13237, '1242044': 13238, '1233831': 13239, '132277': 13240, '2447051': 13241, '2122377': 13242, '879912': 13243, '2131287': 13244, '354091': 13245, '1819034': 13246, '1775706': 13247, '1979497': 13248, '647249': 13249, '1372532': 13250, '951800': 13251, '431066': 13252, '71393': 13253, '1826093': 13254, '1372014': 13255, '1446927': 13256, '700373': 13257, '2247406': 13258, '294112': 13259, '1783202': 13260, '2196083': 13261, '179881': 13262, '983674': 13263, '195107': 13264, '1540611': 13265, '1204833': 13266, '2305040': 13267, '1836014': 13268, '580817': 13269, '1063747': 13270, '2648351': 13271, '962384': 13272, '1239496': 13273, '1250989': 13274, '1287575': 13275, '2082318': 13276, '1787269': 13277, '965104': 13278, '2213534': 13279, '2342019': 13280, '319529': 13281, '1739440': 13282, '2186235': 13283, '708507': 13284, '1760637': 13285, '2018894': 13286, '485334': 13287, '445501': 13288, '230917': 13289, '728891': 13290, '1002943': 13291, '1761955': 13292, '2301550': 13293, '819867': 13294, '667145': 13295, '1441086': 13296, '1067376': 13297, '2621129': 13298, '399637': 13299, '440852': 13300, '254222': 13301, '9850': 13302, '481813': 13303, '815953': 13304, '2138857': 13305, '661089': 13306, '2639487': 13307, '1242266': 13308, '2119716': 13309, '1295471': 13310, '2005521': 13311, '1874317': 13312, '1333152': 13313, '409968': 13314, '973538': 13315, '2375581': 13316, '2336502': 13317, '1068821': 13318, '862641': 13319, '414536': 13320, '978309': 13321, '496645': 13322, '1926431': 13323, '2156560': 13324, '447521': 13325, '1725181': 13326, '336239': 13327, '385287': 13328, '1267008': 13329, '1836871': 13330, '1818524': 13331, '389985': 13332, '1775187': 13333, '1562255': 13334, '64120': 13335, '1432623': 13336, '1754507': 13337, '2290352': 13338, '2481504': 13339, '487866': 13340, '1285927': 13341, '2305583': 13342, '394194': 13343, '2471527': 13344, '253785': 13345, '780334': 13346, '300074': 13347, '1739532': 13348, '1892183': 13349, '1874298': 13350, '2444052': 13351, '1720844': 13352, '998865': 13353, '1970257': 13354, '1147370': 13355, '439978': 13356, '504503': 13357, '987295': 13358, '1004453': 13359, '783797': 13360, '1234398': 13361, '654019': 13362, '543824': 13363, '977703': 13364, '1769615': 13365, '1165121': 13366, '730856': 13367, '1228654': 13368, '2603398': 13369, '872882': 13370, '1841991': 13371, '1597207': 13372, '59938': 13373, '1084694': 13374, '1041555': 13375, '2634386': 13376, '1578366': 13377, '560944': 13378, '622830': 13379, '1165490': 13380, '2141105': 13381, '1029633': 13382, '821883': 13383, '1549725': 13384, '2593093': 13385, '616758': 13386, '2506974': 13387, '1259969': 13388, '2217731': 13389, '2157879': 13390, '726339': 13391, '610915': 13392, '2355266': 13393, '2339129': 13394, '1813329': 13395, '2548738': 13396, '2013504': 13397, '2114885': 13398, '1320774': 13399, '1970974': 13400, '581989': 13401, '101554': 13402, '478253': 13403, '2117446': 13404, '175371': 13405, '1663055': 13406, '741840': 13407, '535261': 13408, '1280120': 13409, '912867': 13410, '921732': 13411, '152134': 13412, '1088920': 13413, '1086481': 13414, '612817': 13415, '400876': 13416, '741486': 13417, '547130': 13418, '1577401': 13419, '616548': 13420, '2152707': 13421, '1105158': 13422, '1908523': 13423, '1049467': 13424, '1746599': 13425, '2583580': 13426, '2254502': 13427, '2301393': 13428, '38514': 13429, '72451': 13430, '864068': 13431, '1281460': 13432, '1028541': 13433, '724256': 13434, '899431': 13435, '2142281': 13436, '2384355': 13437, '115691': 13438, '2594574': 13439, '1481961': 13440, '1270144': 13441, '292205': 13442, '598699': 13443, '1637403': 13444, '2187083': 13445, '1323717': 13446, '2504674': 13447, '966375': 13448, '1851867': 13449, '124806': 13450, '1808930': 13451, '282887': 13452, '2213550': 13453, '1294652': 13454, '1257454': 13455, '1622041': 13456, '733409': 13457, '2597326': 13458, '2363249': 13459, '1574597': 13460, '1359882': 13461, '2291750': 13462, '816435': 13463, '476743': 13464, '880271': 13465, '1105686': 13466, '2064889': 13467, '2440605': 13468, '3039': 13469, '477387': 13470, '1387766': 13471, '476098': 13472, '576723': 13473, '1710762': 13474, '281216': 13475, '2430662': 13476, '2071383': 13477, '2622195': 13478, '1777406': 13479, '2330864': 13480, '363192': 13481, '859175': 13482, '402325': 13483, '1173267': 13484, '2642403': 13485, '1407388': 13486, '734722': 13487, '1833897': 13488, '2399157': 13489, '2174688': 13490, '2167628': 13491, '2460374': 13492, '1580834': 13493, '1882379': 13494, '438491': 13495, '2169856': 13496, '2152838': 13497, '1251357': 13498, '1381552': 13499, '2318311': 13500, '1093740': 13501, '375046': 13502, '1476054': 13503, '2189452': 13504, '295182': 13505, '642349': 13506, '986015': 13507, '1365750': 13508, '744631': 13509, '1772538': 13510, '1875533': 13511, '154869': 13512, '2037890': 13513, '2051538': 13514, '1343436': 13515, '2318617': 13516, '2563494': 13517, '1564968': 13518, '122524': 13519, '2506048': 13520, '1899399': 13521, '2361804': 13522, '2596426': 13523, '1756480': 13524, '1282822': 13525, '2286785': 13526, '517532': 13527, '1538439': 13528, '1586695': 13529, '2207031': 13530, '708596': 13531, '2338453': 13532, '1319661': 13533, '1250817': 13534, '1557013': 13535, '2150982': 13536, '773325': 13537, '1823645': 13538, '612690': 13539, '30274': 13540, '1238395': 13541, '170487': 13542, '858899': 13543, '1688076': 13544, '2233293': 13545, '198000': 13546, '2312227': 13547, '576751': 13548, '1621282': 13549, '1153777': 13550, '175746': 13551, '1765381': 13552, '594164': 13553, '989112': 13554, '822193': 13555, '27753': 13556, '2380866': 13557, '1739691': 13558, '860566': 13559, '1658467': 13560, '962779': 13561, '786054': 13562, '569989': 13563, '2018908': 13564, '1048594': 13565, '1080272': 13566, '953653': 13567, '560599': 13568, '402287': 13569, '70565': 13570, '1936582': 13571, '2387526': 13572, '722287': 13573, '129796': 13574, '2015597': 13575, '2513067': 13576, '1906868': 13577, '2156368': 13578, '1742931': 13579, '711263': 13580, '2168178': 13581, '114551': 13582, '844963': 13583, '2384246': 13584, '2182331': 13585, '729894': 13586, '1824021': 13587, '76638': 13588, '1941095': 13589, '1997127': 13590, '125765': 13591, '288282': 13592, '1047641': 13593, '896114': 13594, '136867': 13595, '1022388': 13596, '1593617': 13597, '1941091': 13598, '1865329': 13599, '968808': 13600, '845653': 13601, '761998': 13602, '606698': 13603, '1671302': 13604, '1295263': 13605, '2302840': 13606, '692018': 13607, '2111120': 13608, '528666': 13609, '1020195': 13610, '2473448': 13611, '1650616': 13612, '1730537': 13613, '2475058': 13614, '2397061': 13615, '2456613': 13616, '672349': 13617, '236160': 13618, '2073799': 13619, '1145387': 13620, '520803': 13621, '1014141': 13622, '992670': 13623, '1744593': 13624, '2246428': 13625, '2460025': 13626, '593949': 13627, '1006739': 13628, '2449919': 13629, '1804362': 13630, '2134425': 13631, '2316326': 13632, '2547949': 13633, '1660482': 13634, '1508061': 13635, '895443': 13636, '1724102': 13637, '607775': 13638, '1870288': 13639, '813694': 13640, '2117189': 13641, '748592': 13642, '826184': 13643, '938764': 13644, '793754': 13645, '1341079': 13646, '1880119': 13647, '90682': 13648, '545732': 13649, '2073629': 13650, '1682851': 13651, '1960059': 13652, '41068': 13653, '1274035': 13654, '1341505': 13655, '1671223': 13656, '2291306': 13657, '588623': 13658, '23051': 13659, '735103': 13660, '934923': 13661, '1778714': 13662, '1740800': 13663, '2059751': 13664, '2177507': 13665, '300316': 13666, '2373176': 13667, '1014111': 13668, '1512369': 13669, '1331645': 13670, '200938': 13671, '2331306': 13672, '1342357': 13673, '2563771': 13674, '2400635': 13675, '639257': 13676, '2618484': 13677, '2300174': 13678, '761403': 13679, '1564095': 13680, '2426928': 13681, '1846674': 13682, '2235414': 13683, '311124': 13684, '2559676': 13685, '1234128': 13686, '67258': 13687, '353335': 13688, '341108': 13689, '2557067': 13690, '1089692': 13691, '1569585': 13692, '24344': 13693, '304409': 13694, '935519': 13695, '1111556': 13696, '747497': 13697, '1163477': 13698, '538214': 13699, '2104457': 13700, '2319282': 13701, '806013': 13702, '1446093': 13703, '1999275': 13704, '1454516': 13705, '1736710': 13706, '2402132': 13707, '428070': 13708, '484343': 13709, '2587314': 13710, '2360665': 13711, '2095101': 13712, '781014': 13713, '429045': 13714, '635758': 13715, '1982967': 13716, '954353': 13717, '631747': 13718, '1372915': 13719, '2575825': 13720, '2583029': 13721, '437978': 13722, '596995': 13723, '2289273': 13724, '2002499': 13725, '1698900': 13726, '728626': 13727, '2018010': 13728, '83687': 13729, '926173': 13730, '770469': 13731, '1320374': 13732, '805018': 13733, '360089': 13734, '929327': 13735, '2086130': 13736, '2043195': 13737, '738747': 13738, '451151': 13739, '1620566': 13740, '2276394': 13741, '828287': 13742, '324092': 13743, '2204961': 13744, '601868': 13745, '2564142': 13746, '209200': 13747, '328651': 13748, '584352': 13749, '684876': 13750, '1365319': 13751, '2133545': 13752, '849373': 13753, '2026560': 13754, '1534085': 13755, '2516053': 13756, '1671155': 13757, '2238010': 13758, '1467035': 13759, '251520': 13760, '844451': 13761, '1048939': 13762, '2043109': 13763, '117193': 13764, '222274': 13765, '1459971': 13766, '2375964': 13767, '1896561': 13768, '1191122': 13769, '1575539': 13770, '1629989': 13771, '1328996': 13772, '382224': 13773, '1028480': 13774, '2589230': 13775, '1227773': 13776, '2418634': 13777, '536037': 13778, '156853': 13779, '1321630': 13780, '1571565': 13781, '2246857': 13782, '2476026': 13783, '2641206': 13784, '2602480': 13785, '2308200': 13786, '807327': 13787, '1578807': 13788, '253047': 13789, '1445821': 13790, '954973': 13791, '2261255': 13792, '1234382': 13793, '1553054': 13794, '1009110': 13795, '980993': 13796, '1054416': 13797, '1686464': 13798, '622994': 13799, '432225': 13800, '590239': 13801, '1806750': 13802, '1516350': 13803, '1528606': 13804, '282902': 13805, '2410720': 13806, '152955': 13807, '2067423': 13808, '1137509': 13809, '255378': 13810, '1203646': 13811, '836150': 13812, '705645': 13813, '2548453': 13814, '2551764': 13815, '177104': 13816, '1877676': 13817, '684777': 13818, '1195616': 13819, '2091892': 13820, '1540380': 13821, '2205307': 13822, '2570542': 13823, '153319': 13824, '2249750': 13825, '534508': 13826, '498686': 13827, '244266': 13828, '2247785': 13829, '310948': 13830, '515357': 13831, '884578': 13832, '1265716': 13833, '716577': 13834, '1877934': 13835, '831272': 13836, '803468': 13837, '1949876': 13838, '2050389': 13839, '1667622': 13840, '1305838': 13841, '1674407': 13842, '206356': 13843, '2597335': 13844, '136058': 13845, '1467955': 13846, '934163': 13847, '84208': 13848, '2291170': 13849, '835881': 13850, '767590': 13851, '737905': 13852, '2049139': 13853, '2186857': 13854, '279477': 13855, '1389799': 13856, '712361': 13857, '2354764': 13858, '2025463': 13859, '1470143': 13860, '1082036': 13861, '2069036': 13862, '588956': 13863, '1937311': 13864, '1605513': 13865, '1616215': 13866, '2076863': 13867, '608114': 13868, '1545711': 13869, '1969251': 13870, '1906611': 13871, '13227': 13872, '2205125': 13873, '735560': 13874, '1085127': 13875, '23316': 13876, '725220': 13877, '1108724': 13878, '1617710': 13879, '1299368': 13880, '1021435': 13881, '1925701': 13882, '1330849': 13883, '397929': 13884, '1411511': 13885, '418653': 13886, '862234': 13887, '35580': 13888, '300136': 13889, '1999791': 13890, '71765': 13891, '2498082': 13892, '2228058': 13893, '2197373': 13894, '484044': 13895, '2112141': 13896, '2020877': 13897, '122188': 13898, '1230390': 13899, '2196246': 13900, '2555614': 13901, '1979447': 13902, '150869': 13903, '1815101': 13904, '581952': 13905, '1886161': 13906, '529687': 13907, '1602649': 13908, '2026787': 13909, '2376396': 13910, '1460800': 13911, '1621025': 13912, '2108079': 13913, '1931026': 13914, '2273385': 13915, '859384': 13916, '2320222': 13917, '1193636': 13918, '596185': 13919, '1909219': 13920, '2423154': 13921, '2643695': 13922, '1893554': 13923, '1543171': 13924, '1181331': 13925, '704089': 13926, '866000': 13927, '902413': 13928, '2590072': 13929, '518327': 13930, '1834021': 13931, '1706987': 13932, '171839': 13933, '2214803': 13934, '1801389': 13935, '2140917': 13936, '1210948': 13937, '982661': 13938, '1390282': 13939, '2337133': 13940, '45018': 13941, '832894': 13942, '2248484': 13943, '1908728': 13944, '2186779': 13945, '2288496': 13946, '13197': 13947, '1096119': 13948, '1466086': 13949, '2519993': 13950, '303270': 13951, '1290442': 13952, '169854': 13953, '2602886': 13954, '2093590': 13955, '2337494': 13956, '1347991': 13957, '1458218': 13958, '1352912': 13959, '1935445': 13960, '2158747': 13961, '771641': 13962, '302223': 13963, '2060403': 13964, '2537401': 13965, '1968161': 13966, '1921845': 13967, '1753201': 13968, '1509801': 13969, '1725751': 13970, '561733': 13971, '1921706': 13972, '731685': 13973, '1083543': 13974, '2375380': 13975, '79799': 13976, '2028283': 13977, '569271': 13978, '2331843': 13979, '832661': 13980, '496887': 13981, '1522015': 13982, '1642259': 13983, '1381683': 13984, '998236': 13985, '2212071': 13986, '1293001': 13987, '2173196': 13988, '1456376': 13989, '8212': 13990, '519891': 13991, '258675': 13992, '2402945': 13993, '1293986': 13994, '803610': 13995, '984786': 13996, '2513157': 13997, '1682087': 13998, '1790831': 13999, '1806146': 14000, '1435891': 14001, '262410': 14002, '1485959': 14003, '1605711': 14004, '1109700': 14005, '2300312': 14006, '384245': 14007, '2559719': 14008, '1930443': 14009, '2633320': 14010, '1207218': 14011, '530675': 14012, '948733': 14013, '1187089': 14014, '1947662': 14015, '637343': 14016, '1845071': 14017, '208435': 14018, '628307': 14019, '982026': 14020, '390067': 14021, '1330494': 14022, '2293692': 14023, '762318': 14024, '1419370': 14025, '1182899': 14026, '1413183': 14027, '592445': 14028, '755320': 14029, '521985': 14030, '1003840': 14031, '1685948': 14032, '2178672': 14033, '1137400': 14034, '1910719': 14035, '2334416': 14036, '939653': 14037, '2241806': 14038, '2503691': 14039, '191869': 14040, '2238110': 14041, '513210': 14042, '2216150': 14043, '1096854': 14044, '1214135': 14045, '2537502': 14046, '735400': 14047, '1805679': 14048, '2307866': 14049, '115328': 14050, '53936': 14051, '102383': 14052, '1912012': 14053, '2054421': 14054, '2203568': 14055, '20328': 14056, '2623119': 14057, '695332': 14058, '1324871': 14059, '2319377': 14060, '1991863': 14061, '86275': 14062, '1400125': 14063, '1013013': 14064, '535510': 14065, '393928': 14066, '1616707': 14067, '274062': 14068, '1520052': 14069, '1437166': 14070, '1869116': 14071, '1475204': 14072, '2296108': 14073, '2091461': 14074, '54864': 14075, '2542703': 14076, '1386737': 14077, '2119151': 14078, '579391': 14079, '2242468': 14080, '1532839': 14081, '2526370': 14082, '2487901': 14083, '511340': 14084, '215911': 14085, '466977': 14086, '2508191': 14087, '649226': 14088, '38958': 14089, '576990': 14090, '1680398': 14091, '319368': 14092, '320226': 14093, '1567051': 14094, '2586558': 14095, '1536171': 14096, '892994': 14097, '1315670': 14098, '1407028': 14099, '2498427': 14100, '1037088': 14101, '207251': 14102, '2068409': 14103, '894805': 14104, '2560655': 14105, '934647': 14106, '375405': 14107, '1043117': 14108, '1385728': 14109, '376097': 14110, '2267371': 14111, '2008228': 14112, '2455638': 14113, '1718159': 14114, '837170': 14115, '2634182': 14116, '1950336': 14117, '440752': 14118, '1666800': 14119, '476765': 14120, '772538': 14121, '60706': 14122, '1228929': 14123, '1424768': 14124, '2089379': 14125, '566847': 14126, '1661229': 14127, '2322250': 14128, '1342785': 14129, '1429452': 14130, '885358': 14131, '1413561': 14132, '1909216': 14133, '1565175': 14134, '2497991': 14135, '852097': 14136, '1019056': 14137, '1821646': 14138, '545699': 14139, '1553720': 14140, '2433649': 14141, '1976465': 14142, '1617676': 14143, '1887035': 14144, '1792510': 14145, '466322': 14146, '572037': 14147, '1036139': 14148, '1436486': 14149, '1434507': 14150, '1527359': 14151, '449213': 14152, '1125803': 14153, '1349959': 14154, '841620': 14155, '733245': 14156, '2632207': 14157, '180200': 14158, '1649034': 14159, '916708': 14160, '2478643': 14161, '2415838': 14162, '403769': 14163, '85169': 14164, '2239892': 14165, '158607': 14166, '1972040': 14167, '685310': 14168, '1553965': 14169, '2066490': 14170, '587610': 14171, '539189': 14172, '1431104': 14173, '867295': 14174, '591184': 14175, '1110906': 14176, '1126555': 14177, '2523912': 14178, '854454': 14179, '762998': 14180, '1595644': 14181, '1813607': 14182, '937245': 14183, '1351421': 14184, '1617280': 14185, '2535586': 14186, '2613973': 14187, '566017': 14188, '101722': 14189, '273019': 14190, '1619065': 14191, '2303680': 14192, '2186270': 14193, '695333': 14194, '653682': 14195, '850678': 14196, '1698770': 14197, '1125596': 14198, '1721354': 14199, '2095586': 14200, '1879137': 14201, '441579': 14202, '502429': 14203, '1524307': 14204, '1386053': 14205, '10251': 14206, '501420': 14207, '453585': 14208, '1548039': 14209, '2612664': 14210, '2362591': 14211, '1501422': 14212, '211166': 14213, '2635483': 14214, '425978': 14215, '682501': 14216, '138835': 14217, '213427': 14218, '1221336': 14219, '853261': 14220, '1869725': 14221, '1124822': 14222, '1546809': 14223, '1401742': 14224, '735078': 14225, '939439': 14226, '345793': 14227, '1244949': 14228, '1826924': 14229, '1273549': 14230, '170539': 14231, '2158880': 14232, '294040': 14233, '1428788': 14234, '1957071': 14235, '232463': 14236, '1553030': 14237, '2546737': 14238, '1228568': 14239, '1480607': 14240, '1851609': 14241, '738379': 14242, '2643933': 14243, '1002509': 14244, '505375': 14245, '641364': 14246, '1802658': 14247, '1229707': 14248, '266289': 14249, '953357': 14250, '285975': 14251, '2393933': 14252, '1978244': 14253, '2096888': 14254, '719366': 14255, '267611': 14256, '2441229': 14257, '1001928': 14258, '2426066': 14259, '665252': 14260, '1969230': 14261, '1268666': 14262, '1315392': 14263, '1354763': 14264, '644339': 14265, '761478': 14266, '2508315': 14267, '10901': 14268, '1907966': 14269, '1958604': 14270, '872215': 14271, '1359953': 14272, '263600': 14273, '1825371': 14274, '1300172': 14275, '1227649': 14276, '235789': 14277, '798730': 14278, '2192288': 14279, '2283211': 14280, '2404750': 14281, '735859': 14282, '2315870': 14283, '263288': 14284, '1503631': 14285, '1046634': 14286, '884078': 14287, '1930717': 14288, '2308965': 14289, '1151752': 14290, '606105': 14291, '277099': 14292, '765869': 14293, '2222341': 14294, '161223': 14295, '1451817': 14296, '1682531': 14297, '1778011': 14298, '2190792': 14299, '2129174': 14300, '2008700': 14301, '1733289': 14302, '1849541': 14303, '224582': 14304, '1084598': 14305, '1838480': 14306, '497541': 14307, '1860587': 14308, '669340': 14309, '1766053': 14310, '1758289': 14311, '1269960': 14312, '879967': 14313, '2582552': 14314, '1913696': 14315, '1198545': 14316, '2002276': 14317, '1519929': 14318, '1020215': 14319, '1025290': 14320, '1783938': 14321, '1818527': 14322, '2252978': 14323, '2624234': 14324, '2049560': 14325, '267040': 14326, '2398894': 14327, '2529835': 14328, '1825773': 14329, '508852': 14330, '2224734': 14331, '2085110': 14332, '2648465': 14333, '434171': 14334, '1544073': 14335, '2550095': 14336, '268962': 14337, '1242529': 14338, '1401895': 14339, '1862405': 14340, '1720746': 14341, '2551686': 14342, '486946': 14343, '1029561': 14344, '1340377': 14345, '1964566': 14346, '944229': 14347, '1664712': 14348, '2440601': 14349, '853918': 14350, '1725155': 14351, '586724': 14352, '2374726': 14353, '2472638': 14354, '340106': 14355, '2572962': 14356, '1009622': 14357, '1022452': 14358, '2368877': 14359, '1484284': 14360, '970269': 14361, '851222': 14362, '838679': 14363, '310887': 14364, '424470': 14365, '1472571': 14366, '1389451': 14367, '2408309': 14368, '2389674': 14369, '2066039': 14370, '501511': 14371, '2138987': 14372, '155159': 14373, '2491645': 14374, '2082452': 14375, '2552178': 14376, '1502317': 14377, '589444': 14378, '742283': 14379, '558480': 14380, '2320879': 14381, '1811217': 14382, '498648': 14383, '1214583': 14384, '553931': 14385, '2429310': 14386, '1517889': 14387, '1262684': 14388, '2446490': 14389, '1388741': 14390, '182031': 14391, '1417392': 14392, '137131': 14393, '2171685': 14394, '2174801': 14395, '2516486': 14396, '1924354': 14397, '1633211': 14398, '2195071': 14399, '1748002': 14400, '881711': 14401, '400086': 14402, '2268901': 14403, '1340530': 14404, '232994': 14405, '2174660': 14406, '1507611': 14407, '1491358': 14408, '1041552': 14409, '379411': 14410, '1423788': 14411, '1951577': 14412, '1440251': 14413, '78014': 14414, '1420493': 14415, '649969': 14416, '201405': 14417, '847460': 14418, '254078': 14419, '1250757': 14420, '1914535': 14421, '2110575': 14422, '2637831': 14423, '2117724': 14424, '415279': 14425, '1880477': 14426, '575786': 14427, '382138': 14428, '511428': 14429, '2491366': 14430, '1072466': 14431, '1629795': 14432, '1841541': 14433, '2038357': 14434, '1058761': 14435, '660233': 14436, '729029': 14437, '374423': 14438, '1687642': 14439, '1754426': 14440, '2637328': 14441, '1888738': 14442, '19573': 14443, '1900823': 14444, '2117562': 14445, '896309': 14446, '253217': 14447, '1073345': 14448, '1291710': 14449, '543225': 14450, '154481': 14451, '154669': 14452, '2042985': 14453, '751725': 14454, '1234576': 14455, '2379395': 14456, '942334': 14457, '1167841': 14458, '1142168': 14459, '247797': 14460, '674323': 14461, '313087': 14462, '2545618': 14463, '884640': 14464, '681050': 14465, '734448': 14466, '2176056': 14467, '2013147': 14468, '581199': 14469, '106254': 14470, '816639': 14471, '1435030': 14472, '43141': 14473, '864647': 14474, '2262525': 14475, '2305082': 14476, '2366462': 14477, '2105371': 14478, '1245317': 14479, '123846': 14480, '552559': 14481, '2067671': 14482, '969772': 14483, '2584126': 14484, '1001464': 14485, '466669': 14486, '1450159': 14487, '337144': 14488, '607943': 14489, '1982495': 14490, '342877': 14491, '2221499': 14492, '100495': 14493, '158498': 14494, '308990': 14495, '1357619': 14496, '458177': 14497, '788769': 14498, '1728094': 14499, '1615997': 14500, '879196': 14501, '1253718': 14502, '1582098': 14503, '1922155': 14504, '602861': 14505, '1791461': 14506, '1743210': 14507, '2391200': 14508, '1705392': 14509, '1087416': 14510, '1091730': 14511, '1493965': 14512, '2377145': 14513, '1538953': 14514, '1003874': 14515, '2150831': 14516, '2473782': 14517, '1044851': 14518, '2581218': 14519, '1742381': 14520, '2026477': 14521, '726621': 14522, '1090853': 14523, '2081090': 14524, '1849621': 14525, '2146697': 14526, '2316429': 14527, '1637138': 14528, '2225399': 14529, '489871': 14530, '1315963': 14531, '2212841': 14532, '1281579': 14533, '2648502': 14534, '1483251': 14535, '2598477': 14536, '1483328': 14537, '2553296': 14538, '941624': 14539, '2040324': 14540, '486507': 14541, '1443417': 14542, '2170206': 14543, '1757132': 14544, '1489463': 14545, '591336': 14546, '1934709': 14547, '218199': 14548, '1144740': 14549, '1147893': 14550, '410989': 14551, '610622': 14552, '1159608': 14553, '1364103': 14554, '376153': 14555, '2233186': 14556, '870288': 14557, '2014322': 14558, '795446': 14559, '36478': 14560, '2466146': 14561, '1654627': 14562, '923450': 14563, '38859': 14564, '415098': 14565, '1680732': 14566, '52639': 14567, '1207601': 14568, '2378918': 14569, '663191': 14570, '2358256': 14571, '1025642': 14572, '1712147': 14573, '548064': 14574, '989812': 14575, '528522': 14576, '1119488': 14577, '226947': 14578, '158197': 14579, '42147': 14580, '1730974': 14581, '282953': 14582, '2626675': 14583, '1274406': 14584, '2045508': 14585, '2567237': 14586, '716831': 14587, '1065658': 14588, '1173459': 14589, '995620': 14590, '2299488': 14591, '1175001': 14592, '2140883': 14593, '773040': 14594, '567705': 14595, '1837730': 14596, '404751': 14597, '1141511': 14598, '341868': 14599, '1146375': 14600, '1464315': 14601, '1324910': 14602, '1266847': 14603, '2392339': 14604, '1219833': 14605, '2096652': 14606, '987299': 14607, '1018901': 14608, '336847': 14609, '256348': 14610, '1888060': 14611, '1384344': 14612, '1834394': 14613, '387633': 14614, '2172303': 14615, '1740166': 14616, '2497731': 14617, '1798075': 14618, '1601970': 14619, '450423': 14620, '1935856': 14621, '1990957': 14622, '1927048': 14623, '219903': 14624, '1467105': 14625, '1276983': 14626, '2467136': 14627, '1399294': 14628, '2381925': 14629, '1229774': 14630, '1076140': 14631, '1772131': 14632, '2219225': 14633, '1538160': 14634, '1265054': 14635, '1045221': 14636, '518542': 14637, '176896': 14638, '830855': 14639, '1460906': 14640, '845991': 14641, '630863': 14642, '442234': 14643, '1995214': 14644, '18856': 14645, '1377877': 14646, '1768341': 14647, '2458825': 14648, '253582': 14649, '2438294': 14650, '688217': 14651, '480115': 14652, '334051': 14653, '589079': 14654, '1640132': 14655, '551489': 14656, '1821155': 14657, '145654': 14658, '1384373': 14659, '2360401': 14660, '2065686': 14661, '1258802': 14662, '366815': 14663, '497196': 14664, '2442796': 14665, '1969216': 14666, '2144655': 14667, '1753870': 14668, '1508633': 14669, '129766': 14670, '875556': 14671, '217665': 14672, '1618005': 14673, '765640': 14674, '398239': 14675, '1922670': 14676, '134703': 14677, '457011': 14678, '984525': 14679, '1226957': 14680, '2617709': 14681, '2120652': 14682, '1802414': 14683, '2127496': 14684, '2074458': 14685, '715661': 14686, '2147545': 14687, '162348': 14688, '2648734': 14689, '2471478': 14690, '63493': 14691, '601147': 14692, '1927369': 14693, '1771365': 14694, '2340465': 14695, '1630194': 14696, '2518672': 14697, '888747': 14698, '972204': 14699, '1091772': 14700, '1100816': 14701, '2592234': 14702, '2374424': 14703, '1617647': 14704, '1062804': 14705, '1162706': 14706, '217609': 14707, '1198785': 14708, '1199011': 14709, '684108': 14710, '1784723': 14711, '1554601': 14712, '1709984': 14713, '555962': 14714, '1458868': 14715, '2007166': 14716, '765860': 14717, '979197': 14718, '1010690': 14719, '2593295': 14720, '1083252': 14721, '1537898': 14722, '205752': 14723, '1515439': 14724, '749353': 14725, '2195642': 14726, '430715': 14727, '2214494': 14728, '983097': 14729, '842962': 14730, '1538824': 14731, '824478': 14732, '1059101': 14733, '578248': 14734, '2615444': 14735, '276968': 14736, '1621427': 14737, '2464325': 14738, '596918': 14739, '62691': 14740, '971052': 14741, '1077363': 14742, '301889': 14743, '45837': 14744, '1044319': 14745, '196846': 14746, '2089308': 14747, '1807097': 14748, '2019773': 14749, '1120757': 14750, '2417245': 14751, '2375388': 14752, '1260217': 14753, '682873': 14754, '1106352': 14755, '2643785': 14756, '1749866': 14757, '2487809': 14758, '1475817': 14759, '1354649': 14760, '2616948': 14761, '537788': 14762, '396153': 14763, '408037': 14764, '2285967': 14765, '243736': 14766, '2183192': 14767, '1458172': 14768, '1150912': 14769, '212985': 14770, '1457139': 14771, '220936': 14772, '49890': 14773, '2398440': 14774, '1075977': 14775, '2009638': 14776, '1137642': 14777, '1002870': 14778, '1053871': 14779, '1600392': 14780, '1358358': 14781, '352620': 14782, '1754146': 14783, '1232164': 14784, '373013': 14785, '881431': 14786, '740226': 14787, '2600927': 14788, '1961980': 14789, '1275794': 14790, '555886': 14791, '1040475': 14792, '964622': 14793, '1933592': 14794, '932949': 14795, '1361278': 14796, '1782185': 14797, '2271716': 14798, '2492984': 14799, '1207618': 14800, '1091721': 14801, '1066926': 14802, '750641': 14803, '1311438': 14804, '323450': 14805, '603878': 14806, '1766159': 14807, '337681': 14808, '1663694': 14809, '1688316': 14810, '709342': 14811, '434567': 14812, '2336981': 14813, '2493423': 14814, '35996': 14815, '2108314': 14816, '895218': 14817, '2057604': 14818, '2506581': 14819, '10470': 14820, '1525844': 14821, '1233457': 14822, '718158': 14823, '195059': 14824, '1691893': 14825, '1497845': 14826, '1395688': 14827, '809831': 14828, '987078': 14829, '433120': 14830, '2525493': 14831, '449967': 14832, '1122985': 14833, '2212422': 14834, '2546942': 14835, '2345340': 14836, '2522681': 14837, '1449810': 14838, '874550': 14839, '1407034': 14840, '1354717': 14841, '1123874': 14842, '573928': 14843, '827785': 14844, '1580069': 14845, '1551751': 14846, '670464': 14847, '2229666': 14848, '188630': 14849, '116563': 14850, '1310071': 14851, '1066481': 14852, '1101454': 14853, '2086265': 14854, '1915206': 14855, '1117356': 14856, '1734109': 14857, '2210403': 14858, '194044': 14859, '1608960': 14860, '418316': 14861, '837636': 14862, '701179': 14863, '785769': 14864, '1708758': 14865, '1298304': 14866, '2454811': 14867, '2612086': 14868, '1013375': 14869, '912687': 14870, '527843': 14871, '854459': 14872, '109659': 14873, '1418514': 14874, '2580353': 14875, '239158': 14876, '484943': 14877, '968184': 14878, '1394426': 14879, '1829594': 14880, '2392770': 14881, '2439017': 14882, '455688': 14883, '2468305': 14884, '1445536': 14885, '1356107': 14886, '1539813': 14887, '2618750': 14888, '921345': 14889, '495174': 14890, '2204671': 14891, '1939074': 14892, '1729518': 14893, '2352266': 14894, '2502100': 14895, '1950890': 14896, '477168': 14897, '490606': 14898, '733913': 14899, '2564111': 14900, '2438141': 14901, '746775': 14902, '1586067': 14903, '1185782': 14904, '1615548': 14905, '1878057': 14906, '1282557': 14907, '2541939': 14908, '1686741': 14909, '2316025': 14910, '1523658': 14911, '1698802': 14912, '324475': 14913, '781131': 14914, '764583': 14915, '983523': 14916, '1759015': 14917, '142270': 14918, '306809': 14919, '1403184': 14920, '661551': 14921, '875719': 14922, '1831550': 14923, '405513': 14924, '1354545': 14925, '1379339': 14926, '1778238': 14927, '2598647': 14928, '1014939': 14929, '1987400': 14930, '1872329': 14931, '2583311': 14932, '2176957': 14933, '830282': 14934, '1078406': 14935, '1836358': 14936, '1756620': 14937, '2000': 14938, '1668044': 14939, '1329786': 14940, '2218289': 14941, '1134085': 14942, '2320450': 14943, '364145': 14944, '1364293': 14945, '765129': 14946, '2008854': 14947, '2474607': 14948, '1152975': 14949, '2245932': 14950, '1133946': 14951, '157806': 14952, '264451': 14953, '224373': 14954, '2276333': 14955, '761220': 14956, '2626881': 14957, '1983065': 14958, '1348368': 14959, '447437': 14960, '2647396': 14961, '81881': 14962, '2327743': 14963, '1510489': 14964, '2108102': 14965, '1472203': 14966, '1927891': 14967, '2604264': 14968, '1389990': 14969, '662832': 14970, '2532100': 14971, '247999': 14972, '2457968': 14973, '115240': 14974, '2507459': 14975, '273020': 14976, '1937280': 14977, '1707541': 14978, '1934260': 14979, '1838742': 14980, '1782775': 14981, '669274': 14982, '890669': 14983, '721591': 14984, '380963': 14985, '2429513': 14986, '380808': 14987, '256676': 14988, '2068698': 14989, '76023': 14990, '2454575': 14991, '1368132': 14992, '1538418': 14993, '1995059': 14994, '2444362': 14995, '1641753': 14996, '558537': 14997, '2406705': 14998, '2609871': 14999, '2452802': 15000, '2030287': 15001, '995497': 15002, '669122': 15003, '1204327': 15004, '2592716': 15005, '2069442': 15006, '1913457': 15007, '2012563': 15008, '1648347': 15009, '1041295': 15010, '598038': 15011, '821438': 15012, '800983': 15013, '2563721': 15014, '1252539': 15015, '2034428': 15016, '2006046': 15017, '1498913': 15018, '978881': 15019, '1896062': 15020, '1725453': 15021, '554192': 15022, '1340396': 15023, '1765862': 15024, '139212': 15025, '1277134': 15026, '2478523': 15027, '1378727': 15028, '1737325': 15029, '286530': 15030, '1556715': 15031, '1456270': 15032, '1057722': 15033, '1072294': 15034, '60538': 15035, '446078': 15036, '1481728': 15037, '722218': 15038, '2152805': 15039, '2300816': 15040, '207637': 15041, '2416772': 15042, '1912002': 15043, '2445481': 15044, '1990874': 15045, '2047013': 15046, '1379561': 15047, '272840': 15048, '42630': 15049, '1518071': 15050, '712568': 15051, '2626033': 15052, '1017411': 15053, '124829': 15054, '1930649': 15055, '1041529': 15056, '38284': 15057, '503178': 15058, '1648404': 15059, '1197043': 15060, '1551591': 15061, '2023357': 15062, '124699': 15063, '591768': 15064, '328779': 15065, '2376328': 15066, '69860': 15067, '2507129': 15068, '575167': 15069, '166809': 15070, '2014748': 15071, '993438': 15072, '595778': 15073, '1351769': 15074, '2004105': 15075, '2028123': 15076, '2507781': 15077, '175337': 15078, '349652': 15079, '1911422': 15080, '557578': 15081, '56225': 15082, '2266721': 15083, '1348456': 15084, '847917': 15085, '2471978': 15086, '1519073': 15087, '1574148': 15088, '646757': 15089, '2323957': 15090, '1807136': 15091, '2295156': 15092, '1054137': 15093, '165856': 15094, '2265055': 15095, '2599863': 15096, '1144139': 15097, '227151': 15098, '301047': 15099, '1782900': 15100, '1885268': 15101, '2363481': 15102, '1195863': 15103, '934339': 15104, '109207': 15105, '2530531': 15106, '293708': 15107, '2192781': 15108, '925446': 15109, '2167703': 15110, '2522549': 15111, '2431802': 15112, '1095085': 15113, '2421912': 15114, '1765896': 15115, '180030': 15116, '2483121': 15117, '10954': 15118, '1110261': 15119, '1970390': 15120, '2272187': 15121, '1329779': 15122, '574007': 15123, '1450135': 15124, '2396324': 15125, '1318303': 15126, '8121': 15127, '1809269': 15128, '1287752': 15129, '232138': 15130, '376600': 15131, '2526805': 15132, '1648775': 15133, '21364': 15134, '975488': 15135, '1948838': 15136, '422879': 15137, '2114400': 15138, '807738': 15139, '557449': 15140, '970590': 15141, '295708': 15142, '407311': 15143, '269913': 15144, '2089577': 15145, '2128971': 15146, '491623': 15147, '683719': 15148, '1708366': 15149, '1959929': 15150, '544448': 15151, '1115050': 15152, '1046393': 15153, '324326': 15154, '1299826': 15155, '713608': 15156, '580231': 15157, '775794': 15158, '933168': 15159, '2503676': 15160, '866475': 15161, '2624159': 15162, '948108': 15163, '2481119': 15164, '1199475': 15165, '260187': 15166, '1801141': 15167, '1961168': 15168, '543515': 15169, '1765047': 15170, '1591522': 15171, '2571411': 15172, '2085981': 15173, '1279798': 15174, '1351064': 15175, '1645535': 15176, '2544428': 15177, '2253160': 15178, '2005487': 15179, '1168921': 15180, '587812': 15181, '1093500': 15182, '721406': 15183, '2404972': 15184, '127884': 15185, '2238663': 15186, '940516': 15187, '471177': 15188, '1560283': 15189, '2468830': 15190, '682716': 15191, '2284552': 15192, '61765': 15193, '127903': 15194, '44573': 15195, '2197278': 15196, '586648': 15197, '1919203': 15198, '756558': 15199, '1944206': 15200, '1732388': 15201, '1788836': 15202, '1796532': 15203, '1148143': 15204, '1677862': 15205, '290716': 15206, '1722278': 15207, '1288244': 15208, '1082078': 15209, '1285431': 15210, '1883703': 15211, '376701': 15212, '1116377': 15213, '2401585': 15214, '2119629': 15215, '1919770': 15216, '1744594': 15217, '458414': 15218, '558243': 15219, '1383642': 15220, '185867': 15221, '1679359': 15222, '191902': 15223, '644088': 15224, '2506062': 15225, '1878120': 15226, '2303590': 15227, '1367834': 15228, '521765': 15229, '849580': 15230, '2325040': 15231, '736013': 15232, '166399': 15233, '191666': 15234, '89915': 15235, '690131': 15236, '945540': 15237, '876074': 15238, '905467': 15239, '915726': 15240, '2347699': 15241, '653515': 15242, '99400': 15243, '1130261': 15244, '515441': 15245, '1964758': 15246, '1022601': 15247, '1149601': 15248, '2604668': 15249, '462444': 15250, '2218735': 15251, '1407758': 15252, '2587909': 15253, '1290092': 15254, '2534672': 15255, '538221': 15256, '1756796': 15257, '954555': 15258, '2032402': 15259, '2522548': 15260, '777347': 15261, '223488': 15262, '1419253': 15263, '2361340': 15264, '2382060': 15265, '1326993': 15266, '1517168': 15267, '597192': 15268, '870065': 15269, '2195326': 15270, '2618624': 15271, '807768': 15272, '198743': 15273, '1600381': 15274, '957170': 15275, '1737824': 15276, '1151192': 15277, '758850': 15278, '1573566': 15279, '465238': 15280, '710110': 15281, '1464164': 15282, '2098084': 15283, '1400056': 15284, '552356': 15285, '717338': 15286, '934835': 15287, '1791707': 15288, '263150': 15289, '982059': 15290, '2314776': 15291, '2148675': 15292, '1097620': 15293, '416130': 15294, '170758': 15295, '466205': 15296, '1513103': 15297, '206564': 15298, '2442434': 15299, '70328': 15300, '2451973': 15301, '2319265': 15302, '1438031': 15303, '1915183': 15304, '672153': 15305, '1608683': 15306, '982888': 15307, '2508958': 15308, '1138747': 15309, '1820247': 15310, '216359': 15311, '1149289': 15312, '2307724': 15313, '2029744': 15314, '2203425': 15315, '1626200': 15316, '791811': 15317, '706638': 15318, '2492323': 15319, '2228818': 15320, '932927': 15321, '82700': 15322, '2486321': 15323, '771653': 15324, '2520941': 15325, '1035650': 15326, '1299338': 15327, '1756533': 15328, '2511366': 15329, '376119': 15330, '690313': 15331, '1467197': 15332, '1949010': 15333, '1759820': 15334, '844558': 15335, '175138': 15336, '1119063': 15337, '317060': 15338, '2550058': 15339, '1322556': 15340, '1434880': 15341, '876475': 15342, '2349702': 15343, '734328': 15344, '2605948': 15345, '123665': 15346, '1979083': 15347, '282654': 15348, '1672386': 15349, '2549238': 15350, '2303856': 15351, '940264': 15352, '2065242': 15353, '2324287': 15354, '2278186': 15355, '2278527': 15356, '1343027': 15357, '746150': 15358, '784007': 15359, '1576227': 15360, '2192420': 15361, '387106': 15362, '1053115': 15363, '409213': 15364, '1895746': 15365, '620938': 15366, '1591646': 15367, '2554933': 15368, '1903582': 15369, '557562': 15370, '188826': 15371, '751829': 15372, '232955': 15373, '141543': 15374, '7921': 15375, '2432893': 15376, '2628206': 15377, '1385316': 15378, '2574175': 15379, '1321126': 15380, '1350497': 15381, '2032861': 15382, '7134': 15383, '152958': 15384, '2047577': 15385, '908401': 15386, '2042132': 15387, '876697': 15388, '502355': 15389, '210117': 15390, '1494552': 15391, '984992': 15392, '1824009': 15393, '2246410': 15394, '104544': 15395, '1758572': 15396, '2242346': 15397, '1436054': 15398, '927007': 15399, '1022657': 15400, '1757056': 15401, '2066475': 15402, '664203': 15403, '2413272': 15404, '644453': 15405, '283559': 15406, '96519': 15407, '386509': 15408, '1363298': 15409, '1523788': 15410, '2078202': 15411, '2297654': 15412, '2610660': 15413, '1106241': 15414, '1075509': 15415, '1404704': 15416, '282936': 15417, '2617354': 15418, '1376671': 15419, '1344268': 15420, '2587160': 15421, '2241438': 15422, '2059635': 15423, '507383': 15424, '2308593': 15425, '1249961': 15426, '1491102': 15427, '1091336': 15428, '1232675': 15429, '2345385': 15430, '950733': 15431, '291503': 15432, '1103874': 15433, '349295': 15434, '152583': 15435, '2279562': 15436, '1682277': 15437, '403536': 15438, '1784969': 15439, '697601': 15440, '2129120': 15441, '1170779': 15442, '42275': 15443, '1685829': 15444, '2500070': 15445, '2354626': 15446, '2061245': 15447, '2135802': 15448, '214191': 15449, '158785': 15450, '1152362': 15451, '1927420': 15452, '1320959': 15453, '2080663': 15454, '2349538': 15455, '1484157': 15456, '778465': 15457, '584839': 15458, '2419814': 15459, '1414278': 15460, '1083688': 15461, '712653': 15462, '2075711': 15463, '2264638': 15464, '1666483': 15465, '421901': 15466, '9399': 15467, '2506955': 15468, '1098765': 15469, '1423100': 15470, '834412': 15471, '2643193': 15472, '1939384': 15473, '2024797': 15474, '1094850': 15475, '249029': 15476, '2605284': 15477, '2302115': 15478, '62655': 15479, '1217193': 15480, '2293736': 15481, '395104': 15482, '1466382': 15483, '2269039': 15484, '1054783': 15485, '2017214': 15486, '933259': 15487, '2512180': 15488, '64330': 15489, '52191': 15490, '2476668': 15491, '1331954': 15492, '2243365': 15493, '394784': 15494, '784796': 15495, '1876896': 15496, '148550': 15497, '2101973': 15498, '46784': 15499, '2265995': 15500, '1094019': 15501, '1995910': 15502, '2270835': 15503, '810953': 15504, '2355630': 15505, '1172232': 15506, '327821': 15507, '2019396': 15508, '1265763': 15509, '2239227': 15510, '952981': 15511, '442118': 15512, '2217779': 15513, '1903910': 15514, '1483664': 15515, '169054': 15516, '1341553': 15517, '1522371': 15518, '525945': 15519, '1126697': 15520, '1896000': 15521, '1234567': 15522, '1182456': 15523, '392731': 15524, '1658953': 15525, '2575999': 15526, '1902417': 15527, '479898': 15528, '2086623': 15529, '1035499': 15530, '1961159': 15531, '851525': 15532, '1811452': 15533, '1891024': 15534, '973959': 15535, '1269656': 15536, '699305': 15537, '2257731': 15538, '1126546': 15539, '293766': 15540, '1429041': 15541, '2289265': 15542, '544690': 15543, '461931': 15544, '999397': 15545, '1119267': 15546, '760702': 15547, '681961': 15548, '58995': 15549, '22663': 15550, '539354': 15551, '2569071': 15552, '1517590': 15553, '1149811': 15554, '882429': 15555, '127317': 15556, '593770': 15557, '2028737': 15558, '2380338': 15559, '2164729': 15560, '648585': 15561, '2474839': 15562, '799765': 15563, '1055009': 15564, '1556712': 15565, '61176': 15566, '788617': 15567, '1860150': 15568, '1974194': 15569, '145719': 15570, '2435240': 15571, '788643': 15572, '938931': 15573, '901325': 15574, '2384454': 15575, '1654854': 15576, '2124994': 15577, '1846106': 15578, '2611783': 15579, '765159': 15580, '2475053': 15581, '2107198': 15582, '248039': 15583, '461344': 15584, '1322178': 15585, '1958584': 15586, '2540343': 15587, '1889384': 15588, '2599761': 15589, '599145': 15590, '1634443': 15591, '1793777': 15592, '2562900': 15593, '2444438': 15594, '432949': 15595, '2126379': 15596, '1941862': 15597, '1080872': 15598, '1124753': 15599, '477988': 15600, '933837': 15601, '428465': 15602, '804785': 15603, '6206': 15604, '2279609': 15605, '737758': 15606, '1834839': 15607, '1453267': 15608, '1631676': 15609, '2420528': 15610, '792379': 15611, '857975': 15612, '605128': 15613, '125687': 15614, '1558950': 15615, '261053': 15616, '390505': 15617, '1747154': 15618, '2227804': 15619, '1580571': 15620, '1471977': 15621, '1247574': 15622, '830948': 15623, '1524551': 15624, '2095929': 15625, '2036752': 15626, '530118': 15627, '860995': 15628, '290182': 15629, '2426167': 15630, '2135891': 15631, '1934002': 15632, '339837': 15633, '2503546': 15634, '781151': 15635, '1533540': 15636, '770339': 15637, '2251258': 15638, '930318': 15639, '1241676': 15640, '307231': 15641, '1742648': 15642, '1480907': 15643, '2284673': 15644, '1697157': 15645, '1232582': 15646, '520472': 15647, '1157883': 15648, '1725009': 15649, '839123': 15650, '788067': 15651, '1685049': 15652, '452873': 15653, '631636': 15654, '1058842': 15655, '1473095': 15656, '1943866': 15657, '2376121': 15658, '1344086': 15659, '621274': 15660, '497679': 15661, '168017': 15662, '1249773': 15663, '933855': 15664, '2111271': 15665, '1436407': 15666, '2535601': 15667, '900899': 15668, '2192840': 15669, '2633543': 15670, '1240206': 15671, '982191': 15672, '620147': 15673, '1762633': 15674, '769789': 15675, '2028530': 15676, '423681': 15677, '2292823': 15678, '1819879': 15679, '1485833': 15680, '2143489': 15681, '1513550': 15682, '1504759': 15683, '1097970': 15684, '2379776': 15685, '384941': 15686, '295196': 15687, '1558286': 15688, '838552': 15689, '1307699': 15690, '1910320': 15691, '1953616': 15692, '200255': 15693, '1414501': 15694, '1220726': 15695, '2346006': 15696, '1369550': 15697, '1376053': 15698, '2257122': 15699, '2371607': 15700, '2295763': 15701, '1553024': 15702, '660962': 15703, '2018081': 15704, '2420478': 15705, '1219733': 15706, '734541': 15707, '1494988': 15708, '281396': 15709, '2456767': 15710, '1538750': 15711, '1514717': 15712, '2057915': 15713, '240888': 15714, '13856': 15715, '603510': 15716, '428831': 15717, '2195910': 15718, '157631': 15719, '2416829': 15720, '1963419': 15721, '1703879': 15722, '1116876': 15723, '1712684': 15724, '195032': 15725, '451011': 15726, '302304': 15727, '1360119': 15728, '1080430': 15729, '428653': 15730, '1767457': 15731, '84389': 15732, '2457710': 15733, '1279939': 15734, '35994': 15735, '1273429': 15736, '2465288': 15737, '1760544': 15738, '1362091': 15739, '1634324': 15740, '801513': 15741, '2181088': 15742, '1084137': 15743, '2516717': 15744, '834102': 15745, '2417042': 15746, '1919985': 15747, '2156630': 15748, '2186436': 15749, '413104': 15750, '1508279': 15751, '36581': 15752, '324115': 15753, '1659398': 15754, '2313362': 15755, '2469324': 15756, '1843690': 15757, '582315': 15758, '1985841': 15759, '1794933': 15760, '2038701': 15761, '1317566': 15762, '836945': 15763, '1047788': 15764, '2339841': 15765, '1047147': 15766, '1963686': 15767, '1795511': 15768, '1811832': 15769, '907650': 15770, '993657': 15771, '1097064': 15772, '221936': 15773, '593252': 15774, '2219709': 15775, '2503255': 15776, '1463219': 15777, '1890809': 15778, '2364099': 15779, '1166090': 15780, '1402149': 15781, '1046646': 15782, '2591364': 15783, '1236627': 15784, '799300': 15785, '2071819': 15786, '1702561': 15787, '1043901': 15788, '2237907': 15789, '1227739': 15790, '1111656': 15791, '95100': 15792, '1396694': 15793, '986049': 15794, '177997': 15795, '300451': 15796, '1014132': 15797, '1033266': 15798, '294118': 15799, '2188398': 15800, '1327896': 15801, '1639386': 15802, '1280053': 15803, '273267': 15804, '1593655': 15805, '944044': 15806, '1633134': 15807, '1151066': 15808, '401707': 15809, '2598608': 15810, '262633': 15811, '2610029': 15812, '1763979': 15813, '1998719': 15814, '2007993': 15815, '374858': 15816, '1086168': 15817, '1609831': 15818, '2093403': 15819, '1492066': 15820, '1718002': 15821, '1234392': 15822, '1718526': 15823, '1973244': 15824, '127079': 15825, '2432658': 15826, '119279': 15827, '2613921': 15828, '1435822': 15829, '1326640': 15830, '2380603': 15831, '1886379': 15832, '1020730': 15833, '970684': 15834, '306350': 15835, '1135374': 15836, '598877': 15837, '403247': 15838, '1479499': 15839, '829575': 15840, '465414': 15841, '1688249': 15842, '2444204': 15843, '1545512': 15844, '2540263': 15845, '1172502': 15846, '994269': 15847, '2401372': 15848, '1731102': 15849, '917571': 15850, '2120767': 15851, '605116': 15852, '1070896': 15853, '2550612': 15854, '417898': 15855, '1893120': 15856, '2100834': 15857, '1138216': 15858, '2412698': 15859, '950518': 15860, '2232338': 15861, '1737176': 15862, '246119': 15863, '2636478': 15864, '2538123': 15865, '859453': 15866, '77182': 15867, '679415': 15868, '401917': 15869, '1627297': 15870, '175902': 15871, '1726192': 15872, '1975483': 15873, '351141': 15874, '1932258': 15875, '2101632': 15876, '404342': 15877, '921783': 15878, '1580481': 15879, '265043': 15880, '223160': 15881, '934993': 15882, '1432549': 15883, '2302920': 15884, '35256': 15885, '1257438': 15886, '2099073': 15887, '2261394': 15888, '2567279': 15889, '651849': 15890, '1397841': 15891, '2507964': 15892, '1568621': 15893, '328844': 15894, '855860': 15895, '2330735': 15896, '1153564': 15897, '476805': 15898, '719094': 15899, '2408422': 15900, '714802': 15901, '1395584': 15902, '2298339': 15903, '1300467': 15904, '13013': 15905, '117060': 15906, '1508393': 15907, '2292354': 15908, '2464928': 15909, '329555': 15910, '1547032': 15911, '1551980': 15912, '2372021': 15913, '787352': 15914, '922511': 15915, '2569684': 15916, '14756': 15917, '16287': 15918, '696901': 15919, '1617787': 15920, '1474260': 15921, '2436541': 15922, '766982': 15923, '1185600': 15924, '1248145': 15925, '1271907': 15926, '812027': 15927, '1613378': 15928, '340849': 15929, '909167': 15930, '1201294': 15931, '1731121': 15932, '1497344': 15933, '69809': 15934, '2630158': 15935, '2388479': 15936, '447707': 15937, '1952756': 15938, '694871': 15939, '1094132': 15940, '1223664': 15941, '1523109': 15942, '270495': 15943, '654401': 15944, '1079746': 15945, '1165562': 15946, '275850': 15947, '559119': 15948, '984936': 15949, '2614125': 15950, '532583': 15951, '1806884': 15952, '473327': 15953, '29875': 15954, '2628708': 15955, '2358651': 15956, '520080': 15957, '737728': 15958, '590311': 15959, '171185': 15960, '1342591': 15961, '135545': 15962, '664509': 15963, '527891': 15964, '15846': 15965, '1930074': 15966, '842841': 15967, '2570444': 15968, '1827533': 15969, '2284783': 15970, '2572409': 15971, '1691792': 15972, '167410': 15973, '1535724': 15974, '285092': 15975, '1596074': 15976, '578263': 15977, '562803': 15978, '1344349': 15979, '1618915': 15980, '777010': 15981, '349726': 15982, '514774': 15983, '94191': 15984, '1315776': 15985, '428336': 15986, '1316922': 15987, '2287480': 15988, '1179769': 15989, '2040097': 15990, '268719': 15991, '510719': 15992, '480567': 15993, '89853': 15994, '876510': 15995, '1363333': 15996, '2023215': 15997, '488350': 15998, '1183357': 15999, '335839': 16000, '1983863': 16001, '768710': 16002, '20392': 16003, '2517682': 16004, '237405': 16005, '460747': 16006, '2410252': 16007, '715607': 16008, '1464750': 16009, '2078524': 16010, '2054908': 16011, '559470': 16012, '1132912': 16013, '1117550': 16014, '973784': 16015, '2021995': 16016, '476979': 16017, '1966699': 16018, '2449942': 16019, '2618990': 16020, '2552315': 16021, '2290711': 16022, '1271456': 16023, '2120680': 16024, '630175': 16025, '1025897': 16026, '577616': 16027, '486205': 16028, '1278864': 16029, '2458868': 16030, '1586184': 16031, '109898': 16032, '313693': 16033, '2297673': 16034, '812673': 16035, '559608': 16036, '1407936': 16037, '1279012': 16038, '485175': 16039, '2357353': 16040, '2429724': 16041, '663627': 16042, '343712': 16043, '400909': 16044, '2344045': 16045, '856875': 16046, '2413595': 16047, '2645446': 16048, '2225326': 16049, '2629184': 16050, '1498767': 16051, '375770': 16052, '1160808': 16053, '1410753': 16054, '1374899': 16055, '1233953': 16056, '1524620': 16057, '1714580': 16058, '1458453': 16059, '2112242': 16060, '164647': 16061, '330376': 16062, '1486911': 16063, '372650': 16064, '2498845': 16065, '870098': 16066, '352622': 16067, '2278230': 16068, '1549284': 16069, '2038707': 16070, '1189139': 16071, '1928574': 16072, '1020745': 16073, '1312530': 16074, '1249577': 16075, '1756840': 16076, '1341525': 16077, '1832780': 16078, '14728': 16079, '2613898': 16080, '2284891': 16081, '1865846': 16082, '1018465': 16083, '709867': 16084, '522637': 16085, '88959': 16086, '571460': 16087, '1391586': 16088, '1410965': 16089, '1237916': 16090, '1190964': 16091, '1811579': 16092, '2109208': 16093, '618551': 16094, '1878780': 16095, '886615': 16096, '1713608': 16097, '1953202': 16098, '95300': 16099, '1536419': 16100, '1994646': 16101, '2455281': 16102, '571263': 16103, '2643418': 16104, '960208': 16105, '1487730': 16106, '27165': 16107, '2158839': 16108, '990831': 16109, '350686': 16110, '1987569': 16111, '2398821': 16112, '686362': 16113, '1473192': 16114, '486644': 16115, '1536728': 16116, '1280843': 16117, '2332186': 16118, '2193455': 16119, '2009204': 16120, '1994785': 16121, '54348': 16122, '549619': 16123, '853893': 16124, '258319': 16125, '82103': 16126, '2643382': 16127, '1316700': 16128, '817878': 16129, '1071305': 16130, '1765963': 16131, '2060998': 16132, '1516935': 16133, '990639': 16134, '2036637': 16135, '2440392': 16136, '180151': 16137, '1004790': 16138, '1873379': 16139, '622712': 16140, '1899288': 16141, '1691661': 16142, '2562859': 16143, '1176763': 16144, '2407866': 16145, '428859': 16146, '2502462': 16147, '1328954': 16148, '635417': 16149, '640464': 16150, '1367949': 16151, '43608': 16152, '119624': 16153, '230393': 16154, '2067117': 16155, '2171679': 16156, '2589781': 16157, '2081462': 16158, '888630': 16159, '298221': 16160, '1416785': 16161, '1546862': 16162, '1361282': 16163, '2216856': 16164, '611729': 16165, '1045223': 16166, '2409015': 16167, '2252223': 16168, '1385011': 16169, '471624': 16170, '767958': 16171, '75673': 16172, '979865': 16173, '188870': 16174, '1641798': 16175, '912315': 16176, '535268': 16177, '737385': 16178, '2043681': 16179, '204178': 16180, '2229453': 16181, '2648853': 16182, '1383987': 16183, '942442': 16184, '1109293': 16185, '183215': 16186, '1659847': 16187, '709182': 16188, '851111': 16189, '555388': 16190, '219888': 16191, '387469': 16192, '522534': 16193, '2178470': 16194, '2502098': 16195, '1594542': 16196, '1527246': 16197, '1481825': 16198, '1333453': 16199, '2396097': 16200, '44518': 16201, '556458': 16202, '2501054': 16203, '982635': 16204, '2436179': 16205, '1203925': 16206, '2438293': 16207, '1564651': 16208, '2204991': 16209, '1021356': 16210, '1900854': 16211, '2563498': 16212, '2094693': 16213, '1332388': 16214, '653300': 16215, '1719477': 16216, '161767': 16217, '1667739': 16218, '1019536': 16219, '2601604': 16220, '499225': 16221, '2043085': 16222, '1005439': 16223, '1074020': 16224, '1361124': 16225, '1848647': 16226, '318718': 16227, '1726364': 16228, '2240010': 16229, '1674787': 16230, '394442': 16231, '597776': 16232, '898603': 16233, '1117379': 16234, '1382479': 16235, '2124888': 16236, '2436557': 16237, '1729096': 16238, '623155': 16239, '973453': 16240, '1885290': 16241, '962273': 16242, '445900': 16243, '674927': 16244, '844533': 16245, '2422555': 16246, '824465': 16247, '1948594': 16248, '2310027': 16249, '1380235': 16250, '1281882': 16251, '1630992': 16252, '1860673': 16253, '1882748': 16254, '2171187': 16255, '348070': 16256, '1821967': 16257, '1054053': 16258, '1559989': 16259, '1187026': 16260, '1352800': 16261, '1123243': 16262, '2038196': 16263, '1478381': 16264, '1970495': 16265, '487996': 16266, '2377457': 16267, '1838160': 16268, '1823935': 16269, '382633': 16270, '328674': 16271, '538677': 16272, '1236809': 16273, '2359767': 16274, '291728': 16275, '1526688': 16276, '1163189': 16277, '2119555': 16278, '794805': 16279, '2387961': 16280, '1502298': 16281, '1173570': 16282, '1374216': 16283, '1996328': 16284, '792277': 16285, '1224064': 16286, '865027': 16287, '742086': 16288, '1474031': 16289, '1384810': 16290, '342616': 16291, '383702': 16292, '1760487': 16293, '2015927': 16294, '1693179': 16295, '1462866': 16296, '1520703': 16297, '119287': 16298, '582631': 16299, '1583282': 16300, '1178332': 16301, '1780005': 16302, '264988': 16303, '1846827': 16304, '735278': 16305, '1760008': 16306, '288773': 16307, '1785209': 16308, '462806': 16309, '16386': 16310, '1615957': 16311, '2622098': 16312, '2210112': 16313, '622419': 16314, '887893': 16315, '1674112': 16316, '2330565': 16317, '1609042': 16318, '394803': 16319, '960023': 16320, '1628506': 16321, '1606342': 16322, '2044473': 16323, '152669': 16324, '2312280': 16325, '2212303': 16326, '91701': 16327, '1490243': 16328, '505816': 16329, '2426754': 16330, '1426797': 16331, '2504752': 16332, '1756501': 16333, '2048620': 16334, '1894049': 16335, '474691': 16336, '2630072': 16337, '1957148': 16338, '1290593': 16339, '880685': 16340, '1143430': 16341, '2247402': 16342, '2475538': 16343, '1039536': 16344, '660434': 16345, '936746': 16346, '2542130': 16347, '241068': 16348, '712460': 16349, '901167': 16350, '838584': 16351, '1439253': 16352, '591844': 16353, '840207': 16354, '2524708': 16355, '319119': 16356, '1151427': 16357, '1743212': 16358, '1921466': 16359, '364247': 16360, '619705': 16361, '1551312': 16362, '1336786': 16363, '997813': 16364, '1905165': 16365, '1751977': 16366, '386474': 16367, '1113647': 16368, '1008517': 16369, '664230': 16370, '1886300': 16371, '62346': 16372, '2120723': 16373, '2201323': 16374, '1247506': 16375, '215384': 16376, '1090296': 16377, '1106280': 16378, '2150322': 16379, '25382': 16380, '1553699': 16381, '1188248': 16382, '266320': 16383, '635808': 16384, '725903': 16385, '234606': 16386, '1402813': 16387, '1459122': 16388, '1974599': 16389, '2267735': 16390, '707528': 16391, '776939': 16392, '1375573': 16393, '1595693': 16394, '1171236': 16395, '2085211': 16396, '2007593': 16397, '2191674': 16398, '1827543': 16399, '635196': 16400, '1249060': 16401, '1116907': 16402, '867001': 16403, '913927': 16404, '1261473': 16405, '407828': 16406, '2105883': 16407, '1922797': 16408, '361327': 16409, '15217': 16410, '396595': 16411, '1515113': 16412, '326810': 16413, '2396765': 16414, '2567000': 16415, '1683198': 16416, '2408145': 16417, '2500869': 16418, '2442177': 16419, '1770738': 16420, '1804811': 16421, '1546659': 16422, '2130443': 16423, '1268697': 16424, '688590': 16425, '1893724': 16426, '1357209': 16427, '1523159': 16428, '2374109': 16429, '1400108': 16430, '2079036': 16431, '2510551': 16432, '567822': 16433, '1682053': 16434, '110049': 16435, '2099651': 16436, '2556129': 16437, '2226098': 16438, '1563935': 16439, '1672902': 16440, '776014': 16441, '2534690': 16442, '1322233': 16443, '2114260': 16444, '2269875': 16445, '1315201': 16446, '680576': 16447, '1892467': 16448, '480181': 16449, '1338297': 16450, '2165353': 16451, '1621546': 16452, '1725868': 16453, '1306621': 16454, '697045': 16455, '257923': 16456, '1489344': 16457, '2648589': 16458, '149625': 16459, '1449277': 16460, '56790': 16461, '1850091': 16462, '2460587': 16463, '2491189': 16464, '682992': 16465, '1843816': 16466, '4679': 16467, '1097721': 16468, '117758': 16469, '1757916': 16470, '290916': 16471, '1140903': 16472, '999410': 16473, '1782189': 16474, '693157': 16475, '1670839': 16476, '1796166': 16477, '841135': 16478, '499956': 16479, '687967': 16480, '1888574': 16481, '803964': 16482, '1026860': 16483, '1286400': 16484, '1314409': 16485, '1425899': 16486, '1317871': 16487, '762194': 16488, '642537': 16489, '1449229': 16490, '1293893': 16491, '1257450': 16492, '722298': 16493, '2643806': 16494, '2625306': 16495, '1497593': 16496, '1000079': 16497, '1389633': 16498, '579549': 16499, '966478': 16500, '277786': 16501, '1322467': 16502, '924765': 16503, '2260738': 16504, '766450': 16505, '1713439': 16506, '2455068': 16507, '709536': 16508, '438674': 16509, '1932397': 16510, '2631649': 16511, '1160300': 16512, '1365379': 16513, '2443471': 16514, '479781': 16515, '268813': 16516, '1511076': 16517, '1050714': 16518, '1453623': 16519, '1488032': 16520, '1141044': 16521, '1401815': 16522, '2508428': 16523, '1386910': 16524, '950189': 16525, '372285': 16526, '77989': 16527, '508042': 16528, '1048793': 16529, '2053378': 16530, '56741': 16531, '624388': 16532, '212071': 16533, '756359': 16534, '509213': 16535, '978771': 16536, '406024': 16537, '1847393': 16538, '1942005': 16539, '1567048': 16540, '1154184': 16541, '1608329': 16542, '2197402': 16543, '2418528': 16544, '1368650': 16545, '867275': 16546, '1191002': 16547, '1992646': 16548, '2050532': 16549, '1551945': 16550, '861874': 16551, '685113': 16552, '1129687': 16553, '553202': 16554, '846426': 16555, '1866164': 16556, '962736': 16557, '1555643': 16558, '898979': 16559, '1723381': 16560, '2327309': 16561, '170552': 16562, '1511136': 16563, '55432': 16564, '2095697': 16565, '637815': 16566, '2312938': 16567, '1353162': 16568, '112320': 16569, '679869': 16570, '1433573': 16571, '1015237': 16572, '2087355': 16573, '1880039': 16574, '1369971': 16575, '125713': 16576, '285547': 16577, '873264': 16578, '770099': 16579, '267880': 16580, '774693': 16581, '698438': 16582, '2325684': 16583, '1150125': 16584, '486529': 16585, '2188443': 16586, '2211187': 16587, '1107858': 16588, '960733': 16589, '2581379': 16590, '2484715': 16591, '1412245': 16592, '756493': 16593, '1977244': 16594, '2301767': 16595, '1709208': 16596, '472332': 16597, '1770331': 16598, '1138833': 16599, '1478655': 16600, '290360': 16601, '1592222': 16602, '385977': 16603, '1213587': 16604, '1338171': 16605, '1760594': 16606, '1231291': 16607, '1992341': 16608, '1784946': 16609, '1405485': 16610, '1147908': 16611, '1582952': 16612, '694422': 16613, '1331144': 16614, '1622462': 16615, '1367596': 16616, '1987073': 16617, '1866094': 16618, '2116966': 16619, '1883706': 16620, '1872933': 16621, '859167': 16622, '1583664': 16623, '174350': 16624, '1539730': 16625, '2127784': 16626, '926921': 16627, '204154': 16628, '489259': 16629, '1990316': 16630, '1361618': 16631, '1115666': 16632, '688051': 16633, '1531467': 16634, '842431': 16635, '919479': 16636, '1814136': 16637, '2036610': 16638, '1990523': 16639, '1388228': 16640, '1102175': 16641, '288971': 16642, '2596061': 16643, '1263404': 16644, '186266': 16645, '1035352': 16646, '924922': 16647, '910792': 16648, '321679': 16649, '2336596': 16650, '773145': 16651, '771805': 16652, '17691': 16653, '721590': 16654, '1248353': 16655, '2401147': 16656, '308088': 16657, '1719966': 16658, '2479307': 16659, '101692': 16660, '735623': 16661, '1395967': 16662, '1480235': 16663, '1591085': 16664, '964630': 16665, '2276849': 16666, '259516': 16667, '1130461': 16668, '235691': 16669, '2105516': 16670, '306564': 16671, '1260001': 16672, '327874': 16673, '429565': 16674, '1812834': 16675, '1745870': 16676, '667375': 16677, '951329': 16678, '1541549': 16679, '950498': 16680, '2115386': 16681, '1982650': 16682, '1963921': 16683, '661731': 16684, '1475417': 16685, '648173': 16686, '644045': 16687, '1488844': 16688, '707563': 16689, '2480035': 16690, '323101': 16691, '1801483': 16692, '1763788': 16693, '2268851': 16694, '1834137': 16695, '1193661': 16696, '781505': 16697, '353900': 16698, '1721623': 16699, '103761': 16700, '1311777': 16701, '46929': 16702, '1902959': 16703, '1309683': 16704, '1144950': 16705, '75761': 16706, '914283': 16707, '988917': 16708, '1072055': 16709, '1298036': 16710, '80683': 16711, '1588002': 16712, '2250528': 16713, '1509566': 16714, '1546749': 16715, '1866818': 16716, '1685089': 16717, '595054': 16718, '1984813': 16719, '2152310': 16720, '169028': 16721, '897692': 16722, '850900': 16723, '523416': 16724, '629794': 16725, '104821': 16726, '30893': 16727, '1468007': 16728, '1072721': 16729, '576984': 16730, '2361605': 16731, '1095791': 16732, '1711294': 16733, '1515242': 16734, '1213041': 16735, '2466475': 16736, '2023244': 16737, '1468972': 16738, '1997103': 16739, '1131009': 16740, '1129737': 16741, '505713': 16742, '1181480': 16743, '993544': 16744, '2394666': 16745, '8117': 16746, '121098': 16747, '1097058': 16748, '24059': 16749, '2548832': 16750, '156848': 16751, '690754': 16752, '467596': 16753, '2600616': 16754, '255177': 16755, '1605728': 16756, '1354076': 16757, '928208': 16758, '471303': 16759, '1993756': 16760, '205023': 16761, '1057251': 16762, '1867548': 16763, '394125': 16764, '1183856': 16765, '818025': 16766, '2581467': 16767, '1469447': 16768, '1262446': 16769, '118445': 16770, '437599': 16771, '2078245': 16772, '749827': 16773, '1094786': 16774, '1159376': 16775, '2479932': 16776, '1930601': 16777, '2395854': 16778, '1916315': 16779, '620072': 16780, '1176296': 16781, '1907373': 16782, '1207465': 16783, '2629765': 16784, '2209618': 16785, '991497': 16786, '707987': 16787, '2481068': 16788, '1692152': 16789, '1372201': 16790, '2387695': 16791, '1826290': 16792, '1413286': 16793, '2217808': 16794, '1113980': 16795, '2062552': 16796, '228614': 16797, '104422': 16798, '1073729': 16799, '330265': 16800, '926896': 16801, '380354': 16802, '924656': 16803, '1482288': 16804, '1225947': 16805, '1487091': 16806, '1217133': 16807, '2445424': 16808, '1155253': 16809, '720436': 16810, '1295700': 16811, '1378386': 16812, '922539': 16813, '1688256': 16814, '737556': 16815, '806798': 16816, '273292': 16817, '2177165': 16818, '2307511': 16819, '1882227': 16820, '49144': 16821, '2336203': 16822, '1925115': 16823, '403674': 16824, '1954297': 16825, '2480676': 16826, '950677': 16827, '1838852': 16828, '1648869': 16829, '2341640': 16830, '1602783': 16831, '78846': 16832, '2471865': 16833, '84248': 16834, '688266': 16835, '72541': 16836, '1070629': 16837, '1131759': 16838, '1218030': 16839, '1024036': 16840, '1983493': 16841, '458475': 16842, '576943': 16843, '108871': 16844, '1673689': 16845, '16479': 16846, '320187': 16847, '64928': 16848, '1183642': 16849, '155279': 16850, '2166586': 16851, '559114': 16852, '1344394': 16853, '1047634': 16854, '640679': 16855, '508584': 16856, '2434527': 16857, '2296193': 16858, '927777': 16859, '1583424': 16860, '1917946': 16861, '2039415': 16862, '367186': 16863, '970306': 16864, '1281037': 16865, '1840435': 16866, '1556097': 16867, '2181770': 16868, '2140945': 16869, '2073760': 16870, '1569028': 16871, '1228534': 16872, '1651763': 16873, '2098310': 16874, '2032798': 16875, '2226577': 16876, '2016453': 16877, '1168291': 16878, '2237957': 16879, '1409989': 16880, '1533443': 16881, '160977': 16882, '1665636': 16883, '2223706': 16884, '531117': 16885, '2242413': 16886, '1658397': 16887, '1459096': 16888, '2241897': 16889, '1780330': 16890, '1999685': 16891, '1966884': 16892, '1797483': 16893, '223526': 16894, '1185499': 16895, '542323': 16896, '1038737': 16897, '2276790': 16898, '1409555': 16899, '2636378': 16900, '1988854': 16901, '2249336': 16902, '1837470': 16903, '891694': 16904, '821315': 16905, '2396075': 16906, '532948': 16907, '2204673': 16908, '1730413': 16909, '907490': 16910, '1762434': 16911, '1863844': 16912, '560960': 16913, '2119484': 16914, '519866': 16915, '633890': 16916, '1168164': 16917, '631874': 16918, '481812': 16919, '85747': 16920, '1263652': 16921, '1993420': 16922, '718012': 16923, '815635': 16924, '2351316': 16925, '1428871': 16926, '1716604': 16927, '373557': 16928, '2001318': 16929, '688892': 16930, '308257': 16931, '181549': 16932, '868990': 16933, '1579906': 16934, '1578281': 16935, '2257441': 16936, '1662118': 16937, '2405523': 16938, '213750': 16939, '841869': 16940, '1989121': 16941, '2602674': 16942, '906893': 16943, '2160527': 16944, '2432162': 16945, '1975103': 16946, '1017068': 16947, '579326': 16948, '1476458': 16949, '101620': 16950, '2582052': 16951, '78271': 16952, '1182779': 16953, '2593960': 16954, '1033825': 16955, '1248467': 16956, '2244916': 16957, '275551': 16958, '1744075': 16959, '2617902': 16960, '15104': 16961, '2534832': 16962, '386467': 16963, '2585017': 16964, '531630': 16965, '874732': 16966, '1235191': 16967, '2024800': 16968, '164016': 16969, '1521774': 16970, '1120498': 16971, '1506005': 16972, '330802': 16973, '1694205': 16974, '2587616': 16975, '502305': 16976, '1362770': 16977, '790183': 16978, '439240': 16979, '2390221': 16980, '239262': 16981, '22709': 16982, '2278224': 16983, '602139': 16984, '1559083': 16985, '124504': 16986, '2206008': 16987, '1005606': 16988, '1220571': 16989, '851262': 16990, '886671': 16991, '11462': 16992, '446309': 16993, '559893': 16994, '1685548': 16995, '376881': 16996, '874883': 16997, '888617': 16998, '1750812': 16999, '1115274': 17000, '807782': 17001, '279835': 17002, '1788855': 17003, '910339': 17004, '2352698': 17005, '39551': 17006, '1931966': 17007, '2173717': 17008, '17462': 17009, '328353': 17010, '1384935': 17011, '1661702': 17012, '1866789': 17013, '437586': 17014, '588285': 17015, '1335582': 17016, '1121725': 17017, '1487011': 17018, '2552515': 17019, '755549': 17020, '136030': 17021, '304879': 17022, '1817731': 17023, '887523': 17024, '1517290': 17025, '1438498': 17026, '2229322': 17027, '746270': 17028, '645522': 17029, '899796': 17030, '143120': 17031, '1824061': 17032, '865254': 17033, '1174079': 17034, '524295': 17035, '2537083': 17036, '2591100': 17037, '1891612': 17038, '1416445': 17039, '1325506': 17040, '704862': 17041, '900096': 17042, '1439762': 17043, '1232144': 17044, '351357': 17045, '674963': 17046, '1487570': 17047, '1775922': 17048, '1027819': 17049, '2285176': 17050, '1022254': 17051, '2170255': 17052, '678911': 17053, '1316604': 17054, '2585997': 17055, '834752': 17056, '122987': 17057, '2264677': 17058, '2018945': 17059, '2627893': 17060, '2381246': 17061, '374238': 17062, '2070937': 17063, '550802': 17064, '1465445': 17065, '998433': 17066, '522615': 17067, '2145178': 17068, '1905989': 17069, '754104': 17070, '2020475': 17071, '1395781': 17072, '960950': 17073, '2647162': 17074, '781670': 17075, '2458072': 17076, '1830165': 17077, '1341247': 17078, '1460659': 17079, '120801': 17080, '1544026': 17081, '96831': 17082, '382891': 17083, '1998465': 17084, '1322292': 17085, '515038': 17086, '1199688': 17087, '921528': 17088, '2204979': 17089, '955050': 17090, '2337855': 17091, '2179550': 17092, '1686932': 17093, '898629': 17094, '1777696': 17095, '1838912': 17096, '2217548': 17097, '364238': 17098, '564016': 17099, '1976585': 17100, '1679793': 17101, '1557927': 17102, '1178715': 17103, '508573': 17104, '567279': 17105, '1694423': 17106, '1288554': 17107, '2341658': 17108, '330156': 17109, '243940': 17110, '2002123': 17111, '577593': 17112, '1501943': 17113, '1427025': 17114, '200469': 17115, '2368618': 17116, '516736': 17117, '756162': 17118, '102028': 17119, '848655': 17120, '1532527': 17121, '366901': 17122, '1856609': 17123, '2257890': 17124, '2127723': 17125, '2049602': 17126, '2437854': 17127, '1587431': 17128, '1335591': 17129, '642621': 17130, '1116987': 17131, '1884497': 17132, '1038488': 17133, '2609187': 17134, '1354209': 17135, '1938340': 17136, '603409': 17137, '39526': 17138, '1183174': 17139, '2597934': 17140, '2636781': 17141, '2342244': 17142, '2365340': 17143, '585137': 17144, '767571': 17145, '412604': 17146, '624987': 17147, '2086396': 17148, '28346': 17149, '633054': 17150, '936307': 17151, '279120': 17152, '1072766': 17153, '420482': 17154, '2123534': 17155, '1296636': 17156, '879487': 17157, '2612083': 17158, '1747111': 17159, '2482438': 17160, '163875': 17161, '1448561': 17162, '111657': 17163, '1945559': 17164, '302785': 17165, '248151': 17166, '917187': 17167, '2554058': 17168, '324728': 17169, '1219818': 17170, '1673072': 17171, '234949': 17172, '819314': 17173, '1038978': 17174, '1010609': 17175, '922812': 17176, '2518168': 17177, '273251': 17178, '2286568': 17179, '2344346': 17180, '1071582': 17181, '1217643': 17182, '987066': 17183, '1624556': 17184, '162641': 17185, '2344995': 17186, '855103': 17187, '1679839': 17188, '1297899': 17189, '264160': 17190, '475537': 17191, '2376860': 17192, '2091589': 17193, '2240369': 17194, '2494071': 17195, '1565068': 17196, '2034970': 17197, '1049041': 17198, '1470113': 17199, '1644686': 17200, '106933': 17201, '118244': 17202, '434585': 17203, '2004371': 17204, '1398225': 17205, '296555': 17206, '1251028': 17207, '927953': 17208, '2318608': 17209, '1928290': 17210, '1851595': 17211, '1047834': 17212, '546576': 17213, '1912389': 17214, '2439391': 17215, '1594764': 17216, '510641': 17217, '2554548': 17218, '369812': 17219, '86288': 17220, '10016': 17221, '261806': 17222, '2403601': 17223, '2518732': 17224, '1557598': 17225, '1937187': 17226, '763551': 17227, '10943': 17228, '1153256': 17229, '2155100': 17230, '929208': 17231, '956846': 17232, '340996': 17233, '224856': 17234, '1470255': 17235, '1826257': 17236, '1288391': 17237, '545306': 17238, '2263991': 17239, '2265729': 17240, '2106579': 17241, '717555': 17242, '1600196': 17243, '1099977': 17244, '2526414': 17245, '772337': 17246, '42477': 17247, '2094877': 17248, '1144968': 17249, '423952': 17250, '763193': 17251, '2455393': 17252, '1159506': 17253, '1928860': 17254, '1524354': 17255, '344549': 17256, '1163123': 17257, '891625': 17258, '103619': 17259, '28277': 17260, '251043': 17261, '1960710': 17262, '1876443': 17263, '1233091': 17264, '2490731': 17265, '2364620': 17266, '689097': 17267, '1516678': 17268, '2206710': 17269, '1523919': 17270, '1304749': 17271, '944189': 17272, '799826': 17273, '227799': 17274, '2425581': 17275, '1260731': 17276, '1872532': 17277, '1964698': 17278, '649264': 17279, '2403480': 17280, '2411531': 17281, '1188639': 17282, '1026479': 17283, '546645': 17284, '1130956': 17285, '278056': 17286, '1894043': 17287, '2118863': 17288, '1483852': 17289, '445926': 17290, '814660': 17291, '424387': 17292, '452501': 17293, '201341': 17294, '758353': 17295, '328223': 17296, '65841': 17297, '740199': 17298, '2638601': 17299, '1881326': 17300, '1843626': 17301, '1665484': 17302, '297269': 17303, '959079': 17304, '2029858': 17305, '629120': 17306, '1553545': 17307, '763287': 17308, '773045': 17309, '1956276': 17310, '1085991': 17311, '2412566': 17312, '622742': 17313, '896969': 17314, '1427360': 17315, '974573': 17316, '2329786': 17317, '308487': 17318, '1580159': 17319, '926350': 17320, '1809112': 17321, '868881': 17322, '678276': 17323, '824157': 17324, '1064554': 17325, '2412372': 17326, '1926057': 17327, '239928': 17328, '651376': 17329, '2251190': 17330, '363170': 17331, '1259776': 17332, '1029120': 17333, '1406473': 17334, '425238': 17335, '801010': 17336, '2082635': 17337, '1467867': 17338, '1679129': 17339, '141745': 17340, '2574484': 17341, '1783799': 17342, '824828': 17343, '1088677': 17344, '1512037': 17345, '1108304': 17346, '1178902': 17347, '54333': 17348, '1238762': 17349, '1244810': 17350, '1501018': 17351, '1437431': 17352, '616173': 17353, '1555081': 17354, '2102669': 17355, '1007545': 17356, '1334775': 17357, '326121': 17358, '2572690': 17359, '771516': 17360, '2236554': 17361, '1066555': 17362, '1037347': 17363, '40851': 17364, '2511987': 17365, '2023416': 17366, '755112': 17367, '931327': 17368, '1851346': 17369, '2133463': 17370, '625067': 17371, '1257698': 17372, '2115337': 17373, '1807245': 17374, '1952776': 17375, '1795694': 17376, '695907': 17377, '2283770': 17378, '787598': 17379, '355103': 17380, '1919713': 17381, '157646': 17382, '954228': 17383, '1847522': 17384, '480604': 17385, '690615': 17386, '2495459': 17387, '2633733': 17388, '441206': 17389, '1412559': 17390, '2081120': 17391, '2254991': 17392, '244213': 17393, '2304849': 17394, '1179803': 17395, '1072193': 17396, '1302846': 17397, '1491763': 17398, '1240094': 17399, '2286741': 17400, '875926': 17401, '1843540': 17402, '569432': 17403, '70976': 17404, '2507559': 17405, '2111039': 17406, '1893856': 17407, '2515812': 17408, '1447141': 17409, '1531029': 17410, '343252': 17411, '2560582': 17412, '1242697': 17413, '1086665': 17414, '685627': 17415, '171096': 17416, '167447': 17417, '1140048': 17418, '16475': 17419, '644827': 17420, '1392518': 17421, '113416': 17422, '392859': 17423, '1410742': 17424, '2139777': 17425, '196349': 17426, '641013': 17427, '663654': 17428, '1965252': 17429, '1824444': 17430, '2597802': 17431, '507301': 17432, '1630882': 17433, '2136742': 17434, '752867': 17435, '2292140': 17436, '2217988': 17437, '1878354': 17438, '2535916': 17439, '98387': 17440, '2026133': 17441, '873369': 17442, '2296586': 17443, '1098265': 17444, '1280553': 17445, '2498939': 17446, '36194': 17447, '431691': 17448, '2635349': 17449, '2007221': 17450, '2347771': 17451, '21117': 17452, '1999825': 17453, '910404': 17454, '2337729': 17455, '1363315': 17456, '1423668': 17457, '180858': 17458, '673619': 17459, '1926320': 17460, '2053250': 17461, '1003753': 17462, '1514999': 17463, '1497566': 17464, '1347847': 17465, '1328847': 17466, '68472': 17467, '1244273': 17468, '2458826': 17469, '2040501': 17470, '270692': 17471, '1952708': 17472, '2315006': 17473, '406375': 17474, '1860023': 17475, '751283': 17476, '1451183': 17477, '1918206': 17478, '1484938': 17479, '1511593': 17480, '525666': 17481, '766670': 17482, '255112': 17483, '330922': 17484, '1128809': 17485, '202435': 17486, '1522328': 17487, '2057529': 17488, '2455561': 17489, '75214': 17490, '655617': 17491, '805207': 17492, '1010649': 17493, '2466211': 17494, '2169713': 17495, '2027294': 17496, '2102677': 17497, '1289074': 17498, '960004': 17499, '935922': 17500, '1093643': 17501, '2086264': 17502, '2308472': 17503, '1633923': 17504, '280207': 17505, '440398': 17506, '1444657': 17507, '1627581': 17508, '888912': 17509, '2619718': 17510, '156300': 17511, '1055424': 17512, '834131': 17513, '730649': 17514, '1426373': 17515, '2639772': 17516, '2063973': 17517, '894205': 17518, '2551705': 17519, '2450203': 17520, '2587117': 17521, '2445266': 17522, '1608147': 17523, '1130649': 17524, '989704': 17525, '592734': 17526, '438116': 17527, '163848': 17528, '311122': 17529, '135749': 17530, '573077': 17531, '987125': 17532, '382234': 17533, '2592889': 17534, '98388': 17535, '2486149': 17536, '314618': 17537, '667526': 17538, '2235104': 17539, '392312': 17540, '779877': 17541, '1441559': 17542, '1279398': 17543, '2578697': 17544, '2266166': 17545, '1150035': 17546, '1198528': 17547, '702103': 17548, '2424328': 17549, '1545940': 17550, '2067849': 17551, '2196366': 17552, '2049584': 17553, '29395': 17554, '190474': 17555, '920912': 17556, '1949220': 17557, '696244': 17558, '1245640': 17559, '1116035': 17560, '784305': 17561, '2523435': 17562, '483288': 17563, '1555558': 17564, '1837439': 17565, '2213625': 17566, '1526063': 17567, '863309': 17568, '1266917': 17569, '927338': 17570, '106592': 17571, '439489': 17572, '1534700': 17573, '485973': 17574, '1925957': 17575, '1240730': 17576, '1558352': 17577, '2388555': 17578, '1807199': 17579, '1615800': 17580, '2334757': 17581, '2473345': 17582, '2026928': 17583, '2362548': 17584, '1420709': 17585, '340702': 17586, '2615679': 17587, '53503': 17588, '2538880': 17589, '2442104': 17590, '2137795': 17591, '2234535': 17592, '189443': 17593, '1617721': 17594, '995437': 17595, '2233782': 17596, '1396036': 17597, '210595': 17598, '586128': 17599, '418970': 17600, '745125': 17601, '1430799': 17602, '2406094': 17603, '1143244': 17604, '106239': 17605, '2451368': 17606, '1714428': 17607, '1024768': 17608, '778730': 17609, '1818241': 17610, '1551543': 17611, '2584725': 17612, '197102': 17613, '260415': 17614, '930199': 17615, '1261084': 17616, '795665': 17617, '1653468': 17618, '1152249': 17619, '700005': 17620, '2529214': 17621, '1839934': 17622, '1104589': 17623, '1576111': 17624, '784456': 17625, '827136': 17626, '1401465': 17627, '1745107': 17628, '1630842': 17629, '439688': 17630, '1275089': 17631, '638279': 17632, '680554': 17633, '953276': 17634, '297607': 17635, '993341': 17636, '474566': 17637, '2200718': 17638, '1653052': 17639, '1709921': 17640, '743598': 17641, '1634780': 17642, '933895': 17643, '1031767': 17644, '2542528': 17645, '2259960': 17646, '60183': 17647, '223379': 17648, '502274': 17649, '2583705': 17650, '974878': 17651, '1721134': 17652, '1785367': 17653, '2078947': 17654, '1353566': 17655, '647792': 17656, '826567': 17657, '2407453': 17658, '2597964': 17659, '1180972': 17660, '1539184': 17661, '2433476': 17662, '2360158': 17663, '2473070': 17664, '1133763': 17665, '1403378': 17666, '1290669': 17667, '1974864': 17668, '1958323': 17669, '2129864': 17670, '2489482': 17671, '1450484': 17672, '1102418': 17673, '1010831': 17674, '2269328': 17675, '2042206': 17676, '113535': 17677, '1580917': 17678, '550309': 17679, '2400678': 17680, '2054870': 17681, '129839': 17682, '1859950': 17683, '2114300': 17684, '896339': 17685, '524869': 17686, '149489': 17687, '419414': 17688, '2391686': 17689, '2395648': 17690, '1068656': 17691, '524110': 17692, '453105': 17693, '388549': 17694, '236621': 17695, '578237': 17696, '2634682': 17697, '816237': 17698, '2414164': 17699, '1126892': 17700, '255096': 17701, '1079142': 17702, '2021291': 17703, '1217641': 17704, '2111693': 17705, '1597178': 17706, '456445': 17707, '1618291': 17708, '750646': 17709, '1952473': 17710, '1737549': 17711, '1326994': 17712, '499257': 17713, '1228106': 17714, '2633985': 17715, '885087': 17716, '2263748': 17717, '2565354': 17718, '1607009': 17719, '161104': 17720, '294301': 17721, '202381': 17722, '1791124': 17723, '2447368': 17724, '1762316': 17725, '2508065': 17726, '875288': 17727, '1881746': 17728, '2486584': 17729, '1370323': 17730, '2070036': 17731, '1120781': 17732, '858666': 17733, '123356': 17734, '466778': 17735, '747810': 17736, '1325145': 17737, '811704': 17738, '2023200': 17739, '1664193': 17740, '1603995': 17741, '1615446': 17742, '2033032': 17743, '695423': 17744, '1897965': 17745, '846271': 17746, '585132': 17747, '2340654': 17748, '491766': 17749, '1882180': 17750, '837071': 17751, '1243711': 17752, '478932': 17753, '1196022': 17754, '2384478': 17755, '2295636': 17756, '716943': 17757, '175631': 17758, '795714': 17759, '1067018': 17760, '842458': 17761, '2394802': 17762, '66885': 17763, '2459229': 17764, '426397': 17765, '2050529': 17766, '1398142': 17767, '1304014': 17768, '1626539': 17769, '637185': 17770, '790913': 17771, '905479': 17772, '1394420': 17773, '207326': 17774, '1475760': 17775, '1481308': 17776, '1821068': 17777, '1095823': 17778, '1943141': 17779, '538775': 17780, '299365': 17781, '45243': 17782, '1218115': 17783, '633256': 17784, '1469029': 17785, '1676265': 17786, '1774452': 17787, '2637879': 17788, '903779': 17789, '2593204': 17790, '1188144': 17791, '964322': 17792, '36217': 17793, '2442353': 17794, '376589': 17795, '510765': 17796, '1262971': 17797, '2071037': 17798, '26334': 17799, '285031': 17800, '1887920': 17801, '1246924': 17802, '1653368': 17803, '2624537': 17804, '1454488': 17805, '2432714': 17806, '2090210': 17807, '1624075': 17808, '2569227': 17809, '2588966': 17810, '1915354': 17811, '1299970': 17812, '139358': 17813, '1190335': 17814, '198251': 17815, '2371665': 17816, '1599855': 17817, '783137': 17818, '2151359': 17819, '1292165': 17820, '167100': 17821, '1763289': 17822, '2162539': 17823, '1208894': 17824, '1665415': 17825, '2103916': 17826, '661663': 17827, '1658868': 17828, '367344': 17829, '959444': 17830, '363230': 17831, '200645': 17832, '447836': 17833, '1744695': 17834, '949121': 17835, '1956690': 17836, '1380372': 17837, '1658716': 17838, '458766': 17839, '1589575': 17840, '1680684': 17841, '742873': 17842, '2232378': 17843, '701960': 17844, '2565719': 17845, '400440': 17846, '1552111': 17847, '2471417': 17848, '2483306': 17849, '2609372': 17850, '227829': 17851, '2634707': 17852, '1785931': 17853, '564895': 17854, '2312645': 17855, '947483': 17856, '2206663': 17857, '1629440': 17858, '115097': 17859, '2426587': 17860, '2585864': 17861, '1042795': 17862, '1171959': 17863, '2385565': 17864, '2423318': 17865, '2131536': 17866, '1696725': 17867, '1364473': 17868, '2009801': 17869, '898713': 17870, '2280025': 17871, '1769515': 17872, '765441': 17873, '910979': 17874, '765331': 17875, '163288': 17876, '1918794': 17877, '2183130': 17878, '121943': 17879, '188190': 17880, '379952': 17881, '2521561': 17882, '2179904': 17883, '2638856': 17884, '1658172': 17885, '523517': 17886, '166205': 17887, '1111312': 17888, '2079367': 17889, '1484825': 17890, '1364974': 17891, '581399': 17892, '2249958': 17893, '2120359': 17894, '989264': 17895, '650771': 17896, '2460229': 17897, '1619362': 17898, '1747859': 17899, '2362950': 17900, '1495976': 17901, '442276': 17902, '2558401': 17903, '823370': 17904, '468579': 17905, '2626891': 17906, '2276659': 17907, '2022945': 17908, '2284938': 17909, '2174467': 17910, '2041319': 17911, '1585165': 17912, '186946': 17913, '570159': 17914, '1940764': 17915, '1175419': 17916, '2425741': 17917, '917355': 17918, '1464380': 17919, '2169512': 17920, '1310819': 17921, '605392': 17922, '2396772': 17923, '1474084': 17924, '764040': 17925, '2524965': 17926, '1576896': 17927, '1575939': 17928, '1851951': 17929, '505275': 17930, '1799557': 17931, '1173493': 17932, '141876': 17933, '1990362': 17934, '2408604': 17935, '2528026': 17936, '1817718': 17937, '1252558': 17938, '1364926': 17939, '1103863': 17940, '216534': 17941, '2519696': 17942, '316752': 17943, '1179020': 17944, '2166728': 17945, '2287442': 17946, '290951': 17947, '1534945': 17948, '2308155': 17949, '2255529': 17950, '1082476': 17951, '148394': 17952, '2246159': 17953, '1319737': 17954, '2578732': 17955, '1743759': 17956, '92249': 17957, '2386069': 17958, '2192517': 17959, '2572055': 17960, '1310748': 17961, '1888899': 17962, '1549954': 17963, '12253': 17964, '1515495': 17965, '953264': 17966, '2033811': 17967, '1810588': 17968, '2132254': 17969, '185319': 17970, '1834546': 17971, '579190': 17972, '255552': 17973, '1490642': 17974, '526238': 17975, '2115299': 17976, '969239': 17977, '718692': 17978, '2348253': 17979, '2416775': 17980, '3798': 17981, '1131186': 17982, '254789': 17983, '1859991': 17984, '326225': 17985, '134431': 17986, '1902621': 17987, '2185396': 17988, '917679': 17989, '550573': 17990, '1983938': 17991, '1908191': 17992, '1488957': 17993, '1371238': 17994, '1035326': 17995, '567198': 17996, '19106': 17997, '78523': 17998, '268846': 17999, '2296095': 18000, '1283156': 18001, '2129787': 18002, '599880': 18003, '1197141': 18004, '461065': 18005, '867800': 18006, '862057': 18007, '1325031': 18008, '1715533': 18009, '224944': 18010, '1163702': 18011, '2210867': 18012, '673040': 18013, '2265021': 18014, '1181089': 18015, '839182': 18016, '2031917': 18017, '1553158': 18018, '676587': 18019, '1518446': 18020, '467255': 18021, '1017918': 18022, '2440793': 18023, '1203347': 18024, '1652105': 18025, '2019776': 18026, '1963576': 18027, '2536362': 18028, '2210387': 18029, '1874618': 18030, '990918': 18031, '1194467': 18032, '2419256': 18033, '1419882': 18034, '177123': 18035, '2500094': 18036, '2352972': 18037, '1542460': 18038, '2359778': 18039, '402789': 18040, '1816372': 18041, '1178846': 18042, '167763': 18043, '1873377': 18044, '2052334': 18045, '674232': 18046, '91892': 18047, '897304': 18048, '1353216': 18049, '607621': 18050, '2426498': 18051, '1262329': 18052, '2580917': 18053, '2526309': 18054, '1613882': 18055, '163063': 18056, '2349759': 18057, '2568295': 18058, '2264352': 18059, '1894534': 18060, '752668': 18061, '284823': 18062, '399772': 18063, '2315679': 18064, '1899708': 18065, '1673934': 18066, '2407926': 18067, '465497': 18068, '1333129': 18069, '1598669': 18070, '1659198': 18071, '492058': 18072, '2249111': 18073, '2486520': 18074, '2588605': 18075, '1063035': 18076, '822140': 18077, '2129407': 18078, '1756111': 18079, '1068777': 18080, '1247329': 18081, '1788305': 18082, '1030186': 18083, '1782115': 18084, '1429631': 18085, '1355066': 18086, '1035019': 18087, '1970583': 18088, '1314890': 18089, '774061': 18090, '1562015': 18091, '1282169': 18092, '367933': 18093, '1942793': 18094, '269088': 18095, '1835359': 18096, '2255117': 18097, '1824389': 18098, '1463153': 18099, '1405379': 18100, '1993568': 18101, '761524': 18102, '1917585': 18103, '1538173': 18104, '316591': 18105, '551937': 18106, '134182': 18107, '1487437': 18108, '342330': 18109, '2241241': 18110, '1520304': 18111, '1521868': 18112, '2480664': 18113, '2530642': 18114, '959443': 18115, '466985': 18116, '2011398': 18117, '2622843': 18118, '2204903': 18119, '570414': 18120, '752338': 18121, '1803828': 18122, '998010': 18123, '2480287': 18124, '880035': 18125, '1928597': 18126, '2568178': 18127, '79524': 18128, '998229': 18129, '490992': 18130, '429034': 18131, '763840': 18132, '2340361': 18133, '1819877': 18134, '2601892': 18135, '1550650': 18136, '492714': 18137, '930604': 18138, '450285': 18139, '371382': 18140, '863644': 18141, '1649582': 18142, '1423063': 18143, '699787': 18144, '1842150': 18145, '1454142': 18146, '2212463': 18147, '1036918': 18148, '765633': 18149, '687445': 18150, '2579306': 18151, '1673078': 18152, '1558180': 18153, '1995832': 18154, '793027': 18155, '1306494': 18156, '1074718': 18157, '71426': 18158, '1142380': 18159, '1681382': 18160, '1946303': 18161, '892278': 18162, '1432044': 18163, '730855': 18164, '2400258': 18165, '2571972': 18166, '1476270': 18167, '15732': 18168, '2303456': 18169, '2185534': 18170, '249288': 18171, '1046137': 18172, '1605124': 18173, '923084': 18174, '1711710': 18175, '2048686': 18176, '2059716': 18177, '86966': 18178, '1206822': 18179, '1445236': 18180, '345186': 18181, '264923': 18182, '2643057': 18183, '638075': 18184, '1156403': 18185, '831151': 18186, '1678272': 18187, '96757': 18188, '2511101': 18189, '740515': 18190, '1254452': 18191, '1278390': 18192, '990773': 18193, '2539735': 18194, '506953': 18195, '1115567': 18196, '1215574': 18197, '2196599': 18198, '2205314': 18199, '621932': 18200, '2503583': 18201, '1783491': 18202, '1919448': 18203, '1384702': 18204, '2432717': 18205, '1851429': 18206, '824655': 18207, '1427343': 18208, '237449': 18209, '1646693': 18210, '264900': 18211, '1739170': 18212, '1846965': 18213, '912309': 18214, '1544409': 18215, '902050': 18216, '306311': 18217, '2576196': 18218, '972399': 18219, '1352115': 18220, '2346704': 18221, '1354427': 18222, '662707': 18223, '91893': 18224, '321819': 18225, '1498815': 18226, '1943753': 18227, '141034': 18228, '236290': 18229, '2109681': 18230, '1178171': 18231, '2291972': 18232, '786787': 18233, '2105033': 18234, '945992': 18235, '1973114': 18236, '851479': 18237, '2459573': 18238, '1350489': 18239, '1924968': 18240, '1033815': 18241, '399643': 18242, '861532': 18243, '1114141': 18244, '995935': 18245, '726342': 18246, '2220099': 18247, '382186': 18248, '361702': 18249, '2065684': 18250, '465616': 18251, '1004716': 18252, '1682169': 18253, '2642466': 18254, '2337014': 18255, '511847': 18256, '523688': 18257, '728171': 18258, '165377': 18259, '40445': 18260, '50465': 18261, '360737': 18262, '776134': 18263, '907347': 18264, '963705': 18265, '1616634': 18266, '1475516': 18267, '1411327': 18268, '2030201': 18269, '2341871': 18270, '1187565': 18271, '1391246': 18272, '826062': 18273, '1980782': 18274, '747550': 18275, '1475461': 18276, '1320147': 18277, '2441692': 18278, '719022': 18279, '474112': 18280, '2381076': 18281, '2489526': 18282, '194373': 18283, '609895': 18284, '1096159': 18285, '48657': 18286, '1677064': 18287, '1636987': 18288, '37591': 18289, '2351412': 18290, '800924': 18291, '1577578': 18292, '2259598': 18293, '29827': 18294, '1713085': 18295, '606497': 18296, '2173758': 18297, '650326': 18298, '2185798': 18299, '1630758': 18300, '1949341': 18301, '1374435': 18302, '578455': 18303, '1611752': 18304, '1922405': 18305, '2183347': 18306, '1790092': 18307, '800445': 18308, '1825395': 18309, '455711': 18310, '1905498': 18311, '2002421': 18312, '1858770': 18313, '467381': 18314, '2405311': 18315, '594729': 18316, '1952339': 18317, '309333': 18318, '471662': 18319, '2290616': 18320, '950398': 18321, '623496': 18322, '2262372': 18323, '1711505': 18324, '1459059': 18325, '721771': 18326, '2407177': 18327, '1434713': 18328, '1584463': 18329, '1069413': 18330, '174753': 18331, '776931': 18332, '1554139': 18333, '2483353': 18334, '7601': 18335, '1270901': 18336, '1335436': 18337, '813594': 18338, '2311296': 18339, '2270699': 18340, '1358362': 18341, '856146': 18342, '515313': 18343, '270049': 18344, '1822001': 18345, '906596': 18346, '1968862': 18347, '2215309': 18348, '24995': 18349, '2162424': 18350, '1167521': 18351, '376576': 18352, '150998': 18353, '344131': 18354, '2543482': 18355, '1187924': 18356, '808847': 18357, '2076055': 18358, '1657342': 18359, '1939739': 18360, '18432': 18361, '2014346': 18362, '1457892': 18363, '379350': 18364, '13843': 18365, '2079484': 18366, '2067793': 18367, '386156': 18368, '1853431': 18369, '2592095': 18370, '1498526': 18371, '1575181': 18372, '152178': 18373, '704058': 18374, '219746': 18375, '505317': 18376, '1279821': 18377, '2337931': 18378, '1405556': 18379, '1124126': 18380, '2608976': 18381, '361763': 18382, '921658': 18383, '2102846': 18384, '2647871': 18385, '887059': 18386, '2281332': 18387, '2161899': 18388, '329670': 18389, '1532775': 18390, '1357202': 18391, '914728': 18392, '551785': 18393, '969785': 18394, '2261959': 18395, '2042162': 18396, '1390621': 18397, '1372463': 18398, '2583140': 18399, '1442622': 18400, '2051379': 18401, '1900750': 18402, '1397103': 18403, '1942739': 18404, '2574990': 18405, '1806731': 18406, '803979': 18407, '2557152': 18408, '79224': 18409, '4706': 18410, '2522831': 18411, '2364842': 18412, '559344': 18413, '1445547': 18414, '294330': 18415, '1551419': 18416, '1132431': 18417, '1924377': 18418, '1949018': 18419, '133690': 18420, '2373330': 18421, '1135679': 18422, '1305946': 18423, '2340228': 18424, '1687459': 18425, '439923': 18426, '74670': 18427, '90332': 18428, '116761': 18429, '2415495': 18430, '1413747': 18431, '2172463': 18432, '2020252': 18433, '1494196': 18434, '1549491': 18435, '1261789': 18436, '1441959': 18437, '466862': 18438, '1207913': 18439, '477782': 18440, '2626507': 18441, '1663211': 18442, '2615317': 18443, '1652323': 18444, '727006': 18445, '2170242': 18446, '1689050': 18447, '542817': 18448, '173301': 18449, '469525': 18450, '1836545': 18451, '1809046': 18452, '2044587': 18453, '1220079': 18454, '1549730': 18455, '2311049': 18456, '477297': 18457, '1218946': 18458, '443447': 18459, '709185': 18460, '1939763': 18461, '1886995': 18462, '546578': 18463, '656811': 18464, '2403156': 18465, '1398928': 18466, '2315626': 18467, '1444271': 18468, '1738784': 18469, '2513621': 18470, '4057': 18471, '2099899': 18472, '1212375': 18473, '2617068': 18474, '787595': 18475, '1475543': 18476, '1034714': 18477, '867381': 18478, '2325330': 18479, '799542': 18480, '1933656': 18481, '785917': 18482, '1678976': 18483, '2307374': 18484, '1681193': 18485, '734172': 18486, '1236105': 18487, '610692': 18488, '613712': 18489, '1478134': 18490, '24705': 18491, '2636145': 18492, '529849': 18493, '397923': 18494, '569773': 18495, '2616306': 18496, '1776654': 18497, '2477588': 18498, '1187949': 18499, '2390783': 18500, '1856085': 18501, '2368442': 18502, '6785': 18503, '2586810': 18504, '472734': 18505, '1980305': 18506, '584973': 18507, '5618': 18508, '1739615': 18509, '2344483': 18510, '85488': 18511, '136939': 18512, '2008457': 18513, '394370': 18514, '1868486': 18515, '250618': 18516, '2173557': 18517, '2379296': 18518, '462128': 18519, '2468476': 18520, '1134222': 18521, '500629': 18522, '902913': 18523, '294908': 18524, '2389578': 18525, '923325': 18526, '1375565': 18527, '2331985': 18528, '1288744': 18529, '2073647': 18530, '1899031': 18531, '1391668': 18532, '796157': 18533, '1676513': 18534, '139994': 18535, '410206': 18536, '2539772': 18537, '1540360': 18538, '1139610': 18539, '954924': 18540, '1992962': 18541, '876375': 18542, '1935323': 18543, '1896177': 18544, '1607555': 18545, '93695': 18546, '2299681': 18547, '568177': 18548, '1630714': 18549, '414604': 18550, '1324057': 18551, '1687663': 18552, '1935981': 18553, '2527484': 18554, '1610646': 18555, '1856059': 18556, '1076087': 18557, '2222535': 18558, '603466': 18559, '1064977': 18560, '1615638': 18561, '761787': 18562, '1036776': 18563, '1611338': 18564, '1786296': 18565, '1767265': 18566, '1810670': 18567, '1209453': 18568, '1954411': 18569, '2319353': 18570, '117535': 18571, '943265': 18572, '1087451': 18573, '1507253': 18574, '1568024': 18575, '2489545': 18576, '2123669': 18577, '279786': 18578, '2325413': 18579, '2142951': 18580, '2157004': 18581, '2625371': 18582, '1777762': 18583, '2069625': 18584, '2129672': 18585, '834612': 18586, '1181115': 18587, '604856': 18588, '2099107': 18589, '729527': 18590, '940910': 18591, '561531': 18592, '402389': 18593, '704117': 18594, '1654264': 18595, '2534367': 18596, '361543': 18597, '2640999': 18598, '918750': 18599, '1919580': 18600, '2245883': 18601, '1269998': 18602, '1659075': 18603, '1048579': 18604, '2307786': 18605, '1419576': 18606, '277541': 18607, '1884737': 18608, '1015930': 18609, '122431': 18610, '2456787': 18611, '1191566': 18612, '1169796': 18613, '2040946': 18614, '911745': 18615, '1460630': 18616, '288307': 18617, '146070': 18618, '542001': 18619, '696400': 18620, '853170': 18621, '1501869': 18622, '1185017': 18623, '2471102': 18624, '2058629': 18625, '1910236': 18626, '666480': 18627, '2595011': 18628, '774251': 18629, '692048': 18630, '1760132': 18631, '219481': 18632, '2489070': 18633, '387897': 18634, '1168926': 18635, '649770': 18636, '2592938': 18637, '1400327': 18638, '118224': 18639, '999378': 18640, '2083964': 18641, '143938': 18642, '1580032': 18643, '232549': 18644, '113767': 18645, '182016': 18646, '1439577': 18647, '2389860': 18648, '1637299': 18649, '1385044': 18650, '1132203': 18651, '2226346': 18652, '134845': 18653, '1141848': 18654, '1753286': 18655, '1822751': 18656, '675056': 18657, '880635': 18658, '2053910': 18659, '1006350': 18660, '373898': 18661, '720852': 18662, '2583895': 18663, '1825515': 18664, '1717746': 18665, '2251669': 18666, '2583754': 18667, '1462211': 18668, '2499000': 18669, '222956': 18670, '16581': 18671, '795638': 18672, '1108065': 18673, '1611206': 18674, '1743858': 18675, '1229969': 18676, '477659': 18677, '1392053': 18678, '981808': 18679, '901069': 18680, '801128': 18681, '458143': 18682, '1326360': 18683, '1054140': 18684, '1007328': 18685, '264305': 18686, '2049454': 18687, '1988325': 18688, '2289098': 18689, '1264995': 18690, '1099404': 18691, '846314': 18692, '1638551': 18693, '135594': 18694, '1139518': 18695, '102721': 18696, '1995265': 18697, '2115175': 18698, '2636960': 18699, '303002': 18700, '292269': 18701, '697116': 18702, '2198355': 18703, '1459323': 18704, '759902': 18705, '2485434': 18706, '2102768': 18707, '657712': 18708, '2446506': 18709, '1983362': 18710, '1663168': 18711, '2081751': 18712, '1065302': 18713, '1309057': 18714, '951906': 18715, '755773': 18716, '1596858': 18717, '2001197': 18718, '319526': 18719, '2619115': 18720, '1207170': 18721, '567298': 18722, '156622': 18723, '1417435': 18724, '633570': 18725, '855281': 18726, '1714902': 18727, '448086': 18728, '518765': 18729, '604867': 18730, '1885503': 18731, '1273304': 18732, '1126513': 18733, '135932': 18734, '2577597': 18735, '103968': 18736, '1841951': 18737, '2255608': 18738, '934693': 18739, '291018': 18740, '1223966': 18741, '1310177': 18742, '312299': 18743, '2207893': 18744, '704223': 18745, '669921': 18746, '1389153': 18747, '2269901': 18748, '2035462': 18749, '2107866': 18750, '717024': 18751, '1967145': 18752, '1192459': 18753, '2206151': 18754, '690331': 18755, '937784': 18756, '1288627': 18757, '928057': 18758, '940885': 18759, '1511920': 18760, '924399': 18761, '1785838': 18762, '498214': 18763, '1860025': 18764, '827057': 18765, '150344': 18766, '906509': 18767, '971434': 18768, '312706': 18769, '1594839': 18770, '717332': 18771, '2392201': 18772, '1500014': 18773, '252230': 18774, '1993440': 18775, '936393': 18776, '1761905': 18777, '2157302': 18778, '1189694': 18779, '2365398': 18780, '1728924': 18781, '2497577': 18782, '324887': 18783, '2544311': 18784, '318032': 18785, '1347916': 18786, '2351580': 18787, '774250': 18788, '169311': 18789, '2537745': 18790, '1661583': 18791, '568603': 18792, '276617': 18793, '2379147': 18794, '1534444': 18795, '2603678': 18796, '313673': 18797, '1400870': 18798, '726171': 18799, '1804819': 18800, '1122818': 18801, '1000779': 18802, '1450660': 18803, '2204072': 18804, '372095': 18805, '193838': 18806, '2566950': 18807, '2347755': 18808, '2190628': 18809, '2490508': 18810, '1826801': 18811, '2645399': 18812, '1987434': 18813, '27870': 18814, '1067664': 18815, '1341649': 18816, '1996893': 18817, '1190655': 18818, '2296189': 18819, '35824': 18820, '881356': 18821, '2420366': 18822, '120113': 18823, '1587985': 18824, '1387720': 18825, '202501': 18826, '1964767': 18827, '2144951': 18828, '371245': 18829, '222832': 18830, '579959': 18831, '1897386': 18832, '708831': 18833, '1949399': 18834, '1829685': 18835, '889687': 18836, '1493030': 18837, '1172177': 18838, '494514': 18839, '527541': 18840, '1418637': 18841, '2158968': 18842, '2385925': 18843, '941661': 18844, '2483928': 18845, '1225596': 18846, '2544118': 18847, '2351276': 18848, '2322224': 18849, '2512235': 18850, '536334': 18851, '1725885': 18852, '898403': 18853, '2208519': 18854, '740929': 18855, '1036336': 18856, '2477965': 18857, '2424587': 18858, '741179': 18859, '2392799': 18860, '1455336': 18861, '423522': 18862, '2450983': 18863, '2211057': 18864, '399693': 18865, '1033629': 18866, '2618211': 18867, '581930': 18868, '1626426': 18869, '1886077': 18870, '2509200': 18871, '2190053': 18872, '2542635': 18873, '1267394': 18874, '1891693': 18875, '2128893': 18876, '1832308': 18877, '1491101': 18878, '2320808': 18879, '1676869': 18880, '2412596': 18881, '2180255': 18882, '914358': 18883, '1943174': 18884, '2247982': 18885, '1556647': 18886, '167227': 18887, '2211440': 18888, '2628220': 18889, '1207990': 18890, '1308242': 18891, '1174541': 18892, '1204323': 18893, '1120853': 18894, '108592': 18895, '759289': 18896, '1312635': 18897, '2242958': 18898, '24600': 18899, '1640546': 18900, '25825': 18901, '1217553': 18902, '1172667': 18903, '1632338': 18904, '2495108': 18905, '20774': 18906, '1111964': 18907, '60529': 18908, '374380': 18909, '701678': 18910, '784208': 18911, '35224': 18912, '1850353': 18913, '1174910': 18914, '2154144': 18915, '681642': 18916, '1416817': 18917, '1717675': 18918, '2289283': 18919, '2286536': 18920, '298900': 18921, '218016': 18922, '1965439': 18923, '673671': 18924, '2140569': 18925, '506372': 18926, '1194594': 18927, '1670302': 18928, '1367906': 18929, '993775': 18930, '2530108': 18931, '823372': 18932, '360347': 18933, '797525': 18934, '1976745': 18935, '1331636': 18936, '2188296': 18937, '2339332': 18938, '97157': 18939, '1195392': 18940, '2035541': 18941, '2559471': 18942, '2011000': 18943, '1427590': 18944, '2111055': 18945, '1267957': 18946, '78885': 18947, '385974': 18948, '1147853': 18949, '1366312': 18950, '1365272': 18951, '409327': 18952, '1158806': 18953, '690837': 18954, '1284186': 18955, '1024554': 18956, '41412': 18957, '1128178': 18958, '1326154': 18959, '2359796': 18960, '2603700': 18961, '1233695': 18962, '1353938': 18963, '1115632': 18964, '2432917': 18965, '2022235': 18966, '1072585': 18967, '1107860': 18968, '599529': 18969, '2385309': 18970, '935413': 18971, '2236255': 18972, '1634219': 18973, '1912807': 18974, '2427770': 18975, '2096950': 18976, '2201715': 18977, '2595820': 18978, '1089800': 18979, '1267805': 18980, '2168506': 18981, '1291419': 18982, '622945': 18983, '226010': 18984, '540807': 18985, '1542754': 18986, '1083666': 18987, '55018': 18988, '2186742': 18989, '417247': 18990, '1868691': 18991, '948447': 18992, '957143': 18993, '2287919': 18994, '2424911': 18995, '658645': 18996, '377975': 18997, '506088': 18998, '1725226': 18999, '2492154': 19000, '2468443': 19001, '804044': 19002, '1367152': 19003, '1967445': 19004, '1336330': 19005, '981995': 19006, '33089': 19007, '2227850': 19008, '1370787': 19009, '2333435': 19010, '1490567': 19011, '916342': 19012, '577350': 19013, '540417': 19014, '1125570': 19015, '360556': 19016, '844207': 19017, '480075': 19018, '2279651': 19019, '1182702': 19020, '247940': 19021, '1378126': 19022, '1931870': 19023, '1637067': 19024, '2535512': 19025, '1486735': 19026, '833381': 19027, '229165': 19028, '433891': 19029, '854575': 19030, '2256870': 19031, '2361606': 19032, '2296658': 19033, '1471629': 19034, '1008097': 19035, '1713226': 19036, '1399783': 19037, '2602396': 19038, '206839': 19039, '1572525': 19040, '731232': 19041, '2042756': 19042, '878341': 19043, '2053984': 19044, '2472771': 19045, '1308722': 19046, '1883721': 19047, '2494428': 19048, '1682916': 19049, '928262': 19050, '1183437': 19051, '1230729': 19052, '933003': 19053, '515952': 19054, '412211': 19055, '30751': 19056, '795856': 19057, '2061879': 19058, '2396631': 19059, '158954': 19060, '1997963': 19061, '936290': 19062, '937361': 19063, '1190468': 19064, '2502336': 19065, '272222': 19066, '2203248': 19067, '950299': 19068, '1339156': 19069, '947661': 19070, '2061241': 19071, '469727': 19072, '2634610': 19073, '2134385': 19074, '1482441': 19075, '1933406': 19076, '654283': 19077, '2447861': 19078, '400294': 19079, '939846': 19080, '723408': 19081, '1565851': 19082, '2533726': 19083, '2360244': 19084, '2637760': 19085, '1691656': 19086, '501823': 19087, '2124347': 19088, '1876297': 19089, '957334': 19090, '416536': 19091, '2110341': 19092, '582957': 19093, '794657': 19094, '531748': 19095, '2491272': 19096, '2352094': 19097, '886452': 19098, '1536111': 19099, '1284912': 19100, '598781': 19101, '1835080': 19102, '870391': 19103, '675410': 19104, '2367508': 19105, '335615': 19106, '528560': 19107, '1672014': 19108, '1476852': 19109, '1248827': 19110, '1133966': 19111, '1478875': 19112, '2444240': 19113, '2260540': 19114, '2056554': 19115, '1521143': 19116, '496831': 19117, '689758': 19118, '1522555': 19119, '667573': 19120, '1637804': 19121, '1632243': 19122, '2167041': 19123, '1619747': 19124, '460448': 19125, '1816834': 19126, '1654137': 19127, '2461508': 19128, '1421792': 19129, '1036692': 19130, '2034101': 19131, '1576102': 19132, '2053064': 19133, '1860332': 19134, '633303': 19135, '1296087': 19136, '2553495': 19137, '1013077': 19138, '919823': 19139, '1359770': 19140, '1742805': 19141, '869097': 19142, '111002': 19143, '1669107': 19144, '1454964': 19145, '1299497': 19146, '974864': 19147, '1221897': 19148, '2005154': 19149, '589950': 19150, '135997': 19151, '1952604': 19152, '1020214': 19153, '1836980': 19154, '1294548': 19155, '1181056': 19156, '1863119': 19157, '65972': 19158, '680004': 19159, '2205547': 19160, '1690473': 19161, '713765': 19162, '1644034': 19163, '942668': 19164, '318235': 19165, '1526354': 19166, '1729276': 19167, '1000596': 19168, '2328632': 19169, '1451734': 19170, '1634461': 19171, '1795110': 19172, '1401310': 19173, '722175': 19174, '1160232': 19175, '563019': 19176, '463102': 19177, '2112089': 19178, '1602759': 19179, '1190158': 19180, '1065000': 19181, '1795822': 19182, '63452': 19183, '2387950': 19184, '887963': 19185, '213704': 19186, '381828': 19187, '2470054': 19188, '1554196': 19189, '523130': 19190, '879551': 19191, '1455281': 19192, '97895': 19193, '482590': 19194, '549416': 19195, '801573': 19196, '1123424': 19197, '2385134': 19198, '1372226': 19199, '1315379': 19200, '671440': 19201, '705166': 19202, '2440481': 19203, '895691': 19204, '624038': 19205, '36629': 19206, '3694': 19207, '643641': 19208, '366915': 19209, '1210147': 19210, '198459': 19211, '544571': 19212, '1284297': 19213, '630153': 19214, '2610423': 19215, '1255081': 19216, '544833': 19217, '2051123': 19218, '767691': 19219, '916727': 19220, '1771677': 19221, '1235769': 19222, '626118': 19223, '2031576': 19224, '1473381': 19225, '2256674': 19226, '1961864': 19227, '1634649': 19228, '506346': 19229, '1324068': 19230, '115507': 19231, '1856091': 19232, '2407568': 19233, '1829062': 19234, '2545922': 19235, '841229': 19236, '1489666': 19237, '482921': 19238, '2161399': 19239, '137765': 19240, '1425656': 19241, '206222': 19242, '2493354': 19243, '1009182': 19244, '1504990': 19245, '1050678': 19246, '1425971': 19247, '1278882': 19248, '1407104': 19249, '1870333': 19250, '301501': 19251, '539044': 19252, '1192771': 19253, '770567': 19254, '768771': 19255, '183880': 19256, '449335': 19257, '2021988': 19258, '2032162': 19259, '2299730': 19260, '710534': 19261, '2539534': 19262, '856918': 19263, '2380329': 19264, '1537983': 19265, '261348': 19266, '1593063': 19267, '408189': 19268, '1532684': 19269, '237161': 19270, '1493593': 19271, '19080': 19272, '2472546': 19273, '2418869': 19274, '2150155': 19275, '1330226': 19276, '1456333': 19277, '2463409': 19278, '11430': 19279, '1708554': 19280, '820624': 19281, '1350353': 19282, '685718': 19283, '1227238': 19284, '2420384': 19285, '260080': 19286, '1177848': 19287, '1779681': 19288, '757005': 19289, '2146672': 19290, '117959': 19291, '1242653': 19292, '628120': 19293, '865926': 19294, '1442105': 19295, '1079408': 19296, '1972488': 19297, '501068': 19298, '2425662': 19299, '843971': 19300, '745542': 19301, '2608766': 19302, '799667': 19303, '679429': 19304, '2522284': 19305, '2588432': 19306, '1723385': 19307, '2324305': 19308, '763571': 19309, '935453': 19310, '1762296': 19311, '17186': 19312, '1184071': 19313, '1618396': 19314, '465713': 19315, '986794': 19316, '1290148': 19317, '604173': 19318, '2489480': 19319, '1698636': 19320, '2489039': 19321, '121369': 19322, '1802819': 19323, '330566': 19324, '497953': 19325, '2197243': 19326, '1144520': 19327, '2421651': 19328, '710783': 19329, '116502': 19330, '1364702': 19331, '410857': 19332, '2557650': 19333, '2071995': 19334, '1900118': 19335, '2440674': 19336, '522647': 19337, '552468': 19338, '2443690': 19339, '1583994': 19340, '1389360': 19341, '1528019': 19342, '918021': 19343, '2523030': 19344, '2649285': 19345, '1242406': 19346, '1794015': 19347, '153576': 19348, '2081171': 19349, '1053731': 19350, '1353286': 19351, '1829704': 19352, '2106057': 19353, '477502': 19354, '906675': 19355, '2251674': 19356, '2566318': 19357, '1236413': 19358, '491769': 19359, '688182': 19360, '894921': 19361, '1788733': 19362, '2303393': 19363, '89453': 19364, '947104': 19365, '1011918': 19366, '2006011': 19367, '1750288': 19368, '1866838': 19369, '1370190': 19370, '1085488': 19371, '2605347': 19372, '1110479': 19373, '1656837': 19374, '9964': 19375, '377808': 19376, '2161891': 19377, '1116538': 19378, '2430062': 19379, '1810656': 19380, '583070': 19381, '271346': 19382, '4421': 19383, '778283': 19384, '2305164': 19385, '338047': 19386, '2598730': 19387, '313391': 19388, '2438832': 19389, '1877332': 19390, '2144594': 19391, '687010': 19392, '407877': 19393, '2009653': 19394, '1684516': 19395, '1885459': 19396, '722033': 19397, '1518104': 19398, '770268': 19399, '424228': 19400, '1348610': 19401, '7063': 19402, '1439261': 19403, '1787038': 19404, '1497131': 19405, '1687961': 19406, '70125': 19407, '2349059': 19408, '115937': 19409, '242209': 19410, '426198': 19411, '2530263': 19412, '2604442': 19413, '1192969': 19414, '1391206': 19415, '1070584': 19416, '789408': 19417, '1780200': 19418, '101123': 19419, '2458647': 19420, '826896': 19421, '837993': 19422, '1376939': 19423, '152713': 19424, '698125': 19425, '2157783': 19426, '2502816': 19427, '1816535': 19428, '30941': 19429, '2131676': 19430, '1492122': 19431, '769404': 19432, '1108339': 19433, '1453242': 19434, '1021583': 19435, '1706866': 19436, '1930587': 19437, '1644320': 19438, '2644448': 19439, '966983': 19440, '2527376': 19441, '2421781': 19442, '2316963': 19443, '106615': 19444, '156821': 19445, '905334': 19446, '2407606': 19447, '47400': 19448, '1043309': 19449, '982594': 19450, '147644': 19451, '1077173': 19452, '2636126': 19453, '2184619': 19454, '2180924': 19455, '660487': 19456, '1148409': 19457, '136381': 19458, '2457851': 19459, '87360': 19460, '2456635': 19461, '1624047': 19462, '2243394': 19463, '154009': 19464, '2167828': 19465, '2374631': 19466, '1452283': 19467, '941970': 19468, '1251306': 19469, '1481210': 19470, '1287593': 19471, '382906': 19472, '301272': 19473, '1712855': 19474, '799733': 19475, '1471251': 19476, '1536967': 19477, '165369': 19478, '2347526': 19479, '2174723': 19480, '1861482': 19481, '1844991': 19482, '1505330': 19483, '1833866': 19484, '1366054': 19485, '1565184': 19486, '850652': 19487, '379787': 19488, '243739': 19489, '994370': 19490, '1336875': 19491, '1225643': 19492, '1442089': 19493, '2505894': 19494, '848443': 19495, '187515': 19496, '93917': 19497, '1211946': 19498, '981800': 19499, '1107303': 19500, '137781': 19501, '1078285': 19502, '1044686': 19503, '539310': 19504, '1254561': 19505, '357883': 19506, '1113878': 19507, '1215796': 19508, '598790': 19509, '1170130': 19510, '2315038': 19511, '893701': 19512, '1073910': 19513, '2498797': 19514, '2198070': 19515, '516237': 19516, '521074': 19517, '1092131': 19518, '1401861': 19519, '2555761': 19520, '1143036': 19521, '44516': 19522, '485249': 19523, '371750': 19524, '1048199': 19525, '1923886': 19526, '2627087': 19527, '1782687': 19528, '2166690': 19529, '2179859': 19530, '650960': 19531, '1435555': 19532, '2497520': 19533, '1510503': 19534, '1581439': 19535, '1725567': 19536, '2114455': 19537, '1781280': 19538, '308495': 19539, '1574503': 19540, '1684797': 19541, '2500722': 19542, '1339740': 19543, '397898': 19544, '2596745': 19545, '2552963': 19546, '1751471': 19547, '886841': 19548, '732955': 19549, '70281': 19550, '439871': 19551, '1318976': 19552, '2209835': 19553, '309038': 19554, '2551112': 19555, '281537': 19556, '1174324': 19557, '1335416': 19558, '2579439': 19559, '74701': 19560, '736962': 19561, '1303244': 19562, '1141769': 19563, '2516288': 19564, '805343': 19565, '805988': 19566, '2628018': 19567, '507140': 19568, '1562968': 19569, '1118643': 19570, '1098965': 19571, '2641580': 19572, '1528122': 19573, '1029833': 19574, '2385741': 19575, '1145939': 19576, '1765512': 19577, '1793062': 19578, '1594251': 19579, '53243': 19580, '1899679': 19581, '1535968': 19582, '2586121': 19583, '2437320': 19584, '1167873': 19585, '1681055': 19586, '876005': 19587, '643374': 19588, '405075': 19589, '2575940': 19590, '1631532': 19591, '400076': 19592, '1426838': 19593, '2613976': 19594, '46036': 19595, '1084524': 19596, '10337': 19597, '2286388': 19598, '1746121': 19599, '2488350': 19600, '1187765': 19601, '1590157': 19602, '99614': 19603, '514618': 19604, '2490170': 19605, '17421': 19606, '1357428': 19607, '795510': 19608, '1955628': 19609, '1187749': 19610, '2032679': 19611, '1638987': 19612, '2299847': 19613, '2470194': 19614, '504243': 19615, '1573230': 19616, '1167175': 19617, '265848': 19618, '1543281': 19619, '1585767': 19620, '1753963': 19621, '1716427': 19622, '302162': 19623, '2285616': 19624, '1851757': 19625, '1671431': 19626, '2245579': 19627, '875209': 19628, '332627': 19629, '1763653': 19630, '1872071': 19631, '972630': 19632, '1719288': 19633, '1223807': 19634, '811104': 19635, '1792974': 19636, '321612': 19637, '1548339': 19638, '1351529': 19639, '1928583': 19640, '724097': 19641, '1034375': 19642, '951709': 19643, '1996688': 19644, '1486878': 19645, '1936837': 19646, '1141463': 19647, '1848661': 19648, '1476342': 19649, '2147047': 19650, '2397204': 19651, '1470152': 19652, '962631': 19653, '114576': 19654, '1744939': 19655, '1523524': 19656, '2119358': 19657, '566604': 19658, '1998654': 19659, '2637886': 19660, '1773264': 19661, '396855': 19662, '1004481': 19663, '1864909': 19664, '1438269': 19665, '2533336': 19666, '2047597': 19667, '2613456': 19668, '2602083': 19669, '2312725': 19670, '1076056': 19671, '1797765': 19672, '1123324': 19673, '206761': 19674, '529889': 19675, '1188167': 19676, '1086736': 19677, '1939632': 19678, '1462799': 19679, '631075': 19680, '1558683': 19681, '688455': 19682, '2065106': 19683, '833659': 19684, '1997474': 19685, '1623132': 19686, '521082': 19687, '2034703': 19688, '2329565': 19689, '1553153': 19690, '538321': 19691, '2372856': 19692, '1582575': 19693, '610760': 19694, '1551351': 19695, '1989562': 19696, '1776165': 19697, '255229': 19698, '1650205': 19699, '1868586': 19700, '390707': 19701, '1860860': 19702, '1919401': 19703, '265915': 19704, '621779': 19705, '560086': 19706, '827373': 19707, '1833607': 19708, '834395': 19709, '2476195': 19710, '2159478': 19711, '1545312': 19712, '1401726': 19713, '1229752': 19714, '361070': 19715, '1222903': 19716, '637473': 19717, '1576028': 19718, '446342': 19719, '2445470': 19720, '1135038': 19721, '2005146': 19722, '2308706': 19723, '1664306': 19724, '1547747': 19725, '651010': 19726, '2546946': 19727, '1789010': 19728, '2044724': 19729, '400462': 19730, '1809679': 19731, '1882719': 19732, '779476': 19733, '2329196': 19734, '348661': 19735, '1628912': 19736, '1254683': 19737, '1143837': 19738, '274650': 19739, '1007245': 19740, '207793': 19741, '394622': 19742, '167848': 19743, '2569044': 19744, '21677': 19745, '1282240': 19746, '753283': 19747, '1268760': 19748, '691833': 19749, '2041150': 19750, '1304853': 19751, '1229252': 19752, '1658010': 19753, '168892': 19754, '376197': 19755, '184199': 19756, '487796': 19757, '1337310': 19758, '1378838': 19759, '643778': 19760, '861533': 19761, '1860246': 19762, '2596673': 19763, '1535722': 19764, '888773': 19765, '2000674': 19766, '707290': 19767, '1978837': 19768, '1316174': 19769, '355742': 19770, '1647244': 19771, '1945029': 19772, '2299723': 19773, '2434187': 19774, '353281': 19775, '2226028': 19776, '1478657': 19777, '520283': 19778, '2079810': 19779, '990789': 19780, '160247': 19781, '1163948': 19782, '546161': 19783, '2529138': 19784, '2603624': 19785, '279724': 19786, '1607300': 19787, '829911': 19788, '2587540': 19789, '2288564': 19790, '2152692': 19791, '429038': 19792, '1336345': 19793, '202558': 19794, '581517': 19795, '2622076': 19796, '1130999': 19797, '2086999': 19798, '2524668': 19799, '349743': 19800, '237175': 19801, '1964903': 19802, '681348': 19803, '1099722': 19804, '674590': 19805, '1680375': 19806, '1278338': 19807, '2126068': 19808, '2259279': 19809, '1498538': 19810, '1814941': 19811, '1634558': 19812, '2491817': 19813, '1765595': 19814, '2541447': 19815, '950078': 19816, '1196269': 19817, '1429068': 19818, '108360': 19819, '1747574': 19820, '1705330': 19821, '2212610': 19822, '318920': 19823, '1036167': 19824, '2511049': 19825, '1667925': 19826, '1744601': 19827, '627503': 19828, '1682749': 19829, '122786': 19830, '2187764': 19831, '282618': 19832, '1148500': 19833, '697536': 19834, '2160829': 19835, '1182503': 19836, '1486829': 19837, '561708': 19838, '18830': 19839, '419238': 19840, '195120': 19841, '1713267': 19842, '1129076': 19843, '1711016': 19844, '2645671': 19845, '633317': 19846, '1961542': 19847, '1051070': 19848, '2587732': 19849, '1214543': 19850, '285164': 19851, '2254121': 19852, '1702903': 19853, '2284803': 19854, '2629996': 19855, '1176779': 19856, '1990657': 19857, '2055183': 19858, '632738': 19859, '2589121': 19860, '178588': 19861, '723219': 19862, '289419': 19863, '554383': 19864, '928948': 19865, '1218802': 19866, '1274584': 19867, '2537719': 19868, '181666': 19869, '1493697': 19870, '2537473': 19871, '110472': 19872, '1537868': 19873, '2292257': 19874, '240121': 19875, '2601024': 19876, '1532087': 19877, '1622338': 19878, '751834': 19879, '431098': 19880, '1802986': 19881, '395672': 19882, '830932': 19883, '2542255': 19884, '1782505': 19885, '2613474': 19886, '47236': 19887, '1765211': 19888, '761458': 19889, '1738753': 19890, '1858305': 19891, '168902': 19892, '2310410': 19893, '1027371': 19894, '2074808': 19895, '1578405': 19896, '1473602': 19897, '1724291': 19898, '504709': 19899, '1532220': 19900, '1877238': 19901, '845597': 19902, '312903': 19903, '1951900': 19904, '2258287': 19905, '296153': 19906, '424505': 19907, '2299957': 19908, '1902510': 19909, '2633092': 19910, '2547639': 19911, '229472': 19912, '1107099': 19913, '2274652': 19914, '2149665': 19915, '768483': 19916, '2090127': 19917, '20223': 19918, '1725008': 19919, '4315': 19920, '784283': 19921, '396942': 19922, '1574068': 19923, '2213715': 19924, '1456866': 19925, '72398': 19926, '748702': 19927, '707630': 19928, '250091': 19929, '1789450': 19930, '630111': 19931, '61928': 19932, '1184925': 19933, '1281478': 19934, '2184621': 19935, '1575810': 19936, '2420260': 19937, '437921': 19938, '1971298': 19939, '1998547': 19940, '730961': 19941, '1460008': 19942, '907097': 19943, '1360421': 19944, '2605785': 19945, '115267': 19946, '1106186': 19947, '2505740': 19948, '1079253': 19949, '526043': 19950, '1514886': 19951, '2527951': 19952, '2242128': 19953, '895523': 19954, '1573438': 19955, '2601416': 19956, '1630184': 19957, '1983102': 19958, '1203991': 19959, '554096': 19960, '914056': 19961, '2581812': 19962, '505171': 19963, '880097': 19964, '1564435': 19965, '1662625': 19966, '1222279': 19967, '1636145': 19968, '1386513': 19969, '1647443': 19970, '2020685': 19971, '2518772': 19972, '2294830': 19973, '2357450': 19974, '336578': 19975, '1311189': 19976, '1373951': 19977, '2341756': 19978, '2559157': 19979, '1561695': 19980, '1839246': 19981, '2050590': 19982, '2064033': 19983, '2219553': 19984, '1600039': 19985, '1709177': 19986, '1391652': 19987, '667579': 19988, '1508003': 19989, '632313': 19990, '2024808': 19991, '2167190': 19992, '1088005': 19993, '2405506': 19994, '1732585': 19995, '2160091': 19996, '1039641': 19997, '2382660': 19998, '1767524': 19999, '1891782': 20000, '2048072': 20001, '922231': 20002, '671697': 20003, '581616': 20004, '1385029': 20005, '866430': 20006, '1439407': 20007, '834896': 20008, '2597973': 20009, '511942': 20010, '2084678': 20011, '489220': 20012, '599809': 20013, '2293062': 20014, '2307388': 20015, '1270431': 20016, '803911': 20017, '1460776': 20018, '466916': 20019, '1446497': 20020, '1927597': 20021, '1541780': 20022, '1666084': 20023, '176774': 20024, '1004007': 20025, '1232734': 20026, '2419897': 20027, '1134129': 20028, '2347098': 20029, '2349225': 20030, '1469211': 20031, '452106': 20032, '802944': 20033, '2344418': 20034, '661672': 20035, '1302981': 20036, '1981970': 20037, '1107986': 20038, '575288': 20039, '2376367': 20040, '291676': 20041, '1151711': 20042, '2506564': 20043, '1725451': 20044, '931005': 20045, '271921': 20046, '2080743': 20047, '1594913': 20048, '2580482': 20049, '206954': 20050, '462231': 20051, '94874': 20052, '370097': 20053, '895096': 20054, '1337699': 20055, '351882': 20056, '2602282': 20057, '2129374': 20058, '1623353': 20059, '988885': 20060, '1876459': 20061, '255723': 20062, '108161': 20063, '1826552': 20064, '1850088': 20065, '673837': 20066, '1331155': 20067, '1227780': 20068, '227387': 20069, '2434289': 20070, '872973': 20071, '2098963': 20072, '2607433': 20073, '1531520': 20074, '1796812': 20075, '132562': 20076, '932272': 20077, '2282657': 20078, '2516919': 20079, '116252': 20080, '1663295': 20081, '26762': 20082, '2046079': 20083, '2056672': 20084, '662624': 20085, '1835306': 20086, '1347915': 20087, '814951': 20088, '1239121': 20089, '2427512': 20090, '1586463': 20091, '2334738': 20092, '391661': 20093, '1013177': 20094, '2295235': 20095, '290342': 20096, '1872591': 20097, '2236190': 20098, '876635': 20099, '402743': 20100, '1683507': 20101, '1866912': 20102, '582273': 20103, '903579': 20104, '1819434': 20105, '230967': 20106, '1006470': 20107, '2594623': 20108, '1322507': 20109, '577103': 20110, '1336925': 20111, '73023': 20112, '1050232': 20113, '110521': 20114, '877460': 20115, '665128': 20116, '1114321': 20117, '1837276': 20118, '123974': 20119, '1459710': 20120, '752931': 20121, '558924': 20122, '1401922': 20123, '2126215': 20124, '374474': 20125, '794738': 20126, '2269100': 20127, '2483246': 20128, '297262': 20129, '1127936': 20130, '2260332': 20131, '2541550': 20132, '1654594': 20133, '87328': 20134, '623240': 20135, '2626223': 20136, '271988': 20137, '71148': 20138, '1357085': 20139, '1189588': 20140, '85915': 20141, '475734': 20142, '1237321': 20143, '1186746': 20144, '1165045': 20145, '1500614': 20146, '1041851': 20147, '1746966': 20148, '1925280': 20149, '2252635': 20150, '529545': 20151, '165288': 20152, '1876208': 20153, '1755550': 20154, '1060623': 20155, '750275': 20156, '1517471': 20157, '898511': 20158, '2009821': 20159, '2577726': 20160, '2104443': 20161, '1083037': 20162, '979219': 20163, '2039673': 20164, '1833140': 20165, '1529578': 20166, '1061676': 20167, '2333714': 20168, '1307666': 20169, '755921': 20170, '1228057': 20171, '2497411': 20172, '460500': 20173, '1883016': 20174, '586249': 20175, '1662658': 20176, '291682': 20177, '2467814': 20178, '634280': 20179, '1367807': 20180, '820785': 20181, '1872204': 20182, '1783142': 20183, '1974267': 20184, '1474480': 20185, '972651': 20186, '2558262': 20187, '367328': 20188, '2630286': 20189, '543339': 20190, '2392084': 20191, '2002253': 20192, '1459848': 20193, '481496': 20194, '2232395': 20195, '885929': 20196, '767537': 20197, '1209880': 20198, '935285': 20199, '1558912': 20200, '1013696': 20201, '542153': 20202, '986524': 20203, '1046809': 20204, '1317124': 20205, '1384003': 20206, '1785160': 20207, '547902': 20208, '832959': 20209, '2202863': 20210, '2617185': 20211, '1968542': 20212, '1803723': 20213, '461990': 20214, '1951175': 20215, '454171': 20216, '2641011': 20217, '852275': 20218, '863778': 20219, '236772': 20220, '775416': 20221, '554587': 20222, '860700': 20223, '680507': 20224, '397607': 20225, '2616210': 20226, '661149': 20227, '1176698': 20228, '2414659': 20229, '655837': 20230, '616750': 20231, '1603774': 20232, '1314463': 20233, '333844': 20234, '1852784': 20235, '2462919': 20236, '945578': 20237, '575767': 20238, '2015481': 20239, '1107022': 20240, '2479648': 20241, '1442949': 20242, '709817': 20243, '152090': 20244, '2318762': 20245, '281851': 20246, '656614': 20247, '1901665': 20248, '2519570': 20249, '1787676': 20250, '425935': 20251, '2087189': 20252, '1590697': 20253, '2489377': 20254, '2636392': 20255, '1313694': 20256, '1057236': 20257, '1027550': 20258, '1471541': 20259, '287408': 20260, '251004': 20261, '237736': 20262, '1592406': 20263, '1366847': 20264, '2094114': 20265, '2470313': 20266, '565700': 20267, '646009': 20268, '1747369': 20269, '2127722': 20270, '2607183': 20271, '1727351': 20272, '1740681': 20273, '2027967': 20274, '1407998': 20275, '2195549': 20276, '2469176': 20277, '2329672': 20278, '1659178': 20279, '820600': 20280, '1179982': 20281, '1288336': 20282, '1654495': 20283, '2615152': 20284, '1715603': 20285, '98428': 20286, '2076738': 20287, '2208977': 20288, '68384': 20289, '449632': 20290, '968798': 20291, '2636046': 20292, '643813': 20293, '112987': 20294, '1838252': 20295, '1239634': 20296, '1597861': 20297, '2191370': 20298, '825554': 20299, '1244268': 20300, '1744426': 20301, '850008': 20302, '1542060': 20303, '2448561': 20304, '1094953': 20305, '2599664': 20306, '222381': 20307, '1398961': 20308, '1318721': 20309, '1503916': 20310, '2075925': 20311, '2121655': 20312, '1802098': 20313, '264313': 20314, '1718987': 20315, '665905': 20316, '1576726': 20317, '332269': 20318, '966158': 20319, '886520': 20320, '52000': 20321, '654334': 20322, '291443': 20323, '1737191': 20324, '1571642': 20325, '58863': 20326, '394501': 20327, '1495562': 20328, '1639598': 20329, '2279742': 20330, '1252311': 20331, '296319': 20332, '1741126': 20333, '85764': 20334, '772658': 20335, '418190': 20336, '1271040': 20337, '1786541': 20338, '1917657': 20339, '476669': 20340, '762651': 20341, '178603': 20342, '720145': 20343, '1591705': 20344, '599592': 20345, '618392': 20346, '1810093': 20347, '426460': 20348, '2154287': 20349, '97199': 20350, '2029705': 20351, '71874': 20352, '1627565': 20353, '2219063': 20354, '100093': 20355, '1977655': 20356, '2404300': 20357, '1496095': 20358, '1897819': 20359, '2165012': 20360, '2500870': 20361, '607560': 20362, '2292731': 20363, '1856669': 20364, '614096': 20365, '1344536': 20366, '786667': 20367, '2522503': 20368, '1401744': 20369, '596267': 20370, '1149566': 20371, '1265606': 20372, '25533': 20373, '633861': 20374, '891618': 20375, '2531469': 20376, '22718': 20377, '475881': 20378, '2019936': 20379, '1720068': 20380, '967442': 20381, '2098373': 20382, '1134084': 20383, '1097350': 20384, '857699': 20385, '2158527': 20386, '1633016': 20387, '2439029': 20388, '1331196': 20389, '2183370': 20390, '2526250': 20391, '1675624': 20392, '1288105': 20393, '1763197': 20394, '129538': 20395, '2324873': 20396, '2311863': 20397, '314718': 20398, '84454': 20399, '1986551': 20400, '1511575': 20401, '591238': 20402, '14817': 20403, '1658806': 20404, '1172252': 20405, '2483744': 20406, '1739597': 20407, '784395': 20408, '567909': 20409, '1885132': 20410, '2344229': 20411, '1147738': 20412, '1522685': 20413, '2580969': 20414, '2243988': 20415, '2329541': 20416, '2528146': 20417, '615711': 20418, '1420006': 20419, '295398': 20420, '25483': 20421, '2016747': 20422, '86379': 20423, '356035': 20424, '867366': 20425, '297896': 20426, '1600015': 20427, '1378890': 20428, '2337348': 20429, '1482568': 20430, '1850615': 20431, '2068865': 20432, '416443': 20433, '2488897': 20434, '2533024': 20435, '962774': 20436, '2560599': 20437, '2542967': 20438, '964436': 20439, '987785': 20440, '2098983': 20441, '918562': 20442, '952636': 20443, '946393': 20444, '2480001': 20445, '545158': 20446, '1934089': 20447, '46263': 20448, '1537599': 20449, '976064': 20450, '1111844': 20451, '1982279': 20452, '15233': 20453, '1109861': 20454, '989859': 20455, '378579': 20456, '129179': 20457, '2341845': 20458, '1956679': 20459, '2460974': 20460, '1460828': 20461, '1695799': 20462, '860723': 20463, '625012': 20464, '326894': 20465, '1662724': 20466, '110726': 20467, '2555277': 20468, '1085610': 20469, '1078339': 20470, '1455086': 20471, '1552874': 20472, '1543847': 20473, '325451': 20474, '2193044': 20475, '473516': 20476, '533749': 20477, '1765230': 20478, '889897': 20479, '1111757': 20480, '399933': 20481, '664209': 20482, '2550431': 20483, '393650': 20484, '428568': 20485, '1317259': 20486, '1042087': 20487, '2526278': 20488, '769': 20489, '534043': 20490, '2547943': 20491, '206808': 20492, '25755': 20493, '902622': 20494, '1188774': 20495, '2568217': 20496, '1966998': 20497, '2394211': 20498, '2463081': 20499, '2259050': 20500, '1925985': 20501, '2429626': 20502, '808020': 20503, '697734': 20504, '1588845': 20505, '940434': 20506, '2469970': 20507, '902498': 20508, '2570079': 20509, '173220': 20510, '811489': 20511, '517370': 20512, '2438413': 20513, '1954166': 20514, '548376': 20515, '1204995': 20516, '2106970': 20517, '1938992': 20518, '2567147': 20519, '1360000': 20520, '307975': 20521, '1712201': 20522, '310027': 20523, '948558': 20524, '1165740': 20525, '2003550': 20526, '347605': 20527, '510180': 20528, '922033': 20529, '315205': 20530, '2061180': 20531, '102225': 20532, '1340872': 20533, '749593': 20534, '2162095': 20535, '2448838': 20536, '1507905': 20537, '147404': 20538, '796093': 20539, '1321779': 20540, '196069': 20541, '2528088': 20542, '2061176': 20543, '903799': 20544, '30270': 20545, '1700782': 20546, '2477414': 20547, '790116': 20548, '1463511': 20549, '492111': 20550, '2076079': 20551, '19475': 20552, '1362439': 20553, '353820': 20554, '660279': 20555, '1928315': 20556, '2506843': 20557, '232421': 20558, '1149153': 20559, '1580125': 20560, '716649': 20561, '2338320': 20562, '1984604': 20563, '2369705': 20564, '1955660': 20565, '2244891': 20566, '1119094': 20567, '2086035': 20568, '1013802': 20569, '1688444': 20570, '1892408': 20571, '371074': 20572, '798852': 20573, '2146579': 20574, '1611284': 20575, '60582': 20576, '295220': 20577, '1889712': 20578, '256656': 20579, '550302': 20580, '561447': 20581, '1228324': 20582, '371868': 20583, '1646699': 20584, '992650': 20585, '1397829': 20586, '2033571': 20587, '2242238': 20588, '1977685': 20589, '607897': 20590, '1594650': 20591, '1391837': 20592, '2412833': 20593, '2406034': 20594, '1115285': 20595, '2230652': 20596, '885051': 20597, '654316': 20598, '1489474': 20599, '370222': 20600, '2524933': 20601, '558042': 20602, '1532984': 20603, '1341779': 20604, '189629': 20605, '868874': 20606, '1462949': 20607, '1708765': 20608, '2542131': 20609, '2569992': 20610, '2429098': 20611, '2077101': 20612, '1281114': 20613, '2616401': 20614, '1250260': 20615, '610997': 20616, '2188937': 20617, '798104': 20618, '2604699': 20619, '1377989': 20620, '2281754': 20621, '2639728': 20622, '1810565': 20623, '2079664': 20624, '2110321': 20625, '352380': 20626, '79553': 20627, '2531820': 20628, '2105990': 20629, '2382912': 20630, '1964931': 20631, '754567': 20632, '1944505': 20633, '1930483': 20634, '1799734': 20635, '796192': 20636, '23427': 20637, '1856602': 20638, '678908': 20639, '1964980': 20640, '632193': 20641, '419660': 20642, '910295': 20643, '516260': 20644, '2161965': 20645, '635044': 20646, '1412392': 20647, '1293027': 20648, '321138': 20649, '310178': 20650, '594462': 20651, '39896': 20652, '1821073': 20653, '1653796': 20654, '1955408': 20655, '1539617': 20656, '1930826': 20657, '399533': 20658, '839232': 20659, '409104': 20660, '925414': 20661, '500090': 20662, '1800430': 20663, '1139925': 20664, '942215': 20665, '679412': 20666, '1412075': 20667, '2046268': 20668, '255278': 20669, '2221229': 20670, '2209480': 20671, '1467206': 20672, '718564': 20673, '442865': 20674, '679080': 20675, '2375988': 20676, '2128588': 20677, '2552589': 20678, '1635523': 20679, '1003084': 20680, '2512128': 20681, '406992': 20682, '1296627': 20683, '149511': 20684, '1744381': 20685, '723328': 20686, '1380250': 20687, '569333': 20688, '1177875': 20689, '2233703': 20690, '2326386': 20691, '1321465': 20692, '1124877': 20693, '2600739': 20694, '1028737': 20695, '1478013': 20696, '1373140': 20697, '1500471': 20698, '2301000': 20699, '1847158': 20700, '1033224': 20701, '211205': 20702, '160160': 20703, '728004': 20704, '1462959': 20705, '447282': 20706, '284810': 20707, '648729': 20708, '364208': 20709, '1851625': 20710, '391543': 20711, '936354': 20712, '335178': 20713, '557143': 20714, '85960': 20715, '731133': 20716, '2490784': 20717, '2308483': 20718, '1077088': 20719, '424144': 20720, '1398222': 20721, '1306676': 20722, '1324815': 20723, '1444923': 20724, '1483333': 20725, '2135415': 20726, '2535249': 20727, '1191240': 20728, '916669': 20729, '2487269': 20730, '633647': 20731, '2332110': 20732, '491554': 20733, '1132822': 20734, '842341': 20735, '813730': 20736, '2124788': 20737, '1860768': 20738, '1413636': 20739, '2315741': 20740, '1235767': 20741, '2372839': 20742, '619729': 20743, '390729': 20744, '1385895': 20745, '2627263': 20746, '539955': 20747, '1553126': 20748, '2446246': 20749, '2504803': 20750, '561715': 20751, '1009885': 20752, '1204865': 20753, '1327792': 20754, '458017': 20755, '730007': 20756, '766158': 20757, '243619': 20758, '2543158': 20759, '277223': 20760, '676718': 20761, '385136': 20762, '2162151': 20763, '1622963': 20764, '1315701': 20765, '113256': 20766, '1417406': 20767, '1413526': 20768, '2303319': 20769, '1630930': 20770, '1938258': 20771, '1567322': 20772, '1341028': 20773, '1800301': 20774, '145916': 20775, '1777527': 20776, '1340811': 20777, '1227576': 20778, '540458': 20779, '149041': 20780, '1342369': 20781, '482035': 20782, '2083951': 20783, '1708356': 20784, '2172710': 20785, '2479842': 20786, '2535089': 20787, '1589608': 20788, '2241971': 20789, '1887120': 20790, '899412': 20791, '22853': 20792, '319611': 20793, '2165875': 20794, '1169480': 20795, '1265312': 20796, '2388773': 20797, '1425393': 20798, '2639627': 20799, '732567': 20800, '1495252': 20801, '2090343': 20802, '321276': 20803, '616997': 20804, '1445262': 20805, '928664': 20806, '1806018': 20807, '968906': 20808, '2045297': 20809, '415693': 20810, '341933': 20811, '2279919': 20812, '440983': 20813, '212329': 20814, '827986': 20815, '894553': 20816, '1538522': 20817, '2214487': 20818, '1167634': 20819, '2151973': 20820, '1987234': 20821, '436275': 20822, '980485': 20823, '196915': 20824, '1857952': 20825, '1309672': 20826, '2187474': 20827}\n"
     ]
    }
   ],
   "source": [
    "# Create user and movie-id mapping to convert to numbers\n",
    "user_id_mapping = {id:i for i, id in enumerate(df_filtered['User'].unique())}\n",
    "print(user_id_mapping)\n",
    "movie_id_mapping = {id:i for i, id in enumerate(df_filtered['Movie'].unique())}"
   ]
  },
  {
   "cell_type": "code",
   "execution_count": 43,
   "metadata": {
    "colab": {},
    "colab_type": "code",
    "id": "4vjVBUM724Gj"
   },
   "outputs": [
    {
     "name": "stdout",
     "output_type": "stream",
     "text": [
      "0              0\n",
      "1              1\n",
      "2              2\n",
      "3              3\n",
      "4              4\n",
      "           ...  \n",
      "5830576    18811\n",
      "5830577    11395\n",
      "5830578    18311\n",
      "5830579    17012\n",
      "5830580     6459\n",
      "Name: User, Length: 5830581, dtype: int64\n"
     ]
    }
   ],
   "source": [
    "# use dataframe map function to map users & movies to mapped ids based on above mapping\n",
    "train_user_data = df_train['User'].map(user_id_mapping)\n",
    "print(train_user_data)\n",
    "train_movie_data = df_train['Movie'].map(movie_id_mapping)"
   ]
  },
  {
   "cell_type": "code",
   "execution_count": 44,
   "metadata": {
    "colab": {},
    "colab_type": "code",
    "id": "_lpKylKD24Gl"
   },
   "outputs": [],
   "source": [
    "# do the same for test data\n",
    "test_user_data = df_test[\"User\"].map(user_id_mapping)\n",
    "test_movie_data = df_test[\"Movie\"].map(movie_id_mapping)"
   ]
  },
  {
   "cell_type": "code",
   "execution_count": 45,
   "metadata": {
    "colab": {},
    "colab_type": "code",
    "id": "GME8vJLp24Gn"
   },
   "outputs": [],
   "source": [
    "# Get input variable-sizes\n",
    "users = len(user_id_mapping)\n",
    "movies = len(movie_id_mapping)\n",
    "embedding_size = 100"
   ]
  },
  {
   "cell_type": "markdown",
   "metadata": {
    "colab_type": "text",
    "id": "enO8VNVP24Gp"
   },
   "source": [
    "#### Construct Deep Learning Model Architecture"
   ]
  },
  {
   "cell_type": "code",
   "execution_count": 46,
   "metadata": {
    "colab": {},
    "colab_type": "code",
    "id": "GSXpYgst24Gq"
   },
   "outputs": [],
   "source": [
    "# use Input() to create tensors for - 'user' and 'movie'\n",
    "user_id_input = Input(shape=(1,), name='user')\n",
    "movie_id_input = Input(shape=(1,), name='movie')"
   ]
  },
  {
   "cell_type": "code",
   "execution_count": 47,
   "metadata": {
    "colab": {},
    "colab_type": "code",
    "id": "gdV4lJri24Gs"
   },
   "outputs": [],
   "source": [
    "# Create embedding layer for users \n",
    "user_embedding = Embedding(output_dim=embedding_size, \n",
    "                           input_dim=users,\n",
    "                           input_length=1, \n",
    "                           name='user_embedding')(user_id_input)\n",
    "\n",
    "# create embedding layer for movies just like users\n",
    "movie_embedding = Embedding(output_dim=embedding_size, \n",
    "                           input_dim=movies,\n",
    "                           input_length=1, \n",
    "                           name='movie_embedding')(movie_id_input)"
   ]
  },
  {
   "cell_type": "code",
   "execution_count": 48,
   "metadata": {
    "colab": {},
    "colab_type": "code",
    "id": "cLpdb0pu24Gu"
   },
   "outputs": [],
   "source": [
    "# Reshape the embedding layers\n",
    "user_vector = Reshape([embedding_size])(user_embedding)\n",
    "movie_vector = Reshape([embedding_size])(movie_embedding)"
   ]
  },
  {
   "cell_type": "code",
   "execution_count": 49,
   "metadata": {
    "colab": {},
    "colab_type": "code",
    "id": "S-RxXy5B24Gw"
   },
   "outputs": [],
   "source": [
    "# Compute dot-product of reshaped embedding layers as prediction\n",
    "y = Dot(1, normalize=False)([user_vector, movie_vector])"
   ]
  },
  {
   "cell_type": "code",
   "execution_count": 50,
   "metadata": {
    "colab": {
     "base_uri": "https://localhost:8080/",
     "height": 403
    },
    "colab_type": "code",
    "id": "5wWeeSfR24Gy",
    "outputId": "cc2f5e4d-e795-4514-9bf1-804cab954ff3"
   },
   "outputs": [
    {
     "name": "stdout",
     "output_type": "stream",
     "text": [
      "Model: \"model\"\n",
      "__________________________________________________________________________________________________\n",
      " Layer (type)                   Output Shape         Param #     Connected to                     \n",
      "==================================================================================================\n",
      " user (InputLayer)              [(None, 1)]          0           []                               \n",
      "                                                                                                  \n",
      " movie (InputLayer)             [(None, 1)]          0           []                               \n",
      "                                                                                                  \n",
      " user_embedding (Embedding)     (None, 1, 100)       2082800     ['user[0][0]']                   \n",
      "                                                                                                  \n",
      " movie_embedding (Embedding)    (None, 1, 100)       174100      ['movie[0][0]']                  \n",
      "                                                                                                  \n",
      " reshape (Reshape)              (None, 100)          0           ['user_embedding[0][0]']         \n",
      "                                                                                                  \n",
      " reshape_1 (Reshape)            (None, 100)          0           ['movie_embedding[0][0]']        \n",
      "                                                                                                  \n",
      " dot (Dot)                      (None, 1)            0           ['reshape[0][0]',                \n",
      "                                                                  'reshape_1[0][0]']              \n",
      "                                                                                                  \n",
      "==================================================================================================\n",
      "Total params: 2,256,900\n",
      "Trainable params: 2,256,900\n",
      "Non-trainable params: 0\n",
      "__________________________________________________________________________________________________\n"
     ]
    }
   ],
   "source": [
    "# Setup model\n",
    "model = Model(inputs=[user_id_input, movie_id_input], outputs=y)\n",
    "model.compile(loss='mse', optimizer='adam')\n",
    "model.summary()"
   ]
  },
  {
   "cell_type": "markdown",
   "metadata": {
    "colab_type": "text",
    "id": "g0COamq25owq"
   },
   "source": [
    "#### Train and Test the Model"
   ]
  },
  {
   "cell_type": "code",
   "execution_count": null,
   "metadata": {},
   "outputs": [],
   "source": []
  },
  {
   "cell_type": "code",
   "execution_count": 51,
   "metadata": {
    "colab": {
     "base_uri": "https://localhost:8080/",
     "height": 218
    },
    "colab_type": "code",
    "id": "nK6aBtQN24Gz",
    "outputId": "7c729304-f1aa-4e8d-a3e6-aa4a82ebfd0e"
   },
   "outputs": [
    {
     "name": "stdout",
     "output_type": "stream",
     "text": [
      "Epoch 1/5\n"
     ]
    },
    {
     "name": "stderr",
     "output_type": "stream",
     "text": [
      "2023-06-29 22:45:24.143310: W tensorflow/tsl/platform/profile_utils/cpu_utils.cc:128] Failed to get CPU frequency: 0 Hz\n"
     ]
    },
    {
     "name": "stdout",
     "output_type": "stream",
     "text": [
      "5125/5125 [==============================] - 31s 6ms/step - loss: 2.0984 - val_loss: 0.7784\n",
      "Epoch 2/5\n",
      "5125/5125 [==============================] - 31s 6ms/step - loss: 0.7399 - val_loss: 0.7263\n",
      "Epoch 3/5\n",
      "5125/5125 [==============================] - 31s 6ms/step - loss: 0.6754 - val_loss: 0.6975\n",
      "Epoch 4/5\n",
      "5125/5125 [==============================] - 31s 6ms/step - loss: 0.6123 - val_loss: 0.6887\n",
      "Epoch 5/5\n",
      "5125/5125 [==============================] - 31s 6ms/step - loss: 0.5484 - val_loss: 0.6997\n"
     ]
    },
    {
     "data": {
      "text/plain": [
       "<keras.callbacks.History at 0x2e5cb6770>"
      ]
     },
     "execution_count": 51,
     "metadata": {},
     "output_type": "execute_result"
    }
   ],
   "source": [
    "# Fit model\n",
    "X = [train_user_data, train_movie_data]\n",
    "y = df_train['Rating']\n",
    "\n",
    "batch_size = 1024\n",
    "epochs = 5\n",
    "validation_split = 0.1\n",
    "\n",
    "model.fit(X, y,\n",
    "          batch_size=batch_size, \n",
    "          epochs=epochs,\n",
    "          validation_split=validation_split,\n",
    "          shuffle=True,\n",
    "          verbose=1)"
   ]
  },
  {
   "cell_type": "code",
   "execution_count": 52,
   "metadata": {
    "colab": {
     "base_uri": "https://localhost:8080/",
     "height": 67
    },
    "colab_type": "code",
    "id": "RZLw4PX3AUkz",
    "outputId": "36987db3-b604-400f-e419-79a61f602ef1"
   },
   "outputs": [
    {
     "name": "stdout",
     "output_type": "stream",
     "text": [
      "3125/3125 [==============================] - 1s 248us/step\n",
      "\n",
      "\n",
      "Testing Result With DL Matrix-Factorization: 0.8362 RMSE\n"
     ]
    }
   ],
   "source": [
    "# Test model by making predictions on test data\n",
    "y_pred = model.predict([test_user_data, test_movie_data]).ravel()\n",
    "# clip upper and lower ratings\n",
    "y_pred = list(map(lambda x: 1.0 if x < 1 else 5.0 if x > 5.0 else x, y_pred))\n",
    "# get true labels\n",
    "y_true = df_test['Rating'].values\n",
    "\n",
    "#  Compute RMSE\n",
    "rmse = np.sqrt(mean_squared_error(y_pred=y_pred, y_true=y_true))\n",
    "print('\\n\\nTesting Result With DL Matrix-Factorization: {:.4f} RMSE'.format(rmse))"
   ]
  },
  {
   "cell_type": "code",
   "execution_count": 53,
   "metadata": {
    "colab": {
     "base_uri": "https://localhost:8080/",
     "height": 639
    },
    "colab_type": "code",
    "id": "oAX4MABlCm-9",
    "outputId": "e041f405-8fe7-46ce-bcb1-d83de061de7f"
   },
   "outputs": [
    {
     "data": {
      "text/html": [
       "<div>\n",
       "<style scoped>\n",
       "    .dataframe tbody tr th:only-of-type {\n",
       "        vertical-align: middle;\n",
       "    }\n",
       "\n",
       "    .dataframe tbody tr th {\n",
       "        vertical-align: top;\n",
       "    }\n",
       "\n",
       "    .dataframe thead th {\n",
       "        text-align: right;\n",
       "    }\n",
       "</style>\n",
       "<table border=\"1\" class=\"dataframe\">\n",
       "  <thead>\n",
       "    <tr style=\"text-align: right;\">\n",
       "      <th></th>\n",
       "      <th>User ID</th>\n",
       "      <th>Movie ID</th>\n",
       "      <th>Movie Name</th>\n",
       "      <th>Predicted Rating</th>\n",
       "      <th>Actual Rating</th>\n",
       "    </tr>\n",
       "  </thead>\n",
       "  <tbody>\n",
       "    <tr>\n",
       "      <th>0</th>\n",
       "      <td>18746</td>\n",
       "      <td>263</td>\n",
       "      <td>Angelina Ballerina: Lights, Camera, Action!</td>\n",
       "      <td>4.6</td>\n",
       "      <td>4.0</td>\n",
       "    </tr>\n",
       "    <tr>\n",
       "      <th>1</th>\n",
       "      <td>17248</td>\n",
       "      <td>35</td>\n",
       "      <td>Lady Chatterley</td>\n",
       "      <td>2.9</td>\n",
       "      <td>2.0</td>\n",
       "    </tr>\n",
       "    <tr>\n",
       "      <th>2</th>\n",
       "      <td>7938</td>\n",
       "      <td>170</td>\n",
       "      <td>Funny Face</td>\n",
       "      <td>2.5</td>\n",
       "      <td>3.0</td>\n",
       "    </tr>\n",
       "    <tr>\n",
       "      <th>3</th>\n",
       "      <td>14127</td>\n",
       "      <td>119</td>\n",
       "      <td>Plain Dirty</td>\n",
       "      <td>3.4</td>\n",
       "      <td>4.0</td>\n",
       "    </tr>\n",
       "    <tr>\n",
       "      <th>4</th>\n",
       "      <td>10495</td>\n",
       "      <td>546</td>\n",
       "      <td>Kuffs</td>\n",
       "      <td>3.6</td>\n",
       "      <td>5.0</td>\n",
       "    </tr>\n",
       "    <tr>\n",
       "      <th>5</th>\n",
       "      <td>1340</td>\n",
       "      <td>1300</td>\n",
       "      <td>Chasing Sleep</td>\n",
       "      <td>2.0</td>\n",
       "      <td>2.0</td>\n",
       "    </tr>\n",
       "    <tr>\n",
       "      <th>6</th>\n",
       "      <td>13049</td>\n",
       "      <td>1028</td>\n",
       "      <td>Tromeo and Juliet</td>\n",
       "      <td>2.5</td>\n",
       "      <td>1.0</td>\n",
       "    </tr>\n",
       "    <tr>\n",
       "      <th>7</th>\n",
       "      <td>15025</td>\n",
       "      <td>647</td>\n",
       "      <td>John Mayall &amp; The Bluesbreakers and Friends: 7...</td>\n",
       "      <td>2.6</td>\n",
       "      <td>2.0</td>\n",
       "    </tr>\n",
       "    <tr>\n",
       "      <th>8</th>\n",
       "      <td>3131</td>\n",
       "      <td>327</td>\n",
       "      <td>Deftones: Live in Hawaii</td>\n",
       "      <td>3.8</td>\n",
       "      <td>5.0</td>\n",
       "    </tr>\n",
       "    <tr>\n",
       "      <th>9</th>\n",
       "      <td>15311</td>\n",
       "      <td>78</td>\n",
       "      <td>The Killing</td>\n",
       "      <td>4.8</td>\n",
       "      <td>5.0</td>\n",
       "    </tr>\n",
       "    <tr>\n",
       "      <th>10</th>\n",
       "      <td>3062</td>\n",
       "      <td>986</td>\n",
       "      <td>Rescue from Gilligan's Island</td>\n",
       "      <td>3.7</td>\n",
       "      <td>4.0</td>\n",
       "    </tr>\n",
       "    <tr>\n",
       "      <th>11</th>\n",
       "      <td>17044</td>\n",
       "      <td>869</td>\n",
       "      <td>H.G. Wells and the War of the Worlds: A Docume...</td>\n",
       "      <td>3.9</td>\n",
       "      <td>3.0</td>\n",
       "    </tr>\n",
       "    <tr>\n",
       "      <th>12</th>\n",
       "      <td>7503</td>\n",
       "      <td>968</td>\n",
       "      <td>Stripteaser</td>\n",
       "      <td>2.3</td>\n",
       "      <td>2.0</td>\n",
       "    </tr>\n",
       "    <tr>\n",
       "      <th>13</th>\n",
       "      <td>17671</td>\n",
       "      <td>233</td>\n",
       "      <td>Animation Legend: Winsor McCay</td>\n",
       "      <td>3.6</td>\n",
       "      <td>4.0</td>\n",
       "    </tr>\n",
       "    <tr>\n",
       "      <th>14</th>\n",
       "      <td>11373</td>\n",
       "      <td>7</td>\n",
       "      <td>What the #$*! Do We Know!?</td>\n",
       "      <td>4.5</td>\n",
       "      <td>4.0</td>\n",
       "    </tr>\n",
       "    <tr>\n",
       "      <th>15</th>\n",
       "      <td>3065</td>\n",
       "      <td>680</td>\n",
       "      <td>Police Academy 3: Back in Training</td>\n",
       "      <td>4.3</td>\n",
       "      <td>4.0</td>\n",
       "    </tr>\n",
       "    <tr>\n",
       "      <th>16</th>\n",
       "      <td>8509</td>\n",
       "      <td>26</td>\n",
       "      <td>Sesame Street: Elmo's World: The Street We Liv...</td>\n",
       "      <td>4.3</td>\n",
       "      <td>5.0</td>\n",
       "    </tr>\n",
       "    <tr>\n",
       "      <th>17</th>\n",
       "      <td>41</td>\n",
       "      <td>88</td>\n",
       "      <td>Chain of Command</td>\n",
       "      <td>4.5</td>\n",
       "      <td>5.0</td>\n",
       "    </tr>\n",
       "    <tr>\n",
       "      <th>18</th>\n",
       "      <td>15192</td>\n",
       "      <td>1106</td>\n",
       "      <td>NBA Street Series: Ankle Breakers: Vol. 2</td>\n",
       "      <td>3.4</td>\n",
       "      <td>3.0</td>\n",
       "    </tr>\n",
       "    <tr>\n",
       "      <th>19</th>\n",
       "      <td>17250</td>\n",
       "      <td>1219</td>\n",
       "      <td>Man on Fire</td>\n",
       "      <td>2.7</td>\n",
       "      <td>2.0</td>\n",
       "    </tr>\n",
       "  </tbody>\n",
       "</table>\n",
       "</div>"
      ],
      "text/plain": [
       "    User ID  Movie ID                                         Movie Name  \\\n",
       "0     18746       263        Angelina Ballerina: Lights, Camera, Action!   \n",
       "1     17248        35                                    Lady Chatterley   \n",
       "2      7938       170                                         Funny Face   \n",
       "3     14127       119                                        Plain Dirty   \n",
       "4     10495       546                                              Kuffs   \n",
       "5      1340      1300                                      Chasing Sleep   \n",
       "6     13049      1028                                  Tromeo and Juliet   \n",
       "7     15025       647  John Mayall & The Bluesbreakers and Friends: 7...   \n",
       "8      3131       327                           Deftones: Live in Hawaii   \n",
       "9     15311        78                                        The Killing   \n",
       "10     3062       986                      Rescue from Gilligan's Island   \n",
       "11    17044       869  H.G. Wells and the War of the Worlds: A Docume...   \n",
       "12     7503       968                                        Stripteaser   \n",
       "13    17671       233                     Animation Legend: Winsor McCay   \n",
       "14    11373         7                         What the #$*! Do We Know!?   \n",
       "15     3065       680                 Police Academy 3: Back in Training   \n",
       "16     8509        26  Sesame Street: Elmo's World: The Street We Liv...   \n",
       "17       41        88                                   Chain of Command   \n",
       "18    15192      1106          NBA Street Series: Ankle Breakers: Vol. 2   \n",
       "19    17250      1219                                        Man on Fire   \n",
       "\n",
       "    Predicted Rating  Actual Rating  \n",
       "0                4.6            4.0  \n",
       "1                2.9            2.0  \n",
       "2                2.5            3.0  \n",
       "3                3.4            4.0  \n",
       "4                3.6            5.0  \n",
       "5                2.0            2.0  \n",
       "6                2.5            1.0  \n",
       "7                2.6            2.0  \n",
       "8                3.8            5.0  \n",
       "9                4.8            5.0  \n",
       "10               3.7            4.0  \n",
       "11               3.9            3.0  \n",
       "12               2.3            2.0  \n",
       "13               3.6            4.0  \n",
       "14               4.5            4.0  \n",
       "15               4.3            4.0  \n",
       "16               4.3            5.0  \n",
       "17               4.5            5.0  \n",
       "18               3.4            3.0  \n",
       "19               2.7            2.0  "
      ]
     },
     "execution_count": 53,
     "metadata": {},
     "output_type": "execute_result"
    }
   ],
   "source": [
    "## Let's see how our collaborative model performs by seeing the predicted and actual rating for the given user and movie pair\n",
    "results_df = pd.DataFrame({\n",
    "    'User ID': test_user_data.values,\n",
    "    'Movie ID': test_movie_data.values,\n",
    "    'Movie Name': [movie_titles['Name'].iloc[item] for item in test_movie_data],\n",
    "    'Predicted Rating': np.round(y_pred, 1),\n",
    "    'Actual Rating': y_true\n",
    "})\n",
    "\n",
    "results_df.head(20)"
   ]
  },
  {
   "cell_type": "markdown",
   "metadata": {
    "colab_type": "text",
    "id": "Gaq-sJqpc_B_"
   },
   "source": [
    "## 8.4: Hybrid Recommendation System (Content & Collaborative)\n",
    "\n",
    "One advantage of deep learning models is, that movie-metadata can easily be added to the model.\n",
    "We will tf-idf transform the short description of all movies to a sparse vector. The model will learn to reduce the dimensionality of this vector and how to combine metadata with the embedding of the user-id and the movie-id. In this way we can add any additional metadata to our own recommender.\n",
    "These kind of hybrid systems can learn how to reduce the impact of the cold start problem.\n",
    "\n",
    "Deep learning models require lots of data to train and predict. To provide our model with more data, we will include the movie metadata as well. We will do the following:\n",
    "\n",
    "\n",
    "*   Use movie metadata to combine with user and movie matrices in order to get more data\n",
    "*   Use tf-idf transform to vectorize movie metadata (Sparse Layer)\n",
    "*   Create an embedding of the metadata 512 -> 256 \n",
    "*   Combine all embeddings for movie tf-idf vectors, user and ratings to arrive at a common embedding space (256 sized embeddings per entity)\n",
    "*   Use the embeddings to train the model and get predictions on the test data\n",
    "\n",
    "\n",
    "\n",
    "\n",
    "\n"
   ]
  },
  {
   "cell_type": "markdown",
   "metadata": {
    "colab_type": "text",
    "id": "gw7fwxvQc4DV"
   },
   "source": [
    "### Additional Hints:\n",
    "\n",
    "Dense layer setup :\n",
    "[Dense](https://www.tensorflow.org/api_docs/python/tf/keras/layers/Dense#example_2)\n",
    "\n",
    "Create model using tf.keras API : \n",
    "[Model](https://www.tensorflow.org/api_docs/python/tf/keras/Model#used-in-the-notebooks)\n",
    "\n",
    "Compile model using : [Compile](https://www.tensorflow.org/api_docs/python/tf/keras/Model#compile)\n",
    "\n",
    "Fit model : \n",
    "[fit](https://www.tensorflow.org/api_docs/python/tf/keras/Model#fit)\n",
    "\n",
    "Predict accuracy: [mean_squared_error](https://scikit-learn.org/stable/modules/generated/sklearn.metrics.mean_squared_error.html)\n",
    "\n"
   ]
  },
  {
   "cell_type": "markdown",
   "metadata": {
    "colab_type": "text",
    "id": "hINM6pCk3yKz"
   },
   "source": [
    "### Q8.3: Building a Deep Learning Hybrid Recommendation System\n",
    "\n",
    "We will be building the following hybrid deep learning recommendation model as scene in the following schematic.\n",
    "\n",
    "![](./images/hybrid-dl-model.png)\n",
    "\n",
    "__Your Turn:__ Fill in the necessary blank code snippets in the following sections to train your own DL hybrid recommendation system\n",
    "\n",
    "#### Create Configuration Parameters"
   ]
  },
  {
   "cell_type": "code",
   "execution_count": 54,
   "metadata": {
    "colab": {},
    "colab_type": "code",
    "id": "QmOFI6gNZOYy"
   },
   "outputs": [],
   "source": [
    "# ceate a copy of the filtered data frame\n",
    "df_filtered_cp = df_filtered.copy(deep=True)"
   ]
  },
  {
   "cell_type": "code",
   "execution_count": 55,
   "metadata": {
    "colab": {},
    "colab_type": "code",
    "id": "eknbQW6mHsKN"
   },
   "outputs": [],
   "source": [
    "# Create user- & movie-id mapping\n",
    "user_id_mapping = {id:i for i, id in enumerate(df_filtered_cp['User'].unique())}\n",
    "movie_id_mapping = {id:i for i, id in enumerate(df_filtered_cp['Movie'].unique())}"
   ]
  },
  {
   "cell_type": "code",
   "execution_count": 56,
   "metadata": {
    "colab": {},
    "colab_type": "code",
    "id": "yLHTi2NsIEAM"
   },
   "outputs": [],
   "source": [
    "# use dataframe map function to map users & movies to mapped ids based on above mapping\n",
    "df_filtered_cp['User'] = df_filtered_cp['User'].map(user_id_mapping)\n",
    "df_filtered_cp['Movie'] = df_filtered_cp['Movie'].map(movie_id_mapping)"
   ]
  },
  {
   "cell_type": "markdown",
   "metadata": {
    "colab_type": "text",
    "id": "fh1Bg5Q_38mF"
   },
   "source": [
    "#### Create Movie Description Dataset (Content)"
   ]
  },
  {
   "cell_type": "code",
   "execution_count": 57,
   "metadata": {},
   "outputs": [
    {
     "data": {
      "text/html": [
       "<div>\n",
       "<style scoped>\n",
       "    .dataframe tbody tr th:only-of-type {\n",
       "        vertical-align: middle;\n",
       "    }\n",
       "\n",
       "    .dataframe tbody tr th {\n",
       "        vertical-align: top;\n",
       "    }\n",
       "\n",
       "    .dataframe thead th {\n",
       "        text-align: right;\n",
       "    }\n",
       "</style>\n",
       "<table border=\"1\" class=\"dataframe\">\n",
       "  <thead>\n",
       "    <tr style=\"text-align: right;\">\n",
       "      <th></th>\n",
       "      <th>Year</th>\n",
       "      <th>Name</th>\n",
       "    </tr>\n",
       "    <tr>\n",
       "      <th>Movie</th>\n",
       "      <th></th>\n",
       "      <th></th>\n",
       "    </tr>\n",
       "  </thead>\n",
       "  <tbody>\n",
       "    <tr>\n",
       "      <th>1</th>\n",
       "      <td>2003</td>\n",
       "      <td>Dinosaur Planet</td>\n",
       "    </tr>\n",
       "    <tr>\n",
       "      <th>2</th>\n",
       "      <td>2004</td>\n",
       "      <td>Isle of Man TT 2004 Review</td>\n",
       "    </tr>\n",
       "    <tr>\n",
       "      <th>3</th>\n",
       "      <td>1997</td>\n",
       "      <td>Character</td>\n",
       "    </tr>\n",
       "    <tr>\n",
       "      <th>4</th>\n",
       "      <td>1994</td>\n",
       "      <td>Paula Abdul's Get Up &amp; Dance</td>\n",
       "    </tr>\n",
       "    <tr>\n",
       "      <th>5</th>\n",
       "      <td>2004</td>\n",
       "      <td>The Rise and Fall of ECW</td>\n",
       "    </tr>\n",
       "  </tbody>\n",
       "</table>\n",
       "</div>"
      ],
      "text/plain": [
       "       Year                          Name\n",
       "Movie                                    \n",
       "1      2003               Dinosaur Planet\n",
       "2      2004    Isle of Man TT 2004 Review\n",
       "3      1997                     Character\n",
       "4      1994  Paula Abdul's Get Up & Dance\n",
       "5      2004      The Rise and Fall of ECW"
      ]
     },
     "execution_count": 57,
     "metadata": {},
     "output_type": "execute_result"
    }
   ],
   "source": [
    "movie_titles.head()"
   ]
  },
  {
   "cell_type": "code",
   "execution_count": 58,
   "metadata": {},
   "outputs": [
    {
     "data": {
      "text/html": [
       "<div>\n",
       "<style scoped>\n",
       "    .dataframe tbody tr th:only-of-type {\n",
       "        vertical-align: middle;\n",
       "    }\n",
       "\n",
       "    .dataframe tbody tr th {\n",
       "        vertical-align: top;\n",
       "    }\n",
       "\n",
       "    .dataframe thead th {\n",
       "        text-align: right;\n",
       "    }\n",
       "</style>\n",
       "<table border=\"1\" class=\"dataframe\">\n",
       "  <thead>\n",
       "    <tr style=\"text-align: right;\">\n",
       "      <th></th>\n",
       "      <th>overview</th>\n",
       "    </tr>\n",
       "    <tr>\n",
       "      <th>original_title</th>\n",
       "      <th></th>\n",
       "    </tr>\n",
       "  </thead>\n",
       "  <tbody>\n",
       "    <tr>\n",
       "      <th>Toy Story</th>\n",
       "      <td>Led by Woody, Andy's toys live happily in his ...</td>\n",
       "    </tr>\n",
       "    <tr>\n",
       "      <th>Jumanji</th>\n",
       "      <td>When siblings Judy and Peter discover an encha...</td>\n",
       "    </tr>\n",
       "    <tr>\n",
       "      <th>Grumpier Old Men</th>\n",
       "      <td>A family wedding reignites the ancient feud be...</td>\n",
       "    </tr>\n",
       "    <tr>\n",
       "      <th>Waiting to Exhale</th>\n",
       "      <td>Cheated on, mistreated and stepped on, the wom...</td>\n",
       "    </tr>\n",
       "    <tr>\n",
       "      <th>Father of the Bride Part II</th>\n",
       "      <td>Just when George Banks has recovered from his ...</td>\n",
       "    </tr>\n",
       "  </tbody>\n",
       "</table>\n",
       "</div>"
      ],
      "text/plain": [
       "                                                                      overview\n",
       "original_title                                                                \n",
       "Toy Story                    Led by Woody, Andy's toys live happily in his ...\n",
       "Jumanji                      When siblings Judy and Peter discover an encha...\n",
       "Grumpier Old Men             A family wedding reignites the ancient feud be...\n",
       "Waiting to Exhale            Cheated on, mistreated and stepped on, the wom...\n",
       "Father of the Bride Part II  Just when George Banks has recovered from his ..."
      ]
     },
     "execution_count": 58,
     "metadata": {},
     "output_type": "execute_result"
    }
   ],
   "source": [
    "movie_metadata.head()"
   ]
  },
  {
   "cell_type": "code",
   "execution_count": 59,
   "metadata": {
    "colab": {
     "base_uri": "https://localhost:8080/",
     "height": 242
    },
    "colab_type": "code",
    "id": "CoAHPk1SIECT",
    "outputId": "341478ef-8e00-410d-dee3-ba3c79f4b409"
   },
   "outputs": [
    {
     "name": "stdout",
     "output_type": "stream",
     "text": [
      "Movie Description DF Shape: (6951, 1)\n"
     ]
    },
    {
     "data": {
      "text/html": [
       "<div>\n",
       "<style scoped>\n",
       "    .dataframe tbody tr th:only-of-type {\n",
       "        vertical-align: middle;\n",
       "    }\n",
       "\n",
       "    .dataframe tbody tr th {\n",
       "        vertical-align: top;\n",
       "    }\n",
       "\n",
       "    .dataframe thead th {\n",
       "        text-align: right;\n",
       "    }\n",
       "</style>\n",
       "<table border=\"1\" class=\"dataframe\">\n",
       "  <thead>\n",
       "    <tr style=\"text-align: right;\">\n",
       "      <th></th>\n",
       "      <th>overview</th>\n",
       "    </tr>\n",
       "    <tr>\n",
       "      <th>Id</th>\n",
       "      <th></th>\n",
       "    </tr>\n",
       "  </thead>\n",
       "  <tbody>\n",
       "    <tr>\n",
       "      <th>16182</th>\n",
       "      <td>daryl zero is a private investigator. along wi...</td>\n",
       "    </tr>\n",
       "    <tr>\n",
       "      <th>15233</th>\n",
       "      <td>clear the runway for derek zoolander, vh1's th...</td>\n",
       "    </tr>\n",
       "    <tr>\n",
       "      <th>1210</th>\n",
       "      <td>george hamilton stars in a dueling dual role a...</td>\n",
       "    </tr>\n",
       "    <tr>\n",
       "      <th>17631</th>\n",
       "      <td>in 1879, during the zulu wars, man of the peop...</td>\n",
       "    </tr>\n",
       "    <tr>\n",
       "      <th>17631</th>\n",
       "      <td>as a child, ali neuman narrowly escaped being ...</td>\n",
       "    </tr>\n",
       "  </tbody>\n",
       "</table>\n",
       "</div>"
      ],
      "text/plain": [
       "                                                overview\n",
       "Id                                                      \n",
       "16182  daryl zero is a private investigator. along wi...\n",
       "15233  clear the runway for derek zoolander, vh1's th...\n",
       "1210   george hamilton stars in a dueling dual role a...\n",
       "17631  in 1879, during the zulu wars, man of the peop...\n",
       "17631  as a child, ali neuman narrowly escaped being ..."
      ]
     },
     "execution_count": 59,
     "metadata": {},
     "output_type": "execute_result"
    }
   ],
   "source": [
    "# Preprocess metadata\n",
    "tmp_metadata = movie_metadata.copy()\n",
    "tmp_metadata.index = tmp_metadata.index.str.lower()\n",
    "tmp_metadata.rename(index={\"original_title\": 'Name'}, inplace=True)\n",
    "\n",
    "# Preprocess titles\n",
    "tmp_titles = movie_titles.drop('Year', axis=1).copy()\n",
    "tmp_titles = tmp_titles.reset_index().set_index('Name')\n",
    "tmp_titles.rename(columns={\"Movie\": \"Id\"}, inplace=True)\n",
    "tmp_titles.index = tmp_titles.index.str.lower()\n",
    "\n",
    "# Combine titles and metadata\n",
    "df_id_descriptions = tmp_titles.join(tmp_metadata).dropna().set_index(\"Id\")\n",
    "df_id_descriptions['overview'] = df_id_descriptions['overview'].str.lower()\n",
    "#del tmp_metadata,tmp_titles\n",
    "print('Movie Description DF Shape:', df_id_descriptions.shape)\n",
    "df_id_descriptions.tail()"
   ]
  },
  {
   "cell_type": "markdown",
   "metadata": {
    "colab_type": "text",
    "id": "R7__gU8E44m-"
   },
   "source": [
    "#### Create User-Rating Filtered Dataset (Collaborative)\n",
    "\n",
    "Here we filter out movie-user-ratings where movies don't have descriptions (content)"
   ]
  },
  {
   "cell_type": "code",
   "execution_count": 60,
   "metadata": {
    "colab": {
     "base_uri": "https://localhost:8080/",
     "height": 212
    },
    "colab_type": "code",
    "id": "w-NM3bV_JOG_",
    "outputId": "7a028ed8-0293-452b-ed54-e92acee43258"
   },
   "outputs": [
    {
     "name": "stdout",
     "output_type": "stream",
     "text": [
      "Movie-User-Rating DF Shape: (2296999, 3)\n"
     ]
    },
    {
     "data": {
      "text/html": [
       "<div>\n",
       "<style scoped>\n",
       "    .dataframe tbody tr th:only-of-type {\n",
       "        vertical-align: middle;\n",
       "    }\n",
       "\n",
       "    .dataframe tbody tr th {\n",
       "        vertical-align: top;\n",
       "    }\n",
       "\n",
       "    .dataframe thead th {\n",
       "        text-align: right;\n",
       "    }\n",
       "</style>\n",
       "<table border=\"1\" class=\"dataframe\">\n",
       "  <thead>\n",
       "    <tr style=\"text-align: right;\">\n",
       "      <th></th>\n",
       "      <th>Movie</th>\n",
       "      <th>User</th>\n",
       "      <th>Rating</th>\n",
       "    </tr>\n",
       "  </thead>\n",
       "  <tbody>\n",
       "    <tr>\n",
       "      <th>0</th>\n",
       "      <td>12</td>\n",
       "      <td>12</td>\n",
       "      <td>2.0</td>\n",
       "    </tr>\n",
       "    <tr>\n",
       "      <th>1</th>\n",
       "      <td>12</td>\n",
       "      <td>361</td>\n",
       "      <td>2.0</td>\n",
       "    </tr>\n",
       "    <tr>\n",
       "      <th>2</th>\n",
       "      <td>12</td>\n",
       "      <td>954</td>\n",
       "      <td>2.0</td>\n",
       "    </tr>\n",
       "    <tr>\n",
       "      <th>3</th>\n",
       "      <td>12</td>\n",
       "      <td>1597</td>\n",
       "      <td>2.0</td>\n",
       "    </tr>\n",
       "    <tr>\n",
       "      <th>4</th>\n",
       "      <td>12</td>\n",
       "      <td>48</td>\n",
       "      <td>2.0</td>\n",
       "    </tr>\n",
       "  </tbody>\n",
       "</table>\n",
       "</div>"
      ],
      "text/plain": [
       "   Movie  User  Rating\n",
       "0     12    12     2.0\n",
       "1     12   361     2.0\n",
       "2     12   954     2.0\n",
       "3     12  1597     2.0\n",
       "4     12    48     2.0"
      ]
     },
     "execution_count": 60,
     "metadata": {},
     "output_type": "execute_result"
    }
   ],
   "source": [
    "df_hybrid = (df_filtered_cp.set_index('Movie')\n",
    "               .join(df_id_descriptions)\n",
    "               .dropna()\n",
    "               .drop('overview', axis=1)\n",
    "               .reset_index().rename({'index':'Movie'}, \n",
    "                                      axis=1))\n",
    "print('Movie-User-Rating DF Shape:', df_hybrid.shape)\n",
    "df_hybrid.head()"
   ]
  },
  {
   "cell_type": "code",
   "execution_count": 61,
   "metadata": {
    "colab": {
     "base_uri": "https://localhost:8080/",
     "height": 34
    },
    "colab_type": "code",
    "id": "j7CHcKM_JOOw",
    "outputId": "e1378ad4-6a97-4fc3-9678-f131f7664686"
   },
   "outputs": [
    {
     "data": {
      "text/html": [
       "<div>\n",
       "<style scoped>\n",
       "    .dataframe tbody tr th:only-of-type {\n",
       "        vertical-align: middle;\n",
       "    }\n",
       "\n",
       "    .dataframe tbody tr th {\n",
       "        vertical-align: top;\n",
       "    }\n",
       "\n",
       "    .dataframe thead th {\n",
       "        text-align: right;\n",
       "    }\n",
       "</style>\n",
       "<table border=\"1\" class=\"dataframe\">\n",
       "  <thead>\n",
       "    <tr style=\"text-align: right;\">\n",
       "      <th></th>\n",
       "      <th>Movie</th>\n",
       "      <th>User</th>\n",
       "      <th>Rating</th>\n",
       "    </tr>\n",
       "  </thead>\n",
       "  <tbody>\n",
       "    <tr>\n",
       "      <th>0</th>\n",
       "      <td>188</td>\n",
       "      <td>3466</td>\n",
       "      <td>4.0</td>\n",
       "    </tr>\n",
       "    <tr>\n",
       "      <th>1</th>\n",
       "      <td>309</td>\n",
       "      <td>13717</td>\n",
       "      <td>3.0</td>\n",
       "    </tr>\n",
       "    <tr>\n",
       "      <th>2</th>\n",
       "      <td>807</td>\n",
       "      <td>18359</td>\n",
       "      <td>4.0</td>\n",
       "    </tr>\n",
       "    <tr>\n",
       "      <th>3</th>\n",
       "      <td>526</td>\n",
       "      <td>16762</td>\n",
       "      <td>4.0</td>\n",
       "    </tr>\n",
       "    <tr>\n",
       "      <th>4</th>\n",
       "      <td>723</td>\n",
       "      <td>16664</td>\n",
       "      <td>3.0</td>\n",
       "    </tr>\n",
       "  </tbody>\n",
       "</table>\n",
       "</div>"
      ],
      "text/plain": [
       "   Movie   User  Rating\n",
       "0    188   3466     4.0\n",
       "1    309  13717     3.0\n",
       "2    807  18359     4.0\n",
       "3    526  16762     4.0\n",
       "4    723  16664     3.0"
      ]
     },
     "metadata": {},
     "output_type": "display_data"
    }
   ],
   "source": [
    "# Split train- & testset\n",
    "n = 300000\n",
    "df_hybrid = df_hybrid.sample(frac=1).reset_index(drop=True)\n",
    "df_hybrid_train = df_hybrid[:-n]\n",
    "df_hybrid_test = df_hybrid[-n:]\n",
    "df_hybrid_train.shape, df_hybrid_test.shape\n",
    "\n",
    "display(df_hybrid.head())"
   ]
  },
  {
   "cell_type": "markdown",
   "metadata": {
    "colab_type": "text",
    "id": "k33OwrFO5RpF"
   },
   "source": [
    "#### Generate TFIDF Vectors for Train and Test Datasets (Movie Descriptions)"
   ]
  },
  {
   "cell_type": "code",
   "execution_count": 62,
   "metadata": {
    "colab": {},
    "colab_type": "code",
    "id": "ZqiyhdelU775"
   },
   "outputs": [],
   "source": [
    "# Create tf-idf matrix for movie description vectors \n",
    "tfidf = TfidfVectorizer(stop_words='english')\n",
    "tfidf_hybrid = tfidf.fit_transform(df_id_descriptions[\"overview\"])"
   ]
  },
  {
   "cell_type": "code",
   "execution_count": 63,
   "metadata": {
    "colab": {},
    "colab_type": "code",
    "id": "RgxZz-0wU7-C"
   },
   "outputs": [],
   "source": [
    "# Get mapping from movie-ids to indices in tfidf-matrix\n",
    "movie_idx_mapping = {id:i for i, id in enumerate(df_id_descriptions.index)}"
   ]
  },
  {
   "cell_type": "code",
   "execution_count": 64,
   "metadata": {
    "colab": {
     "base_uri": "https://localhost:8080/",
     "height": 50
    },
    "colab_type": "code",
    "id": "HemfBsDqU8AL",
    "outputId": "065a5eb2-3920-4028-af05-e17bd0ee3137"
   },
   "outputs": [
    {
     "name": "stderr",
     "output_type": "stream",
     "text": [
      "100%|██████████████████████████████████████| 1996999/1996999 [00:53<00:00, 37369.68it/s]\n"
     ]
    },
    {
     "data": {
      "text/plain": [
       "1996999"
      ]
     },
     "execution_count": 64,
     "metadata": {},
     "output_type": "execute_result"
    }
   ],
   "source": [
    "# get train data tfidf vectors\n",
    "train_tfidf = []\n",
    "\n",
    "# Iterate over all movie-ids and save the tfidf-vectors (sparse format for memory efficiency)\n",
    "for idx in tqdm(df_hybrid_train['Movie'].values):   #tqdm creates a progress bar\n",
    "    index = movie_idx_mapping[idx]\n",
    "    train_tfidf.append(tfidf_hybrid[index])\n",
    "\n",
    "len(train_tfidf)"
   ]
  },
  {
   "cell_type": "code",
   "execution_count": 65,
   "metadata": {
    "colab": {
     "base_uri": "https://localhost:8080/",
     "height": 50
    },
    "colab_type": "code",
    "id": "7AqgNsqrU8CZ",
    "outputId": "da454ca5-ae30-47cc-b865-4642069edb15"
   },
   "outputs": [
    {
     "name": "stderr",
     "output_type": "stream",
     "text": [
      "100%|████████████████████████████████████████| 300000/300000 [00:07<00:00, 38107.81it/s]\n"
     ]
    },
    {
     "data": {
      "text/plain": [
       "300000"
      ]
     },
     "execution_count": 65,
     "metadata": {},
     "output_type": "execute_result"
    }
   ],
   "source": [
    "# get test data tfidf vectors\n",
    "test_tfidf = []\n",
    "\n",
    "# Iterate over all movie-ids and save the tfidf-vectors (sparse format for memory efficiency)\n",
    "for idx in tqdm(df_hybrid_test[\"Movie\"].values):\n",
    "    index = movie_idx_mapping[idx]\n",
    "    test_tfidf.append(tfidf_hybrid[index])\n",
    "\n",
    "len(test_tfidf)\n"
   ]
  },
  {
   "cell_type": "code",
   "execution_count": 66,
   "metadata": {},
   "outputs": [
    {
     "name": "stdout",
     "output_type": "stream",
     "text": [
      "<class 'list'>\n"
     ]
    }
   ],
   "source": [
    "print(type(test_tfidf))\n",
    "#print(test_tfidf)"
   ]
  },
  {
   "cell_type": "code",
   "execution_count": 67,
   "metadata": {
    "colab": {
     "base_uri": "https://localhost:8080/",
     "height": 34
    },
    "colab_type": "code",
    "id": "3dyKQnCNdQTc",
    "outputId": "bcf2ef13-850c-4de3-e04a-f9884a085431"
   },
   "outputs": [
    {
     "data": {
      "text/plain": [
       "((1996999, 24231), (300000, 24231))"
      ]
     },
     "execution_count": 67,
     "metadata": {},
     "output_type": "execute_result"
    }
   ],
   "source": [
    "# Stack the sparse matrices\n",
    "train_tfidf = vstack(train_tfidf)\n",
    "test_tfidf = vstack(test_tfidf)\n",
    "\n",
    "train_tfidf.shape, test_tfidf.shape"
   ]
  },
  {
   "cell_type": "code",
   "execution_count": 68,
   "metadata": {
    "colab": {
     "base_uri": "https://localhost:8080/",
     "height": 34
    },
    "colab_type": "code",
    "id": "dMI3SxfNdwNQ",
    "outputId": "454e8563-c55e-4874-87b9-793441bdc431"
   },
   "outputs": [],
   "source": [
    "# type(train_tfidf)\n",
    "# print(train_tfidf.shape)\n",
    "# #train_tfidf.todense()\n",
    "# #train_tfidf = np.array(train_tfidf)\n",
    "# print(train_tfidf.shape)\n",
    "# type(train_tfidf)"
   ]
  },
  {
   "cell_type": "markdown",
   "metadata": {
    "colab_type": "text",
    "id": "M4m5y7Zv5ZuK"
   },
   "source": [
    "This shows we are using sparse matrices to represent the vectors as dense vectors would typically give a out of memory error!"
   ]
  },
  {
   "cell_type": "markdown",
   "metadata": {
    "colab_type": "text",
    "id": "rCZjFT6JeIDs"
   },
   "source": [
    "#### Construct Deep Learning Model Architecture"
   ]
  },
  {
   "cell_type": "code",
   "execution_count": 69,
   "metadata": {
    "colab": {},
    "colab_type": "code",
    "id": "y_WYqzMpeJby"
   },
   "outputs": [],
   "source": [
    "# setup NN parameters\n",
    "user_embed_dim = 256\n",
    "movie_embed_dim = 256\n",
    "userid_input_shape = 1\n",
    "movieid_input_shape = 1\n",
    "tfidf_input_shape = tfidf_hybrid.shape[1]"
   ]
  },
  {
   "cell_type": "code",
   "execution_count": 70,
   "metadata": {
    "colab": {},
    "colab_type": "code",
    "id": "Ea74tynzeqGB"
   },
   "outputs": [],
   "source": [
    "# Create the input layers\n",
    "\n",
    "# user and movie input layers\n",
    "user_id_input = Input(shape=(userid_input_shape,), name='user')\n",
    "movie_id_input = Input(shape=(movieid_input_shape,), name='movie')\n",
    "\n",
    "# tfidf input layer\n",
    "tfidf_input = Input(shape=(tfidf_input_shape,), name='tfidf', sparse=True)"
   ]
  },
  {
   "cell_type": "code",
   "execution_count": 71,
   "metadata": {
    "colab": {},
    "colab_type": "code",
    "id": "zc_bGQ6ne3Cj"
   },
   "outputs": [],
   "source": [
    "# Create embeddings layers for users and movies\n",
    "\n",
    "# user embedding\n",
    "user_embedding = Embedding(output_dim=user_embed_dim,\n",
    "                           input_dim=len(user_id_mapping),\n",
    "                           input_length=userid_input_shape,\n",
    "                           name='user_embedding')(user_id_input)\n",
    "\n",
    "# movie embedding\n",
    "movie_embedding = Embedding(output_dim=user_embed_dim,\n",
    "                           input_dim=len(user_id_mapping),\n",
    "                           input_length=movieid_input_shape,\n",
    "                           name='movie_embedding')(movie_id_input)"
   ]
  },
  {
   "cell_type": "code",
   "execution_count": 72,
   "metadata": {
    "colab": {},
    "colab_type": "code",
    "id": "pm_H8CaXe3Gn"
   },
   "outputs": [],
   "source": [
    "# Dimensionality reduction with Dense layers\n",
    "tfidf_vectors = Dense(512, activation='relu')(tfidf_input)\n",
    "tfidf_vectors = Dense(256, activation='relu')(tfidf_vectors)"
   ]
  },
  {
   "cell_type": "code",
   "execution_count": 73,
   "metadata": {
    "colab": {},
    "colab_type": "code",
    "id": "rlNBswdYe3I8"
   },
   "outputs": [],
   "source": [
    "# Reshape both user and movie embedding layers\n",
    "user_vectors = Reshape([user_embed_dim])(user_embedding)\n",
    "movie_vectors = Reshape([user_embed_dim])(movie_embedding)"
   ]
  },
  {
   "cell_type": "code",
   "execution_count": 74,
   "metadata": {
    "colab": {},
    "colab_type": "code",
    "id": "LfcefQQEe3E2"
   },
   "outputs": [],
   "source": [
    "# Concatenate all layers into one \n",
    "hybrid_layer = Concatenate()([user_vectors, movie_vectors, tfidf_vectors])"
   ]
  },
  {
   "cell_type": "code",
   "execution_count": 75,
   "metadata": {
    "colab": {},
    "colab_type": "code",
    "id": "WfZK5Dg9oxVA"
   },
   "outputs": [],
   "source": [
    "# add in dense and output layers\n",
    "dense = Dense(512, activation='relu')(hybrid_layer)\n",
    "dense = Dropout(0.2)(dense)\n",
    "output = Dense(1)(dense)"
   ]
  },
  {
   "cell_type": "code",
   "execution_count": 76,
   "metadata": {
    "colab": {
     "base_uri": "https://localhost:8080/",
     "height": 622
    },
    "colab_type": "code",
    "id": "odLeDjgzoxYA",
    "outputId": "56430bf2-ce38-43d6-f2c7-82974b41af94"
   },
   "outputs": [
    {
     "name": "stdout",
     "output_type": "stream",
     "text": [
      "Model: \"model_1\"\n",
      "__________________________________________________________________________________________________\n",
      " Layer (type)                   Output Shape         Param #     Connected to                     \n",
      "==================================================================================================\n",
      " user (InputLayer)              [(None, 1)]          0           []                               \n",
      "                                                                                                  \n",
      " movie (InputLayer)             [(None, 1)]          0           []                               \n",
      "                                                                                                  \n",
      " tfidf (InputLayer)             [(None, 24231)]      0           []                               \n",
      "                                                                                                  \n",
      " user_embedding (Embedding)     (None, 1, 256)       5331968     ['user[0][0]']                   \n",
      "                                                                                                  \n",
      " movie_embedding (Embedding)    (None, 1, 256)       5331968     ['movie[0][0]']                  \n",
      "                                                                                                  \n",
      " dense (Dense)                  (None, 512)          12406784    ['tfidf[0][0]']                  \n",
      "                                                                                                  \n",
      " reshape_2 (Reshape)            (None, 256)          0           ['user_embedding[0][0]']         \n",
      "                                                                                                  \n",
      " reshape_3 (Reshape)            (None, 256)          0           ['movie_embedding[0][0]']        \n",
      "                                                                                                  \n",
      " dense_1 (Dense)                (None, 256)          131328      ['dense[0][0]']                  \n",
      "                                                                                                  \n",
      " concatenate (Concatenate)      (None, 768)          0           ['reshape_2[0][0]',              \n",
      "                                                                  'reshape_3[0][0]',              \n",
      "                                                                  'dense_1[0][0]']                \n",
      "                                                                                                  \n",
      " dense_2 (Dense)                (None, 512)          393728      ['concatenate[0][0]']            \n",
      "                                                                                                  \n",
      " dropout (Dropout)              (None, 512)          0           ['dense_2[0][0]']                \n",
      "                                                                                                  \n",
      " dense_3 (Dense)                (None, 1)            513         ['dropout[0][0]']                \n",
      "                                                                                                  \n",
      "==================================================================================================\n",
      "Total params: 23,596,289\n",
      "Trainable params: 23,596,289\n",
      "Non-trainable params: 0\n",
      "__________________________________________________________________________________________________\n"
     ]
    }
   ],
   "source": [
    "# create and view model summary\n",
    "model = Model(inputs=[user_id_input, movie_id_input, tfidf_input], outputs=output)\n",
    "model.compile(loss='mse', optimizer='adam')\n",
    "model.summary()"
   ]
  },
  {
   "cell_type": "markdown",
   "metadata": {
    "colab_type": "text",
    "id": "upDnm3r76Ivj"
   },
   "source": [
    "#### Train and Test the Model"
   ]
  },
  {
   "cell_type": "code",
   "execution_count": 77,
   "metadata": {},
   "outputs": [
    {
     "data": {
      "text/plain": [
       "(1996999, 24231)"
      ]
     },
     "execution_count": 77,
     "metadata": {},
     "output_type": "execute_result"
    }
   ],
   "source": [
    "df_hybrid_train['User'].shape\n",
    "df_hybrid_train['Movie'].shape\n",
    "train_tfidf.shape"
   ]
  },
  {
   "cell_type": "code",
   "execution_count": 78,
   "metadata": {},
   "outputs": [],
   "source": [
    "def convert_sparse_matrix_to_tensor(X):\n",
    "    coo = X.tocoo()\n",
    "    indices = np.mat([coo.row, coo.col]).transpose()\n",
    "    sparse_tensor = tf.sparse.reorder(tf.SparseTensor(indices, coo.data, coo.shape))\n",
    "    return tf.sparse.to_dense(sparse_tensor)"
   ]
  },
  {
   "cell_type": "code",
   "execution_count": 79,
   "metadata": {},
   "outputs": [],
   "source": [
    "def convert_sparse_matrix_to_sparse_tensor(X):\n",
    "    coo = X.tocoo()\n",
    "    indices = np.mat([coo.row, coo.col]).transpose()\n",
    "    return tf.SparseTensor(indices, coo.data, coo.shape)\n",
    "    "
   ]
  },
  {
   "cell_type": "code",
   "execution_count": 80,
   "metadata": {},
   "outputs": [
    {
     "data": {
      "text/plain": [
       "(1996999, 24231)"
      ]
     },
     "execution_count": 80,
     "metadata": {},
     "output_type": "execute_result"
    }
   ],
   "source": [
    "type(train_tfidf)\n",
    "train_tfidf.shape"
   ]
  },
  {
   "cell_type": "code",
   "execution_count": 81,
   "metadata": {},
   "outputs": [
    {
     "data": {
      "text/plain": [
       "pandas.core.series.Series"
      ]
     },
     "execution_count": 81,
     "metadata": {},
     "output_type": "execute_result"
    }
   ],
   "source": [
    "type(df_hybrid_train[\"User\"])\n",
    "#df_hybrid_train[\"User\"].shape"
   ]
  },
  {
   "cell_type": "code",
   "execution_count": null,
   "metadata": {
    "colab": {
     "base_uri": "https://localhost:8080/",
     "height": 386
    },
    "colab_type": "code",
    "id": "SmzWu6Xhoxnt",
    "outputId": "18233373-81f3-4bc1-a177-91b46e68b87f"
   },
   "outputs": [],
   "source": [
    "# fit the model\n",
    "from scipy.sparse import hstack\n",
    "\n",
    "batch_size=1024\n",
    "epochs=10\n",
    "X = hstack((df_hybrid_train['User'].values.reshape(-1,1), df_hybrid_train['Movie'].values.reshape(-1,1), train_tfidf))\n",
    "y = df_hybrid_train['Rating']\n",
    "\n",
    "#Convert scipy sparse matrix to sparse tensor to allow for training\n",
    "X = convert_sparse_matrix_to_tensor(X)\n",
    "\n",
    "\n",
    "# model.fit(X, y,\n",
    "#           batch_size=batch_size, \n",
    "#           epochs=epochs, ## Change the epochs to find better improved model.\n",
    "#           validation_split=0.1,\n",
    "#           shuffle=True)"
   ]
  },
  {
   "cell_type": "code",
   "execution_count": null,
   "metadata": {
    "colab": {
     "base_uri": "https://localhost:8080/",
     "height": 67
    },
    "colab_type": "code",
    "id": "ZLkTXmxhpK7r",
    "outputId": "4d99eaa3-5f84-4814-e083-a82058bacc68"
   },
   "outputs": [],
   "source": [
    "# create test input data and true outputs\n",
    "X_test = [df_hybrid_test['User'], df_hybrid_test['Movie'], test_tfidf]\n",
    "y_true = df_hybrid_test['Rating'].values \n",
    "\n",
    "#Convert scipy sparse matrix to sparse tensor \n",
    "X_test = convert_sparse_matrix_to_sparse_tensor(X_test)\n",
    "y_true = convert_sparse_matrix_to_sparse_tensor(y_true)\n",
    "\n",
    "# Test model by making predictions on test data\n",
    "y_pred = model.predict(X_test).ravel()\n",
    "# clip upper and lower ratings\n",
    "y_pred = list(map(lambda x: 1.0 if x < 1 else 5.0 if x > 5.0 else x, y_pred))\n",
    "\n",
    "#  Compute RMSE\n",
    "rmse = np.sqrt(mean_squared_error(y_pred=y_pred, y_true=y_true))\n",
    "print('\\n\\nTesting Result With DL Hybrid Recommender: {:.4f} RMSE'.format(rmse))"
   ]
  },
  {
   "cell_type": "code",
   "execution_count": null,
   "metadata": {
    "colab": {
     "base_uri": "https://localhost:8080/",
     "height": 639
    },
    "colab_type": "code",
    "id": "ecgDG4C9pLAG",
    "outputId": "e13970a0-c7a0-4b0d-d2f3-7d765e901881"
   },
   "outputs": [],
   "source": [
    "## Let's see how our collaborative model performs by seeing the predicted and actual rating for the given user and movie pair\n",
    "results_df = pd.DataFrame({\n",
    "    'User ID': df_hybrid_test['User'].values,\n",
    "    'Movie ID': df_hybrid_test['Movie'].values,\n",
    "    'Movie Name': [movie_titles['Name'].iloc[item] for item in df_hybrid_test['Movie']],\n",
    "    'Predicted Rating': np.round(y_pred, 1),\n",
    "    'Actual Rating': y_true\n",
    "})\n",
    "\n",
    "results_df.head(20)"
   ]
  },
  {
   "cell_type": "code",
   "execution_count": null,
   "metadata": {},
   "outputs": [],
   "source": []
  },
  {
   "cell_type": "code",
   "execution_count": null,
   "metadata": {},
   "outputs": [],
   "source": []
  },
  {
   "cell_type": "code",
   "execution_count": null,
   "metadata": {},
   "outputs": [],
   "source": []
  },
  {
   "cell_type": "code",
   "execution_count": null,
   "metadata": {},
   "outputs": [],
   "source": []
  }
 ],
 "metadata": {
  "accelerator": "GPU",
  "colab": {
   "collapsed_sections": [],
   "machine_shape": "hm",
   "name": "Recommendation_Systems.ipynb",
   "provenance": []
  },
  "kernelspec": {
   "display_name": "Python 3 (ipykernel)",
   "language": "python",
   "name": "python3"
  },
  "language_info": {
   "codemirror_mode": {
    "name": "ipython",
    "version": 3
   },
   "file_extension": ".py",
   "mimetype": "text/x-python",
   "name": "python",
   "nbconvert_exporter": "python",
   "pygments_lexer": "ipython3",
   "version": "3.10.11"
  }
 },
 "nbformat": 4,
 "nbformat_minor": 1
}
